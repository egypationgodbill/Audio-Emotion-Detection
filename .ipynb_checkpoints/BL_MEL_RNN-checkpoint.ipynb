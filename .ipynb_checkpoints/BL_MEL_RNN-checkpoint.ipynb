{
 "cells": [
  {
   "cell_type": "code",
   "execution_count": 3,
   "metadata": {
    "colab": {
     "base_uri": "https://localhost:8080/"
    },
    "id": "p9yyLfUk50Zk",
    "outputId": "00c00b5c-974f-48d1-cf02-933b6c2ef863"
   },
   "outputs": [
    {
     "ename": "ModuleNotFoundError",
     "evalue": "No module named 'google.colab'",
     "output_type": "error",
     "traceback": [
      "\u001b[0;31m---------------------------------------------------------------------------\u001b[0m",
      "\u001b[0;31mModuleNotFoundError\u001b[0m                       Traceback (most recent call last)",
      "\u001b[0;32m/var/folders/dm/tglj4hl14q7cg0z7dt_g8prr0000gn/T/ipykernel_19646/1408506528.py\u001b[0m in \u001b[0;36m<module>\u001b[0;34m\u001b[0m\n\u001b[0;32m----> 1\u001b[0;31m \u001b[0;32mfrom\u001b[0m \u001b[0mgoogle\u001b[0m\u001b[0;34m.\u001b[0m\u001b[0mcolab\u001b[0m \u001b[0;32mimport\u001b[0m \u001b[0mdrive\u001b[0m\u001b[0;34m\u001b[0m\u001b[0;34m\u001b[0m\u001b[0m\n\u001b[0m\u001b[1;32m      2\u001b[0m \u001b[0mdrive\u001b[0m\u001b[0;34m.\u001b[0m\u001b[0mmount\u001b[0m\u001b[0;34m(\u001b[0m\u001b[0;34m'/content/drive'\u001b[0m\u001b[0;34m)\u001b[0m\u001b[0;34m\u001b[0m\u001b[0;34m\u001b[0m\u001b[0m\n",
      "\u001b[0;31mModuleNotFoundError\u001b[0m: No module named 'google.colab'"
     ]
    }
   ],
   "source": [
    "from google.colab import drive\n",
    "drive.mount('/content/drive')"
   ]
  },
  {
   "cell_type": "code",
   "execution_count": 1,
   "metadata": {
    "id": "k24NRxf27QEq"
   },
   "outputs": [],
   "source": [
    "import pandas as pd\n",
    "import numpy as np\n",
    "\n",
    "import os\n",
    "import sys\n",
    "\n",
    "import librosa\n",
    "import librosa.display\n",
    "import seaborn as sns\n",
    "import matplotlib.pyplot as plt\n",
    "\n",
    "from sklearn.preprocessing import StandardScaler, OneHotEncoder\n",
    "from sklearn.metrics import confusion_matrix, classification_report\n",
    "from sklearn.model_selection import train_test_split\n",
    "\n",
    "from IPython.display import Audio\n",
    "\n",
    "import tensorflow as tf\n",
    "from tensorflow.keras.callbacks import ReduceLROnPlateau\n",
    "from tensorflow.keras.layers import Dense, LSTM, Flatten, Dropout, BatchNormalization, SimpleRNN, Conv2D\n",
    "from tensorflow.keras.callbacks import ModelCheckpoint\n",
    "\n",
    "import warnings\n",
    "if not sys.warnoptions:\n",
    "    warnings.simplefilter(\"ignore\")\n",
    "warnings.filterwarnings(\"ignore\", category=DeprecationWarning) "
   ]
  },
  {
   "cell_type": "code",
   "execution_count": 2,
   "metadata": {
    "id": "m7-9_lLRX1I_"
   },
   "outputs": [],
   "source": [
    "from matplotlib import image\n",
    "import matplotlib.pyplot as plt\n",
    "import os\n",
    "import numpy as np"
   ]
  },
  {
   "cell_type": "code",
   "execution_count": null,
   "metadata": {},
   "outputs": [
    {
     "name": "stdout",
     "output_type": "stream",
     "text": [
      "500\n",
      "1000\n",
      "1500\n",
      "2000\n"
     ]
    }
   ],
   "source": [
    "os.chdir('/Users/zeyuanli/Dropbox/Github/Librosa test'+'/AudioWAV')\n",
    "audioFiles = os.listdir()\n",
    "i = 1\n",
    "mfcc_loaded = []\n",
    "for audio in audioFiles:\n",
    "    if audio.endswith('.wav'):\n",
    "      if i % 500 == 0:\n",
    "        print(i)\n",
    "      i+=1\n",
    "      audioName = audio.split(\".\")[0]\n",
    "      signal, sr = librosa.load(f\"{audio}\")\n",
    "      mfcc_loaded.append(librosa.feature.melspectrogram(y=signal, sr=sr).T)\n",
    "\n",
    "file_emotion = []\n",
    "file_path = []\n",
    "\n",
    "for file in audioFiles:\n",
    "    # storing file paths\n",
    "    if (file.endswith('.wav')):\n",
    "        file_path.append(file)\n",
    "        # storing file emotions\n",
    "        part=file.split('_')\n",
    "        if part[2] == 'SAD':\n",
    "            file_emotion.append('sad')\n",
    "        elif part[2] == 'ANG':\n",
    "            file_emotion.append('angry')\n",
    "        elif part[2] == 'DIS':\n",
    "            file_emotion.append('disgust')\n",
    "        elif part[2] == 'FEA':\n",
    "            file_emotion.append('fear')\n",
    "        elif part[2] == 'HAP':\n",
    "            file_emotion.append('happy')\n",
    "        elif part[2] == 'NEU':\n",
    "            file_emotion.append('neutral')\n",
    "        else:\n",
    "            file_emotion.append('Unknown')\n",
    "        \n",
    "# dataframe for emotion of files\n",
    "emotion_df = pd.DataFrame(file_emotion, columns=['Emotions'])\n",
    "# dataframe for path of files.\n",
    "path_df = pd.DataFrame(file_path, columns=['Path'])\n",
    "Crema_df = pd.concat([emotion_df, path_df], axis=1)\n",
    "Crema_df.head()\n",
    "\n",
    "# creating Dataframe using all the 4 dataframes we created so far.\n",
    "data_path = pd.concat([Crema_df], axis = 0)\n",
    "data_path.to_csv(\"data_path.csv\",index=False)\n",
    "data_path.head()"
   ]
  },
  {
   "cell_type": "code",
   "execution_count": null,
   "metadata": {
    "colab": {
     "base_uri": "https://localhost:8080/"
    },
    "id": "rf3QBFqgYuaM",
    "outputId": "90a934d9-2473-4a88-9335-96f83a7096d5"
   },
   "outputs": [
    {
     "name": "stdout",
     "output_type": "stream",
     "text": [
      "{'SAD', 'ANG', 'HAP', 'FEA', 'NEU', 'DIS'}\n",
      "labels\n"
     ]
    },
    {
     "data": {
      "text/plain": [
       "{'ANG': 1, 'DIS': 5, 'FEA': 3, 'HAP': 2, 'NEU': 4, 'SAD': 0}"
      ]
     },
     "execution_count": 70,
     "metadata": {},
     "output_type": "execute_result"
    }
   ],
   "source": [
    "# strips labels from filenames\n",
    "labels = [imgname.split(\"_\")[2] for imgname in images]\n",
    "\n",
    "# gets set of unique labels\n",
    "label_set = set(labels)\n",
    "print(label_set)\n",
    "\n",
    "# enumerates each of the possible labels\n",
    "label_dict = {}\n",
    "counter = 0\n",
    "for l in label_set:\n",
    "  label_dict[l] = counter\n",
    "  counter += 1\n",
    "print(\"labels\")\n",
    "label_dict"
   ]
  },
  {
   "cell_type": "code",
   "execution_count": 16,
   "metadata": {
    "colab": {
     "base_uri": "https://localhost:8080/"
    },
    "id": "ptzh4Qj0lcck",
    "outputId": "c9cf6fc1-213d-4068-c3c2-f8e1d438700f"
   },
   "outputs": [],
   "source": [
    "X = tf.keras.preprocessing.sequence.pad_sequences(mfcc_loaded)\n",
    "X.shape\n",
    "Y = np.array(data_path.Emotions)\n",
    "encoder = OneHotEncoder()\n",
    "Y = encoder.fit_transform(Y.reshape(-1,1)).toarray()\n",
    "\n",
    "# making our data compatible to model.\n",
    "#X = np.expand_dims(X, axis=-1)\n"
   ]
  },
  {
   "cell_type": "code",
   "execution_count": 17,
   "metadata": {
    "id": "LD8QLvyBdA_u"
   },
   "outputs": [],
   "source": [
    "X_train, X_test, y_train, y_test = train_test_split(np.array(X), np.array(Y), test_size=0.3)"
   ]
  },
  {
   "cell_type": "code",
   "execution_count": 18,
   "metadata": {
    "colab": {
     "base_uri": "https://localhost:8080/"
    },
    "id": "S5SRPgqIdrbn",
    "outputId": "7ea32fc2-04f6-4035-a3c5-626bf319fddb"
   },
   "outputs": [
    {
     "name": "stdout",
     "output_type": "stream",
     "text": [
      "(5209, 216, 128)\n",
      "(5209, 6)\n"
     ]
    }
   ],
   "source": [
    "print((X_train.shape))\n",
    "print (y_train.shape)"
   ]
  },
  {
   "cell_type": "code",
   "execution_count": 19,
   "metadata": {
    "id": "bEmly6X5fzld"
   },
   "outputs": [],
   "source": [
    "def LSTM_Model():\n",
    "    \n",
    "    model = tf.keras.Sequential()\n",
    "    #model.add(SimpleRNN(128, input_shape=images_loaded[0], return_sequences=True))\n",
    "    #model.add(Conv2D(256, kernel_size = (5,5), strides = 1,  padding = 'same', activation = 'relu', input_shape = (216,20,1)))\n",
    "    model.add(LSTM(128, input_shape=(X_train.shape[1],X_train.shape[2]), return_sequences=True))\n",
    "    model.add(LSTM(128))\n",
    "    model.add(Dense(64, activation='relu'))\n",
    "    model.add(Dense(6, activation='softmax'))\n",
    "\n",
    "    model.compile(optimizer = 'adam' , loss = 'categorical_crossentropy' , metrics = ['accuracy'])\n",
    "\n",
    "    model.summary()\n",
    "    return model\n"
   ]
  },
  {
   "cell_type": "code",
   "execution_count": null,
   "metadata": {},
   "outputs": [],
   "source": [
    "model = LSTM_Model()"
   ]
  },
  {
   "cell_type": "code",
   "execution_count": 28,
   "metadata": {
    "colab": {
     "background_save": true,
     "base_uri": "https://localhost:8080/"
    },
    "id": "rrhwTjWoE0R0",
    "outputId": "0f022058-adf4-4032-dcca-0df74c0fb815"
   },
   "outputs": [
    {
     "name": "stdout",
     "output_type": "stream",
     "text": [
      "Epoch 1/50\n",
      "147/147 [==============================] - 21s 140ms/step - loss: 1.2577 - accuracy: 0.4904 - val_loss: 1.4715 - val_accuracy: 0.4242\n",
      "Epoch 2/50\n",
      "147/147 [==============================] - 21s 140ms/step - loss: 1.2108 - accuracy: 0.5130 - val_loss: 1.5091 - val_accuracy: 0.4242\n",
      "Epoch 3/50\n",
      "147/147 [==============================] - 21s 140ms/step - loss: 1.1906 - accuracy: 0.5224 - val_loss: 1.5085 - val_accuracy: 0.4261\n",
      "Epoch 4/50\n",
      "147/147 [==============================] - 21s 140ms/step - loss: 1.1797 - accuracy: 0.5222 - val_loss: 1.5641 - val_accuracy: 0.4376\n",
      "Epoch 5/50\n",
      "147/147 [==============================] - 21s 141ms/step - loss: 1.2584 - accuracy: 0.4870 - val_loss: 1.5416 - val_accuracy: 0.3839\n",
      "Epoch 6/50\n",
      "147/147 [==============================] - 21s 141ms/step - loss: 1.2496 - accuracy: 0.4932 - val_loss: 1.5582 - val_accuracy: 0.4127\n",
      "Epoch 7/50\n",
      "147/147 [==============================] - 21s 141ms/step - loss: 1.1768 - accuracy: 0.5277 - val_loss: 1.5628 - val_accuracy: 0.4223\n",
      "Epoch 8/50\n",
      "147/147 [==============================] - 21s 141ms/step - loss: 1.1590 - accuracy: 0.5341 - val_loss: 1.6387 - val_accuracy: 0.3417\n",
      "Epoch 9/50\n",
      "147/147 [==============================] - 21s 140ms/step - loss: 1.1669 - accuracy: 0.5337 - val_loss: 1.5683 - val_accuracy: 0.4107\n",
      "Epoch 10/50\n",
      "147/147 [==============================] - 21s 140ms/step - loss: 1.1245 - accuracy: 0.5497 - val_loss: 1.6171 - val_accuracy: 0.4184\n",
      "Epoch 11/50\n",
      "147/147 [==============================] - 21s 140ms/step - loss: 1.1519 - accuracy: 0.5373 - val_loss: 1.6548 - val_accuracy: 0.2956\n",
      "Epoch 12/50\n",
      "147/147 [==============================] - 21s 140ms/step - loss: 1.2064 - accuracy: 0.5171 - val_loss: 1.5830 - val_accuracy: 0.4069\n",
      "Epoch 13/50\n",
      "147/147 [==============================] - 21s 140ms/step - loss: 1.1083 - accuracy: 0.5565 - val_loss: 1.5490 - val_accuracy: 0.4050\n",
      "Epoch 14/50\n",
      "147/147 [==============================] - 21s 140ms/step - loss: 1.1010 - accuracy: 0.5597 - val_loss: 1.6099 - val_accuracy: 0.4127\n",
      "Epoch 15/50\n",
      "147/147 [==============================] - 21s 140ms/step - loss: 1.2510 - accuracy: 0.4932 - val_loss: 1.5473 - val_accuracy: 0.3704\n",
      "Epoch 16/50\n",
      "147/147 [==============================] - 21s 140ms/step - loss: 1.4085 - accuracy: 0.4121 - val_loss: 1.5050 - val_accuracy: 0.3858\n",
      "Epoch 17/50\n",
      "147/147 [==============================] - 21s 140ms/step - loss: 1.2774 - accuracy: 0.4772 - val_loss: 1.5220 - val_accuracy: 0.4031\n",
      "Epoch 18/50\n",
      "147/147 [==============================] - 21s 140ms/step - loss: 1.1881 - accuracy: 0.5233 - val_loss: 1.5281 - val_accuracy: 0.4319\n",
      "Epoch 19/50\n",
      "147/147 [==============================] - 21s 140ms/step - loss: 1.1439 - accuracy: 0.5358 - val_loss: 1.6321 - val_accuracy: 0.4088\n",
      "Epoch 20/50\n",
      "147/147 [==============================] - 21s 140ms/step - loss: 1.1316 - accuracy: 0.5482 - val_loss: 1.5760 - val_accuracy: 0.3954\n",
      "Epoch 21/50\n",
      "147/147 [==============================] - 21s 140ms/step - loss: 1.1065 - accuracy: 0.5572 - val_loss: 1.6502 - val_accuracy: 0.4184\n",
      "Epoch 22/50\n",
      "147/147 [==============================] - 21s 141ms/step - loss: 1.0636 - accuracy: 0.5723 - val_loss: 1.7427 - val_accuracy: 0.4165\n",
      "Epoch 23/50\n",
      "147/147 [==============================] - 21s 141ms/step - loss: 1.0630 - accuracy: 0.5708 - val_loss: 1.7118 - val_accuracy: 0.4223\n",
      "Epoch 24/50\n",
      "147/147 [==============================] - 21s 140ms/step - loss: 1.0629 - accuracy: 0.5702 - val_loss: 1.6800 - val_accuracy: 0.4261\n",
      "Epoch 25/50\n",
      "147/147 [==============================] - 21s 140ms/step - loss: 1.0539 - accuracy: 0.5755 - val_loss: 1.7465 - val_accuracy: 0.3800\n",
      "Epoch 26/50\n",
      "147/147 [==============================] - 21s 140ms/step - loss: 1.0723 - accuracy: 0.5740 - val_loss: 1.6802 - val_accuracy: 0.4280\n",
      "Epoch 27/50\n",
      "147/147 [==============================] - 21s 140ms/step - loss: 1.0739 - accuracy: 0.5646 - val_loss: 1.5700 - val_accuracy: 0.4184\n",
      "Epoch 28/50\n",
      "147/147 [==============================] - 21s 141ms/step - loss: 1.0717 - accuracy: 0.5742 - val_loss: 1.6945 - val_accuracy: 0.4127\n",
      "Epoch 29/50\n",
      "147/147 [==============================] - 21s 140ms/step - loss: 1.0576 - accuracy: 0.5736 - val_loss: 1.7167 - val_accuracy: 0.3973\n",
      "Epoch 30/50\n",
      "147/147 [==============================] - 21s 141ms/step - loss: 1.0571 - accuracy: 0.5806 - val_loss: 1.7358 - val_accuracy: 0.3877\n",
      "Epoch 31/50\n",
      "147/147 [==============================] - 21s 140ms/step - loss: 1.0393 - accuracy: 0.5879 - val_loss: 1.7011 - val_accuracy: 0.4434\n",
      "Epoch 32/50\n",
      "147/147 [==============================] - 21s 140ms/step - loss: 1.0138 - accuracy: 0.5985 - val_loss: 1.6948 - val_accuracy: 0.4107\n",
      "Epoch 33/50\n",
      "147/147 [==============================] - 21s 141ms/step - loss: 1.0336 - accuracy: 0.5892 - val_loss: 1.7631 - val_accuracy: 0.4127\n",
      "Epoch 34/50\n",
      "147/147 [==============================] - 21s 140ms/step - loss: 1.0347 - accuracy: 0.5890 - val_loss: 1.7867 - val_accuracy: 0.3992\n",
      "Epoch 35/50\n",
      "147/147 [==============================] - 21s 141ms/step - loss: 1.0031 - accuracy: 0.6032 - val_loss: 1.7760 - val_accuracy: 0.4261\n",
      "Epoch 36/50\n",
      "147/147 [==============================] - 21s 140ms/step - loss: 1.0372 - accuracy: 0.5904 - val_loss: 1.6995 - val_accuracy: 0.4415\n",
      "Epoch 37/50\n",
      "147/147 [==============================] - 21s 141ms/step - loss: 1.0213 - accuracy: 0.5956 - val_loss: 1.6496 - val_accuracy: 0.4280\n",
      "Epoch 38/50\n",
      "147/147 [==============================] - 21s 140ms/step - loss: 1.0066 - accuracy: 0.6013 - val_loss: 1.7852 - val_accuracy: 0.4127\n",
      "Epoch 39/50\n",
      "147/147 [==============================] - 21s 140ms/step - loss: 1.0441 - accuracy: 0.5744 - val_loss: 1.7648 - val_accuracy: 0.4184\n",
      "Epoch 40/50\n",
      "147/147 [==============================] - 21s 141ms/step - loss: 1.0360 - accuracy: 0.5877 - val_loss: 1.7071 - val_accuracy: 0.4223\n",
      "Epoch 41/50\n",
      "147/147 [==============================] - 21s 140ms/step - loss: 1.0319 - accuracy: 0.5870 - val_loss: 1.7610 - val_accuracy: 0.4184\n",
      "Epoch 42/50\n",
      "147/147 [==============================] - 21s 141ms/step - loss: 1.0007 - accuracy: 0.6049 - val_loss: 1.7521 - val_accuracy: 0.4223\n",
      "Epoch 43/50\n",
      "147/147 [==============================] - 21s 140ms/step - loss: 0.9948 - accuracy: 0.6122 - val_loss: 1.7827 - val_accuracy: 0.4050\n",
      "Epoch 44/50\n",
      "147/147 [==============================] - 21s 141ms/step - loss: 1.0142 - accuracy: 0.6000 - val_loss: 1.6497 - val_accuracy: 0.4357\n",
      "Epoch 45/50\n",
      "147/147 [==============================] - 21s 140ms/step - loss: 0.9873 - accuracy: 0.6067 - val_loss: 1.7352 - val_accuracy: 0.4165\n",
      "Epoch 46/50\n",
      "147/147 [==============================] - 21s 141ms/step - loss: 0.9686 - accuracy: 0.6169 - val_loss: 1.8129 - val_accuracy: 0.4107\n",
      "Epoch 47/50\n",
      "147/147 [==============================] - 21s 140ms/step - loss: 0.9851 - accuracy: 0.6175 - val_loss: 1.7435 - val_accuracy: 0.4434\n",
      "Epoch 48/50\n",
      "147/147 [==============================] - 21s 140ms/step - loss: 0.9945 - accuracy: 0.6056 - val_loss: 1.7793 - val_accuracy: 0.4184\n",
      "Epoch 49/50\n",
      "147/147 [==============================] - 21s 141ms/step - loss: 0.9915 - accuracy: 0.6086 - val_loss: 1.7190 - val_accuracy: 0.4280\n",
      "Epoch 50/50\n",
      "147/147 [==============================] - 21s 140ms/step - loss: 0.9988 - accuracy: 0.6073 - val_loss: 1.7001 - val_accuracy: 0.4127\n"
     ]
    }
   ],
   "source": [
    "history = model.fit(X_train, y_train, validation_split = 0.1, batch_size=32, epochs=50)"
   ]
  },
  {
   "cell_type": "code",
   "execution_count": 29,
   "metadata": {
    "colab": {
     "base_uri": "https://localhost:8080/",
     "height": 731
    },
    "id": "ShJw3EKnTfIH",
    "outputId": "b4fc0ac5-e65a-4c59-dd4f-4913ed781ff9"
   },
   "outputs": [
    {
     "name": "stdout",
     "output_type": "stream",
     "text": [
      "70/70 [==============================] - 4s 54ms/step - loss: 1.7410 - accuracy: 0.4053\n",
      "Test Accuracy:  0.4052843749523163\n"
     ]
    }
   ],
   "source": [
    "pred = model.predict(x_train)\n",
    "pred_test = model.predict(x_test)\n",
    "\n",
    "print(\"accuracy score for Train set is:\", accuracy_score(np.argmax(y_train,axis =1), np.argmax(pred,axis=1)))\n",
    "print(\"accuracy score for Test set is: \", accuracy_score(np.argmax(y_test,axis =1), np.argmax(pred_test,axis=1)))\n",
    "print(\"[Anger, disgust, fear, happy, neutral, sad]\")\n",
    "print(\"F1 score for Train set is:\", f1_score(np.argmax(y_train,axis =1), np.argmax(pred,axis=1), average = None))\n",
    "print(\"F1 score for Test set is: \", f1_score(np.argmax(y_test,axis =1), np.argmax(pred_test,axis=1), average = None))"
   ]
  },
  {
   "cell_type": "code",
   "execution_count": null,
   "metadata": {},
   "outputs": [],
   "source": [
    "def create_cnn_with_drop ( ) :\n",
    "    model = Sequential()\n",
    "    model.add(Conv1D(256, kernel_size=5, strides=1, padding='same', activation='relu', input_shape=(x_train.shape[1], 1)))\n",
    "    model.add(MaxPooling1D(pool_size=5, strides = 2, padding = 'same'))\n",
    "   \n",
    "    \n",
    "    model.add(Conv1D(256, kernel_size=5, strides=1, padding='same', activation='relu'))\n",
    "    model.add(MaxPooling1D(pool_size=5, strides = 2, padding = 'same'))\n",
    "    model.add(Dropout(0.2))\n",
    "        \n",
    "    model.add(Conv1D(128, kernel_size=5, strides=1, padding='same', activation='relu'))\n",
    "    model.add(MaxPooling1D(pool_size=5, strides = 2, padding = 'same'))\n",
    "    model.add(Dropout(0.2))\n",
    "\n",
    "    model.add(Conv1D(64, kernel_size=5, strides=1, padding='same', activation='relu'))\n",
    "    model.add(MaxPooling1D(pool_size=5, strides = 2, padding = 'same'))\n",
    "\n",
    "    model.add(Flatten())\n",
    "    model.add(Dense(units=32, activation='relu'))\n",
    "    model.add(Dropout(0.3))\n",
    "\n",
    "    model.add(Dense(units=6, activation='softmax'))\n",
    "    model.compile(optimizer = 'adam' , loss = 'categorical_crossentropy' , metrics = ['accuracy'])\n",
    "\n",
    "    model.summary()\n",
    "    return model"
   ]
  }
 ],
 "metadata": {
  "accelerator": "TPU",
  "colab": {
   "machine_shape": "hm",
   "name": "MFCC_RNN.ipynb",
   "provenance": []
  },
  "kernelspec": {
   "display_name": "Python 3 (ipykernel)",
   "language": "python",
   "name": "python3"
  },
  "language_info": {
   "codemirror_mode": {
    "name": "ipython",
    "version": 3
   },
   "file_extension": ".py",
   "mimetype": "text/x-python",
   "name": "python",
   "nbconvert_exporter": "python",
   "pygments_lexer": "ipython3",
   "version": "3.9.7"
  }
 },
 "nbformat": 4,
 "nbformat_minor": 1
}

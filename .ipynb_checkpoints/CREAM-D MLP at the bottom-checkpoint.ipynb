{
 "cells": [
  {
   "cell_type": "code",
   "execution_count": 24,
   "metadata": {},
   "outputs": [],
   "source": [
    "import librosa\n",
    "import numpy as np\n",
    "import IPython\n",
    "import pandas as pd\n",
    "import sys\n",
    "import os \n",
    "import warnings\n",
    "import time\n",
    "\n",
    "#we will see it later.\n",
    "import librosa\n",
    "import librosa.display\n",
    "\n",
    "import seaborn as sns\n",
    "import matplotlib.pyplot as plt\n",
    "\n",
    "import np_utils\n",
    "\n",
    "#importing librarys"
   ]
  },
  {
   "cell_type": "code",
   "execution_count": 25,
   "metadata": {},
   "outputs": [],
   "source": [
    "from sklearn.preprocessing import StandardScaler, OneHotEncoder\n",
    "from sklearn.metrics import confusion_matrix, classification_report\n",
    "from sklearn.model_selection import train_test_split\n",
    "from sklearn.metrics import confusion_matrix\n",
    "from sklearn import svm, datasets\n",
    "\n",
    "# to play the audio files\n",
    "from IPython.display import Audio\n",
    "\n",
    "from tensorflow import keras\n",
    "from tensorflow.keras.callbacks import ReduceLROnPlateau\n",
    "from tensorflow.keras.models import Sequential\n",
    "from tensorflow.keras.layers import Dense, Conv1D, MaxPooling1D, Flatten, Dropout, BatchNormalization\n",
    "from tensorflow.keras.utils import to_categorical\n"
   ]
  },
  {
   "cell_type": "code",
   "execution_count": 26,
   "metadata": {},
   "outputs": [],
   "source": [
    "import os\n",
    "import pandas as pd"
   ]
  },
  {
   "cell_type": "code",
   "execution_count": 27,
   "metadata": {},
   "outputs": [
    {
     "name": "stdout",
     "output_type": "stream",
     "text": [
      "/Users/zeyuanli/Dropbox/Github/Librosa test/AudioWAV\n"
     ]
    }
   ],
   "source": [
    "cwd = os.getcwd()\n",
    "print(cwd)\n",
    "os.chdir('/Users/zeyuanli/Dropbox/Github/Librosa test'+'/AudioWAV')\n",
    "#change the directory to AudioMP3"
   ]
  },
  {
   "cell_type": "code",
   "execution_count": 104,
   "metadata": {},
   "outputs": [],
   "source": [
    "#Use this to read from CSV directly\n",
    "Features = pd.read_csv(\"features.csv\")"
   ]
  },
  {
   "cell_type": "code",
   "execution_count": 105,
   "metadata": {},
   "outputs": [],
   "source": [
    "X = Features.iloc[: ,:-3].values\n",
    "Y = Features['labels'].values"
   ]
  },
  {
   "cell_type": "code",
   "execution_count": 106,
   "metadata": {},
   "outputs": [
    {
     "data": {
      "text/plain": [
       "array(['angry', 'angry', 'angry', ..., 'neutral', 'neutral', 'neutral'],\n",
       "      dtype=object)"
      ]
     },
     "execution_count": 106,
     "metadata": {},
     "output_type": "execute_result"
    }
   ],
   "source": [
    "Y"
   ]
  },
  {
   "cell_type": "code",
   "execution_count": 107,
   "metadata": {},
   "outputs": [],
   "source": [
    "#only call this for CNN # As this is a multiclass classification problem onehotencoding our Y.\n",
    "encoder = OneHotEncoder()\n",
    "Y = encoder.fit_transform(Y.reshape(-1,1)).toarray()"
   ]
  },
  {
   "cell_type": "code",
   "execution_count": 108,
   "metadata": {},
   "outputs": [
    {
     "data": {
      "text/plain": [
       "(22326, 6)"
      ]
     },
     "execution_count": 108,
     "metadata": {},
     "output_type": "execute_result"
    }
   ],
   "source": [
    "Y.shape"
   ]
  },
  {
   "cell_type": "code",
   "execution_count": 109,
   "metadata": {},
   "outputs": [
    {
     "data": {
      "text/plain": [
       "((16744, 160), (16744, 6), (5582, 160), (5582, 6))"
      ]
     },
     "execution_count": 109,
     "metadata": {},
     "output_type": "execute_result"
    }
   ],
   "source": [
    "# splitting data\n",
    "x_train, x_test, y_train, y_test = train_test_split(X, Y, random_state=0, shuffle=True)\n",
    "x_train.shape, y_train.shape, x_test.shape, y_test.shape"
   ]
  },
  {
   "cell_type": "code",
   "execution_count": 110,
   "metadata": {},
   "outputs": [
    {
     "data": {
      "text/plain": [
       "((16744, 160), (16744, 6), (5582, 160), (5582, 6))"
      ]
     },
     "execution_count": 110,
     "metadata": {},
     "output_type": "execute_result"
    }
   ],
   "source": [
    "# scaling our data with sklearn's Standard scaler\n",
    "scaler = StandardScaler()\n",
    "x_train = scaler.fit_transform(x_train)\n",
    "x_test = scaler.transform(x_test)\n",
    "x_train.shape, y_train.shape, x_test.shape, y_test.shape"
   ]
  },
  {
   "cell_type": "code",
   "execution_count": 35,
   "metadata": {},
   "outputs": [],
   "source": [
    "import numpy as np"
   ]
  },
  {
   "cell_type": "code",
   "execution_count": 36,
   "metadata": {},
   "outputs": [
    {
     "data": {
      "text/plain": [
       "((16744, 160, 1), (16744, 6), (5582, 160, 1), (5582, 6))"
      ]
     },
     "execution_count": 36,
     "metadata": {},
     "output_type": "execute_result"
    }
   ],
   "source": [
    "# making our data compatible to model.\n",
    "x_train = np.expand_dims(x_train, axis=2)\n",
    "x_test = np.expand_dims(x_test, axis=2)\n",
    "x_train.shape, y_train.shape, x_test.shape, y_test.shape"
   ]
  },
  {
   "cell_type": "code",
   "execution_count": 37,
   "metadata": {},
   "outputs": [],
   "source": [
    "import sklearn\n",
    "from sklearn.linear_model import LogisticRegression\n",
    "from sklearn.metrics import f1_score #computes F1 score\n",
    "from sklearn.metrics import accuracy_score #compute accuracy"
   ]
  },
  {
   "cell_type": "code",
   "execution_count": 38,
   "metadata": {},
   "outputs": [],
   "source": [
    "def create_cnn_with_drop ( ) :\n",
    "    model = Sequential()\n",
    "    model.add(Conv1D(256, kernel_size=5, strides=1, padding='same', activation='relu', input_shape=(x_train.shape[1], 1)))\n",
    "    model.add(MaxPooling1D(pool_size=5, strides = 2, padding = 'same'))\n",
    "    model.add(Dropout(0.35))\n",
    "    \n",
    "    model.add(Conv1D(256, kernel_size=5, strides=1, padding='same', activation='relu'))\n",
    "    model.add(MaxPooling1D(pool_size=5, strides = 2, padding = 'same'))\n",
    "    model.add(Dropout(0.2))\n",
    "        \n",
    "    model.add(Conv1D(128, kernel_size=5, strides=1, padding='same', activation='relu'))\n",
    "    model.add(MaxPooling1D(pool_size=5, strides = 2, padding = 'same'))\n",
    "    model.add(Dropout(0.2))\n",
    "\n",
    "    model.add(Conv1D(64, kernel_size=5, strides=1, padding='same', activation='relu'))\n",
    "    model.add(MaxPooling1D(pool_size=5, strides = 2, padding = 'same'))\n",
    "\n",
    "    model.add(Flatten())\n",
    "    model.add(Dense(units=32, activation='relu'))\n",
    "    model.add(Dropout(0.3))\n",
    "\n",
    "    model.add(Dense(units=6, activation='softmax'))\n",
    "    model.compile(optimizer = 'adam' , loss = 'categorical_crossentropy' , metrics = ['accuracy'])\n",
    "\n",
    "    model.summary()\n",
    "    return model"
   ]
  },
  {
   "cell_type": "code",
   "execution_count": 39,
   "metadata": {},
   "outputs": [],
   "source": [
    "def create_cnn_with_drop2 ( ) :\n",
    "    model = Sequential()\n",
    "    model.add(Conv1D(256, kernel_size=5, strides=1, padding='same', activation='relu', input_shape=(x_train.shape[1], 1)))\n",
    "    model.add(MaxPooling1D(pool_size=5, strides = 2, padding = 'same'))\n",
    "    model.add(Dropout(0.5))\n",
    "    \n",
    "    model.add(Conv1D(256, kernel_size=5, strides=1, padding='same', activation='relu'))\n",
    "    model.add(MaxPooling1D(pool_size=5, strides = 2, padding = 'same'))\n",
    "    model.add(Dropout(0.4))\n",
    "        \n",
    "    model.add(Conv1D(128, kernel_size=5, strides=1, padding='same', activation='relu'))\n",
    "    model.add(MaxPooling1D(pool_size=5, strides = 2, padding = 'same'))\n",
    "    model.add(Dropout(0.2))\n",
    "\n",
    "    model.add(Conv1D(64, kernel_size=5, strides=1, padding='same', activation='relu'))\n",
    "    model.add(MaxPooling1D(pool_size=5, strides = 2, padding = 'same'))\n",
    "\n",
    "    model.add(Flatten())\n",
    "    model.add(Dense(units=32, activation='relu'))\n",
    "    model.add(Dropout(0.3))\n",
    "\n",
    "    model.add(Dense(units=6, activation='softmax'))\n",
    "    model.compile(optimizer = 'adam' , loss = 'categorical_crossentropy' , metrics = ['accuracy'])\n",
    "\n",
    "    model.summary()\n",
    "    return model"
   ]
  },
  {
   "cell_type": "code",
   "execution_count": 40,
   "metadata": {},
   "outputs": [
    {
     "name": "stdout",
     "output_type": "stream",
     "text": [
      "Model: \"sequential_1\"\n",
      "_________________________________________________________________\n",
      "Layer (type)                 Output Shape              Param #   \n",
      "=================================================================\n",
      "conv1d_4 (Conv1D)            (None, 160, 256)          1536      \n",
      "_________________________________________________________________\n",
      "max_pooling1d_4 (MaxPooling1 (None, 80, 256)           0         \n",
      "_________________________________________________________________\n",
      "dropout_4 (Dropout)          (None, 80, 256)           0         \n",
      "_________________________________________________________________\n",
      "conv1d_5 (Conv1D)            (None, 80, 256)           327936    \n",
      "_________________________________________________________________\n",
      "max_pooling1d_5 (MaxPooling1 (None, 40, 256)           0         \n",
      "_________________________________________________________________\n",
      "dropout_5 (Dropout)          (None, 40, 256)           0         \n",
      "_________________________________________________________________\n",
      "conv1d_6 (Conv1D)            (None, 40, 128)           163968    \n",
      "_________________________________________________________________\n",
      "max_pooling1d_6 (MaxPooling1 (None, 20, 128)           0         \n",
      "_________________________________________________________________\n",
      "dropout_6 (Dropout)          (None, 20, 128)           0         \n",
      "_________________________________________________________________\n",
      "conv1d_7 (Conv1D)            (None, 20, 64)            41024     \n",
      "_________________________________________________________________\n",
      "max_pooling1d_7 (MaxPooling1 (None, 10, 64)            0         \n",
      "_________________________________________________________________\n",
      "flatten_1 (Flatten)          (None, 640)               0         \n",
      "_________________________________________________________________\n",
      "dense_2 (Dense)              (None, 32)                20512     \n",
      "_________________________________________________________________\n",
      "dropout_7 (Dropout)          (None, 32)                0         \n",
      "_________________________________________________________________\n",
      "dense_3 (Dense)              (None, 6)                 198       \n",
      "=================================================================\n",
      "Total params: 555,174\n",
      "Trainable params: 555,174\n",
      "Non-trainable params: 0\n",
      "_________________________________________________________________\n"
     ]
    }
   ],
   "source": [
    "model = create_cnn_with_drop2 ()"
   ]
  },
  {
   "cell_type": "code",
   "execution_count": 41,
   "metadata": {},
   "outputs": [],
   "source": [
    "import os\n",
    "os.environ['KMP_DUPLICATE_LIB_OK']='Tre'"
   ]
  },
  {
   "cell_type": "code",
   "execution_count": 43,
   "metadata": {},
   "outputs": [
    {
     "name": "stdout",
     "output_type": "stream",
     "text": [
      "Epoch 1/50\n",
      "118/118 [==============================] - 3s 28ms/step - loss: 1.5429 - accuracy: 0.3454 - val_loss: 1.5027 - val_accuracy: 0.3719\n",
      "Epoch 2/50\n",
      "118/118 [==============================] - 3s 28ms/step - loss: 1.5286 - accuracy: 0.3588 - val_loss: 1.5124 - val_accuracy: 0.3922\n",
      "Epoch 3/50\n",
      "118/118 [==============================] - 3s 27ms/step - loss: 1.5101 - accuracy: 0.3606 - val_loss: 1.4802 - val_accuracy: 0.4012\n",
      "Epoch 4/50\n",
      "118/118 [==============================] - 3s 28ms/step - loss: 1.5040 - accuracy: 0.3763 - val_loss: 1.4449 - val_accuracy: 0.4084\n",
      "Epoch 5/50\n",
      " 87/118 [=====================>........] - ETA: 0s - loss: 1.4910 - accuracy: 0.3730"
     ]
    },
    {
     "ename": "KeyboardInterrupt",
     "evalue": "",
     "output_type": "error",
     "traceback": [
      "\u001b[0;31m---------------------------------------------------------------------------\u001b[0m",
      "\u001b[0;31mKeyboardInterrupt\u001b[0m                         Traceback (most recent call last)",
      "\u001b[0;32m/var/folders/dm/tglj4hl14q7cg0z7dt_g8prr0000gn/T/ipykernel_35718/3636008363.py\u001b[0m in \u001b[0;36m<module>\u001b[0;34m\u001b[0m\n\u001b[1;32m      1\u001b[0m \u001b[0mrlrp\u001b[0m \u001b[0;34m=\u001b[0m \u001b[0mReduceLROnPlateau\u001b[0m\u001b[0;34m(\u001b[0m\u001b[0mmonitor\u001b[0m\u001b[0;34m=\u001b[0m\u001b[0;34m'loss'\u001b[0m\u001b[0;34m,\u001b[0m \u001b[0mfactor\u001b[0m\u001b[0;34m=\u001b[0m\u001b[0;36m0.4\u001b[0m\u001b[0;34m,\u001b[0m \u001b[0mverbose\u001b[0m\u001b[0;34m=\u001b[0m\u001b[0;36m0\u001b[0m\u001b[0;34m,\u001b[0m \u001b[0mpatience\u001b[0m\u001b[0;34m=\u001b[0m\u001b[0;36m2\u001b[0m\u001b[0;34m,\u001b[0m \u001b[0mmin_lr\u001b[0m\u001b[0;34m=\u001b[0m\u001b[0;36m0.0000001\u001b[0m\u001b[0;34m)\u001b[0m\u001b[0;34m\u001b[0m\u001b[0;34m\u001b[0m\u001b[0m\n\u001b[0;32m----> 2\u001b[0;31m \u001b[0mhistory\u001b[0m\u001b[0;34m=\u001b[0m\u001b[0mmodel\u001b[0m\u001b[0;34m.\u001b[0m\u001b[0mfit\u001b[0m\u001b[0;34m(\u001b[0m\u001b[0mx_train\u001b[0m\u001b[0;34m,\u001b[0m \u001b[0my_train\u001b[0m\u001b[0;34m,\u001b[0m \u001b[0mbatch_size\u001b[0m\u001b[0;34m=\u001b[0m\u001b[0;36m128\u001b[0m\u001b[0;34m,\u001b[0m \u001b[0mepochs\u001b[0m\u001b[0;34m=\u001b[0m\u001b[0;36m50\u001b[0m\u001b[0;34m,\u001b[0m \u001b[0mvalidation_split\u001b[0m \u001b[0;34m=\u001b[0m \u001b[0;36m0.1\u001b[0m\u001b[0;34m,\u001b[0m \u001b[0mcallbacks\u001b[0m\u001b[0;34m=\u001b[0m \u001b[0;34m[\u001b[0m\u001b[0mrlrp\u001b[0m\u001b[0;34m]\u001b[0m\u001b[0;34m)\u001b[0m\u001b[0;34m\u001b[0m\u001b[0;34m\u001b[0m\u001b[0m\n\u001b[0m",
      "\u001b[0;32m~/miniforge3/lib/python3.9/site-packages/keras/engine/training.py\u001b[0m in \u001b[0;36mfit\u001b[0;34m(self, x, y, batch_size, epochs, verbose, callbacks, validation_split, validation_data, shuffle, class_weight, sample_weight, initial_epoch, steps_per_epoch, validation_steps, validation_batch_size, validation_freq, max_queue_size, workers, use_multiprocessing)\u001b[0m\n\u001b[1;32m   1182\u001b[0m                 _r=1):\n\u001b[1;32m   1183\u001b[0m               \u001b[0mcallbacks\u001b[0m\u001b[0;34m.\u001b[0m\u001b[0mon_train_batch_begin\u001b[0m\u001b[0;34m(\u001b[0m\u001b[0mstep\u001b[0m\u001b[0;34m)\u001b[0m\u001b[0;34m\u001b[0m\u001b[0;34m\u001b[0m\u001b[0m\n\u001b[0;32m-> 1184\u001b[0;31m               \u001b[0mtmp_logs\u001b[0m \u001b[0;34m=\u001b[0m \u001b[0mself\u001b[0m\u001b[0;34m.\u001b[0m\u001b[0mtrain_function\u001b[0m\u001b[0;34m(\u001b[0m\u001b[0miterator\u001b[0m\u001b[0;34m)\u001b[0m\u001b[0;34m\u001b[0m\u001b[0;34m\u001b[0m\u001b[0m\n\u001b[0m\u001b[1;32m   1185\u001b[0m               \u001b[0;32mif\u001b[0m \u001b[0mdata_handler\u001b[0m\u001b[0;34m.\u001b[0m\u001b[0mshould_sync\u001b[0m\u001b[0;34m:\u001b[0m\u001b[0;34m\u001b[0m\u001b[0;34m\u001b[0m\u001b[0m\n\u001b[1;32m   1186\u001b[0m                 \u001b[0mcontext\u001b[0m\u001b[0;34m.\u001b[0m\u001b[0masync_wait\u001b[0m\u001b[0;34m(\u001b[0m\u001b[0;34m)\u001b[0m\u001b[0;34m\u001b[0m\u001b[0;34m\u001b[0m\u001b[0m\n",
      "\u001b[0;32m~/miniforge3/lib/python3.9/site-packages/tensorflow/python/eager/def_function.py\u001b[0m in \u001b[0;36m__call__\u001b[0;34m(self, *args, **kwds)\u001b[0m\n\u001b[1;32m    883\u001b[0m \u001b[0;34m\u001b[0m\u001b[0m\n\u001b[1;32m    884\u001b[0m       \u001b[0;32mwith\u001b[0m \u001b[0mOptionalXlaContext\u001b[0m\u001b[0;34m(\u001b[0m\u001b[0mself\u001b[0m\u001b[0;34m.\u001b[0m\u001b[0m_jit_compile\u001b[0m\u001b[0;34m)\u001b[0m\u001b[0;34m:\u001b[0m\u001b[0;34m\u001b[0m\u001b[0;34m\u001b[0m\u001b[0m\n\u001b[0;32m--> 885\u001b[0;31m         \u001b[0mresult\u001b[0m \u001b[0;34m=\u001b[0m \u001b[0mself\u001b[0m\u001b[0;34m.\u001b[0m\u001b[0m_call\u001b[0m\u001b[0;34m(\u001b[0m\u001b[0;34m*\u001b[0m\u001b[0margs\u001b[0m\u001b[0;34m,\u001b[0m \u001b[0;34m**\u001b[0m\u001b[0mkwds\u001b[0m\u001b[0;34m)\u001b[0m\u001b[0;34m\u001b[0m\u001b[0;34m\u001b[0m\u001b[0m\n\u001b[0m\u001b[1;32m    886\u001b[0m \u001b[0;34m\u001b[0m\u001b[0m\n\u001b[1;32m    887\u001b[0m       \u001b[0mnew_tracing_count\u001b[0m \u001b[0;34m=\u001b[0m \u001b[0mself\u001b[0m\u001b[0;34m.\u001b[0m\u001b[0mexperimental_get_tracing_count\u001b[0m\u001b[0;34m(\u001b[0m\u001b[0;34m)\u001b[0m\u001b[0;34m\u001b[0m\u001b[0;34m\u001b[0m\u001b[0m\n",
      "\u001b[0;32m~/miniforge3/lib/python3.9/site-packages/tensorflow/python/eager/def_function.py\u001b[0m in \u001b[0;36m_call\u001b[0;34m(self, *args, **kwds)\u001b[0m\n\u001b[1;32m    915\u001b[0m       \u001b[0;31m# In this case we have created variables on the first call, so we run the\u001b[0m\u001b[0;34m\u001b[0m\u001b[0;34m\u001b[0m\u001b[0m\n\u001b[1;32m    916\u001b[0m       \u001b[0;31m# defunned version which is guaranteed to never create variables.\u001b[0m\u001b[0;34m\u001b[0m\u001b[0;34m\u001b[0m\u001b[0m\n\u001b[0;32m--> 917\u001b[0;31m       \u001b[0;32mreturn\u001b[0m \u001b[0mself\u001b[0m\u001b[0;34m.\u001b[0m\u001b[0m_stateless_fn\u001b[0m\u001b[0;34m(\u001b[0m\u001b[0;34m*\u001b[0m\u001b[0margs\u001b[0m\u001b[0;34m,\u001b[0m \u001b[0;34m**\u001b[0m\u001b[0mkwds\u001b[0m\u001b[0;34m)\u001b[0m  \u001b[0;31m# pylint: disable=not-callable\u001b[0m\u001b[0;34m\u001b[0m\u001b[0;34m\u001b[0m\u001b[0m\n\u001b[0m\u001b[1;32m    918\u001b[0m     \u001b[0;32melif\u001b[0m \u001b[0mself\u001b[0m\u001b[0;34m.\u001b[0m\u001b[0m_stateful_fn\u001b[0m \u001b[0;32mis\u001b[0m \u001b[0;32mnot\u001b[0m \u001b[0;32mNone\u001b[0m\u001b[0;34m:\u001b[0m\u001b[0;34m\u001b[0m\u001b[0;34m\u001b[0m\u001b[0m\n\u001b[1;32m    919\u001b[0m       \u001b[0;31m# Release the lock early so that multiple threads can perform the call\u001b[0m\u001b[0;34m\u001b[0m\u001b[0;34m\u001b[0m\u001b[0m\n",
      "\u001b[0;32m~/miniforge3/lib/python3.9/site-packages/tensorflow/python/eager/function.py\u001b[0m in \u001b[0;36m__call__\u001b[0;34m(self, *args, **kwargs)\u001b[0m\n\u001b[1;32m   3037\u001b[0m       (graph_function,\n\u001b[1;32m   3038\u001b[0m        filtered_flat_args) = self._maybe_define_function(args, kwargs)\n\u001b[0;32m-> 3039\u001b[0;31m     return graph_function._call_flat(\n\u001b[0m\u001b[1;32m   3040\u001b[0m         filtered_flat_args, captured_inputs=graph_function.captured_inputs)  # pylint: disable=protected-access\n\u001b[1;32m   3041\u001b[0m \u001b[0;34m\u001b[0m\u001b[0m\n",
      "\u001b[0;32m~/miniforge3/lib/python3.9/site-packages/tensorflow/python/eager/function.py\u001b[0m in \u001b[0;36m_call_flat\u001b[0;34m(self, args, captured_inputs, cancellation_manager)\u001b[0m\n\u001b[1;32m   1961\u001b[0m         and executing_eagerly):\n\u001b[1;32m   1962\u001b[0m       \u001b[0;31m# No tape is watching; skip to running the function.\u001b[0m\u001b[0;34m\u001b[0m\u001b[0;34m\u001b[0m\u001b[0m\n\u001b[0;32m-> 1963\u001b[0;31m       return self._build_call_outputs(self._inference_function.call(\n\u001b[0m\u001b[1;32m   1964\u001b[0m           ctx, args, cancellation_manager=cancellation_manager))\n\u001b[1;32m   1965\u001b[0m     forward_backward = self._select_forward_and_backward_functions(\n",
      "\u001b[0;32m~/miniforge3/lib/python3.9/site-packages/tensorflow/python/eager/function.py\u001b[0m in \u001b[0;36mcall\u001b[0;34m(self, ctx, args, cancellation_manager)\u001b[0m\n\u001b[1;32m    589\u001b[0m       \u001b[0;32mwith\u001b[0m \u001b[0m_InterpolateFunctionError\u001b[0m\u001b[0;34m(\u001b[0m\u001b[0mself\u001b[0m\u001b[0;34m)\u001b[0m\u001b[0;34m:\u001b[0m\u001b[0;34m\u001b[0m\u001b[0;34m\u001b[0m\u001b[0m\n\u001b[1;32m    590\u001b[0m         \u001b[0;32mif\u001b[0m \u001b[0mcancellation_manager\u001b[0m \u001b[0;32mis\u001b[0m \u001b[0;32mNone\u001b[0m\u001b[0;34m:\u001b[0m\u001b[0;34m\u001b[0m\u001b[0;34m\u001b[0m\u001b[0m\n\u001b[0;32m--> 591\u001b[0;31m           outputs = execute.execute(\n\u001b[0m\u001b[1;32m    592\u001b[0m               \u001b[0mstr\u001b[0m\u001b[0;34m(\u001b[0m\u001b[0mself\u001b[0m\u001b[0;34m.\u001b[0m\u001b[0msignature\u001b[0m\u001b[0;34m.\u001b[0m\u001b[0mname\u001b[0m\u001b[0;34m)\u001b[0m\u001b[0;34m,\u001b[0m\u001b[0;34m\u001b[0m\u001b[0;34m\u001b[0m\u001b[0m\n\u001b[1;32m    593\u001b[0m               \u001b[0mnum_outputs\u001b[0m\u001b[0;34m=\u001b[0m\u001b[0mself\u001b[0m\u001b[0;34m.\u001b[0m\u001b[0m_num_outputs\u001b[0m\u001b[0;34m,\u001b[0m\u001b[0;34m\u001b[0m\u001b[0;34m\u001b[0m\u001b[0m\n",
      "\u001b[0;32m~/miniforge3/lib/python3.9/site-packages/tensorflow/python/eager/execute.py\u001b[0m in \u001b[0;36mquick_execute\u001b[0;34m(op_name, num_outputs, inputs, attrs, ctx, name)\u001b[0m\n\u001b[1;32m     57\u001b[0m   \u001b[0;32mtry\u001b[0m\u001b[0;34m:\u001b[0m\u001b[0;34m\u001b[0m\u001b[0;34m\u001b[0m\u001b[0m\n\u001b[1;32m     58\u001b[0m     \u001b[0mctx\u001b[0m\u001b[0;34m.\u001b[0m\u001b[0mensure_initialized\u001b[0m\u001b[0;34m(\u001b[0m\u001b[0;34m)\u001b[0m\u001b[0;34m\u001b[0m\u001b[0;34m\u001b[0m\u001b[0m\n\u001b[0;32m---> 59\u001b[0;31m     tensors = pywrap_tfe.TFE_Py_Execute(ctx._handle, device_name, op_name,\n\u001b[0m\u001b[1;32m     60\u001b[0m                                         inputs, attrs, num_outputs)\n\u001b[1;32m     61\u001b[0m   \u001b[0;32mexcept\u001b[0m \u001b[0mcore\u001b[0m\u001b[0;34m.\u001b[0m\u001b[0m_NotOkStatusException\u001b[0m \u001b[0;32mas\u001b[0m \u001b[0me\u001b[0m\u001b[0;34m:\u001b[0m\u001b[0;34m\u001b[0m\u001b[0;34m\u001b[0m\u001b[0m\n",
      "\u001b[0;31mKeyboardInterrupt\u001b[0m: "
     ]
    }
   ],
   "source": [
    "rlrp = ReduceLROnPlateau(monitor='loss', factor=0.4, verbose=0, patience=2, min_lr=0.0000001)\n",
    "history=model.fit(x_train, y_train, batch_size=128, epochs=50, validation_split = 0.1, callbacks= [rlrp]) "
   ]
  },
  {
   "cell_type": "code",
   "execution_count": 20,
   "metadata": {},
   "outputs": [
    {
     "name": "stdout",
     "output_type": "stream",
     "text": [
      "175/175 [==============================] - 1s 8ms/step - loss: 1.5812 - accuracy: 0.3617\n"
     ]
    },
    {
     "data": {
      "text/plain": [
       "[1.5811767578125, 0.36169832944869995]"
      ]
     },
     "execution_count": 20,
     "metadata": {},
     "output_type": "execute_result"
    }
   ],
   "source": [
    "model.evaluate(x_test, y_test)"
   ]
  },
  {
   "cell_type": "code",
   "execution_count": 21,
   "metadata": {},
   "outputs": [
    {
     "name": "stderr",
     "output_type": "stream",
     "text": [
      "2021-12-09 16:58:06.421489: I tensorflow/core/grappler/optimizers/custom_graph_optimizer_registry.cc:112] Plugin optimizer for device_type GPU is enabled.\n"
     ]
    }
   ],
   "source": [
    "pred = model.predict(x_train)\n",
    "pred_test = model.predict(x_test)"
   ]
  },
  {
   "cell_type": "code",
   "execution_count": 22,
   "metadata": {},
   "outputs": [
    {
     "name": "stdout",
     "output_type": "stream",
     "text": [
      "accuracy score for Train set is: 0.3604873387482083\n",
      "accuracy score for Test set is:  0.36169831601576496\n",
      "[Anger, disgust, fear, happy, neutral, sad]\n",
      "F1 score for Train set is: [0.59202321 0.32522463 0.03249831 0.33555344 0.00879297 0.48869413]\n",
      "F1 score for Test set is:  [0.59514687 0.32310705 0.0358209  0.32380029 0.0075188  0.49867374]\n"
     ]
    }
   ],
   "source": [
    "print(\"accuracy score for Train set is:\", accuracy_score(np.argmax(y_train,axis =1), np.argmax(pred,axis=1)))\n",
    "print(\"accuracy score for Test set is: \", accuracy_score(np.argmax(y_test,axis =1), np.argmax(pred_test,axis=1)))\n",
    "print(\"[Anger, disgust, fear, happy, neutral, sad]\")\n",
    "print(\"F1 score for Train set is:\", f1_score(np.argmax(y_train,axis =1), np.argmax(pred,axis=1), average = None))\n",
    "print(\"F1 score for Test set is: \", f1_score(np.argmax(y_test,axis =1), np.argmax(pred_test,axis=1), average = None))"
   ]
  },
  {
   "cell_type": "code",
   "execution_count": 23,
   "metadata": {},
   "outputs": [
    {
     "name": "stdout",
     "output_type": "stream",
     "text": [
      "('You must install pydot (`pip install pydot`) and install graphviz (see instructions at https://graphviz.gitlab.io/download/) ', 'for plot_model/model_to_dot to work.')\n"
     ]
    }
   ],
   "source": [
    "from keras.utils.vis_utils import plot_model\n",
    "plot_model(model, show_shapes=True, show_layer_names=True)"
   ]
  },
  {
   "cell_type": "code",
   "execution_count": 24,
   "metadata": {},
   "outputs": [],
   "source": [
    "from sklearn.model_selection import RepeatedKFold\n",
    "from sklearn.model_selection import KFold\n",
    "from sklearn.model_selection import cross_val_score"
   ]
  },
  {
   "cell_type": "code",
   "execution_count": 25,
   "metadata": {},
   "outputs": [],
   "source": [
    "# trying out cross validation\n",
    "#cv = RepeatedKFold(n_splits=10, n_repeats=3, random_state=1)\n",
    "#scores = cross_val_score(model, X, Y, scoring='accuracy', cv=cv, n_jobs=-1)"
   ]
  },
  {
   "cell_type": "code",
   "execution_count": 48,
   "metadata": {},
   "outputs": [],
   "source": [
    "from sklearn.metrics import confusion_matrix, ConfusionMatrixDisplay\n",
    "cm = confusion_matrix(np.argmax(y_test,axis =1), np.argmax(pred_test,axis=1))\n",
    "cm = cm/ cm.astype(np.float64).sum(axis=1)"
   ]
  },
  {
   "cell_type": "code",
   "execution_count": 50,
   "metadata": {},
   "outputs": [
    {
     "data": {
      "text/plain": [
       "<sklearn.metrics._plot.confusion_matrix.ConfusionMatrixDisplay at 0x2bd793c40>"
      ]
     },
     "execution_count": 50,
     "metadata": {},
     "output_type": "execute_result"
    },
    {
     "data": {
      "image/png": "[encoded data removed]",
      "text/plain": [
       "<Figure size 432x288 with 2 Axes>"
      ]
     },
     "metadata": {
      "needs_background": "light"
     },
     "output_type": "display_data"
    }
   ],
   "source": [
    "labels = ['anger', 'disgust', 'fear', 'happy', 'neutral', 'sad']\n",
    "disp = ConfusionMatrixDisplay(confusion_matrix=cm, display_labels = labels)\n",
    "disp.plot()"
   ]
  },
  {
   "cell_type": "code",
   "execution_count": 28,
   "metadata": {},
   "outputs": [],
   "source": [
    "kfold = KFold(n_splits=20, shuffle=True)\n",
    "inputs = x_train\n",
    "targets = y_train\n",
    "\n",
    "\n",
    "# Define per-fold score containers\n",
    "acc_per_fold = []\n",
    "loss_per_fold = []"
   ]
  },
  {
   "cell_type": "code",
   "execution_count": 29,
   "metadata": {},
   "outputs": [
    {
     "data": {
      "text/plain": [
       "((16744, 162, 1), (16744, 6))"
      ]
     },
     "execution_count": 29,
     "metadata": {},
     "output_type": "execute_result"
    }
   ],
   "source": [
    "inputs.shape, targets.shape"
   ]
  },
  {
   "cell_type": "code",
   "execution_count": 30,
   "metadata": {},
   "outputs": [
    {
     "name": "stdout",
     "output_type": "stream",
     "text": [
      "Model: \"sequential_1\"\n",
      "_________________________________________________________________\n",
      "Layer (type)                 Output Shape              Param #   \n",
      "=================================================================\n",
      "conv1d_4 (Conv1D)            (None, 162, 256)          1536      \n",
      "_________________________________________________________________\n",
      "max_pooling1d_4 (MaxPooling1 (None, 81, 256)           0         \n",
      "_________________________________________________________________\n",
      "dropout_4 (Dropout)          (None, 81, 256)           0         \n",
      "_________________________________________________________________\n",
      "conv1d_5 (Conv1D)            (None, 81, 256)           327936    \n",
      "_________________________________________________________________\n",
      "max_pooling1d_5 (MaxPooling1 (None, 41, 256)           0         \n",
      "_________________________________________________________________\n",
      "dropout_5 (Dropout)          (None, 41, 256)           0         \n",
      "_________________________________________________________________\n",
      "conv1d_6 (Conv1D)            (None, 41, 128)           163968    \n",
      "_________________________________________________________________\n",
      "max_pooling1d_6 (MaxPooling1 (None, 21, 128)           0         \n",
      "_________________________________________________________________\n",
      "dropout_6 (Dropout)          (None, 21, 128)           0         \n",
      "_________________________________________________________________\n",
      "conv1d_7 (Conv1D)            (None, 21, 64)            41024     \n",
      "_________________________________________________________________\n",
      "max_pooling1d_7 (MaxPooling1 (None, 11, 64)            0         \n",
      "_________________________________________________________________\n",
      "flatten_1 (Flatten)          (None, 704)               0         \n",
      "_________________________________________________________________\n",
      "dense_2 (Dense)              (None, 32)                22560     \n",
      "_________________________________________________________________\n",
      "dropout_7 (Dropout)          (None, 32)                0         \n",
      "_________________________________________________________________\n",
      "dense_3 (Dense)              (None, 6)                 198       \n",
      "=================================================================\n",
      "Total params: 557,222\n",
      "Trainable params: 557,222\n",
      "Non-trainable params: 0\n",
      "_________________________________________________________________\n",
      "[[-0.55357578]\n",
      " [-1.00619373]\n",
      " [-1.57866721]\n",
      " [-1.64343617]\n",
      " [-1.24811964]]\n",
      "[0. 0. 1. 0. 0. 0.]\n",
      "Epoch 1/10\n"
     ]
    },
    {
     "name": "stderr",
     "output_type": "stream",
     "text": [
      "2021-12-09 16:49:14.438014: I tensorflow/core/grappler/optimizers/custom_graph_optimizer_registry.cc:112] Plugin optimizer for device_type GPU is enabled.\n"
     ]
    },
    {
     "name": "stdout",
     "output_type": "stream",
     "text": [
      "224/224 [==============================] - ETA: 0s - loss: 1.6572 - accuracy: 0.2898"
     ]
    },
    {
     "name": "stderr",
     "output_type": "stream",
     "text": [
      "2021-12-09 16:49:18.463070: I tensorflow/core/grappler/optimizers/custom_graph_optimizer_registry.cc:112] Plugin optimizer for device_type GPU is enabled.\n"
     ]
    },
    {
     "ename": "KeyboardInterrupt",
     "evalue": "",
     "output_type": "error",
     "traceback": [
      "\u001b[0;31m---------------------------------------------------------------------------\u001b[0m",
      "\u001b[0;31mKeyboardInterrupt\u001b[0m                         Traceback (most recent call last)",
      "\u001b[0;32m/var/folders/dm/tglj4hl14q7cg0z7dt_g8prr0000gn/T/ipykernel_35549/705214639.py\u001b[0m in \u001b[0;36m<module>\u001b[0;34m\u001b[0m\n\u001b[1;32m      5\u001b[0m \u001b[0;32mfor\u001b[0m \u001b[0mtrain\u001b[0m\u001b[0;34m,\u001b[0m \u001b[0mtest\u001b[0m \u001b[0;32min\u001b[0m \u001b[0mkfold\u001b[0m\u001b[0;34m.\u001b[0m\u001b[0msplit\u001b[0m\u001b[0;34m(\u001b[0m\u001b[0minputs\u001b[0m\u001b[0;34m)\u001b[0m\u001b[0;34m:\u001b[0m\u001b[0;34m\u001b[0m\u001b[0;34m\u001b[0m\u001b[0m\n\u001b[1;32m      6\u001b[0m \u001b[0;34m\u001b[0m\u001b[0m\n\u001b[0;32m----> 7\u001b[0;31m     \u001b[0mhistory\u001b[0m\u001b[0;34m=\u001b[0m\u001b[0mmodel\u001b[0m\u001b[0;34m.\u001b[0m\u001b[0mfit\u001b[0m\u001b[0;34m(\u001b[0m\u001b[0minputs\u001b[0m\u001b[0;34m[\u001b[0m\u001b[0mtrain\u001b[0m\u001b[0;34m]\u001b[0m\u001b[0;34m,\u001b[0m \u001b[0mtargets\u001b[0m\u001b[0;34m[\u001b[0m\u001b[0mtrain\u001b[0m\u001b[0;34m]\u001b[0m\u001b[0;34m,\u001b[0m \u001b[0mbatch_size\u001b[0m\u001b[0;34m=\u001b[0m\u001b[0;36m64\u001b[0m\u001b[0;34m,\u001b[0m \u001b[0mepochs\u001b[0m\u001b[0;34m=\u001b[0m\u001b[0;36m10\u001b[0m\u001b[0;34m,\u001b[0m \u001b[0mvalidation_split\u001b[0m \u001b[0;34m=\u001b[0m \u001b[0;36m0.1\u001b[0m\u001b[0;34m,\u001b[0m \u001b[0mcallbacks\u001b[0m\u001b[0;34m=\u001b[0m \u001b[0;34m[\u001b[0m\u001b[0mrlrp\u001b[0m\u001b[0;34m]\u001b[0m\u001b[0;34m,\u001b[0m \u001b[0mverbose\u001b[0m \u001b[0;34m=\u001b[0m \u001b[0;36m1\u001b[0m\u001b[0;34m)\u001b[0m\u001b[0;34m\u001b[0m\u001b[0;34m\u001b[0m\u001b[0m\n\u001b[0m\u001b[1;32m      8\u001b[0m \u001b[0;34m\u001b[0m\u001b[0m\n\u001b[1;32m      9\u001b[0m     \u001b[0mscores\u001b[0m \u001b[0;34m=\u001b[0m \u001b[0mmodel\u001b[0m\u001b[0;34m.\u001b[0m\u001b[0mevaluate\u001b[0m\u001b[0;34m(\u001b[0m\u001b[0minputs\u001b[0m\u001b[0;34m[\u001b[0m\u001b[0mtest\u001b[0m\u001b[0;34m]\u001b[0m\u001b[0;34m,\u001b[0m \u001b[0mtargets\u001b[0m\u001b[0;34m[\u001b[0m\u001b[0mtest\u001b[0m\u001b[0;34m]\u001b[0m\u001b[0;34m,\u001b[0m \u001b[0mverbose\u001b[0m\u001b[0;34m=\u001b[0m\u001b[0;36m0\u001b[0m\u001b[0;34m)\u001b[0m\u001b[0;34m\u001b[0m\u001b[0;34m\u001b[0m\u001b[0m\n",
      "\u001b[0;32m~/miniforge3/lib/python3.9/site-packages/keras/engine/training.py\u001b[0m in \u001b[0;36mfit\u001b[0;34m(self, x, y, batch_size, epochs, verbose, callbacks, validation_split, validation_data, shuffle, class_weight, sample_weight, initial_epoch, steps_per_epoch, validation_steps, validation_batch_size, validation_freq, max_queue_size, workers, use_multiprocessing)\u001b[0m\n\u001b[1;32m   1213\u001b[0m                 \u001b[0mmodel\u001b[0m\u001b[0;34m=\u001b[0m\u001b[0mself\u001b[0m\u001b[0;34m,\u001b[0m\u001b[0;34m\u001b[0m\u001b[0;34m\u001b[0m\u001b[0m\n\u001b[1;32m   1214\u001b[0m                 steps_per_execution=self._steps_per_execution)\n\u001b[0;32m-> 1215\u001b[0;31m           val_logs = self.evaluate(\n\u001b[0m\u001b[1;32m   1216\u001b[0m               \u001b[0mx\u001b[0m\u001b[0;34m=\u001b[0m\u001b[0mval_x\u001b[0m\u001b[0;34m,\u001b[0m\u001b[0;34m\u001b[0m\u001b[0;34m\u001b[0m\u001b[0m\n\u001b[1;32m   1217\u001b[0m               \u001b[0my\u001b[0m\u001b[0;34m=\u001b[0m\u001b[0mval_y\u001b[0m\u001b[0;34m,\u001b[0m\u001b[0;34m\u001b[0m\u001b[0;34m\u001b[0m\u001b[0m\n",
      "\u001b[0;32m~/miniforge3/lib/python3.9/site-packages/keras/engine/training.py\u001b[0m in \u001b[0;36mevaluate\u001b[0;34m(self, x, y, batch_size, verbose, sample_weight, steps, callbacks, max_queue_size, workers, use_multiprocessing, return_dict, **kwargs)\u001b[0m\n\u001b[1;32m   1499\u001b[0m             \u001b[0;32mwith\u001b[0m \u001b[0mtf\u001b[0m\u001b[0;34m.\u001b[0m\u001b[0mprofiler\u001b[0m\u001b[0;34m.\u001b[0m\u001b[0mexperimental\u001b[0m\u001b[0;34m.\u001b[0m\u001b[0mTrace\u001b[0m\u001b[0;34m(\u001b[0m\u001b[0;34m'test'\u001b[0m\u001b[0;34m,\u001b[0m \u001b[0mstep_num\u001b[0m\u001b[0;34m=\u001b[0m\u001b[0mstep\u001b[0m\u001b[0;34m,\u001b[0m \u001b[0m_r\u001b[0m\u001b[0;34m=\u001b[0m\u001b[0;36m1\u001b[0m\u001b[0;34m)\u001b[0m\u001b[0;34m:\u001b[0m\u001b[0;34m\u001b[0m\u001b[0;34m\u001b[0m\u001b[0m\n\u001b[1;32m   1500\u001b[0m               \u001b[0mcallbacks\u001b[0m\u001b[0;34m.\u001b[0m\u001b[0mon_test_batch_begin\u001b[0m\u001b[0;34m(\u001b[0m\u001b[0mstep\u001b[0m\u001b[0;34m)\u001b[0m\u001b[0;34m\u001b[0m\u001b[0;34m\u001b[0m\u001b[0m\n\u001b[0;32m-> 1501\u001b[0;31m               \u001b[0mtmp_logs\u001b[0m \u001b[0;34m=\u001b[0m \u001b[0mself\u001b[0m\u001b[0;34m.\u001b[0m\u001b[0mtest_function\u001b[0m\u001b[0;34m(\u001b[0m\u001b[0miterator\u001b[0m\u001b[0;34m)\u001b[0m\u001b[0;34m\u001b[0m\u001b[0;34m\u001b[0m\u001b[0m\n\u001b[0m\u001b[1;32m   1502\u001b[0m               \u001b[0;32mif\u001b[0m \u001b[0mdata_handler\u001b[0m\u001b[0;34m.\u001b[0m\u001b[0mshould_sync\u001b[0m\u001b[0;34m:\u001b[0m\u001b[0;34m\u001b[0m\u001b[0;34m\u001b[0m\u001b[0m\n\u001b[1;32m   1503\u001b[0m                 \u001b[0mcontext\u001b[0m\u001b[0;34m.\u001b[0m\u001b[0masync_wait\u001b[0m\u001b[0;34m(\u001b[0m\u001b[0;34m)\u001b[0m\u001b[0;34m\u001b[0m\u001b[0;34m\u001b[0m\u001b[0m\n",
      "\u001b[0;32m~/miniforge3/lib/python3.9/site-packages/tensorflow/python/eager/def_function.py\u001b[0m in \u001b[0;36m__call__\u001b[0;34m(self, *args, **kwds)\u001b[0m\n\u001b[1;32m    883\u001b[0m \u001b[0;34m\u001b[0m\u001b[0m\n\u001b[1;32m    884\u001b[0m       \u001b[0;32mwith\u001b[0m \u001b[0mOptionalXlaContext\u001b[0m\u001b[0;34m(\u001b[0m\u001b[0mself\u001b[0m\u001b[0;34m.\u001b[0m\u001b[0m_jit_compile\u001b[0m\u001b[0;34m)\u001b[0m\u001b[0;34m:\u001b[0m\u001b[0;34m\u001b[0m\u001b[0;34m\u001b[0m\u001b[0m\n\u001b[0;32m--> 885\u001b[0;31m         \u001b[0mresult\u001b[0m \u001b[0;34m=\u001b[0m \u001b[0mself\u001b[0m\u001b[0;34m.\u001b[0m\u001b[0m_call\u001b[0m\u001b[0;34m(\u001b[0m\u001b[0;34m*\u001b[0m\u001b[0margs\u001b[0m\u001b[0;34m,\u001b[0m \u001b[0;34m**\u001b[0m\u001b[0mkwds\u001b[0m\u001b[0;34m)\u001b[0m\u001b[0;34m\u001b[0m\u001b[0;34m\u001b[0m\u001b[0m\n\u001b[0m\u001b[1;32m    886\u001b[0m \u001b[0;34m\u001b[0m\u001b[0m\n\u001b[1;32m    887\u001b[0m       \u001b[0mnew_tracing_count\u001b[0m \u001b[0;34m=\u001b[0m \u001b[0mself\u001b[0m\u001b[0;34m.\u001b[0m\u001b[0mexperimental_get_tracing_count\u001b[0m\u001b[0;34m(\u001b[0m\u001b[0;34m)\u001b[0m\u001b[0;34m\u001b[0m\u001b[0;34m\u001b[0m\u001b[0m\n",
      "\u001b[0;32m~/miniforge3/lib/python3.9/site-packages/tensorflow/python/eager/def_function.py\u001b[0m in \u001b[0;36m_call\u001b[0;34m(self, *args, **kwds)\u001b[0m\n\u001b[1;32m    922\u001b[0m       \u001b[0;31m# In this case we have not created variables on the first call. So we can\u001b[0m\u001b[0;34m\u001b[0m\u001b[0;34m\u001b[0m\u001b[0m\n\u001b[1;32m    923\u001b[0m       \u001b[0;31m# run the first trace but we should fail if variables are created.\u001b[0m\u001b[0;34m\u001b[0m\u001b[0;34m\u001b[0m\u001b[0m\n\u001b[0;32m--> 924\u001b[0;31m       \u001b[0mresults\u001b[0m \u001b[0;34m=\u001b[0m \u001b[0mself\u001b[0m\u001b[0;34m.\u001b[0m\u001b[0m_stateful_fn\u001b[0m\u001b[0;34m(\u001b[0m\u001b[0;34m*\u001b[0m\u001b[0margs\u001b[0m\u001b[0;34m,\u001b[0m \u001b[0;34m**\u001b[0m\u001b[0mkwds\u001b[0m\u001b[0;34m)\u001b[0m\u001b[0;34m\u001b[0m\u001b[0;34m\u001b[0m\u001b[0m\n\u001b[0m\u001b[1;32m    925\u001b[0m       \u001b[0;32mif\u001b[0m \u001b[0mself\u001b[0m\u001b[0;34m.\u001b[0m\u001b[0m_created_variables\u001b[0m \u001b[0;32mand\u001b[0m \u001b[0;32mnot\u001b[0m \u001b[0mALLOW_DYNAMIC_VARIABLE_CREATION\u001b[0m\u001b[0;34m:\u001b[0m\u001b[0;34m\u001b[0m\u001b[0;34m\u001b[0m\u001b[0m\n\u001b[1;32m    926\u001b[0m         raise ValueError(\"Creating variables on a non-first call to a function\"\n",
      "\u001b[0;32m~/miniforge3/lib/python3.9/site-packages/tensorflow/python/eager/function.py\u001b[0m in \u001b[0;36m__call__\u001b[0;34m(self, *args, **kwargs)\u001b[0m\n\u001b[1;32m   3037\u001b[0m       (graph_function,\n\u001b[1;32m   3038\u001b[0m        filtered_flat_args) = self._maybe_define_function(args, kwargs)\n\u001b[0;32m-> 3039\u001b[0;31m     return graph_function._call_flat(\n\u001b[0m\u001b[1;32m   3040\u001b[0m         filtered_flat_args, captured_inputs=graph_function.captured_inputs)  # pylint: disable=protected-access\n\u001b[1;32m   3041\u001b[0m \u001b[0;34m\u001b[0m\u001b[0m\n",
      "\u001b[0;32m~/miniforge3/lib/python3.9/site-packages/tensorflow/python/eager/function.py\u001b[0m in \u001b[0;36m_call_flat\u001b[0;34m(self, args, captured_inputs, cancellation_manager)\u001b[0m\n\u001b[1;32m   1961\u001b[0m         and executing_eagerly):\n\u001b[1;32m   1962\u001b[0m       \u001b[0;31m# No tape is watching; skip to running the function.\u001b[0m\u001b[0;34m\u001b[0m\u001b[0;34m\u001b[0m\u001b[0m\n\u001b[0;32m-> 1963\u001b[0;31m       return self._build_call_outputs(self._inference_function.call(\n\u001b[0m\u001b[1;32m   1964\u001b[0m           ctx, args, cancellation_manager=cancellation_manager))\n\u001b[1;32m   1965\u001b[0m     forward_backward = self._select_forward_and_backward_functions(\n",
      "\u001b[0;32m~/miniforge3/lib/python3.9/site-packages/tensorflow/python/eager/function.py\u001b[0m in \u001b[0;36mcall\u001b[0;34m(self, ctx, args, cancellation_manager)\u001b[0m\n\u001b[1;32m    589\u001b[0m       \u001b[0;32mwith\u001b[0m \u001b[0m_InterpolateFunctionError\u001b[0m\u001b[0;34m(\u001b[0m\u001b[0mself\u001b[0m\u001b[0;34m)\u001b[0m\u001b[0;34m:\u001b[0m\u001b[0;34m\u001b[0m\u001b[0;34m\u001b[0m\u001b[0m\n\u001b[1;32m    590\u001b[0m         \u001b[0;32mif\u001b[0m \u001b[0mcancellation_manager\u001b[0m \u001b[0;32mis\u001b[0m \u001b[0;32mNone\u001b[0m\u001b[0;34m:\u001b[0m\u001b[0;34m\u001b[0m\u001b[0;34m\u001b[0m\u001b[0m\n\u001b[0;32m--> 591\u001b[0;31m           outputs = execute.execute(\n\u001b[0m\u001b[1;32m    592\u001b[0m               \u001b[0mstr\u001b[0m\u001b[0;34m(\u001b[0m\u001b[0mself\u001b[0m\u001b[0;34m.\u001b[0m\u001b[0msignature\u001b[0m\u001b[0;34m.\u001b[0m\u001b[0mname\u001b[0m\u001b[0;34m)\u001b[0m\u001b[0;34m,\u001b[0m\u001b[0;34m\u001b[0m\u001b[0;34m\u001b[0m\u001b[0m\n\u001b[1;32m    593\u001b[0m               \u001b[0mnum_outputs\u001b[0m\u001b[0;34m=\u001b[0m\u001b[0mself\u001b[0m\u001b[0;34m.\u001b[0m\u001b[0m_num_outputs\u001b[0m\u001b[0;34m,\u001b[0m\u001b[0;34m\u001b[0m\u001b[0;34m\u001b[0m\u001b[0m\n",
      "\u001b[0;32m~/miniforge3/lib/python3.9/site-packages/tensorflow/python/eager/execute.py\u001b[0m in \u001b[0;36mquick_execute\u001b[0;34m(op_name, num_outputs, inputs, attrs, ctx, name)\u001b[0m\n\u001b[1;32m     57\u001b[0m   \u001b[0;32mtry\u001b[0m\u001b[0;34m:\u001b[0m\u001b[0;34m\u001b[0m\u001b[0;34m\u001b[0m\u001b[0m\n\u001b[1;32m     58\u001b[0m     \u001b[0mctx\u001b[0m\u001b[0;34m.\u001b[0m\u001b[0mensure_initialized\u001b[0m\u001b[0;34m(\u001b[0m\u001b[0;34m)\u001b[0m\u001b[0;34m\u001b[0m\u001b[0;34m\u001b[0m\u001b[0m\n\u001b[0;32m---> 59\u001b[0;31m     tensors = pywrap_tfe.TFE_Py_Execute(ctx._handle, device_name, op_name,\n\u001b[0m\u001b[1;32m     60\u001b[0m                                         inputs, attrs, num_outputs)\n\u001b[1;32m     61\u001b[0m   \u001b[0;32mexcept\u001b[0m \u001b[0mcore\u001b[0m\u001b[0;34m.\u001b[0m\u001b[0m_NotOkStatusException\u001b[0m \u001b[0;32mas\u001b[0m \u001b[0me\u001b[0m\u001b[0;34m:\u001b[0m\u001b[0;34m\u001b[0m\u001b[0;34m\u001b[0m\u001b[0m\n",
      "\u001b[0;31mKeyboardInterrupt\u001b[0m: "
     ]
    }
   ],
   "source": [
    "model=create_cnn_with_drop ()\n",
    "print(inputs[838,:5])\n",
    "print(targets[838])\n",
    "i=1\n",
    "for train, test in kfold.split(inputs):\n",
    "\n",
    "    history=model.fit(inputs[train], targets[train], batch_size=64, epochs=10, validation_split = 0.1, callbacks= [rlrp], verbose = 1)\n",
    "\n",
    "    scores = model.evaluate(inputs[test], targets[test], verbose=0)\n",
    "    acc_per_fold.append(scores[1] * 100)\n",
    "    loss_per_fold.append(scores[0])\n",
    "    print(i)\n",
    "    i+=1"
   ]
  },
  {
   "cell_type": "code",
   "execution_count": null,
   "metadata": {},
   "outputs": [],
   "source": [
    "plt.plot(acc_per_fold)\n",
    "plt.ylabel(\"accuracy %\")\n",
    "\n",
    "plt.xlabel(\"# of folds\")\n",
    "plt.show()"
   ]
  },
  {
   "cell_type": "code",
   "execution_count": null,
   "metadata": {},
   "outputs": [],
   "source": [
    "sum(acc_per_fold)/20"
   ]
  },
  {
   "cell_type": "code",
   "execution_count": null,
   "metadata": {},
   "outputs": [],
   "source": [
    "pred = model.predict(x_train)\n",
    "pred_test = model.predict(x_test)\n",
    "\n",
    "print(\"accuracy score for Train set is:\", accuracy_score(np.argmax(y_train,axis =1), np.argmax(pred,axis=1)))\n",
    "print(\"accuracy score for Test set is: \", accuracy_score(np.argmax(y_test,axis =1), np.argmax(pred_test,axis=1)))\n",
    "print(\"[Anger, disgust, fear, happy, neutral, sad]\")\n",
    "print(\"F1 score for Train set is:\", f1_score(np.argmax(y_train,axis =1), np.argmax(pred,axis=1), average = None))\n",
    "print(\"F1 score for Test set is: \", f1_score(np.argmax(y_test,axis =1), np.argmax(pred_test,axis=1), average = None))"
   ]
  },
  {
   "cell_type": "code",
   "execution_count": null,
   "metadata": {},
   "outputs": [],
   "source": [
    "cm = confusion_matrix(np.argmax(y_test,axis =1), np.argmax(pred_test,axis=1))\n",
    "cm = cm/ cm.astype(np.float64).sum(axis=1)\n",
    "disp = ConfusionMatrixDisplay(confusion_matrix=cm, display_labels = labels)\n",
    "disp.plot()"
   ]
  },
  {
   "cell_type": "code",
   "execution_count": null,
   "metadata": {},
   "outputs": [],
   "source": [
    "from keras.utils.vis_utils import plot_model\n",
    "plot_model(model, show_shapes=True, show_layer_names=True)"
   ]
  },
  {
   "cell_type": "code",
   "execution_count": 44,
   "metadata": {},
   "outputs": [],
   "source": [
    "def replicate_vgg_ish ( ) :\n",
    "    model = Sequential()\n",
    "    model.add(Conv1D(64, kernel_size=5, strides=1, padding='same', activation='relu', input_shape=(x_train.shape[1], 1)))    \n",
    "    model.add(Conv1D(64, kernel_size=5, strides=1, padding='same', activation='relu'))\n",
    "    model.add(MaxPooling1D(pool_size=5, strides = 2, padding = 'same'))\n",
    "    \n",
    "    model.add(Dropout(0.45))\n",
    "        \n",
    "    model.add(Conv1D(128, kernel_size=3, strides=2, padding='same', activation='relu'))\n",
    "    model.add(Conv1D(128, kernel_size=3, strides=2, padding='same', activation='relu'))\n",
    "    model.add(MaxPooling1D(pool_size=5, strides = 2, padding = 'same'))\n",
    "    model.add(Dropout(0.3))\n",
    "\n",
    "    model.add(Conv1D(256, kernel_size=2, strides=2, padding='same', activation='relu'))\n",
    "    model.add(Conv1D(256, kernel_size=2, strides=2, padding='same', activation='relu'))\n",
    "    model.add(MaxPooling1D(pool_size=5, strides = 2, padding = 'same'))\n",
    "\n",
    "    model.add(Flatten())\n",
    "    model.add(Dense(units=32, activation='relu'))\n",
    "    model.add(Dropout(0.3))\n",
    "\n",
    "    model.add(Dense(units=6, activation='softmax'))\n",
    "    model.compile(optimizer = 'adam' , loss = 'categorical_crossentropy' , metrics = ['accuracy'])\n",
    "\n",
    "    model.summary()\n",
    "    return model"
   ]
  },
  {
   "cell_type": "code",
   "execution_count": 45,
   "metadata": {},
   "outputs": [
    {
     "name": "stdout",
     "output_type": "stream",
     "text": [
      "Model: \"sequential_2\"\n",
      "_________________________________________________________________\n",
      "Layer (type)                 Output Shape              Param #   \n",
      "=================================================================\n",
      "conv1d_8 (Conv1D)            (None, 160, 64)           384       \n",
      "_________________________________________________________________\n",
      "conv1d_9 (Conv1D)            (None, 160, 64)           20544     \n",
      "_________________________________________________________________\n",
      "max_pooling1d_8 (MaxPooling1 (None, 80, 64)            0         \n",
      "_________________________________________________________________\n",
      "dropout_8 (Dropout)          (None, 80, 64)            0         \n",
      "_________________________________________________________________\n",
      "conv1d_10 (Conv1D)           (None, 40, 128)           24704     \n",
      "_________________________________________________________________\n",
      "conv1d_11 (Conv1D)           (None, 20, 128)           49280     \n",
      "_________________________________________________________________\n",
      "max_pooling1d_9 (MaxPooling1 (None, 10, 128)           0         \n",
      "_________________________________________________________________\n",
      "dropout_9 (Dropout)          (None, 10, 128)           0         \n",
      "_________________________________________________________________\n",
      "conv1d_12 (Conv1D)           (None, 5, 256)            65792     \n",
      "_________________________________________________________________\n",
      "conv1d_13 (Conv1D)           (None, 3, 256)            131328    \n",
      "_________________________________________________________________\n",
      "max_pooling1d_10 (MaxPooling (None, 2, 256)            0         \n",
      "_________________________________________________________________\n",
      "flatten_2 (Flatten)          (None, 512)               0         \n",
      "_________________________________________________________________\n",
      "dense_4 (Dense)              (None, 32)                16416     \n",
      "_________________________________________________________________\n",
      "dropout_10 (Dropout)         (None, 32)                0         \n",
      "_________________________________________________________________\n",
      "dense_5 (Dense)              (None, 6)                 198       \n",
      "=================================================================\n",
      "Total params: 308,646\n",
      "Trainable params: 308,646\n",
      "Non-trainable params: 0\n",
      "_________________________________________________________________\n"
     ]
    }
   ],
   "source": [
    "vgg = replicate_vgg_ish()"
   ]
  },
  {
   "cell_type": "code",
   "execution_count": 46,
   "metadata": {},
   "outputs": [
    {
     "name": "stdout",
     "output_type": "stream",
     "text": [
      "Epoch 1/100\n"
     ]
    },
    {
     "name": "stderr",
     "output_type": "stream",
     "text": [
      "2021-12-09 22:14:04.560336: I tensorflow/core/grappler/optimizers/custom_graph_optimizer_registry.cc:112] Plugin optimizer for device_type GPU is enabled.\n"
     ]
    },
    {
     "name": "stdout",
     "output_type": "stream",
     "text": [
      "236/236 [==============================] - ETA: 0s - loss: 1.6348 - accuracy: 0.3031"
     ]
    },
    {
     "name": "stderr",
     "output_type": "stream",
     "text": [
      "2021-12-09 22:14:08.340414: I tensorflow/core/grappler/optimizers/custom_graph_optimizer_registry.cc:112] Plugin optimizer for device_type GPU is enabled.\n"
     ]
    },
    {
     "name": "stdout",
     "output_type": "stream",
     "text": [
      "236/236 [==============================] - 4s 16ms/step - loss: 1.6348 - accuracy: 0.3031 - val_loss: 1.5467 - val_accuracy: 0.3546\n",
      "Epoch 2/100\n",
      "236/236 [==============================] - 3s 15ms/step - loss: 1.5549 - accuracy: 0.3383 - val_loss: 1.4984 - val_accuracy: 0.3940\n",
      "Epoch 3/100\n",
      "236/236 [==============================] - 3s 15ms/step - loss: 1.5366 - accuracy: 0.3476 - val_loss: 1.4527 - val_accuracy: 0.3839\n",
      "Epoch 4/100\n",
      "236/236 [==============================] - 4s 15ms/step - loss: 1.5163 - accuracy: 0.3507 - val_loss: 1.4494 - val_accuracy: 0.4060\n",
      "Epoch 5/100\n",
      "236/236 [==============================] - 4s 15ms/step - loss: 1.4980 - accuracy: 0.3670 - val_loss: 1.4279 - val_accuracy: 0.4101\n",
      "Epoch 6/100\n",
      "236/236 [==============================] - 4s 16ms/step - loss: 1.4873 - accuracy: 0.3715 - val_loss: 1.4164 - val_accuracy: 0.4119\n",
      "Epoch 7/100\n",
      "236/236 [==============================] - 4s 17ms/step - loss: 1.4686 - accuracy: 0.3864 - val_loss: 1.3862 - val_accuracy: 0.4269\n",
      "Epoch 8/100\n",
      "236/236 [==============================] - 4s 15ms/step - loss: 1.4591 - accuracy: 0.3919 - val_loss: 1.3805 - val_accuracy: 0.4448\n",
      "Epoch 9/100\n",
      "236/236 [==============================] - 4s 15ms/step - loss: 1.4452 - accuracy: 0.4063 - val_loss: 1.3673 - val_accuracy: 0.4382\n",
      "Epoch 10/100\n",
      "236/236 [==============================] - 4s 15ms/step - loss: 1.4317 - accuracy: 0.4149 - val_loss: 1.3414 - val_accuracy: 0.4418\n",
      "Epoch 11/100\n",
      "236/236 [==============================] - 4s 15ms/step - loss: 1.4270 - accuracy: 0.4111 - val_loss: 1.3486 - val_accuracy: 0.4651\n",
      "Epoch 12/100\n",
      "236/236 [==============================] - 4s 16ms/step - loss: 1.4115 - accuracy: 0.4272 - val_loss: 1.3238 - val_accuracy: 0.4710\n",
      "Epoch 13/100\n",
      "236/236 [==============================] - 4s 15ms/step - loss: 1.4036 - accuracy: 0.4281 - val_loss: 1.3220 - val_accuracy: 0.4609\n",
      "Epoch 14/100\n",
      "236/236 [==============================] - 4s 15ms/step - loss: 1.3932 - accuracy: 0.4335 - val_loss: 1.3037 - val_accuracy: 0.4770\n",
      "Epoch 15/100\n",
      "236/236 [==============================] - 4s 16ms/step - loss: 1.3878 - accuracy: 0.4371 - val_loss: 1.3102 - val_accuracy: 0.4758\n",
      "Epoch 16/100\n",
      "236/236 [==============================] - 4s 15ms/step - loss: 1.3785 - accuracy: 0.4414 - val_loss: 1.3248 - val_accuracy: 0.4669\n",
      "Epoch 17/100\n",
      "236/236 [==============================] - 4s 16ms/step - loss: 1.3710 - accuracy: 0.4443 - val_loss: 1.2972 - val_accuracy: 0.4806\n",
      "Epoch 18/100\n",
      "236/236 [==============================] - 4s 15ms/step - loss: 1.3645 - accuracy: 0.4471 - val_loss: 1.2799 - val_accuracy: 0.4997\n",
      "Epoch 19/100\n",
      "236/236 [==============================] - 4s 16ms/step - loss: 1.3551 - accuracy: 0.4452 - val_loss: 1.2765 - val_accuracy: 0.4806\n",
      "Epoch 20/100\n",
      "236/236 [==============================] - 4s 15ms/step - loss: 1.3476 - accuracy: 0.4507 - val_loss: 1.2879 - val_accuracy: 0.4818\n",
      "Epoch 21/100\n",
      "236/236 [==============================] - 4s 15ms/step - loss: 1.3361 - accuracy: 0.4578 - val_loss: 1.2685 - val_accuracy: 0.4937\n",
      "Epoch 22/100\n",
      "236/236 [==============================] - 4s 16ms/step - loss: 1.3403 - accuracy: 0.4537 - val_loss: 1.2727 - val_accuracy: 0.4937\n",
      "Epoch 23/100\n",
      "236/236 [==============================] - 4s 16ms/step - loss: 1.3270 - accuracy: 0.4617 - val_loss: 1.2757 - val_accuracy: 0.4866\n",
      "Epoch 24/100\n",
      "236/236 [==============================] - 4s 16ms/step - loss: 1.3264 - accuracy: 0.4641 - val_loss: 1.2739 - val_accuracy: 0.4866\n",
      "Epoch 25/100\n",
      "236/236 [==============================] - 4s 15ms/step - loss: 1.3166 - accuracy: 0.4692 - val_loss: 1.2656 - val_accuracy: 0.4830\n",
      "Epoch 26/100\n",
      "236/236 [==============================] - 4s 16ms/step - loss: 1.3138 - accuracy: 0.4686 - val_loss: 1.2501 - val_accuracy: 0.4937\n",
      "Epoch 27/100\n",
      "236/236 [==============================] - 4s 15ms/step - loss: 1.3037 - accuracy: 0.4750 - val_loss: 1.2565 - val_accuracy: 0.4901\n",
      "Epoch 28/100\n",
      "236/236 [==============================] - 4s 15ms/step - loss: 1.2918 - accuracy: 0.4747 - val_loss: 1.2403 - val_accuracy: 0.5051\n",
      "Epoch 29/100\n",
      "236/236 [==============================] - 4s 15ms/step - loss: 1.2940 - accuracy: 0.4784 - val_loss: 1.2596 - val_accuracy: 0.4866\n",
      "Epoch 30/100\n",
      "236/236 [==============================] - 4s 15ms/step - loss: 1.2896 - accuracy: 0.4792 - val_loss: 1.2497 - val_accuracy: 0.4979\n",
      "Epoch 31/100\n",
      "236/236 [==============================] - 4s 15ms/step - loss: 1.2779 - accuracy: 0.4863 - val_loss: 1.2430 - val_accuracy: 0.4985\n",
      "Epoch 32/100\n",
      "236/236 [==============================] - 4s 15ms/step - loss: 1.2800 - accuracy: 0.4824 - val_loss: 1.2848 - val_accuracy: 0.4806\n",
      "Epoch 33/100\n",
      "236/236 [==============================] - 4s 15ms/step - loss: 1.2667 - accuracy: 0.4921 - val_loss: 1.2456 - val_accuracy: 0.4979\n",
      "Epoch 34/100\n",
      "236/236 [==============================] - 4s 15ms/step - loss: 1.2694 - accuracy: 0.4857 - val_loss: 1.2437 - val_accuracy: 0.5069\n",
      "Epoch 35/100\n",
      "236/236 [==============================] - 4s 15ms/step - loss: 1.2463 - accuracy: 0.5015 - val_loss: 1.2515 - val_accuracy: 0.4931\n",
      "Epoch 36/100\n",
      "236/236 [==============================] - 4s 15ms/step - loss: 1.2494 - accuracy: 0.4985 - val_loss: 1.2369 - val_accuracy: 0.5003\n",
      "Epoch 37/100\n",
      "236/236 [==============================] - 3s 15ms/step - loss: 1.2441 - accuracy: 0.5049 - val_loss: 1.2475 - val_accuracy: 0.5003\n",
      "Epoch 38/100\n",
      "236/236 [==============================] - 4s 15ms/step - loss: 1.2361 - accuracy: 0.5029 - val_loss: 1.2451 - val_accuracy: 0.5015\n",
      "Epoch 39/100\n",
      "236/236 [==============================] - 3s 15ms/step - loss: 1.2273 - accuracy: 0.5093 - val_loss: 1.2613 - val_accuracy: 0.4907\n",
      "Epoch 40/100\n",
      "236/236 [==============================] - 3s 15ms/step - loss: 1.2297 - accuracy: 0.5090 - val_loss: 1.2444 - val_accuracy: 0.4943\n",
      "Epoch 41/100\n",
      "236/236 [==============================] - 4s 15ms/step - loss: 1.2206 - accuracy: 0.5138 - val_loss: 1.2380 - val_accuracy: 0.5110\n",
      "Epoch 42/100\n",
      "236/236 [==============================] - 4s 15ms/step - loss: 1.2190 - accuracy: 0.5127 - val_loss: 1.2273 - val_accuracy: 0.5087\n",
      "Epoch 43/100\n",
      "236/236 [==============================] - 3s 15ms/step - loss: 1.2145 - accuracy: 0.5169 - val_loss: 1.2487 - val_accuracy: 0.4997\n",
      "Epoch 44/100\n",
      "236/236 [==============================] - 4s 15ms/step - loss: 1.1989 - accuracy: 0.5181 - val_loss: 1.2245 - val_accuracy: 0.5170\n",
      "Epoch 45/100\n",
      "236/236 [==============================] - 4s 15ms/step - loss: 1.1958 - accuracy: 0.5163 - val_loss: 1.2585 - val_accuracy: 0.4937\n",
      "Epoch 46/100\n",
      "236/236 [==============================] - 3s 15ms/step - loss: 1.1956 - accuracy: 0.5247 - val_loss: 1.2152 - val_accuracy: 0.5152\n",
      "Epoch 47/100\n",
      "236/236 [==============================] - 3s 15ms/step - loss: 1.1832 - accuracy: 0.5251 - val_loss: 1.2172 - val_accuracy: 0.5224\n",
      "Epoch 48/100\n",
      "236/236 [==============================] - 3s 15ms/step - loss: 1.1860 - accuracy: 0.5241 - val_loss: 1.2198 - val_accuracy: 0.5188\n",
      "Epoch 49/100\n",
      "236/236 [==============================] - 3s 15ms/step - loss: 1.1769 - accuracy: 0.5219 - val_loss: 1.2218 - val_accuracy: 0.5069\n",
      "Epoch 50/100\n",
      "236/236 [==============================] - 4s 15ms/step - loss: 1.1790 - accuracy: 0.5327 - val_loss: 1.2178 - val_accuracy: 0.5206\n",
      "Epoch 51/100\n",
      "236/236 [==============================] - 3s 15ms/step - loss: 1.1758 - accuracy: 0.5277 - val_loss: 1.2184 - val_accuracy: 0.5158\n",
      "Epoch 52/100\n",
      "236/236 [==============================] - 4s 15ms/step - loss: 1.1737 - accuracy: 0.5300 - val_loss: 1.2118 - val_accuracy: 0.5170\n",
      "Epoch 53/100\n",
      "236/236 [==============================] - 3s 15ms/step - loss: 1.1616 - accuracy: 0.5343 - val_loss: 1.1903 - val_accuracy: 0.5290\n",
      "Epoch 54/100\n",
      "236/236 [==============================] - 3s 15ms/step - loss: 1.1534 - accuracy: 0.5419 - val_loss: 1.2298 - val_accuracy: 0.5027\n",
      "Epoch 55/100\n",
      "236/236 [==============================] - 4s 15ms/step - loss: 1.1425 - accuracy: 0.5447 - val_loss: 1.2201 - val_accuracy: 0.5027\n",
      "Epoch 56/100\n",
      "236/236 [==============================] - 4s 15ms/step - loss: 1.1447 - accuracy: 0.5468 - val_loss: 1.1973 - val_accuracy: 0.5260\n",
      "Epoch 57/100\n"
     ]
    },
    {
     "name": "stdout",
     "output_type": "stream",
     "text": [
      "236/236 [==============================] - 3s 15ms/step - loss: 1.1396 - accuracy: 0.5483 - val_loss: 1.2047 - val_accuracy: 0.5093\n",
      "Epoch 58/100\n",
      "236/236 [==============================] - 3s 15ms/step - loss: 1.1349 - accuracy: 0.5534 - val_loss: 1.2307 - val_accuracy: 0.5075\n",
      "Epoch 59/100\n",
      "236/236 [==============================] - 3s 15ms/step - loss: 1.1308 - accuracy: 0.5493 - val_loss: 1.2086 - val_accuracy: 0.5254\n",
      "Epoch 60/100\n",
      "236/236 [==============================] - 3s 15ms/step - loss: 1.1303 - accuracy: 0.5505 - val_loss: 1.2164 - val_accuracy: 0.5170\n",
      "Epoch 61/100\n",
      "236/236 [==============================] - 4s 15ms/step - loss: 1.1261 - accuracy: 0.5486 - val_loss: 1.2190 - val_accuracy: 0.5224\n",
      "Epoch 62/100\n",
      "236/236 [==============================] - 4s 15ms/step - loss: 1.1226 - accuracy: 0.5560 - val_loss: 1.2231 - val_accuracy: 0.5176\n",
      "Epoch 63/100\n",
      "236/236 [==============================] - 3s 15ms/step - loss: 1.1000 - accuracy: 0.5625 - val_loss: 1.2274 - val_accuracy: 0.5284\n",
      "Epoch 64/100\n",
      "236/236 [==============================] - 3s 15ms/step - loss: 1.1143 - accuracy: 0.5600 - val_loss: 1.2235 - val_accuracy: 0.5254\n",
      "Epoch 65/100\n",
      "236/236 [==============================] - 3s 15ms/step - loss: 1.1121 - accuracy: 0.5607 - val_loss: 1.2261 - val_accuracy: 0.5278\n",
      "Epoch 66/100\n",
      "236/236 [==============================] - 4s 15ms/step - loss: 1.0515 - accuracy: 0.5818 - val_loss: 1.2085 - val_accuracy: 0.5409\n",
      "Epoch 67/100\n",
      "236/236 [==============================] - 3s 15ms/step - loss: 1.0447 - accuracy: 0.5884 - val_loss: 1.2146 - val_accuracy: 0.5343\n",
      "Epoch 68/100\n",
      "236/236 [==============================] - 3s 15ms/step - loss: 1.0302 - accuracy: 0.5927 - val_loss: 1.1999 - val_accuracy: 0.5385\n",
      "Epoch 69/100\n",
      "236/236 [==============================] - 3s 15ms/step - loss: 1.0198 - accuracy: 0.5965 - val_loss: 1.2091 - val_accuracy: 0.5301\n",
      "Epoch 70/100\n",
      "236/236 [==============================] - 4s 15ms/step - loss: 1.0137 - accuracy: 0.6028 - val_loss: 1.2085 - val_accuracy: 0.5325\n",
      "Epoch 71/100\n",
      "236/236 [==============================] - 4s 15ms/step - loss: 1.0034 - accuracy: 0.6064 - val_loss: 1.2090 - val_accuracy: 0.5403\n",
      "Epoch 72/100\n",
      "236/236 [==============================] - 4s 15ms/step - loss: 1.0039 - accuracy: 0.6037 - val_loss: 1.2150 - val_accuracy: 0.5331\n",
      "Epoch 73/100\n",
      "236/236 [==============================] - 4s 15ms/step - loss: 1.0091 - accuracy: 0.6011 - val_loss: 1.2066 - val_accuracy: 0.5379\n",
      "Epoch 74/100\n",
      "236/236 [==============================] - 4s 15ms/step - loss: 0.9812 - accuracy: 0.6123 - val_loss: 1.2073 - val_accuracy: 0.5325\n",
      "Epoch 75/100\n",
      "236/236 [==============================] - 3s 14ms/step - loss: 0.9765 - accuracy: 0.6150 - val_loss: 1.2129 - val_accuracy: 0.5421\n",
      "Epoch 76/100\n",
      "236/236 [==============================] - 3s 15ms/step - loss: 0.9681 - accuracy: 0.6190 - val_loss: 1.2103 - val_accuracy: 0.5337\n",
      "Epoch 77/100\n",
      "236/236 [==============================] - 4s 15ms/step - loss: 0.9635 - accuracy: 0.6238 - val_loss: 1.2121 - val_accuracy: 0.5373\n",
      "Epoch 78/100\n",
      "236/236 [==============================] - 4s 15ms/step - loss: 0.9647 - accuracy: 0.6261 - val_loss: 1.2139 - val_accuracy: 0.5331\n",
      "Epoch 79/100\n",
      "236/236 [==============================] - 3s 15ms/step - loss: 0.9579 - accuracy: 0.6239 - val_loss: 1.2197 - val_accuracy: 0.5301\n",
      "Epoch 80/100\n",
      "236/236 [==============================] - 3s 15ms/step - loss: 0.9578 - accuracy: 0.6263 - val_loss: 1.2094 - val_accuracy: 0.5343\n",
      "Epoch 81/100\n",
      "236/236 [==============================] - 4s 15ms/step - loss: 0.9548 - accuracy: 0.6286 - val_loss: 1.2165 - val_accuracy: 0.5379\n",
      "Epoch 82/100\n",
      "236/236 [==============================] - 4s 15ms/step - loss: 0.9474 - accuracy: 0.6276 - val_loss: 1.2238 - val_accuracy: 0.5409\n",
      "Epoch 83/100\n",
      "236/236 [==============================] - 3s 15ms/step - loss: 0.9465 - accuracy: 0.6322 - val_loss: 1.2203 - val_accuracy: 0.5451\n",
      "Epoch 84/100\n",
      "236/236 [==============================] - 4s 15ms/step - loss: 0.9434 - accuracy: 0.6319 - val_loss: 1.2173 - val_accuracy: 0.5373\n",
      "Epoch 85/100\n",
      "236/236 [==============================] - 4s 15ms/step - loss: 0.9433 - accuracy: 0.6315 - val_loss: 1.2069 - val_accuracy: 0.5397\n",
      "Epoch 86/100\n",
      "236/236 [==============================] - 4s 15ms/step - loss: 0.9442 - accuracy: 0.6302 - val_loss: 1.2128 - val_accuracy: 0.5457\n",
      "Epoch 87/100\n",
      "236/236 [==============================] - 3s 15ms/step - loss: 0.9381 - accuracy: 0.6312 - val_loss: 1.2079 - val_accuracy: 0.5385\n",
      "Epoch 88/100\n",
      "236/236 [==============================] - 4s 15ms/step - loss: 0.9384 - accuracy: 0.6346 - val_loss: 1.2101 - val_accuracy: 0.5379\n",
      "Epoch 89/100\n",
      "236/236 [==============================] - 4s 15ms/step - loss: 0.9263 - accuracy: 0.6401 - val_loss: 1.2152 - val_accuracy: 0.5379\n",
      "Epoch 90/100\n",
      "236/236 [==============================] - 4s 15ms/step - loss: 0.9256 - accuracy: 0.6420 - val_loss: 1.2183 - val_accuracy: 0.5445\n",
      "Epoch 91/100\n",
      "236/236 [==============================] - 3s 15ms/step - loss: 0.9298 - accuracy: 0.6373 - val_loss: 1.2117 - val_accuracy: 0.5439\n",
      "Epoch 92/100\n",
      "236/236 [==============================] - 4s 15ms/step - loss: 0.9290 - accuracy: 0.6357 - val_loss: 1.2138 - val_accuracy: 0.5385\n",
      "Epoch 93/100\n",
      "236/236 [==============================] - 4s 15ms/step - loss: 0.9203 - accuracy: 0.6387 - val_loss: 1.2159 - val_accuracy: 0.5409\n",
      "Epoch 94/100\n",
      "236/236 [==============================] - 4s 15ms/step - loss: 0.9161 - accuracy: 0.6426 - val_loss: 1.2181 - val_accuracy: 0.5421\n",
      "Epoch 95/100\n",
      "236/236 [==============================] - 4s 15ms/step - loss: 0.9224 - accuracy: 0.6409 - val_loss: 1.2178 - val_accuracy: 0.5409\n",
      "Epoch 96/100\n",
      "236/236 [==============================] - 3s 15ms/step - loss: 0.9228 - accuracy: 0.6376 - val_loss: 1.2151 - val_accuracy: 0.5421\n",
      "Epoch 97/100\n",
      "236/236 [==============================] - 4s 15ms/step - loss: 0.9257 - accuracy: 0.6402 - val_loss: 1.2148 - val_accuracy: 0.5433\n",
      "Epoch 98/100\n",
      "236/236 [==============================] - 4s 15ms/step - loss: 0.9250 - accuracy: 0.6368 - val_loss: 1.2145 - val_accuracy: 0.5415\n",
      "Epoch 99/100\n",
      "236/236 [==============================] - 3s 15ms/step - loss: 0.9164 - accuracy: 0.6413 - val_loss: 1.2151 - val_accuracy: 0.5439\n",
      "Epoch 100/100\n",
      "236/236 [==============================] - 4s 15ms/step - loss: 0.9268 - accuracy: 0.6387 - val_loss: 1.2145 - val_accuracy: 0.5457\n"
     ]
    }
   ],
   "source": [
    "history=vgg.fit(x_train, y_train, batch_size=64, epochs=100, validation_split = 0.1, callbacks= [rlrp]) "
   ]
  },
  {
   "cell_type": "code",
   "execution_count": 51,
   "metadata": {},
   "outputs": [
    {
     "name": "stdout",
     "output_type": "stream",
     "text": [
      "accuracy score for Train set is: 0.7485069278547539\n",
      "accuracy score for Test set is:  0.5324256538874955\n",
      "[Anger, disgust, fear, happy, neutral, sad]\n",
      "F1 score for Train set is: [0.87406855 0.66787989 0.73245952 0.77629471 0.7080426  0.7354049 ]\n",
      "F1 score for Test set is:  [0.70150862 0.43809524 0.47295742 0.50734894 0.48898927 0.57625483]\n"
     ]
    },
    {
     "data": {
      "text/plain": [
       "<sklearn.metrics._plot.confusion_matrix.ConfusionMatrixDisplay at 0x297428fd0>"
      ]
     },
     "execution_count": 51,
     "metadata": {},
     "output_type": "execute_result"
    },
    {
     "data": {
      "image/png": "[encoded data removed]",
      "text/plain": [
       "<Figure size 432x288 with 2 Axes>"
      ]
     },
     "metadata": {
      "needs_background": "light"
     },
     "output_type": "display_data"
    }
   ],
   "source": [
    "pred = vgg.predict(x_train)\n",
    "pred_test = vgg.predict(x_test)\n",
    "\n",
    "print(\"accuracy score for Train set is:\", accuracy_score(np.argmax(y_train,axis =1), np.argmax(pred,axis=1)))\n",
    "print(\"accuracy score for Test set is: \", accuracy_score(np.argmax(y_test,axis =1), np.argmax(pred_test,axis=1)))\n",
    "print(\"[Anger, disgust, fear, happy, neutral, sad]\")\n",
    "print(\"F1 score for Train set is:\", f1_score(np.argmax(y_train,axis =1), np.argmax(pred,axis=1), average = None))\n",
    "print(\"F1 score for Test set is: \", f1_score(np.argmax(y_test,axis =1), np.argmax(pred_test,axis=1), average = None))\n",
    "\n",
    "cm = confusion_matrix(np.argmax(y_test,axis =1), np.argmax(pred_test,axis=1))\n",
    "cm = cm/ cm.astype(np.float64).sum(axis=1)\n",
    "disp = ConfusionMatrixDisplay(confusion_matrix=cm, display_labels = labels)\n",
    "disp.plot()"
   ]
  },
  {
   "cell_type": "code",
   "execution_count": 52,
   "metadata": {},
   "outputs": [],
   "source": [
    "Features_Erica = pd.read_csv(\"features_erica.csv\")"
   ]
  },
  {
   "cell_type": "code",
   "execution_count": 54,
   "metadata": {},
   "outputs": [],
   "source": [
    "X = Features_Erica.iloc [:,:-3].values\n",
    "Y = Features_Erica['labels'].values"
   ]
  },
  {
   "cell_type": "code",
   "execution_count": 78,
   "metadata": {},
   "outputs": [],
   "source": [
    "x_test = scaler.transform(X)\n",
    "x_test = np.expand_dims(x_test,axis = 2)\n",
    "y_test1 = []\n",
    "encoder = OneHotEncoder ()\n",
    "y_test1[0:3] = [0] *3\n",
    "y_test1[3:6] = [3] *3\n",
    "y_test1[6:9] = [0] *3\n",
    "y_test1[9:12] = [3] *3"
   ]
  },
  {
   "cell_type": "code",
   "execution_count": 97,
   "metadata": {},
   "outputs": [
    {
     "name": "stdout",
     "output_type": "stream",
     "text": [
      "[0 0 3 0 3 0 3 0 4 2 2 3]\n",
      "[0 0 0 3 3 3 0 0 0 3 3 3]\n",
      "accuracy score for Train set is: 0.5\n",
      "accuracy score for Train set is: 0.3333333333333333\n",
      "[Anger, disgust, fear, happy, neutral, sad]\n"
     ]
    }
   ],
   "source": [
    "#pred = vgg.predict(x_train)\n",
    "pred_test = vgg.predict(x_test)\n",
    "print(np.argmax(pred_test,axis = 1))\n",
    "print(np.array(y_test1).T)\n",
    "print(\"accuracy score for Train set is:\", accuracy_score(np.array(y_test1).T[:6], np.argmax(pred_test,axis=1)[:6]))\n",
    "print(\"accuracy score for Train set is:\", accuracy_score(np.array(y_test1).T[6:12], np.argmax(pred_test,axis=1)[6:12]))\n",
    "#print(\"accuracy score for Test set is: \", accuracy_score(np.argmax(y_test,axis =1), np.argmax(pred_test,axis=1)))\n",
    "print(\"[Anger, disgust, fear, happy, neutral, sad]\")\n",
    "#print(\"F1 score for Train set is:\", f1_score(np.argmax(y_train,axis =1), np.argmax(pred,axis=1), average = None))\n",
    "#print(\"F1 score for Test set is: \", f1_score(np.argmax(y_test,axis =1), np.argmax(pred_test,axis=1), average = None))\n",
    "\n",
    "labels = ['angry', 'happy']\n",
    "#cm = confusion_matrix(np.argmax(y_test,axis =1), np.argmax(pred_test,axis=1))\n",
    "#cm = cm/ cm.astype(np.float64).sum(axis=1)\n",
    "#disp = ConfusionMatrixDisplay(confusion_matrix=cm, display_labels = labels)\n",
    "#disp.plot()"
   ]
  },
  {
   "cell_type": "code",
   "execution_count": 100,
   "metadata": {},
   "outputs": [
    {
     "data": {
      "text/plain": [
       "array([0, 3, 0, 3])"
      ]
     },
     "execution_count": 100,
     "metadata": {},
     "output_type": "execute_result"
    }
   ],
   "source": [
    "np.array(y_test1).T[::3]"
   ]
  },
  {
   "cell_type": "code",
   "execution_count": 101,
   "metadata": {},
   "outputs": [
    {
     "data": {
      "text/plain": [
       "array([0, 0, 3, 2])"
      ]
     },
     "execution_count": 101,
     "metadata": {},
     "output_type": "execute_result"
    }
   ],
   "source": [
    "np.argmax(pred_test,axis=1)[::3]"
   ]
  },
  {
   "cell_type": "code",
   "execution_count": 96,
   "metadata": {},
   "outputs": [
    {
     "data": {
      "text/plain": [
       "array([3, 0, 4, 2, 2, 3])"
      ]
     },
     "execution_count": 96,
     "metadata": {},
     "output_type": "execute_result"
    }
   ],
   "source": [
    "np.argmax(pred_test,axis=1)[6:12]"
   ]
  },
  {
   "cell_type": "code",
   "execution_count": 244,
   "metadata": {},
   "outputs": [],
   "source": [
    "def mlp ():\n",
    "    model = Sequential ()\n",
    "    model.add(Dense(units = 1600, input_shape = (x_train.shape[1],), activation = 'relu'))\n",
    "    model.add(Dropout(0.5))\n",
    "    model.add(Dense(units = 100, activation = 'relu'))\n",
    "    model.add(Dropout(0.34))\n",
    "    model.add(Dense(units = 20, activation = 'relu'))\n",
    "    #model.add(Dropout(0.1))\n",
    "    model.add(Dense(units = 6, activation = 'softmax'))\n",
    "    \n",
    "    model.compile(optimizer = 'adam' , loss = 'categorical_crossentropy' , metrics = ['accuracy'])\n",
    "\n",
    "    model.summary()\n",
    "    \n",
    "    return model"
   ]
  },
  {
   "cell_type": "code",
   "execution_count": 254,
   "metadata": {},
   "outputs": [
    {
     "name": "stdout",
     "output_type": "stream",
     "text": [
      "Model: \"sequential_35\"\n",
      "_________________________________________________________________\n",
      "Layer (type)                 Output Shape              Param #   \n",
      "=================================================================\n",
      "dense_117 (Dense)            (None, 1600)              257600    \n",
      "_________________________________________________________________\n",
      "dropout_67 (Dropout)         (None, 1600)              0         \n",
      "_________________________________________________________________\n",
      "dense_118 (Dense)            (None, 100)               160100    \n",
      "_________________________________________________________________\n",
      "dropout_68 (Dropout)         (None, 100)               0         \n",
      "_________________________________________________________________\n",
      "dense_119 (Dense)            (None, 20)                2020      \n",
      "_________________________________________________________________\n",
      "dense_120 (Dense)            (None, 6)                 126       \n",
      "=================================================================\n",
      "Total params: 419,846\n",
      "Trainable params: 419,846\n",
      "Non-trainable params: 0\n",
      "_________________________________________________________________\n"
     ]
    }
   ],
   "source": [
    "mlp_model = mlp()"
   ]
  },
  {
   "cell_type": "code",
   "execution_count": 257,
   "metadata": {},
   "outputs": [
    {
     "name": "stdout",
     "output_type": "stream",
     "text": [
      "Epoch 1/268\n",
      "1/1 [==============================] - 0s 195ms/step - loss: 0.6844 - accuracy: 0.7427 - val_loss: 1.1322 - val_accuracy: 0.5981\n",
      "Epoch 2/268\n",
      "1/1 [==============================] - 0s 66ms/step - loss: 0.6975 - accuracy: 0.7354 - val_loss: 1.1287 - val_accuracy: 0.5969\n",
      "Epoch 3/268\n",
      "1/1 [==============================] - 0s 52ms/step - loss: 0.6878 - accuracy: 0.7418 - val_loss: 1.1264 - val_accuracy: 0.5981\n",
      "Epoch 4/268\n",
      "1/1 [==============================] - 0s 54ms/step - loss: 0.7030 - accuracy: 0.7315 - val_loss: 1.1264 - val_accuracy: 0.5975\n",
      "Epoch 5/268\n",
      "1/1 [==============================] - 0s 73ms/step - loss: 0.6812 - accuracy: 0.7447 - val_loss: 1.1307 - val_accuracy: 0.5939\n",
      "Epoch 6/268\n",
      "1/1 [==============================] - 0s 52ms/step - loss: 0.6890 - accuracy: 0.7419 - val_loss: 1.1301 - val_accuracy: 0.5984\n",
      "Epoch 7/268\n",
      "1/1 [==============================] - 0s 53ms/step - loss: 0.6759 - accuracy: 0.7448 - val_loss: 1.1241 - val_accuracy: 0.5975\n",
      "Epoch 8/268\n",
      "1/1 [==============================] - 0s 54ms/step - loss: 0.6869 - accuracy: 0.7396 - val_loss: 1.1195 - val_accuracy: 0.6026\n",
      "Epoch 9/268\n",
      "1/1 [==============================] - 0s 53ms/step - loss: 0.6687 - accuracy: 0.7439 - val_loss: 1.1186 - val_accuracy: 0.6020\n",
      "Epoch 10/268\n",
      "1/1 [==============================] - 0s 54ms/step - loss: 0.6681 - accuracy: 0.7485 - val_loss: 1.1201 - val_accuracy: 0.6041\n",
      "Epoch 11/268\n",
      "1/1 [==============================] - 0s 52ms/step - loss: 0.6618 - accuracy: 0.7537 - val_loss: 1.1226 - val_accuracy: 0.6050\n",
      "Epoch 12/268\n",
      "1/1 [==============================] - 0s 54ms/step - loss: 0.6559 - accuracy: 0.7521 - val_loss: 1.1242 - val_accuracy: 0.6059\n",
      "Epoch 13/268\n",
      "1/1 [==============================] - 0s 54ms/step - loss: 0.6684 - accuracy: 0.7486 - val_loss: 1.1226 - val_accuracy: 0.6056\n",
      "Epoch 14/268\n",
      "1/1 [==============================] - 0s 53ms/step - loss: 0.6630 - accuracy: 0.7504 - val_loss: 1.1215 - val_accuracy: 0.6035\n",
      "Epoch 15/268\n",
      "1/1 [==============================] - 0s 52ms/step - loss: 0.6584 - accuracy: 0.7496 - val_loss: 1.1218 - val_accuracy: 0.6064\n",
      "Epoch 16/268\n",
      "1/1 [==============================] - 0s 53ms/step - loss: 0.6554 - accuracy: 0.7512 - val_loss: 1.1232 - val_accuracy: 0.6062\n",
      "Epoch 17/268\n",
      "1/1 [==============================] - 0s 53ms/step - loss: 0.6561 - accuracy: 0.7507 - val_loss: 1.1239 - val_accuracy: 0.6085\n",
      "Epoch 18/268\n",
      "1/1 [==============================] - 0s 53ms/step - loss: 0.6548 - accuracy: 0.7506 - val_loss: 1.1223 - val_accuracy: 0.6100\n",
      "Epoch 19/268\n",
      "1/1 [==============================] - 0s 56ms/step - loss: 0.6550 - accuracy: 0.7544 - val_loss: 1.1189 - val_accuracy: 0.6088\n",
      "Epoch 20/268\n",
      "1/1 [==============================] - 0s 52ms/step - loss: 0.6433 - accuracy: 0.7577 - val_loss: 1.1172 - val_accuracy: 0.6070\n",
      "Epoch 21/268\n",
      "1/1 [==============================] - 0s 53ms/step - loss: 0.6448 - accuracy: 0.7562 - val_loss: 1.1176 - val_accuracy: 0.6050\n",
      "Epoch 22/268\n",
      "1/1 [==============================] - 0s 53ms/step - loss: 0.6537 - accuracy: 0.7518 - val_loss: 1.1177 - val_accuracy: 0.6076\n",
      "Epoch 23/268\n",
      "1/1 [==============================] - 0s 59ms/step - loss: 0.6506 - accuracy: 0.7518 - val_loss: 1.1165 - val_accuracy: 0.6091\n",
      "Epoch 24/268\n",
      "1/1 [==============================] - 0s 54ms/step - loss: 0.6358 - accuracy: 0.7607 - val_loss: 1.1152 - val_accuracy: 0.6091\n",
      "Epoch 25/268\n",
      "1/1 [==============================] - 0s 53ms/step - loss: 0.6460 - accuracy: 0.7569 - val_loss: 1.1154 - val_accuracy: 0.6056\n",
      "Epoch 26/268\n",
      "1/1 [==============================] - 0s 53ms/step - loss: 0.6358 - accuracy: 0.7605 - val_loss: 1.1172 - val_accuracy: 0.6056\n",
      "Epoch 27/268\n",
      "1/1 [==============================] - 0s 53ms/step - loss: 0.6457 - accuracy: 0.7577 - val_loss: 1.1181 - val_accuracy: 0.6053\n",
      "Epoch 28/268\n",
      "1/1 [==============================] - 0s 53ms/step - loss: 0.6323 - accuracy: 0.7630 - val_loss: 1.1172 - val_accuracy: 0.6064\n",
      "Epoch 29/268\n",
      "1/1 [==============================] - 0s 53ms/step - loss: 0.6313 - accuracy: 0.7608 - val_loss: 1.1169 - val_accuracy: 0.6109\n",
      "Epoch 30/268\n",
      "1/1 [==============================] - 0s 52ms/step - loss: 0.6362 - accuracy: 0.7622 - val_loss: 1.1185 - val_accuracy: 0.6106\n",
      "Epoch 31/268\n",
      "1/1 [==============================] - 0s 52ms/step - loss: 0.6318 - accuracy: 0.7593 - val_loss: 1.1194 - val_accuracy: 0.6073\n",
      "Epoch 32/268\n",
      "1/1 [==============================] - 0s 53ms/step - loss: 0.6304 - accuracy: 0.7645 - val_loss: 1.1190 - val_accuracy: 0.6062\n",
      "Epoch 33/268\n",
      "1/1 [==============================] - 0s 55ms/step - loss: 0.6297 - accuracy: 0.7656 - val_loss: 1.1187 - val_accuracy: 0.6073\n",
      "Epoch 34/268\n",
      "1/1 [==============================] - 0s 54ms/step - loss: 0.6244 - accuracy: 0.7649 - val_loss: 1.1199 - val_accuracy: 0.6064\n",
      "Epoch 35/268\n",
      "1/1 [==============================] - 0s 53ms/step - loss: 0.6292 - accuracy: 0.7610 - val_loss: 1.1222 - val_accuracy: 0.6070\n",
      "Epoch 36/268\n",
      "1/1 [==============================] - 0s 54ms/step - loss: 0.6207 - accuracy: 0.7648 - val_loss: 1.1254 - val_accuracy: 0.6041\n",
      "Epoch 37/268\n",
      "1/1 [==============================] - 0s 53ms/step - loss: 0.6245 - accuracy: 0.7658 - val_loss: 1.1266 - val_accuracy: 0.6041\n",
      "Epoch 38/268\n",
      "1/1 [==============================] - 0s 53ms/step - loss: 0.6208 - accuracy: 0.7646 - val_loss: 1.1255 - val_accuracy: 0.6067\n",
      "Epoch 39/268\n",
      "1/1 [==============================] - 0s 52ms/step - loss: 0.6204 - accuracy: 0.7674 - val_loss: 1.1272 - val_accuracy: 0.6085\n",
      "Epoch 40/268\n",
      "1/1 [==============================] - 0s 52ms/step - loss: 0.6217 - accuracy: 0.7642 - val_loss: 1.1286 - val_accuracy: 0.6094\n",
      "Epoch 41/268\n",
      "1/1 [==============================] - 0s 54ms/step - loss: 0.6176 - accuracy: 0.7701 - val_loss: 1.1301 - val_accuracy: 0.6062\n",
      "Epoch 42/268\n",
      "1/1 [==============================] - 0s 53ms/step - loss: 0.6195 - accuracy: 0.7683 - val_loss: 1.1310 - val_accuracy: 0.6053\n",
      "Epoch 43/268\n",
      "1/1 [==============================] - 0s 52ms/step - loss: 0.6254 - accuracy: 0.7656 - val_loss: 1.1301 - val_accuracy: 0.6056\n",
      "Epoch 44/268\n",
      "1/1 [==============================] - 0s 54ms/step - loss: 0.6130 - accuracy: 0.7683 - val_loss: 1.1288 - val_accuracy: 0.6073\n",
      "Epoch 45/268\n",
      "1/1 [==============================] - 0s 54ms/step - loss: 0.6190 - accuracy: 0.7716 - val_loss: 1.1276 - val_accuracy: 0.6088\n",
      "Epoch 46/268\n",
      "1/1 [==============================] - 0s 59ms/step - loss: 0.6184 - accuracy: 0.7657 - val_loss: 1.1273 - val_accuracy: 0.6103\n",
      "Epoch 47/268\n",
      "1/1 [==============================] - 0s 55ms/step - loss: 0.6144 - accuracy: 0.7668 - val_loss: 1.1279 - val_accuracy: 0.6106\n",
      "Epoch 48/268\n",
      "1/1 [==============================] - 0s 52ms/step - loss: 0.6142 - accuracy: 0.7675 - val_loss: 1.1281 - val_accuracy: 0.6085\n",
      "Epoch 49/268\n",
      "1/1 [==============================] - 0s 52ms/step - loss: 0.6134 - accuracy: 0.7706 - val_loss: 1.1266 - val_accuracy: 0.6076\n",
      "Epoch 50/268\n",
      "1/1 [==============================] - 0s 53ms/step - loss: 0.6170 - accuracy: 0.7663 - val_loss: 1.1259 - val_accuracy: 0.6085\n",
      "Epoch 51/268\n",
      "1/1 [==============================] - 0s 53ms/step - loss: 0.6096 - accuracy: 0.7690 - val_loss: 1.1279 - val_accuracy: 0.6103\n",
      "Epoch 52/268\n",
      "1/1 [==============================] - 0s 53ms/step - loss: 0.6121 - accuracy: 0.7710 - val_loss: 1.1294 - val_accuracy: 0.6097\n",
      "Epoch 53/268\n",
      "1/1 [==============================] - 0s 52ms/step - loss: 0.6053 - accuracy: 0.7744 - val_loss: 1.1289 - val_accuracy: 0.6085\n",
      "Epoch 54/268\n",
      "1/1 [==============================] - 0s 51ms/step - loss: 0.6010 - accuracy: 0.7754 - val_loss: 1.1292 - val_accuracy: 0.6073\n",
      "Epoch 55/268\n",
      "1/1 [==============================] - 0s 53ms/step - loss: 0.6125 - accuracy: 0.7682 - val_loss: 1.1295 - val_accuracy: 0.6064\n",
      "Epoch 56/268\n",
      "1/1 [==============================] - 0s 53ms/step - loss: 0.6043 - accuracy: 0.7741 - val_loss: 1.1296 - val_accuracy: 0.6067\n",
      "Epoch 57/268\n",
      "1/1 [==============================] - 0s 54ms/step - loss: 0.6032 - accuracy: 0.7723 - val_loss: 1.1309 - val_accuracy: 0.6073\n",
      "Epoch 58/268\n",
      "1/1 [==============================] - 0s 53ms/step - loss: 0.6042 - accuracy: 0.7701 - val_loss: 1.1332 - val_accuracy: 0.6076\n",
      "Epoch 59/268\n"
     ]
    },
    {
     "name": "stdout",
     "output_type": "stream",
     "text": [
      "1/1 [==============================] - 0s 54ms/step - loss: 0.5950 - accuracy: 0.7731 - val_loss: 1.1355 - val_accuracy: 0.6085\n",
      "Epoch 60/268\n",
      "1/1 [==============================] - 0s 54ms/step - loss: 0.5972 - accuracy: 0.7784 - val_loss: 1.1374 - val_accuracy: 0.6088\n",
      "Epoch 61/268\n",
      "1/1 [==============================] - 0s 52ms/step - loss: 0.5995 - accuracy: 0.7778 - val_loss: 1.1357 - val_accuracy: 0.6079\n",
      "Epoch 62/268\n",
      "1/1 [==============================] - 0s 53ms/step - loss: 0.6017 - accuracy: 0.7742 - val_loss: 1.1348 - val_accuracy: 0.6073\n",
      "Epoch 63/268\n",
      "1/1 [==============================] - 0s 52ms/step - loss: 0.6019 - accuracy: 0.7746 - val_loss: 1.1367 - val_accuracy: 0.6047\n",
      "Epoch 64/268\n",
      "1/1 [==============================] - 0s 54ms/step - loss: 0.6005 - accuracy: 0.7755 - val_loss: 1.1355 - val_accuracy: 0.6088\n",
      "Epoch 65/268\n",
      "1/1 [==============================] - 0s 56ms/step - loss: 0.5971 - accuracy: 0.7765 - val_loss: 1.1351 - val_accuracy: 0.6094\n",
      "Epoch 66/268\n",
      "1/1 [==============================] - 0s 50ms/step - loss: 0.5916 - accuracy: 0.7756 - val_loss: 1.1340 - val_accuracy: 0.6100\n",
      "Epoch 67/268\n",
      "1/1 [==============================] - 0s 52ms/step - loss: 0.5988 - accuracy: 0.7769 - val_loss: 1.1343 - val_accuracy: 0.6124\n",
      "Epoch 68/268\n",
      "1/1 [==============================] - 0s 52ms/step - loss: 0.5919 - accuracy: 0.7792 - val_loss: 1.1359 - val_accuracy: 0.6094\n",
      "Epoch 69/268\n",
      "1/1 [==============================] - 0s 53ms/step - loss: 0.5967 - accuracy: 0.7792 - val_loss: 1.1381 - val_accuracy: 0.6085\n",
      "Epoch 70/268\n",
      "1/1 [==============================] - 0s 52ms/step - loss: 0.5969 - accuracy: 0.7754 - val_loss: 1.1401 - val_accuracy: 0.6070\n",
      "Epoch 71/268\n",
      "1/1 [==============================] - 0s 75ms/step - loss: 0.5879 - accuracy: 0.7785 - val_loss: 1.1420 - val_accuracy: 0.6076\n",
      "Epoch 72/268\n",
      "1/1 [==============================] - 0s 53ms/step - loss: 0.5960 - accuracy: 0.7766 - val_loss: 1.1437 - val_accuracy: 0.6067\n",
      "Epoch 73/268\n",
      "1/1 [==============================] - 0s 52ms/step - loss: 0.5953 - accuracy: 0.7775 - val_loss: 1.1434 - val_accuracy: 0.6088\n",
      "Epoch 74/268\n",
      "1/1 [==============================] - 0s 53ms/step - loss: 0.5855 - accuracy: 0.7782 - val_loss: 1.1416 - val_accuracy: 0.6073\n",
      "Epoch 75/268\n",
      "1/1 [==============================] - 0s 52ms/step - loss: 0.5835 - accuracy: 0.7801 - val_loss: 1.1390 - val_accuracy: 0.6073\n",
      "Epoch 76/268\n",
      "1/1 [==============================] - 0s 52ms/step - loss: 0.5880 - accuracy: 0.7777 - val_loss: 1.1370 - val_accuracy: 0.6067\n",
      "Epoch 77/268\n",
      "1/1 [==============================] - 0s 55ms/step - loss: 0.5860 - accuracy: 0.7835 - val_loss: 1.1367 - val_accuracy: 0.6115\n",
      "Epoch 78/268\n",
      "1/1 [==============================] - 0s 52ms/step - loss: 0.5768 - accuracy: 0.7854 - val_loss: 1.1361 - val_accuracy: 0.6130\n",
      "Epoch 79/268\n",
      "1/1 [==============================] - 0s 50ms/step - loss: 0.5838 - accuracy: 0.7822 - val_loss: 1.1344 - val_accuracy: 0.6124\n",
      "Epoch 80/268\n",
      "1/1 [==============================] - 0s 50ms/step - loss: 0.5837 - accuracy: 0.7809 - val_loss: 1.1327 - val_accuracy: 0.6136\n",
      "Epoch 81/268\n",
      "1/1 [==============================] - 0s 52ms/step - loss: 0.5731 - accuracy: 0.7894 - val_loss: 1.1346 - val_accuracy: 0.6097\n",
      "Epoch 82/268\n",
      "1/1 [==============================] - 0s 54ms/step - loss: 0.5837 - accuracy: 0.7806 - val_loss: 1.1377 - val_accuracy: 0.6121\n",
      "Epoch 83/268\n",
      "1/1 [==============================] - 0s 52ms/step - loss: 0.5801 - accuracy: 0.7850 - val_loss: 1.1394 - val_accuracy: 0.6112\n",
      "Epoch 84/268\n",
      "1/1 [==============================] - 0s 51ms/step - loss: 0.5799 - accuracy: 0.7809 - val_loss: 1.1405 - val_accuracy: 0.6130\n",
      "Epoch 85/268\n",
      "1/1 [==============================] - 0s 53ms/step - loss: 0.5772 - accuracy: 0.7817 - val_loss: 1.1411 - val_accuracy: 0.6118\n",
      "Epoch 86/268\n",
      "1/1 [==============================] - 0s 52ms/step - loss: 0.5757 - accuracy: 0.7835 - val_loss: 1.1410 - val_accuracy: 0.6139\n",
      "Epoch 87/268\n",
      "1/1 [==============================] - 0s 52ms/step - loss: 0.5788 - accuracy: 0.7816 - val_loss: 1.1421 - val_accuracy: 0.6094\n",
      "Epoch 88/268\n",
      "1/1 [==============================] - 0s 53ms/step - loss: 0.5744 - accuracy: 0.7822 - val_loss: 1.1436 - val_accuracy: 0.6106\n",
      "Epoch 89/268\n",
      "1/1 [==============================] - 0s 53ms/step - loss: 0.5760 - accuracy: 0.7804 - val_loss: 1.1432 - val_accuracy: 0.6106\n",
      "Epoch 90/268\n",
      "1/1 [==============================] - 0s 53ms/step - loss: 0.5753 - accuracy: 0.7825 - val_loss: 1.1402 - val_accuracy: 0.6139\n",
      "Epoch 91/268\n",
      "1/1 [==============================] - 0s 54ms/step - loss: 0.5817 - accuracy: 0.7850 - val_loss: 1.1372 - val_accuracy: 0.6148\n",
      "Epoch 92/268\n",
      "1/1 [==============================] - 0s 53ms/step - loss: 0.5768 - accuracy: 0.7828 - val_loss: 1.1370 - val_accuracy: 0.6115\n",
      "Epoch 93/268\n",
      "1/1 [==============================] - 0s 53ms/step - loss: 0.5714 - accuracy: 0.7840 - val_loss: 1.1384 - val_accuracy: 0.6112\n",
      "Epoch 94/268\n",
      "1/1 [==============================] - 0s 51ms/step - loss: 0.5722 - accuracy: 0.7875 - val_loss: 1.1414 - val_accuracy: 0.6082\n",
      "Epoch 95/268\n",
      "1/1 [==============================] - 0s 52ms/step - loss: 0.5760 - accuracy: 0.7828 - val_loss: 1.1438 - val_accuracy: 0.6082\n",
      "Epoch 96/268\n",
      "1/1 [==============================] - 0s 54ms/step - loss: 0.5705 - accuracy: 0.7878 - val_loss: 1.1447 - val_accuracy: 0.6064\n",
      "Epoch 97/268\n",
      "1/1 [==============================] - 0s 52ms/step - loss: 0.5715 - accuracy: 0.7911 - val_loss: 1.1449 - val_accuracy: 0.6091\n",
      "Epoch 98/268\n",
      "1/1 [==============================] - 0s 54ms/step - loss: 0.5736 - accuracy: 0.7836 - val_loss: 1.1462 - val_accuracy: 0.6097\n",
      "Epoch 99/268\n",
      "1/1 [==============================] - 0s 52ms/step - loss: 0.5633 - accuracy: 0.7901 - val_loss: 1.1515 - val_accuracy: 0.6076\n",
      "Epoch 100/268\n",
      "1/1 [==============================] - 0s 53ms/step - loss: 0.5636 - accuracy: 0.7891 - val_loss: 1.1555 - val_accuracy: 0.6109\n",
      "Epoch 101/268\n",
      "1/1 [==============================] - 0s 55ms/step - loss: 0.5630 - accuracy: 0.7917 - val_loss: 1.1531 - val_accuracy: 0.6139\n",
      "Epoch 102/268\n",
      "1/1 [==============================] - 0s 53ms/step - loss: 0.5660 - accuracy: 0.7882 - val_loss: 1.1488 - val_accuracy: 0.6148\n",
      "Epoch 103/268\n",
      "1/1 [==============================] - 0s 59ms/step - loss: 0.5660 - accuracy: 0.7872 - val_loss: 1.1473 - val_accuracy: 0.6145\n",
      "Epoch 104/268\n",
      "1/1 [==============================] - 0s 64ms/step - loss: 0.5589 - accuracy: 0.7880 - val_loss: 1.1501 - val_accuracy: 0.6136\n",
      "Epoch 105/268\n",
      "1/1 [==============================] - 0s 53ms/step - loss: 0.5496 - accuracy: 0.7954 - val_loss: 1.1540 - val_accuracy: 0.6169\n",
      "Epoch 106/268\n",
      "1/1 [==============================] - 0s 55ms/step - loss: 0.5560 - accuracy: 0.7907 - val_loss: 1.1527 - val_accuracy: 0.6169\n",
      "Epoch 107/268\n",
      "1/1 [==============================] - 0s 54ms/step - loss: 0.5585 - accuracy: 0.7920 - val_loss: 1.1510 - val_accuracy: 0.6124\n",
      "Epoch 108/268\n",
      "1/1 [==============================] - 0s 56ms/step - loss: 0.5559 - accuracy: 0.7914 - val_loss: 1.1528 - val_accuracy: 0.6124\n",
      "Epoch 109/268\n",
      "1/1 [==============================] - 0s 53ms/step - loss: 0.5621 - accuracy: 0.7913 - val_loss: 1.1551 - val_accuracy: 0.6163\n",
      "Epoch 110/268\n",
      "1/1 [==============================] - 0s 54ms/step - loss: 0.5524 - accuracy: 0.7947 - val_loss: 1.1555 - val_accuracy: 0.6178\n",
      "Epoch 111/268\n",
      "1/1 [==============================] - 0s 52ms/step - loss: 0.5571 - accuracy: 0.7975 - val_loss: 1.1539 - val_accuracy: 0.6181\n",
      "Epoch 112/268\n",
      "1/1 [==============================] - 0s 52ms/step - loss: 0.5529 - accuracy: 0.7907 - val_loss: 1.1525 - val_accuracy: 0.6169\n",
      "Epoch 113/268\n",
      "1/1 [==============================] - 0s 53ms/step - loss: 0.5513 - accuracy: 0.7910 - val_loss: 1.1550 - val_accuracy: 0.6148\n",
      "Epoch 114/268\n",
      "1/1 [==============================] - 0s 53ms/step - loss: 0.5542 - accuracy: 0.7948 - val_loss: 1.1566 - val_accuracy: 0.6142\n",
      "Epoch 115/268\n",
      "1/1 [==============================] - 0s 53ms/step - loss: 0.5521 - accuracy: 0.7988 - val_loss: 1.1539 - val_accuracy: 0.6136\n",
      "Epoch 116/268\n",
      "1/1 [==============================] - 0s 52ms/step - loss: 0.5536 - accuracy: 0.7930 - val_loss: 1.1489 - val_accuracy: 0.6130\n",
      "Epoch 117/268\n"
     ]
    },
    {
     "name": "stdout",
     "output_type": "stream",
     "text": [
      "1/1 [==============================] - 0s 53ms/step - loss: 0.5517 - accuracy: 0.7919 - val_loss: 1.1473 - val_accuracy: 0.6130\n",
      "Epoch 118/268\n",
      "1/1 [==============================] - 0s 52ms/step - loss: 0.5396 - accuracy: 0.8007 - val_loss: 1.1487 - val_accuracy: 0.6127\n",
      "Epoch 119/268\n",
      "1/1 [==============================] - 0s 53ms/step - loss: 0.5465 - accuracy: 0.7943 - val_loss: 1.1501 - val_accuracy: 0.6154\n",
      "Epoch 120/268\n",
      "1/1 [==============================] - 0s 54ms/step - loss: 0.5534 - accuracy: 0.7944 - val_loss: 1.1474 - val_accuracy: 0.6157\n",
      "Epoch 121/268\n",
      "1/1 [==============================] - 0s 53ms/step - loss: 0.5442 - accuracy: 0.7953 - val_loss: 1.1459 - val_accuracy: 0.6145\n",
      "Epoch 122/268\n",
      "1/1 [==============================] - 0s 51ms/step - loss: 0.5445 - accuracy: 0.7954 - val_loss: 1.1475 - val_accuracy: 0.6139\n",
      "Epoch 123/268\n",
      "1/1 [==============================] - 0s 52ms/step - loss: 0.5458 - accuracy: 0.7995 - val_loss: 1.1497 - val_accuracy: 0.6133\n",
      "Epoch 124/268\n",
      "1/1 [==============================] - 0s 53ms/step - loss: 0.5463 - accuracy: 0.7953 - val_loss: 1.1514 - val_accuracy: 0.6130\n",
      "Epoch 125/268\n",
      "1/1 [==============================] - 0s 53ms/step - loss: 0.5381 - accuracy: 0.7996 - val_loss: 1.1506 - val_accuracy: 0.6124\n",
      "Epoch 126/268\n",
      "1/1 [==============================] - 0s 53ms/step - loss: 0.5475 - accuracy: 0.7978 - val_loss: 1.1497 - val_accuracy: 0.6136\n",
      "Epoch 127/268\n",
      "1/1 [==============================] - 0s 53ms/step - loss: 0.5476 - accuracy: 0.7953 - val_loss: 1.1505 - val_accuracy: 0.6136\n",
      "Epoch 128/268\n",
      "1/1 [==============================] - 0s 53ms/step - loss: 0.5434 - accuracy: 0.7994 - val_loss: 1.1517 - val_accuracy: 0.6088\n",
      "Epoch 129/268\n",
      "1/1 [==============================] - 0s 53ms/step - loss: 0.5425 - accuracy: 0.7959 - val_loss: 1.1535 - val_accuracy: 0.6115\n",
      "Epoch 130/268\n",
      "1/1 [==============================] - 0s 53ms/step - loss: 0.5416 - accuracy: 0.7994 - val_loss: 1.1518 - val_accuracy: 0.6148\n",
      "Epoch 131/268\n",
      "1/1 [==============================] - 0s 53ms/step - loss: 0.5344 - accuracy: 0.8011 - val_loss: 1.1519 - val_accuracy: 0.6151\n",
      "Epoch 132/268\n",
      "1/1 [==============================] - 0s 53ms/step - loss: 0.5436 - accuracy: 0.7978 - val_loss: 1.1528 - val_accuracy: 0.6166\n",
      "Epoch 133/268\n",
      "1/1 [==============================] - 0s 54ms/step - loss: 0.5460 - accuracy: 0.7959 - val_loss: 1.1513 - val_accuracy: 0.6166\n",
      "Epoch 134/268\n",
      "1/1 [==============================] - 0s 51ms/step - loss: 0.5334 - accuracy: 0.7997 - val_loss: 1.1505 - val_accuracy: 0.6187\n",
      "Epoch 135/268\n",
      "1/1 [==============================] - 0s 53ms/step - loss: 0.5391 - accuracy: 0.8001 - val_loss: 1.1524 - val_accuracy: 0.6190\n",
      "Epoch 136/268\n",
      "1/1 [==============================] - 0s 54ms/step - loss: 0.5356 - accuracy: 0.7993 - val_loss: 1.1528 - val_accuracy: 0.6187\n",
      "Epoch 137/268\n",
      "1/1 [==============================] - 0s 74ms/step - loss: 0.5443 - accuracy: 0.7963 - val_loss: 1.1541 - val_accuracy: 0.6178\n",
      "Epoch 138/268\n",
      "1/1 [==============================] - 0s 56ms/step - loss: 0.5266 - accuracy: 0.8041 - val_loss: 1.1578 - val_accuracy: 0.6154\n",
      "Epoch 139/268\n",
      "1/1 [==============================] - 0s 53ms/step - loss: 0.5288 - accuracy: 0.8015 - val_loss: 1.1593 - val_accuracy: 0.6130\n",
      "Epoch 140/268\n",
      "1/1 [==============================] - 0s 54ms/step - loss: 0.5348 - accuracy: 0.8021 - val_loss: 1.1588 - val_accuracy: 0.6136\n",
      "Epoch 141/268\n",
      "1/1 [==============================] - 0s 53ms/step - loss: 0.5369 - accuracy: 0.8013 - val_loss: 1.1593 - val_accuracy: 0.6142\n",
      "Epoch 142/268\n",
      "1/1 [==============================] - 0s 55ms/step - loss: 0.5272 - accuracy: 0.8057 - val_loss: 1.1601 - val_accuracy: 0.6166\n",
      "Epoch 143/268\n",
      "1/1 [==============================] - 0s 55ms/step - loss: 0.5393 - accuracy: 0.7996 - val_loss: 1.1620 - val_accuracy: 0.6157\n",
      "Epoch 144/268\n",
      "1/1 [==============================] - 0s 54ms/step - loss: 0.5227 - accuracy: 0.8033 - val_loss: 1.1645 - val_accuracy: 0.6157\n",
      "Epoch 145/268\n",
      "1/1 [==============================] - 0s 51ms/step - loss: 0.5373 - accuracy: 0.7984 - val_loss: 1.1649 - val_accuracy: 0.6142\n",
      "Epoch 146/268\n",
      "1/1 [==============================] - 0s 53ms/step - loss: 0.5285 - accuracy: 0.8058 - val_loss: 1.1634 - val_accuracy: 0.6082\n",
      "Epoch 147/268\n",
      "1/1 [==============================] - 0s 53ms/step - loss: 0.5302 - accuracy: 0.8037 - val_loss: 1.1656 - val_accuracy: 0.6112\n",
      "Epoch 148/268\n",
      "1/1 [==============================] - 0s 53ms/step - loss: 0.5257 - accuracy: 0.8062 - val_loss: 1.1688 - val_accuracy: 0.6151\n",
      "Epoch 149/268\n",
      "1/1 [==============================] - 0s 53ms/step - loss: 0.5288 - accuracy: 0.8073 - val_loss: 1.1686 - val_accuracy: 0.6160\n",
      "Epoch 150/268\n",
      "1/1 [==============================] - 0s 53ms/step - loss: 0.5208 - accuracy: 0.8021 - val_loss: 1.1659 - val_accuracy: 0.6172\n",
      "Epoch 151/268\n",
      "1/1 [==============================] - 0s 55ms/step - loss: 0.5249 - accuracy: 0.8072 - val_loss: 1.1606 - val_accuracy: 0.6169\n",
      "Epoch 152/268\n",
      "1/1 [==============================] - 0s 53ms/step - loss: 0.5250 - accuracy: 0.8029 - val_loss: 1.1603 - val_accuracy: 0.6190\n",
      "Epoch 153/268\n",
      "1/1 [==============================] - 0s 53ms/step - loss: 0.5092 - accuracy: 0.8116 - val_loss: 1.1631 - val_accuracy: 0.6190\n",
      "Epoch 154/268\n",
      "1/1 [==============================] - 0s 55ms/step - loss: 0.5223 - accuracy: 0.8040 - val_loss: 1.1630 - val_accuracy: 0.6139\n",
      "Epoch 155/268\n",
      "1/1 [==============================] - 0s 56ms/step - loss: 0.5265 - accuracy: 0.8024 - val_loss: 1.1601 - val_accuracy: 0.6145\n",
      "Epoch 156/268\n",
      "1/1 [==============================] - 0s 53ms/step - loss: 0.5114 - accuracy: 0.8084 - val_loss: 1.1576 - val_accuracy: 0.6175\n",
      "Epoch 157/268\n",
      "1/1 [==============================] - 0s 53ms/step - loss: 0.5225 - accuracy: 0.8133 - val_loss: 1.1584 - val_accuracy: 0.6181\n",
      "Epoch 158/268\n",
      "1/1 [==============================] - 0s 52ms/step - loss: 0.5209 - accuracy: 0.8082 - val_loss: 1.1587 - val_accuracy: 0.6196\n",
      "Epoch 159/268\n",
      "1/1 [==============================] - 0s 53ms/step - loss: 0.5206 - accuracy: 0.8071 - val_loss: 1.1595 - val_accuracy: 0.6172\n",
      "Epoch 160/268\n",
      "1/1 [==============================] - 0s 53ms/step - loss: 0.5189 - accuracy: 0.8110 - val_loss: 1.1608 - val_accuracy: 0.6178\n",
      "Epoch 161/268\n",
      "1/1 [==============================] - 0s 52ms/step - loss: 0.5134 - accuracy: 0.8096 - val_loss: 1.1650 - val_accuracy: 0.6160\n",
      "Epoch 162/268\n",
      "1/1 [==============================] - 0s 54ms/step - loss: 0.5076 - accuracy: 0.8105 - val_loss: 1.1677 - val_accuracy: 0.6151\n",
      "Epoch 163/268\n",
      "1/1 [==============================] - 0s 55ms/step - loss: 0.5178 - accuracy: 0.8093 - val_loss: 1.1644 - val_accuracy: 0.6154\n",
      "Epoch 164/268\n",
      "1/1 [==============================] - 0s 53ms/step - loss: 0.5143 - accuracy: 0.8081 - val_loss: 1.1614 - val_accuracy: 0.6163\n",
      "Epoch 165/268\n",
      "1/1 [==============================] - 0s 54ms/step - loss: 0.5127 - accuracy: 0.8090 - val_loss: 1.1625 - val_accuracy: 0.6178\n",
      "Epoch 166/268\n",
      "1/1 [==============================] - 0s 54ms/step - loss: 0.5154 - accuracy: 0.8070 - val_loss: 1.1621 - val_accuracy: 0.6184\n",
      "Epoch 167/268\n",
      "1/1 [==============================] - 0s 54ms/step - loss: 0.5077 - accuracy: 0.8086 - val_loss: 1.1612 - val_accuracy: 0.6175\n",
      "Epoch 168/268\n",
      "1/1 [==============================] - 0s 71ms/step - loss: 0.5111 - accuracy: 0.8114 - val_loss: 1.1576 - val_accuracy: 0.6175\n",
      "Epoch 169/268\n",
      "1/1 [==============================] - 0s 52ms/step - loss: 0.5111 - accuracy: 0.8134 - val_loss: 1.1594 - val_accuracy: 0.6211\n",
      "Epoch 170/268\n",
      "1/1 [==============================] - 0s 54ms/step - loss: 0.4999 - accuracy: 0.8171 - val_loss: 1.1603 - val_accuracy: 0.6229\n",
      "Epoch 171/268\n",
      "1/1 [==============================] - 0s 54ms/step - loss: 0.5177 - accuracy: 0.8078 - val_loss: 1.1601 - val_accuracy: 0.6202\n",
      "Epoch 172/268\n",
      "1/1 [==============================] - 0s 52ms/step - loss: 0.5076 - accuracy: 0.8133 - val_loss: 1.1617 - val_accuracy: 0.6187\n",
      "Epoch 173/268\n",
      "1/1 [==============================] - 0s 53ms/step - loss: 0.5062 - accuracy: 0.8113 - val_loss: 1.1635 - val_accuracy: 0.6181\n",
      "Epoch 174/268\n",
      "1/1 [==============================] - 0s 53ms/step - loss: 0.5005 - accuracy: 0.8128 - val_loss: 1.1665 - val_accuracy: 0.6163\n"
     ]
    },
    {
     "name": "stdout",
     "output_type": "stream",
     "text": [
      "Epoch 175/268\n",
      "1/1 [==============================] - 0s 53ms/step - loss: 0.5100 - accuracy: 0.8117 - val_loss: 1.1669 - val_accuracy: 0.6157\n",
      "Epoch 176/268\n",
      "1/1 [==============================] - 0s 53ms/step - loss: 0.5040 - accuracy: 0.8149 - val_loss: 1.1671 - val_accuracy: 0.6166\n",
      "Epoch 177/268\n",
      "1/1 [==============================] - 0s 52ms/step - loss: 0.5013 - accuracy: 0.8121 - val_loss: 1.1659 - val_accuracy: 0.6208\n",
      "Epoch 178/268\n",
      "1/1 [==============================] - 0s 52ms/step - loss: 0.4988 - accuracy: 0.8166 - val_loss: 1.1661 - val_accuracy: 0.6187\n",
      "Epoch 179/268\n",
      "1/1 [==============================] - 0s 52ms/step - loss: 0.4993 - accuracy: 0.8141 - val_loss: 1.1672 - val_accuracy: 0.6205\n",
      "Epoch 180/268\n",
      "1/1 [==============================] - 0s 53ms/step - loss: 0.5031 - accuracy: 0.8133 - val_loss: 1.1700 - val_accuracy: 0.6217\n",
      "Epoch 181/268\n",
      "1/1 [==============================] - 0s 54ms/step - loss: 0.5042 - accuracy: 0.8112 - val_loss: 1.1723 - val_accuracy: 0.6223\n",
      "Epoch 182/268\n",
      "1/1 [==============================] - 0s 54ms/step - loss: 0.4976 - accuracy: 0.8154 - val_loss: 1.1750 - val_accuracy: 0.6229\n",
      "Epoch 183/268\n",
      "1/1 [==============================] - 0s 54ms/step - loss: 0.5008 - accuracy: 0.8172 - val_loss: 1.1728 - val_accuracy: 0.6259\n",
      "Epoch 184/268\n",
      "1/1 [==============================] - 0s 52ms/step - loss: 0.4969 - accuracy: 0.8163 - val_loss: 1.1724 - val_accuracy: 0.6232\n",
      "Epoch 185/268\n",
      "1/1 [==============================] - 0s 54ms/step - loss: 0.5055 - accuracy: 0.8107 - val_loss: 1.1717 - val_accuracy: 0.6235\n",
      "Epoch 186/268\n",
      "1/1 [==============================] - 0s 53ms/step - loss: 0.4939 - accuracy: 0.8196 - val_loss: 1.1715 - val_accuracy: 0.6208\n",
      "Epoch 187/268\n",
      "1/1 [==============================] - 0s 53ms/step - loss: 0.4960 - accuracy: 0.8190 - val_loss: 1.1693 - val_accuracy: 0.6211\n",
      "Epoch 188/268\n",
      "1/1 [==============================] - 0s 54ms/step - loss: 0.4954 - accuracy: 0.8180 - val_loss: 1.1684 - val_accuracy: 0.6172\n",
      "Epoch 189/268\n",
      "1/1 [==============================] - 0s 53ms/step - loss: 0.4885 - accuracy: 0.8170 - val_loss: 1.1722 - val_accuracy: 0.6145\n",
      "Epoch 190/268\n",
      "1/1 [==============================] - 0s 54ms/step - loss: 0.4856 - accuracy: 0.8211 - val_loss: 1.1775 - val_accuracy: 0.6187\n",
      "Epoch 191/268\n",
      "1/1 [==============================] - 0s 56ms/step - loss: 0.4916 - accuracy: 0.8169 - val_loss: 1.1784 - val_accuracy: 0.6199\n",
      "Epoch 192/268\n",
      "1/1 [==============================] - 0s 53ms/step - loss: 0.4972 - accuracy: 0.8131 - val_loss: 1.1734 - val_accuracy: 0.6193\n",
      "Epoch 193/268\n",
      "1/1 [==============================] - 0s 55ms/step - loss: 0.4948 - accuracy: 0.8162 - val_loss: 1.1691 - val_accuracy: 0.6178\n",
      "Epoch 194/268\n",
      "1/1 [==============================] - 0s 53ms/step - loss: 0.4933 - accuracy: 0.8178 - val_loss: 1.1670 - val_accuracy: 0.6196\n",
      "Epoch 195/268\n",
      "1/1 [==============================] - 0s 54ms/step - loss: 0.4863 - accuracy: 0.8197 - val_loss: 1.1645 - val_accuracy: 0.6238\n",
      "Epoch 196/268\n",
      "1/1 [==============================] - 0s 55ms/step - loss: 0.4893 - accuracy: 0.8182 - val_loss: 1.1613 - val_accuracy: 0.6274\n",
      "Epoch 197/268\n",
      "1/1 [==============================] - 0s 52ms/step - loss: 0.4851 - accuracy: 0.8187 - val_loss: 1.1574 - val_accuracy: 0.6217\n",
      "Epoch 198/268\n",
      "1/1 [==============================] - 0s 52ms/step - loss: 0.4869 - accuracy: 0.8202 - val_loss: 1.1568 - val_accuracy: 0.6220\n",
      "Epoch 199/268\n",
      "1/1 [==============================] - 0s 53ms/step - loss: 0.4951 - accuracy: 0.8140 - val_loss: 1.1623 - val_accuracy: 0.6220\n",
      "Epoch 200/268\n",
      "1/1 [==============================] - 0s 54ms/step - loss: 0.4911 - accuracy: 0.8172 - val_loss: 1.1678 - val_accuracy: 0.6208\n",
      "Epoch 201/268\n",
      "1/1 [==============================] - 0s 55ms/step - loss: 0.4961 - accuracy: 0.8131 - val_loss: 1.1644 - val_accuracy: 0.6217\n",
      "Epoch 202/268\n",
      "1/1 [==============================] - 0s 53ms/step - loss: 0.4849 - accuracy: 0.8227 - val_loss: 1.1629 - val_accuracy: 0.6253\n",
      "Epoch 203/268\n",
      "1/1 [==============================] - 0s 58ms/step - loss: 0.4883 - accuracy: 0.8189 - val_loss: 1.1643 - val_accuracy: 0.6217\n",
      "Epoch 204/268\n",
      "1/1 [==============================] - 0s 53ms/step - loss: 0.4810 - accuracy: 0.8230 - val_loss: 1.1701 - val_accuracy: 0.6196\n",
      "Epoch 205/268\n",
      "1/1 [==============================] - 0s 53ms/step - loss: 0.4881 - accuracy: 0.8191 - val_loss: 1.1699 - val_accuracy: 0.6175\n",
      "Epoch 206/268\n",
      "1/1 [==============================] - 0s 53ms/step - loss: 0.4838 - accuracy: 0.8234 - val_loss: 1.1652 - val_accuracy: 0.6193\n",
      "Epoch 207/268\n",
      "1/1 [==============================] - 0s 53ms/step - loss: 0.4808 - accuracy: 0.8277 - val_loss: 1.1633 - val_accuracy: 0.6175\n",
      "Epoch 208/268\n",
      "1/1 [==============================] - 0s 54ms/step - loss: 0.4795 - accuracy: 0.8223 - val_loss: 1.1642 - val_accuracy: 0.6205\n",
      "Epoch 209/268\n",
      "1/1 [==============================] - 0s 53ms/step - loss: 0.4782 - accuracy: 0.8213 - val_loss: 1.1626 - val_accuracy: 0.6181\n",
      "Epoch 210/268\n",
      "1/1 [==============================] - 0s 53ms/step - loss: 0.4868 - accuracy: 0.8197 - val_loss: 1.1572 - val_accuracy: 0.6214\n",
      "Epoch 211/268\n",
      "1/1 [==============================] - 0s 52ms/step - loss: 0.4695 - accuracy: 0.8248 - val_loss: 1.1594 - val_accuracy: 0.6247\n",
      "Epoch 212/268\n",
      "1/1 [==============================] - 0s 53ms/step - loss: 0.4745 - accuracy: 0.8269 - val_loss: 1.1618 - val_accuracy: 0.6250\n",
      "Epoch 213/268\n",
      "1/1 [==============================] - 0s 54ms/step - loss: 0.4856 - accuracy: 0.8205 - val_loss: 1.1596 - val_accuracy: 0.6229\n",
      "Epoch 214/268\n",
      "1/1 [==============================] - 0s 52ms/step - loss: 0.4831 - accuracy: 0.8179 - val_loss: 1.1578 - val_accuracy: 0.6226\n",
      "Epoch 215/268\n",
      "1/1 [==============================] - 0s 54ms/step - loss: 0.4719 - accuracy: 0.8265 - val_loss: 1.1580 - val_accuracy: 0.6232\n",
      "Epoch 216/268\n",
      "1/1 [==============================] - 0s 55ms/step - loss: 0.4723 - accuracy: 0.8268 - val_loss: 1.1585 - val_accuracy: 0.6238\n",
      "Epoch 217/268\n",
      "1/1 [==============================] - 0s 53ms/step - loss: 0.4766 - accuracy: 0.8234 - val_loss: 1.1588 - val_accuracy: 0.6241\n",
      "Epoch 218/268\n",
      "1/1 [==============================] - 0s 52ms/step - loss: 0.4773 - accuracy: 0.8242 - val_loss: 1.1567 - val_accuracy: 0.6238\n",
      "Epoch 219/268\n",
      "1/1 [==============================] - 0s 63ms/step - loss: 0.4794 - accuracy: 0.8247 - val_loss: 1.1607 - val_accuracy: 0.6238\n",
      "Epoch 220/268\n",
      "1/1 [==============================] - 0s 58ms/step - loss: 0.4767 - accuracy: 0.8261 - val_loss: 1.1645 - val_accuracy: 0.6205\n",
      "Epoch 221/268\n",
      "1/1 [==============================] - 0s 54ms/step - loss: 0.4687 - accuracy: 0.8259 - val_loss: 1.1670 - val_accuracy: 0.6211\n",
      "Epoch 222/268\n",
      "1/1 [==============================] - 0s 53ms/step - loss: 0.4658 - accuracy: 0.8320 - val_loss: 1.1682 - val_accuracy: 0.6238\n",
      "Epoch 223/268\n",
      "1/1 [==============================] - 0s 53ms/step - loss: 0.4670 - accuracy: 0.8283 - val_loss: 1.1702 - val_accuracy: 0.6247\n",
      "Epoch 224/268\n",
      "1/1 [==============================] - 0s 54ms/step - loss: 0.4614 - accuracy: 0.8314 - val_loss: 1.1735 - val_accuracy: 0.6217\n",
      "Epoch 225/268\n",
      "1/1 [==============================] - 0s 53ms/step - loss: 0.4687 - accuracy: 0.8258 - val_loss: 1.1752 - val_accuracy: 0.6229\n",
      "Epoch 226/268\n",
      "1/1 [==============================] - 0s 51ms/step - loss: 0.4695 - accuracy: 0.8228 - val_loss: 1.1762 - val_accuracy: 0.6232\n",
      "Epoch 227/268\n",
      "1/1 [==============================] - 0s 52ms/step - loss: 0.4669 - accuracy: 0.8267 - val_loss: 1.1744 - val_accuracy: 0.6232\n",
      "Epoch 228/268\n",
      "1/1 [==============================] - 0s 52ms/step - loss: 0.4612 - accuracy: 0.8281 - val_loss: 1.1757 - val_accuracy: 0.6226\n",
      "Epoch 229/268\n",
      "1/1 [==============================] - 0s 53ms/step - loss: 0.4594 - accuracy: 0.8304 - val_loss: 1.1767 - val_accuracy: 0.6208\n",
      "Epoch 230/268\n",
      "1/1 [==============================] - 0s 53ms/step - loss: 0.4677 - accuracy: 0.8278 - val_loss: 1.1787 - val_accuracy: 0.6217\n",
      "Epoch 231/268\n",
      "1/1 [==============================] - 0s 54ms/step - loss: 0.4613 - accuracy: 0.8307 - val_loss: 1.1785 - val_accuracy: 0.6241\n",
      "Epoch 232/268\n",
      "1/1 [==============================] - 0s 53ms/step - loss: 0.4637 - accuracy: 0.8304 - val_loss: 1.1805 - val_accuracy: 0.6181\n"
     ]
    },
    {
     "name": "stdout",
     "output_type": "stream",
     "text": [
      "Epoch 233/268\n",
      "1/1 [==============================] - 0s 53ms/step - loss: 0.4746 - accuracy: 0.8249 - val_loss: 1.1798 - val_accuracy: 0.6202\n",
      "Epoch 234/268\n",
      "1/1 [==============================] - 0s 53ms/step - loss: 0.4572 - accuracy: 0.8287 - val_loss: 1.1748 - val_accuracy: 0.6205\n",
      "Epoch 235/268\n",
      "1/1 [==============================] - 0s 52ms/step - loss: 0.4629 - accuracy: 0.8302 - val_loss: 1.1707 - val_accuracy: 0.6208\n",
      "Epoch 236/268\n",
      "1/1 [==============================] - 0s 52ms/step - loss: 0.4635 - accuracy: 0.8298 - val_loss: 1.1720 - val_accuracy: 0.6226\n",
      "Epoch 237/268\n",
      "1/1 [==============================] - 0s 65ms/step - loss: 0.4624 - accuracy: 0.8301 - val_loss: 1.1757 - val_accuracy: 0.6214\n",
      "Epoch 238/268\n",
      "1/1 [==============================] - 0s 80ms/step - loss: 0.4688 - accuracy: 0.8265 - val_loss: 1.1732 - val_accuracy: 0.6217\n",
      "Epoch 239/268\n",
      "1/1 [==============================] - 0s 72ms/step - loss: 0.4666 - accuracy: 0.8302 - val_loss: 1.1674 - val_accuracy: 0.6226\n",
      "Epoch 240/268\n",
      "1/1 [==============================] - 0s 61ms/step - loss: 0.4643 - accuracy: 0.8274 - val_loss: 1.1671 - val_accuracy: 0.6247\n",
      "Epoch 241/268\n",
      "1/1 [==============================] - 0s 76ms/step - loss: 0.4464 - accuracy: 0.8352 - val_loss: 1.1711 - val_accuracy: 0.6262\n",
      "Epoch 242/268\n",
      "1/1 [==============================] - 0s 61ms/step - loss: 0.4666 - accuracy: 0.8234 - val_loss: 1.1739 - val_accuracy: 0.6285\n",
      "Epoch 243/268\n",
      "1/1 [==============================] - 0s 53ms/step - loss: 0.4619 - accuracy: 0.8315 - val_loss: 1.1738 - val_accuracy: 0.6297\n",
      "Epoch 244/268\n",
      "1/1 [==============================] - 0s 54ms/step - loss: 0.4621 - accuracy: 0.8308 - val_loss: 1.1764 - val_accuracy: 0.6256\n",
      "Epoch 245/268\n",
      "1/1 [==============================] - 0s 52ms/step - loss: 0.4572 - accuracy: 0.8329 - val_loss: 1.1774 - val_accuracy: 0.6235\n",
      "Epoch 246/268\n",
      "1/1 [==============================] - 0s 53ms/step - loss: 0.4504 - accuracy: 0.8328 - val_loss: 1.1791 - val_accuracy: 0.6244\n",
      "Epoch 247/268\n",
      "1/1 [==============================] - 0s 53ms/step - loss: 0.4470 - accuracy: 0.8349 - val_loss: 1.1779 - val_accuracy: 0.6265\n",
      "Epoch 248/268\n",
      "1/1 [==============================] - 0s 68ms/step - loss: 0.4545 - accuracy: 0.8346 - val_loss: 1.1743 - val_accuracy: 0.6235\n",
      "Epoch 249/268\n",
      "1/1 [==============================] - 0s 54ms/step - loss: 0.4511 - accuracy: 0.8363 - val_loss: 1.1751 - val_accuracy: 0.6220\n",
      "Epoch 250/268\n",
      "1/1 [==============================] - 0s 54ms/step - loss: 0.4435 - accuracy: 0.8337 - val_loss: 1.1830 - val_accuracy: 0.6232\n",
      "Epoch 251/268\n",
      "1/1 [==============================] - 0s 53ms/step - loss: 0.4485 - accuracy: 0.8310 - val_loss: 1.1881 - val_accuracy: 0.6223\n",
      "Epoch 252/268\n",
      "1/1 [==============================] - 0s 53ms/step - loss: 0.4486 - accuracy: 0.8349 - val_loss: 1.1856 - val_accuracy: 0.6208\n",
      "Epoch 253/268\n",
      "1/1 [==============================] - 0s 53ms/step - loss: 0.4501 - accuracy: 0.8325 - val_loss: 1.1878 - val_accuracy: 0.6229\n",
      "Epoch 254/268\n",
      "1/1 [==============================] - 0s 62ms/step - loss: 0.4462 - accuracy: 0.8343 - val_loss: 1.1922 - val_accuracy: 0.6220\n",
      "Epoch 255/268\n",
      "1/1 [==============================] - 0s 54ms/step - loss: 0.4480 - accuracy: 0.8380 - val_loss: 1.1954 - val_accuracy: 0.6223\n",
      "Epoch 256/268\n",
      "1/1 [==============================] - 0s 56ms/step - loss: 0.4502 - accuracy: 0.8397 - val_loss: 1.1898 - val_accuracy: 0.6217\n",
      "Epoch 257/268\n",
      "1/1 [==============================] - 0s 54ms/step - loss: 0.4492 - accuracy: 0.8373 - val_loss: 1.1874 - val_accuracy: 0.6199\n",
      "Epoch 258/268\n",
      "1/1 [==============================] - 0s 52ms/step - loss: 0.4460 - accuracy: 0.8352 - val_loss: 1.1897 - val_accuracy: 0.6223\n",
      "Epoch 259/268\n",
      "1/1 [==============================] - 0s 53ms/step - loss: 0.4488 - accuracy: 0.8334 - val_loss: 1.1873 - val_accuracy: 0.6226\n",
      "Epoch 260/268\n",
      "1/1 [==============================] - 0s 55ms/step - loss: 0.4450 - accuracy: 0.8323 - val_loss: 1.1865 - val_accuracy: 0.6247\n",
      "Epoch 261/268\n",
      "1/1 [==============================] - 0s 52ms/step - loss: 0.4467 - accuracy: 0.8349 - val_loss: 1.1827 - val_accuracy: 0.6294\n",
      "Epoch 262/268\n",
      "1/1 [==============================] - 0s 51ms/step - loss: 0.4470 - accuracy: 0.8352 - val_loss: 1.1849 - val_accuracy: 0.6244\n",
      "Epoch 263/268\n",
      "1/1 [==============================] - 0s 53ms/step - loss: 0.4459 - accuracy: 0.8349 - val_loss: 1.1857 - val_accuracy: 0.6265\n",
      "Epoch 264/268\n",
      "1/1 [==============================] - 0s 53ms/step - loss: 0.4403 - accuracy: 0.8414 - val_loss: 1.1866 - val_accuracy: 0.6250\n",
      "Epoch 265/268\n",
      "1/1 [==============================] - 0s 54ms/step - loss: 0.4434 - accuracy: 0.8387 - val_loss: 1.1853 - val_accuracy: 0.6250\n",
      "Epoch 266/268\n",
      "1/1 [==============================] - 0s 53ms/step - loss: 0.4491 - accuracy: 0.8336 - val_loss: 1.1836 - val_accuracy: 0.6265\n",
      "Epoch 267/268\n",
      "1/1 [==============================] - 0s 53ms/step - loss: 0.4464 - accuracy: 0.8348 - val_loss: 1.1801 - val_accuracy: 0.6256\n",
      "Epoch 268/268\n",
      "1/1 [==============================] - 0s 53ms/step - loss: 0.4446 - accuracy: 0.8381 - val_loss: 1.1786 - val_accuracy: 0.6256\n"
     ]
    }
   ],
   "source": [
    "rlrp = ReduceLROnPlateau(monitor='val_loss', factor=0.4, verbose=1, patience=2, min_lr=0.00001)\n",
    "mlp_history = mlp_model.fit(x_train,y_train, epochs = 268, batch_size = 22000, verbose = 1, validation_split = 0.2)#,callbacks = [rlrp])"
   ]
  },
  {
   "cell_type": "code",
   "execution_count": 258,
   "metadata": {},
   "outputs": [
    {
     "name": "stdout",
     "output_type": "stream",
     "text": [
      "175/175 [==============================] - 1s 6ms/step - loss: 1.2024 - accuracy: 0.6206\n"
     ]
    },
    {
     "data": {
      "text/plain": [
       "[1.2023556232452393, 0.6205661296844482]"
      ]
     },
     "execution_count": 258,
     "metadata": {},
     "output_type": "execute_result"
    }
   ],
   "source": [
    "mlp_model.evaluate(x_test,y_test)"
   ]
  },
  {
   "cell_type": "code",
   "execution_count": 230,
   "metadata": {},
   "outputs": [
    {
     "name": "stderr",
     "output_type": "stream",
     "text": [
      "2021-12-09 23:57:08.381265: I tensorflow/core/grappler/optimizers/custom_graph_optimizer_registry.cc:112] Plugin optimizer for device_type GPU is enabled.\n"
     ]
    },
    {
     "name": "stdout",
     "output_type": "stream",
     "text": [
      "accuracy score for Train set is: 0.8493788819875776\n",
      "accuracy score for Test set is:  0.6148333930490864\n",
      "[Anger, disgust, fear, happy, neutral, sad]\n",
      "F1 score for Train set is: [0.93307227 0.82937365 0.81813074 0.87755102 0.83702374 0.804266  ]\n",
      "F1 score for Test set is:  [0.76597993 0.532382   0.54152446 0.60794844 0.58556947 0.64033457]\n"
     ]
    },
    {
     "data": {
      "text/plain": [
       "<sklearn.metrics._plot.confusion_matrix.ConfusionMatrixDisplay at 0x29499ba60>"
      ]
     },
     "execution_count": 230,
     "metadata": {},
     "output_type": "execute_result"
    },
    {
     "data": {
      "image/png": "[encoded data removed]",
      "text/plain": [
       "<Figure size 432x288 with 2 Axes>"
      ]
     },
     "metadata": {
      "needs_background": "light"
     },
     "output_type": "display_data"
    }
   ],
   "source": [
    "pred = mlp_model.predict(x_train)\n",
    "pred_test = mlp_model.predict(x_test)\n",
    "\n",
    "print(\"accuracy score for Train set is:\", accuracy_score(np.argmax(y_train,axis =1), np.argmax(pred,axis=1)))\n",
    "print(\"accuracy score for Test set is: \", accuracy_score(np.argmax(y_test,axis =1), np.argmax(pred_test,axis=1)))\n",
    "print(\"[Anger, disgust, fear, happy, neutral, sad]\")\n",
    "print(\"F1 score for Train set is:\", f1_score(np.argmax(y_train,axis =1), np.argmax(pred,axis=1), average = None))\n",
    "print(\"F1 score for Test set is: \", f1_score(np.argmax(y_test,axis =1), np.argmax(pred_test,axis=1), average = None))\n",
    "labels = ['anger', 'disgust', 'fear', 'happy', 'neutral', 'sad']\n",
    "cm = confusion_matrix(np.argmax(y_test,axis =1), np.argmax(pred_test,axis=1))\n",
    "cm = cm/ cm.astype(np.float64).sum(axis=1)\n",
    "disp = ConfusionMatrixDisplay(confusion_matrix=cm, display_labels = labels)\n",
    "disp.plot()"
   ]
  },
  {
   "cell_type": "code",
   "execution_count": null,
   "metadata": {},
   "outputs": [],
   "source": []
  }
 ],
 "metadata": {
  "kernelspec": {
   "display_name": "Python 3 (ipykernel)",
   "language": "python",
   "name": "python3"
  },
  "language_info": {
   "codemirror_mode": {
    "name": "ipython",
    "version": 3
   },
   "file_extension": ".py",
   "mimetype": "text/x-python",
   "name": "python",
   "nbconvert_exporter": "python",
   "pygments_lexer": "ipython3",
   "version": "3.9.7"
  }
 },
 "nbformat": 4,
 "nbformat_minor": 4
}

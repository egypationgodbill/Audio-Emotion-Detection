{
 "cells": [
  {
   "cell_type": "code",
   "execution_count": 1,
   "metadata": {
    "id": "k24NRxf27QEq"
   },
   "outputs": [],
   "source": [
    "import pandas as pd\n",
    "import numpy as np\n",
    "\n",
    "import os\n",
    "import sys\n",
    "\n",
    "import librosa\n",
    "import librosa.display\n",
    "import seaborn as sns\n",
    "import matplotlib.pyplot as plt\n",
    "\n",
    "from sklearn.preprocessing import StandardScaler, OneHotEncoder\n",
    "from sklearn.metrics import confusion_matrix, classification_report\n",
    "from sklearn.model_selection import train_test_split\n",
    "\n",
    "from IPython.display import Audio\n",
    "\n",
    "import tensorflow as tf\n",
    "from tensorflow.keras.callbacks import ReduceLROnPlateau\n",
    "from tensorflow.keras.layers import Dense, LSTM, Flatten, Dropout, BatchNormalization, SimpleRNN, Conv2D, Conv1D, MaxPooling1D\n",
    "from tensorflow.keras.callbacks import ModelCheckpoint\n",
    "\n",
    "import warnings\n",
    "if not sys.warnoptions:\n",
    "    warnings.simplefilter(\"ignore\")\n",
    "warnings.filterwarnings(\"ignore\", category=DeprecationWarning) \n",
    "\n",
    "from matplotlib import image\n",
    "import matplotlib.pyplot as plt\n",
    "import os\n",
    "import numpy as np"
   ]
  },
  {
   "cell_type": "code",
   "execution_count": 2,
   "metadata": {},
   "outputs": [],
   "source": [
    "def getEmotion (file, file_emotion):\n",
    "    if (file.endswith('.wav')):\n",
    "        file_path.append(file)\n",
    "        # storing file emotions\n",
    "        part=file.split('_')\n",
    "        if part[2] == 'SAD':\n",
    "            file_emotion.append('sad')\n",
    "        elif part[2] == 'ANG':\n",
    "            file_emotion.append('angry')\n",
    "        elif part[2] == 'DIS':\n",
    "            file_emotion.append('disgust')\n",
    "        elif part[2] == 'FEA':\n",
    "            file_emotion.append('fear')\n",
    "        elif part[2] == 'HAP':\n",
    "            file_emotion.append('happy')\n",
    "        elif part[2] == 'NEU':\n",
    "            file_emotion.append('neutral')\n",
    "        else:\n",
    "            file_emotion.append('Unknown')"
   ]
  },
  {
   "cell_type": "code",
   "execution_count": 4,
   "metadata": {},
   "outputs": [
    {
     "name": "stdout",
     "output_type": "stream",
     "text": [
      "500\n",
      "1000\n",
      "1500\n",
      "2000\n",
      "2500\n",
      "3000\n",
      "3500\n",
      "4000\n",
      "4500\n",
      "5000\n",
      "5500\n",
      "6000\n",
      "6500\n",
      "7000\n"
     ]
    },
    {
     "data": {
      "text/html": [
       "<div>\n",
       "<style scoped>\n",
       "    .dataframe tbody tr th:only-of-type {\n",
       "        vertical-align: middle;\n",
       "    }\n",
       "\n",
       "    .dataframe tbody tr th {\n",
       "        vertical-align: top;\n",
       "    }\n",
       "\n",
       "    .dataframe thead th {\n",
       "        text-align: right;\n",
       "    }\n",
       "</style>\n",
       "<table border=\"1\" class=\"dataframe\">\n",
       "  <thead>\n",
       "    <tr style=\"text-align: right;\">\n",
       "      <th></th>\n",
       "      <th>Emotions</th>\n",
       "      <th>Path</th>\n",
       "    </tr>\n",
       "  </thead>\n",
       "  <tbody>\n",
       "    <tr>\n",
       "      <th>0</th>\n",
       "      <td>angry</td>\n",
       "      <td>1022_ITS_ANG_XX.wav</td>\n",
       "    </tr>\n",
       "    <tr>\n",
       "      <th>1</th>\n",
       "      <td>angry</td>\n",
       "      <td>1037_ITS_ANG_XX.wav</td>\n",
       "    </tr>\n",
       "    <tr>\n",
       "      <th>2</th>\n",
       "      <td>neutral</td>\n",
       "      <td>1060_ITS_NEU_XX.wav</td>\n",
       "    </tr>\n",
       "    <tr>\n",
       "      <th>3</th>\n",
       "      <td>neutral</td>\n",
       "      <td>1075_ITS_NEU_XX.wav</td>\n",
       "    </tr>\n",
       "    <tr>\n",
       "      <th>4</th>\n",
       "      <td>disgust</td>\n",
       "      <td>1073_IOM_DIS_XX.wav</td>\n",
       "    </tr>\n",
       "  </tbody>\n",
       "</table>\n",
       "</div>"
      ],
      "text/plain": [
       "  Emotions                 Path\n",
       "0    angry  1022_ITS_ANG_XX.wav\n",
       "1    angry  1037_ITS_ANG_XX.wav\n",
       "2  neutral  1060_ITS_NEU_XX.wav\n",
       "3  neutral  1075_ITS_NEU_XX.wav\n",
       "4  disgust  1073_IOM_DIS_XX.wav"
      ]
     },
     "execution_count": 4,
     "metadata": {},
     "output_type": "execute_result"
    }
   ],
   "source": [
    "os.chdir('/Users/zeyuanli/Dropbox/Github/Librosa test'+'/AudioWAV')\n",
    "audioFiles = os.listdir()\n",
    "i = 1\n",
    "mfcc_loaded = []\n",
    "file_emotion = []\n",
    "file_path = []\n",
    "\n",
    "for audio in audioFiles:\n",
    "    if audio.endswith('.wav'):\n",
    "      if i % 500 == 0:\n",
    "        print(i)\n",
    "      i+=1\n",
    "      result = np.array([])\n",
    "      audioName = audio.split(\".\")[0]\n",
    "      signal, sr = librosa.load(f\"{audio}\",offset = 0.3, duration = 2)\n",
    "#      mfcc_loaded.append(librosa.feature.tempogram(y=signal, sr=sr).T)\n",
    " #     temp.append(librosa.feature.mfcc(y=signal,sr=sr).T)\n",
    "\n",
    "      #tempo = np.mean(librosa.feature.tempogram(y=signal, sr=sr).T, axis=0)\n",
    "      #getEmotion (audio, file_emotion)\n",
    "      mfcc  = librosa.feature.mfcc(y=signal,sr=sr).T\n",
    "      #getEmotion (audio, file_emotion)\n",
    "      #chroma_stft  = np.mean(librosa.feature.chroma_stft(y=signal, sr= sr).T, axis =0)\n",
    "      getEmotion (audio, file_emotion)\n",
    "      #result = temp\n",
    "      #result = np.vstack((result,mfcc))\n",
    "      #result =np.vstack((result, tempo)) # stacking horizontally\n",
    "      mfcc_loaded.append(mfcc)\n",
    "        \n",
    "# dataframe for emotion of files\n",
    "emotion_df = pd.DataFrame(file_emotion, columns=['Emotions'])\n",
    "# dataframe for path of files.\n",
    "path_df = pd.DataFrame(file_path, columns=['Path'])\n",
    "Crema_df = pd.concat([emotion_df, path_df], axis=1)\n",
    "Crema_df.head()\n",
    "\n",
    "# creating Dataframe using all the 4 dataframes we created so far.\n",
    "data_path = pd.concat([Crema_df], axis = 0)\n",
    "data_path.to_csv(\"data_path.csv\",index=False)\n",
    "data_path.head()"
   ]
  },
  {
   "cell_type": "code",
   "execution_count": 5,
   "metadata": {},
   "outputs": [],
   "source": [
    "def create_spectrogram(data, sr, e):\n",
    "    # stft function converts the data into short term fourier transform\n",
    "    #X = librosa.stft(data)'\n",
    "    X = data\n",
    "    Xdb = librosa.amplitude_to_db(abs(X))\n",
    "    plt.figure(figsize=(12, 3))\n",
    "    plt.title('Mel Spectrogram for audio with {} emotion'.format(e), size=15)\n",
    "    librosa.display.specshow(Xdb, sr=sr, x_axis='time', y_axis='hz')   \n",
    "    #librosa.display.specshow(Xdb, sr=sr, x_axis='time', y_axis='log')\n",
    "    plt.colorbar()"
   ]
  },
  {
   "cell_type": "code",
   "execution_count": 6,
   "metadata": {
    "scrolled": true
   },
   "outputs": [
    {
     "data": {
      "image/png": "[encoded data removed]",
      "text/plain": [
       "<Figure size 864x216 with 2 Axes>"
      ]
     },
     "metadata": {
      "needs_background": "light"
     },
     "output_type": "display_data"
    }
   ],
   "source": [
    "create_spectrogram (mfcc_loaded[0],22050, emotion_df.Emotions[0])"
   ]
  },
  {
   "cell_type": "code",
   "execution_count": 7,
   "metadata": {
    "colab": {
     "base_uri": "https://localhost:8080/"
    },
    "id": "ptzh4Qj0lcck",
    "outputId": "c9cf6fc1-213d-4068-c3c2-f8e1d438700f"
   },
   "outputs": [],
   "source": [
    "X = tf.keras.preprocessing.sequence.pad_sequences(mfcc_loaded)\n",
    "X.shape\n",
    "Y = np.array(data_path.Emotions)\n",
    "encoder = OneHotEncoder()\n",
    "Y = encoder.fit_transform(Y.reshape(-1,1)).toarray()\n",
    "\n",
    "# making our data compatible to model.\n",
    "#X = np.expand_dims(X, axis=-1)\n"
   ]
  },
  {
   "cell_type": "code",
   "execution_count": 8,
   "metadata": {
    "id": "LD8QLvyBdA_u"
   },
   "outputs": [],
   "source": [
    "X_train, X_test, y_train, y_test = train_test_split(np.array(X), np.array(Y), test_size=0.3)"
   ]
  },
  {
   "cell_type": "code",
   "execution_count": 9,
   "metadata": {
    "colab": {
     "base_uri": "https://localhost:8080/"
    },
    "id": "S5SRPgqIdrbn",
    "outputId": "7ea32fc2-04f6-4035-a3c5-626bf319fddb"
   },
   "outputs": [
    {
     "name": "stdout",
     "output_type": "stream",
     "text": [
      "(5209, 87, 20)\n",
      "(5209, 6)\n"
     ]
    }
   ],
   "source": [
    "print((X_train.shape))\n",
    "print (y_train.shape)"
   ]
  },
  {
   "cell_type": "code",
   "execution_count": 10,
   "metadata": {
    "id": "bEmly6X5fzld"
   },
   "outputs": [],
   "source": [
    "def LSTM_Model():\n",
    "    \n",
    "    model = tf.keras.Sequential()\n",
    "    #model.add(SimpleRNN(128, input_shape=images_loaded[0], return_sequences=True))\n",
    "    #model.add(Conv2D(256, kernel_size = (5,5), strides = 1,  padding = 'same', activation = 'relu', input_shape = (216,20,1)))\n",
    "    model.add(LSTM(128, input_shape=(X_train.shape[1],X_train.shape[2]), return_sequences=True))\n",
    "    model.add(Dropout(0.3))\n",
    "    model.add(LSTM(128))\n",
    "    model.add(Dropout(0.2))\n",
    "    model.add(Dense(64, activation='relu'))\n",
    "    model.add(Dense(6, activation='softmax'))\n",
    "\n",
    "    model.compile(optimizer = 'adam' , loss = 'categorical_crossentropy' , metrics = ['accuracy'])\n",
    "\n",
    "    model.summary()\n",
    "    return model\n"
   ]
  },
  {
   "cell_type": "code",
   "execution_count": 11,
   "metadata": {},
   "outputs": [
    {
     "name": "stderr",
     "output_type": "stream",
     "text": [
      "2021-12-09 15:52:49.902708: I tensorflow/core/common_runtime/pluggable_device/pluggable_device_factory.cc:305] Could not identify NUMA node of platform GPU ID 0, defaulting to 0. Your kernel may not have been built with NUMA support.\n",
      "2021-12-09 15:52:49.902885: I tensorflow/core/common_runtime/pluggable_device/pluggable_device_factory.cc:271] Created TensorFlow device (/job:localhost/replica:0/task:0/device:GPU:0 with 0 MB memory) -> physical PluggableDevice (device: 0, name: METAL, pci bus id: <undefined>)\n"
     ]
    },
    {
     "name": "stdout",
     "output_type": "stream",
     "text": [
      "Metal device set to: Apple M1 Pro\n",
      "Model: \"sequential\"\n",
      "_________________________________________________________________\n",
      "Layer (type)                 Output Shape              Param #   \n",
      "=================================================================\n",
      "lstm (LSTM)                  (None, 87, 128)           76288     \n",
      "_________________________________________________________________\n",
      "dropout (Dropout)            (None, 87, 128)           0         \n",
      "_________________________________________________________________\n",
      "lstm_1 (LSTM)                (None, 128)               131584    \n",
      "_________________________________________________________________\n",
      "dropout_1 (Dropout)          (None, 128)               0         \n",
      "_________________________________________________________________\n",
      "dense (Dense)                (None, 64)                8256      \n",
      "_________________________________________________________________\n",
      "dense_1 (Dense)              (None, 6)                 390       \n",
      "=================================================================\n",
      "Total params: 216,518\n",
      "Trainable params: 216,518\n",
      "Non-trainable params: 0\n",
      "_________________________________________________________________\n"
     ]
    }
   ],
   "source": [
    "model = LSTM_Model()"
   ]
  },
  {
   "cell_type": "code",
   "execution_count": 21,
   "metadata": {
    "colab": {
     "background_save": true,
     "base_uri": "https://localhost:8080/"
    },
    "id": "rrhwTjWoE0R0",
    "outputId": "0f022058-adf4-4032-dcca-0df74c0fb815"
   },
   "outputs": [
    {
     "name": "stdout",
     "output_type": "stream",
     "text": [
      "Epoch 1/30\n",
      "37/37 [==============================] - 3s 76ms/step - loss: 1.2828 - accuracy: 0.4793 - val_loss: 1.4065 - val_accuracy: 0.4395\n",
      "Epoch 2/30\n",
      "37/37 [==============================] - 3s 75ms/step - loss: 1.2862 - accuracy: 0.4804 - val_loss: 1.3930 - val_accuracy: 0.4280\n",
      "Epoch 3/30\n",
      "37/37 [==============================] - 3s 75ms/step - loss: 1.2831 - accuracy: 0.4791 - val_loss: 1.3848 - val_accuracy: 0.4127\n",
      "Epoch 4/30\n",
      "37/37 [==============================] - 3s 73ms/step - loss: 1.2691 - accuracy: 0.4889 - val_loss: 1.3957 - val_accuracy: 0.4299\n",
      "Epoch 5/30\n",
      "37/37 [==============================] - 3s 77ms/step - loss: 1.2825 - accuracy: 0.4823 - val_loss: 1.4065 - val_accuracy: 0.4395\n",
      "Epoch 6/30\n",
      "37/37 [==============================] - 3s 75ms/step - loss: 1.2871 - accuracy: 0.4825 - val_loss: 1.4193 - val_accuracy: 0.4127\n",
      "Epoch 7/30\n",
      "37/37 [==============================] - 3s 75ms/step - loss: 1.3048 - accuracy: 0.4716 - val_loss: 1.4187 - val_accuracy: 0.4088\n",
      "Epoch 8/30\n",
      "37/37 [==============================] - 3s 74ms/step - loss: 1.2958 - accuracy: 0.4699 - val_loss: 1.4101 - val_accuracy: 0.4299\n",
      "Epoch 9/30\n",
      "37/37 [==============================] - 3s 74ms/step - loss: 1.2764 - accuracy: 0.4806 - val_loss: 1.4005 - val_accuracy: 0.4511\n",
      "Epoch 10/30\n",
      "37/37 [==============================] - 3s 75ms/step - loss: 1.2903 - accuracy: 0.4759 - val_loss: 1.4038 - val_accuracy: 0.4280\n",
      "Epoch 11/30\n",
      "37/37 [==============================] - 3s 74ms/step - loss: 1.2890 - accuracy: 0.4714 - val_loss: 1.4046 - val_accuracy: 0.4261\n",
      "Epoch 12/30\n",
      "37/37 [==============================] - 3s 74ms/step - loss: 1.2790 - accuracy: 0.4925 - val_loss: 1.4460 - val_accuracy: 0.3992\n",
      "Epoch 13/30\n",
      "37/37 [==============================] - 3s 74ms/step - loss: 1.3192 - accuracy: 0.4661 - val_loss: 1.4482 - val_accuracy: 0.4223\n",
      "Epoch 14/30\n",
      "37/37 [==============================] - 3s 75ms/step - loss: 1.3377 - accuracy: 0.4509 - val_loss: 1.4613 - val_accuracy: 0.4107\n",
      "Epoch 15/30\n",
      "37/37 [==============================] - 3s 75ms/step - loss: 1.3432 - accuracy: 0.4480 - val_loss: 1.4576 - val_accuracy: 0.4088\n",
      "Epoch 16/30\n",
      "37/37 [==============================] - 3s 75ms/step - loss: 1.3327 - accuracy: 0.4512 - val_loss: 1.4362 - val_accuracy: 0.4050\n",
      "Epoch 17/30\n",
      "37/37 [==============================] - 3s 75ms/step - loss: 1.3145 - accuracy: 0.4674 - val_loss: 1.4286 - val_accuracy: 0.4242\n",
      "Epoch 18/30\n",
      "37/37 [==============================] - 3s 74ms/step - loss: 1.3011 - accuracy: 0.4723 - val_loss: 1.3973 - val_accuracy: 0.4242\n",
      "Epoch 19/30\n",
      "37/37 [==============================] - 3s 74ms/step - loss: 1.2949 - accuracy: 0.4744 - val_loss: 1.4163 - val_accuracy: 0.4031\n",
      "Epoch 20/30\n",
      "37/37 [==============================] - 3s 74ms/step - loss: 1.2913 - accuracy: 0.4699 - val_loss: 1.3821 - val_accuracy: 0.4319\n",
      "Epoch 21/30\n",
      "37/37 [==============================] - 3s 74ms/step - loss: 1.2904 - accuracy: 0.4733 - val_loss: 1.4171 - val_accuracy: 0.4107\n",
      "Epoch 22/30\n",
      "37/37 [==============================] - 3s 74ms/step - loss: 1.2890 - accuracy: 0.4819 - val_loss: 1.3915 - val_accuracy: 0.4319\n",
      "Epoch 23/30\n",
      "37/37 [==============================] - 3s 75ms/step - loss: 1.2840 - accuracy: 0.4774 - val_loss: 1.3985 - val_accuracy: 0.4299\n",
      "Epoch 24/30\n",
      "37/37 [==============================] - 3s 75ms/step - loss: 1.2701 - accuracy: 0.4902 - val_loss: 1.4076 - val_accuracy: 0.4357\n",
      "Epoch 25/30\n",
      "37/37 [==============================] - 3s 74ms/step - loss: 1.2641 - accuracy: 0.4915 - val_loss: 1.3911 - val_accuracy: 0.4472\n",
      "Epoch 26/30\n",
      "37/37 [==============================] - 3s 74ms/step - loss: 1.2602 - accuracy: 0.5028 - val_loss: 1.4002 - val_accuracy: 0.4146\n",
      "Epoch 27/30\n",
      "37/37 [==============================] - 3s 76ms/step - loss: 1.2581 - accuracy: 0.4949 - val_loss: 1.3948 - val_accuracy: 0.4223\n",
      "Epoch 28/30\n",
      "37/37 [==============================] - 3s 80ms/step - loss: 1.2835 - accuracy: 0.4804 - val_loss: 1.4173 - val_accuracy: 0.4376\n",
      "Epoch 29/30\n",
      "37/37 [==============================] - 3s 75ms/step - loss: 1.2843 - accuracy: 0.4859 - val_loss: 1.3894 - val_accuracy: 0.4223\n",
      "Epoch 30/30\n",
      "37/37 [==============================] - 3s 74ms/step - loss: 1.2730 - accuracy: 0.4840 - val_loss: 1.4317 - val_accuracy: 0.4357\n"
     ]
    }
   ],
   "source": [
    "history = model.fit(X_train, y_train, validation_split = 0.1, batch_size=128, epochs=30) #50"
   ]
  },
  {
   "cell_type": "code",
   "execution_count": 22,
   "metadata": {
    "colab": {
     "base_uri": "https://localhost:8080/",
     "height": 731
    },
    "id": "ShJw3EKnTfIH",
    "outputId": "b4fc0ac5-e65a-4c59-dd4f-4913ed781ff9"
   },
   "outputs": [
    {
     "name": "stdout",
     "output_type": "stream",
     "text": [
      "70/70 [==============================] - 2s 23ms/step - loss: 1.4115 - accuracy: 0.4536\n",
      "Test Accuracy:  0.4536497890949249\n"
     ]
    }
   ],
   "source": [
    "test_loss, test_acc = model.evaluate(X_test, y_test)\n",
    "print(\"Test Accuracy: \",test_acc)"
   ]
  },
  {
   "cell_type": "code",
   "execution_count": 23,
   "metadata": {},
   "outputs": [],
   "source": [
    "from sklearn.metrics import confusion_matrix, ConfusionMatrixDisplay\n",
    "from sklearn.metrics import accuracy_score, f1_score\n",
    "labels = ['anger', 'disgust', 'fear', 'happy', 'neutral', 'sad']"
   ]
  },
  {
   "cell_type": "code",
   "execution_count": 24,
   "metadata": {},
   "outputs": [
    {
     "name": "stdout",
     "output_type": "stream",
     "text": [
      "accuracy score for Train set is: 0.5144941447494721\n",
      "accuracy score for Test set is:  0.4536497984773847\n",
      "[Anger, disgust, fear, happy, neutral, sad]\n",
      "F1 score for Train set is: [0.7457441  0.43994943 0.38941399 0.46421268 0.45095168 0.55270655]\n",
      "F1 score for Test set is:  [0.65400271 0.35082459 0.27785818 0.44419134 0.4274062  0.52954545]\n"
     ]
    },
    {
     "data": {
      "text/plain": [
       "<sklearn.metrics._plot.confusion_matrix.ConfusionMatrixDisplay at 0x29c556220>"
      ]
     },
     "execution_count": 24,
     "metadata": {},
     "output_type": "execute_result"
    },
    {
     "data": {
      "image/png": "[encoded data removed]",
      "text/plain": [
       "<Figure size 432x288 with 2 Axes>"
      ]
     },
     "metadata": {
      "needs_background": "light"
     },
     "output_type": "display_data"
    }
   ],
   "source": [
    "pred = model.predict(X_train)\n",
    "pred_test = model.predict(X_test)\n",
    "\n",
    "print(\"accuracy score for Train set is:\", accuracy_score(np.argmax(y_train,axis =1), np.argmax(pred,axis=1)))\n",
    "print(\"accuracy score for Test set is: \", accuracy_score(np.argmax(y_test,axis =1), np.argmax(pred_test,axis=1)))\n",
    "print(\"[Anger, disgust, fear, happy, neutral, sad]\")\n",
    "print(\"F1 score for Train set is:\", f1_score(np.argmax(y_train,axis =1), np.argmax(pred,axis=1), average = None))\n",
    "print(\"F1 score for Test set is: \", f1_score(np.argmax(y_test,axis =1), np.argmax(pred_test,axis=1), average = None))\n",
    "\n",
    "cm = confusion_matrix(np.argmax(y_test,axis =1), np.argmax(pred_test,axis=1))\n",
    "cm = cm/ cm.astype(np.float64).sum(axis=1)\n",
    "disp = ConfusionMatrixDisplay(confusion_matrix=cm, display_labels = labels)\n",
    "disp.plot()"
   ]
  },
  {
   "cell_type": "code",
   "execution_count": null,
   "metadata": {},
   "outputs": [],
   "source": []
  }
 ],
 "metadata": {
  "accelerator": "TPU",
  "colab": {
   "machine_shape": "hm",
   "name": "MFCC_RNN.ipynb",
   "provenance": []
  },
  "kernelspec": {
   "display_name": "Python 3 (ipykernel)",
   "language": "python",
   "name": "python3"
  },
  "language_info": {
   "codemirror_mode": {
    "name": "ipython",
    "version": 3
   },
   "file_extension": ".py",
   "mimetype": "text/x-python",
   "name": "python",
   "nbconvert_exporter": "python",
   "pygments_lexer": "ipython3",
   "version": "3.9.7"
  }
 },
 "nbformat": 4,
 "nbformat_minor": 1
}

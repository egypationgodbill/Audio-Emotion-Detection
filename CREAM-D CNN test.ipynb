{
 "cells": [
  {
   "cell_type": "code",
   "execution_count": 24,
   "metadata": {},
   "outputs": [],
   "source": [
    "import librosa\n",
    "import numpy as np\n",
    "import IPython\n",
    "import pandas as pd\n",
    "import sys\n",
    "import os \n",
    "import warnings\n",
    "import time\n",
    "\n",
    "#we will see it later.\n",
    "import librosa\n",
    "import librosa.display\n",
    "\n",
    "import seaborn as sns\n",
    "import matplotlib.pyplot as plt\n",
    "\n",
    "import np_utils\n",
    "\n",
    "#importing librarys"
   ]
  },
  {
   "cell_type": "code",
   "execution_count": 346,
   "metadata": {},
   "outputs": [],
   "source": [
    "from sklearn.preprocessing import StandardScaler, OneHotEncoder\n",
    "from sklearn.metrics import confusion_matrix, classification_report\n",
    "from sklearn.model_selection import train_test_split\n",
    "from sklearn.metrics import confusion_matrix\n",
    "from sklearn import svm, datasets\n",
    "\n",
    "import sklearn\n",
    "from sklearn.linear_model import LogisticRegression\n",
    "from sklearn.metrics import f1_score #computes F1 score\n",
    "from sklearn.metrics import accuracy_score #compute accuracy\n",
    "# to play the audio files\n",
    "from IPython.display import Audio\n",
    "\n",
    "from tensorflow import keras\n",
    "from tensorflow.keras.callbacks import ReduceLROnPlateau\n",
    "from tensorflow.keras.models import Sequential\n",
    "from tensorflow.keras.layers import Dense, Conv1D, MaxPooling1D, Flatten, Dropout, BatchNormalization\n",
    "from tensorflow.keras.utils import to_categorical\n"
   ]
  },
  {
   "cell_type": "code",
   "execution_count": 347,
   "metadata": {},
   "outputs": [],
   "source": [
    "import os\n",
    "import pandas as pd"
   ]
  },
  {
   "cell_type": "code",
   "execution_count": 348,
   "metadata": {},
   "outputs": [
    {
     "name": "stdout",
     "output_type": "stream",
     "text": [
      "/Users/zeyuanli/Dropbox/Github/Librosa test/AudioWAV\n"
     ]
    }
   ],
   "source": [
    "cwd = os.getcwd()\n",
    "print(cwd)\n",
    "os.chdir('/Users/zeyuanli/Dropbox/Github/Librosa test'+'/AudioWAV')\n",
    "#change the directory to AudioMP3"
   ]
  },
  {
   "cell_type": "code",
   "execution_count": 357,
   "metadata": {},
   "outputs": [
    {
     "data": {
      "text/plain": [
       "((16744, 160, 1), (16744, 6), (5582, 160, 1), (5582, 6))"
      ]
     },
     "execution_count": 357,
     "metadata": {},
     "output_type": "execute_result"
    }
   ],
   "source": [
    "#Use this to read from CSV directly\n",
    "Features = pd.read_csv(\"features.csv\")\n",
    "X = Features.iloc[: ,:-3].values\n",
    "Y = Features['labels'].values\n",
    "\n",
    "#only call this for CNN # As this is a multiclass classification problem onehotencoding our Y.\n",
    "encoder = OneHotEncoder()\n",
    "Y = encoder.fit_transform(Y.reshape(-1,1)).toarray()\n",
    "\n",
    "# splitting data\n",
    "x_train, x_test, y_train, y_test = train_test_split(X, Y, random_state=0, shuffle=True)\n",
    "x_train.shape, y_train.shape, x_test.shape, y_test.shape\n",
    "\n",
    "# scaling our data with sklearn's Standard scaler\n",
    "scaler = StandardScaler()\n",
    "x_train = scaler.fit_transform(x_train)\n",
    "x_test = scaler.transform(x_test)\n",
    "x_train.shape, y_train.shape, x_test.shape, y_test.shape\n",
    "\n",
    "# making our data compatible to model.\n",
    "x_train = np.expand_dims(x_train, axis=2)\n",
    "x_test = np.expand_dims(x_test, axis=2)\n",
    "x_train.shape, y_train.shape, x_test.shape, y_test.shape"
   ]
  },
  {
   "cell_type": "code",
   "execution_count": 38,
   "metadata": {},
   "outputs": [],
   "source": [
    "def create_cnn_with_drop ( ) :\n",
    "    model = Sequential()\n",
    "    model.add(Conv1D(256, kernel_size=5, strides=1, padding='same', activation='relu', input_shape=(x_train.shape[1], 1)))\n",
    "    model.add(MaxPooling1D(pool_size=5, strides = 2, padding = 'same'))\n",
    "    model.add(Dropout(0.35))\n",
    "    \n",
    "    model.add(Conv1D(256, kernel_size=5, strides=1, padding='same', activation='relu'))\n",
    "    model.add(MaxPooling1D(pool_size=5, strides = 2, padding = 'same'))\n",
    "    model.add(Dropout(0.2))\n",
    "        \n",
    "    model.add(Conv1D(128, kernel_size=5, strides=1, padding='same', activation='relu'))\n",
    "    model.add(MaxPooling1D(pool_size=5, strides = 2, padding = 'same'))\n",
    "    model.add(Dropout(0.2))\n",
    "\n",
    "    model.add(Conv1D(64, kernel_size=5, strides=1, padding='same', activation='relu'))\n",
    "    model.add(MaxPooling1D(pool_size=5, strides = 2, padding = 'same'))\n",
    "\n",
    "    model.add(Flatten())\n",
    "    model.add(Dense(units=32, activation='relu'))\n",
    "    model.add(Dropout(0.3))\n",
    "\n",
    "    model.add(Dense(units=6, activation='softmax'))\n",
    "    model.compile(optimizer = 'adam' , loss = 'categorical_crossentropy' , metrics = ['accuracy'])\n",
    "\n",
    "    model.summary()\n",
    "    return model"
   ]
  },
  {
   "cell_type": "code",
   "execution_count": 39,
   "metadata": {},
   "outputs": [],
   "source": [
    "def create_cnn_with_drop2 ( ) :\n",
    "    model = Sequential()\n",
    "    model.add(Conv1D(256, kernel_size=5, strides=1, padding='same', activation='relu', input_shape=(x_train.shape[1], 1)))\n",
    "    model.add(MaxPooling1D(pool_size=5, strides = 2, padding = 'same'))\n",
    "    model.add(Dropout(0.5))\n",
    "    \n",
    "    model.add(Conv1D(256, kernel_size=5, strides=1, padding='same', activation='relu'))\n",
    "    model.add(MaxPooling1D(pool_size=5, strides = 2, padding = 'same'))\n",
    "    model.add(Dropout(0.4))\n",
    "        \n",
    "    model.add(Conv1D(128, kernel_size=5, strides=1, padding='same', activation='relu'))\n",
    "    model.add(MaxPooling1D(pool_size=5, strides = 2, padding = 'same'))\n",
    "    model.add(Dropout(0.2))\n",
    "\n",
    "    model.add(Conv1D(64, kernel_size=5, strides=1, padding='same', activation='relu'))\n",
    "    model.add(MaxPooling1D(pool_size=5, strides = 2, padding = 'same'))\n",
    "\n",
    "    model.add(Flatten())\n",
    "    model.add(Dense(units=32, activation='relu'))\n",
    "    model.add(Dropout(0.3))\n",
    "\n",
    "    model.add(Dense(units=6, activation='softmax'))\n",
    "    model.compile(optimizer = 'adam' , loss = 'categorical_crossentropy' , metrics = ['accuracy'])\n",
    "\n",
    "    model.summary()\n",
    "    return model"
   ]
  },
  {
   "cell_type": "code",
   "execution_count": 40,
   "metadata": {},
   "outputs": [
    {
     "name": "stdout",
     "output_type": "stream",
     "text": [
      "Model: \"sequential_1\"\n",
      "_________________________________________________________________\n",
      "Layer (type)                 Output Shape              Param #   \n",
      "=================================================================\n",
      "conv1d_4 (Conv1D)            (None, 160, 256)          1536      \n",
      "_________________________________________________________________\n",
      "max_pooling1d_4 (MaxPooling1 (None, 80, 256)           0         \n",
      "_________________________________________________________________\n",
      "dropout_4 (Dropout)          (None, 80, 256)           0         \n",
      "_________________________________________________________________\n",
      "conv1d_5 (Conv1D)            (None, 80, 256)           327936    \n",
      "_________________________________________________________________\n",
      "max_pooling1d_5 (MaxPooling1 (None, 40, 256)           0         \n",
      "_________________________________________________________________\n",
      "dropout_5 (Dropout)          (None, 40, 256)           0         \n",
      "_________________________________________________________________\n",
      "conv1d_6 (Conv1D)            (None, 40, 128)           163968    \n",
      "_________________________________________________________________\n",
      "max_pooling1d_6 (MaxPooling1 (None, 20, 128)           0         \n",
      "_________________________________________________________________\n",
      "dropout_6 (Dropout)          (None, 20, 128)           0         \n",
      "_________________________________________________________________\n",
      "conv1d_7 (Conv1D)            (None, 20, 64)            41024     \n",
      "_________________________________________________________________\n",
      "max_pooling1d_7 (MaxPooling1 (None, 10, 64)            0         \n",
      "_________________________________________________________________\n",
      "flatten_1 (Flatten)          (None, 640)               0         \n",
      "_________________________________________________________________\n",
      "dense_2 (Dense)              (None, 32)                20512     \n",
      "_________________________________________________________________\n",
      "dropout_7 (Dropout)          (None, 32)                0         \n",
      "_________________________________________________________________\n",
      "dense_3 (Dense)              (None, 6)                 198       \n",
      "=================================================================\n",
      "Total params: 555,174\n",
      "Trainable params: 555,174\n",
      "Non-trainable params: 0\n",
      "_________________________________________________________________\n"
     ]
    }
   ],
   "source": [
    "model = create_cnn_with_drop2 ()"
   ]
  },
  {
   "cell_type": "code",
   "execution_count": 41,
   "metadata": {},
   "outputs": [],
   "source": [
    "import os\n",
    "os.environ['KMP_DUPLICATE_LIB_OK']='Tre'"
   ]
  },
  {
   "cell_type": "code",
   "execution_count": 43,
   "metadata": {},
   "outputs": [
    {
     "name": "stdout",
     "output_type": "stream",
     "text": [
      "Epoch 1/50\n",
      "118/118 [==============================] - 3s 28ms/step - loss: 1.5429 - accuracy: 0.3454 - val_loss: 1.5027 - val_accuracy: 0.3719\n",
      "Epoch 2/50\n",
      "118/118 [==============================] - 3s 28ms/step - loss: 1.5286 - accuracy: 0.3588 - val_loss: 1.5124 - val_accuracy: 0.3922\n",
      "Epoch 3/50\n",
      "118/118 [==============================] - 3s 27ms/step - loss: 1.5101 - accuracy: 0.3606 - val_loss: 1.4802 - val_accuracy: 0.4012\n",
      "Epoch 4/50\n",
      "118/118 [==============================] - 3s 28ms/step - loss: 1.5040 - accuracy: 0.3763 - val_loss: 1.4449 - val_accuracy: 0.4084\n",
      "Epoch 5/50\n",
      " 87/118 [=====================>........] - ETA: 0s - loss: 1.4910 - accuracy: 0.3730"
     ]
    },
    {
     "ename": "KeyboardInterrupt",
     "evalue": "",
     "output_type": "error",
     "traceback": [
      "\u001b[0;31m---------------------------------------------------------------------------\u001b[0m",
      "\u001b[0;31mKeyboardInterrupt\u001b[0m                         Traceback (most recent call last)",
      "\u001b[0;32m/var/folders/dm/tglj4hl14q7cg0z7dt_g8prr0000gn/T/ipykernel_35718/3636008363.py\u001b[0m in \u001b[0;36m<module>\u001b[0;34m\u001b[0m\n\u001b[1;32m      1\u001b[0m \u001b[0mrlrp\u001b[0m \u001b[0;34m=\u001b[0m \u001b[0mReduceLROnPlateau\u001b[0m\u001b[0;34m(\u001b[0m\u001b[0mmonitor\u001b[0m\u001b[0;34m=\u001b[0m\u001b[0;34m'loss'\u001b[0m\u001b[0;34m,\u001b[0m \u001b[0mfactor\u001b[0m\u001b[0;34m=\u001b[0m\u001b[0;36m0.4\u001b[0m\u001b[0;34m,\u001b[0m \u001b[0mverbose\u001b[0m\u001b[0;34m=\u001b[0m\u001b[0;36m0\u001b[0m\u001b[0;34m,\u001b[0m \u001b[0mpatience\u001b[0m\u001b[0;34m=\u001b[0m\u001b[0;36m2\u001b[0m\u001b[0;34m,\u001b[0m \u001b[0mmin_lr\u001b[0m\u001b[0;34m=\u001b[0m\u001b[0;36m0.0000001\u001b[0m\u001b[0;34m)\u001b[0m\u001b[0;34m\u001b[0m\u001b[0;34m\u001b[0m\u001b[0m\n\u001b[0;32m----> 2\u001b[0;31m \u001b[0mhistory\u001b[0m\u001b[0;34m=\u001b[0m\u001b[0mmodel\u001b[0m\u001b[0;34m.\u001b[0m\u001b[0mfit\u001b[0m\u001b[0;34m(\u001b[0m\u001b[0mx_train\u001b[0m\u001b[0;34m,\u001b[0m \u001b[0my_train\u001b[0m\u001b[0;34m,\u001b[0m \u001b[0mbatch_size\u001b[0m\u001b[0;34m=\u001b[0m\u001b[0;36m128\u001b[0m\u001b[0;34m,\u001b[0m \u001b[0mepochs\u001b[0m\u001b[0;34m=\u001b[0m\u001b[0;36m50\u001b[0m\u001b[0;34m,\u001b[0m \u001b[0mvalidation_split\u001b[0m \u001b[0;34m=\u001b[0m \u001b[0;36m0.1\u001b[0m\u001b[0;34m,\u001b[0m \u001b[0mcallbacks\u001b[0m\u001b[0;34m=\u001b[0m \u001b[0;34m[\u001b[0m\u001b[0mrlrp\u001b[0m\u001b[0;34m]\u001b[0m\u001b[0;34m)\u001b[0m\u001b[0;34m\u001b[0m\u001b[0;34m\u001b[0m\u001b[0m\n\u001b[0m",
      "\u001b[0;32m~/miniforge3/lib/python3.9/site-packages/keras/engine/training.py\u001b[0m in \u001b[0;36mfit\u001b[0;34m(self, x, y, batch_size, epochs, verbose, callbacks, validation_split, validation_data, shuffle, class_weight, sample_weight, initial_epoch, steps_per_epoch, validation_steps, validation_batch_size, validation_freq, max_queue_size, workers, use_multiprocessing)\u001b[0m\n\u001b[1;32m   1182\u001b[0m                 _r=1):\n\u001b[1;32m   1183\u001b[0m               \u001b[0mcallbacks\u001b[0m\u001b[0;34m.\u001b[0m\u001b[0mon_train_batch_begin\u001b[0m\u001b[0;34m(\u001b[0m\u001b[0mstep\u001b[0m\u001b[0;34m)\u001b[0m\u001b[0;34m\u001b[0m\u001b[0;34m\u001b[0m\u001b[0m\n\u001b[0;32m-> 1184\u001b[0;31m               \u001b[0mtmp_logs\u001b[0m \u001b[0;34m=\u001b[0m \u001b[0mself\u001b[0m\u001b[0;34m.\u001b[0m\u001b[0mtrain_function\u001b[0m\u001b[0;34m(\u001b[0m\u001b[0miterator\u001b[0m\u001b[0;34m)\u001b[0m\u001b[0;34m\u001b[0m\u001b[0;34m\u001b[0m\u001b[0m\n\u001b[0m\u001b[1;32m   1185\u001b[0m               \u001b[0;32mif\u001b[0m \u001b[0mdata_handler\u001b[0m\u001b[0;34m.\u001b[0m\u001b[0mshould_sync\u001b[0m\u001b[0;34m:\u001b[0m\u001b[0;34m\u001b[0m\u001b[0;34m\u001b[0m\u001b[0m\n\u001b[1;32m   1186\u001b[0m                 \u001b[0mcontext\u001b[0m\u001b[0;34m.\u001b[0m\u001b[0masync_wait\u001b[0m\u001b[0;34m(\u001b[0m\u001b[0;34m)\u001b[0m\u001b[0;34m\u001b[0m\u001b[0;34m\u001b[0m\u001b[0m\n",
      "\u001b[0;32m~/miniforge3/lib/python3.9/site-packages/tensorflow/python/eager/def_function.py\u001b[0m in \u001b[0;36m__call__\u001b[0;34m(self, *args, **kwds)\u001b[0m\n\u001b[1;32m    883\u001b[0m \u001b[0;34m\u001b[0m\u001b[0m\n\u001b[1;32m    884\u001b[0m       \u001b[0;32mwith\u001b[0m \u001b[0mOptionalXlaContext\u001b[0m\u001b[0;34m(\u001b[0m\u001b[0mself\u001b[0m\u001b[0;34m.\u001b[0m\u001b[0m_jit_compile\u001b[0m\u001b[0;34m)\u001b[0m\u001b[0;34m:\u001b[0m\u001b[0;34m\u001b[0m\u001b[0;34m\u001b[0m\u001b[0m\n\u001b[0;32m--> 885\u001b[0;31m         \u001b[0mresult\u001b[0m \u001b[0;34m=\u001b[0m \u001b[0mself\u001b[0m\u001b[0;34m.\u001b[0m\u001b[0m_call\u001b[0m\u001b[0;34m(\u001b[0m\u001b[0;34m*\u001b[0m\u001b[0margs\u001b[0m\u001b[0;34m,\u001b[0m \u001b[0;34m**\u001b[0m\u001b[0mkwds\u001b[0m\u001b[0;34m)\u001b[0m\u001b[0;34m\u001b[0m\u001b[0;34m\u001b[0m\u001b[0m\n\u001b[0m\u001b[1;32m    886\u001b[0m \u001b[0;34m\u001b[0m\u001b[0m\n\u001b[1;32m    887\u001b[0m       \u001b[0mnew_tracing_count\u001b[0m \u001b[0;34m=\u001b[0m \u001b[0mself\u001b[0m\u001b[0;34m.\u001b[0m\u001b[0mexperimental_get_tracing_count\u001b[0m\u001b[0;34m(\u001b[0m\u001b[0;34m)\u001b[0m\u001b[0;34m\u001b[0m\u001b[0;34m\u001b[0m\u001b[0m\n",
      "\u001b[0;32m~/miniforge3/lib/python3.9/site-packages/tensorflow/python/eager/def_function.py\u001b[0m in \u001b[0;36m_call\u001b[0;34m(self, *args, **kwds)\u001b[0m\n\u001b[1;32m    915\u001b[0m       \u001b[0;31m# In this case we have created variables on the first call, so we run the\u001b[0m\u001b[0;34m\u001b[0m\u001b[0;34m\u001b[0m\u001b[0m\n\u001b[1;32m    916\u001b[0m       \u001b[0;31m# defunned version which is guaranteed to never create variables.\u001b[0m\u001b[0;34m\u001b[0m\u001b[0;34m\u001b[0m\u001b[0m\n\u001b[0;32m--> 917\u001b[0;31m       \u001b[0;32mreturn\u001b[0m \u001b[0mself\u001b[0m\u001b[0;34m.\u001b[0m\u001b[0m_stateless_fn\u001b[0m\u001b[0;34m(\u001b[0m\u001b[0;34m*\u001b[0m\u001b[0margs\u001b[0m\u001b[0;34m,\u001b[0m \u001b[0;34m**\u001b[0m\u001b[0mkwds\u001b[0m\u001b[0;34m)\u001b[0m  \u001b[0;31m# pylint: disable=not-callable\u001b[0m\u001b[0;34m\u001b[0m\u001b[0;34m\u001b[0m\u001b[0m\n\u001b[0m\u001b[1;32m    918\u001b[0m     \u001b[0;32melif\u001b[0m \u001b[0mself\u001b[0m\u001b[0;34m.\u001b[0m\u001b[0m_stateful_fn\u001b[0m \u001b[0;32mis\u001b[0m \u001b[0;32mnot\u001b[0m \u001b[0;32mNone\u001b[0m\u001b[0;34m:\u001b[0m\u001b[0;34m\u001b[0m\u001b[0;34m\u001b[0m\u001b[0m\n\u001b[1;32m    919\u001b[0m       \u001b[0;31m# Release the lock early so that multiple threads can perform the call\u001b[0m\u001b[0;34m\u001b[0m\u001b[0;34m\u001b[0m\u001b[0m\n",
      "\u001b[0;32m~/miniforge3/lib/python3.9/site-packages/tensorflow/python/eager/function.py\u001b[0m in \u001b[0;36m__call__\u001b[0;34m(self, *args, **kwargs)\u001b[0m\n\u001b[1;32m   3037\u001b[0m       (graph_function,\n\u001b[1;32m   3038\u001b[0m        filtered_flat_args) = self._maybe_define_function(args, kwargs)\n\u001b[0;32m-> 3039\u001b[0;31m     return graph_function._call_flat(\n\u001b[0m\u001b[1;32m   3040\u001b[0m         filtered_flat_args, captured_inputs=graph_function.captured_inputs)  # pylint: disable=protected-access\n\u001b[1;32m   3041\u001b[0m \u001b[0;34m\u001b[0m\u001b[0m\n",
      "\u001b[0;32m~/miniforge3/lib/python3.9/site-packages/tensorflow/python/eager/function.py\u001b[0m in \u001b[0;36m_call_flat\u001b[0;34m(self, args, captured_inputs, cancellation_manager)\u001b[0m\n\u001b[1;32m   1961\u001b[0m         and executing_eagerly):\n\u001b[1;32m   1962\u001b[0m       \u001b[0;31m# No tape is watching; skip to running the function.\u001b[0m\u001b[0;34m\u001b[0m\u001b[0;34m\u001b[0m\u001b[0m\n\u001b[0;32m-> 1963\u001b[0;31m       return self._build_call_outputs(self._inference_function.call(\n\u001b[0m\u001b[1;32m   1964\u001b[0m           ctx, args, cancellation_manager=cancellation_manager))\n\u001b[1;32m   1965\u001b[0m     forward_backward = self._select_forward_and_backward_functions(\n",
      "\u001b[0;32m~/miniforge3/lib/python3.9/site-packages/tensorflow/python/eager/function.py\u001b[0m in \u001b[0;36mcall\u001b[0;34m(self, ctx, args, cancellation_manager)\u001b[0m\n\u001b[1;32m    589\u001b[0m       \u001b[0;32mwith\u001b[0m \u001b[0m_InterpolateFunctionError\u001b[0m\u001b[0;34m(\u001b[0m\u001b[0mself\u001b[0m\u001b[0;34m)\u001b[0m\u001b[0;34m:\u001b[0m\u001b[0;34m\u001b[0m\u001b[0;34m\u001b[0m\u001b[0m\n\u001b[1;32m    590\u001b[0m         \u001b[0;32mif\u001b[0m \u001b[0mcancellation_manager\u001b[0m \u001b[0;32mis\u001b[0m \u001b[0;32mNone\u001b[0m\u001b[0;34m:\u001b[0m\u001b[0;34m\u001b[0m\u001b[0;34m\u001b[0m\u001b[0m\n\u001b[0;32m--> 591\u001b[0;31m           outputs = execute.execute(\n\u001b[0m\u001b[1;32m    592\u001b[0m               \u001b[0mstr\u001b[0m\u001b[0;34m(\u001b[0m\u001b[0mself\u001b[0m\u001b[0;34m.\u001b[0m\u001b[0msignature\u001b[0m\u001b[0;34m.\u001b[0m\u001b[0mname\u001b[0m\u001b[0;34m)\u001b[0m\u001b[0;34m,\u001b[0m\u001b[0;34m\u001b[0m\u001b[0;34m\u001b[0m\u001b[0m\n\u001b[1;32m    593\u001b[0m               \u001b[0mnum_outputs\u001b[0m\u001b[0;34m=\u001b[0m\u001b[0mself\u001b[0m\u001b[0;34m.\u001b[0m\u001b[0m_num_outputs\u001b[0m\u001b[0;34m,\u001b[0m\u001b[0;34m\u001b[0m\u001b[0;34m\u001b[0m\u001b[0m\n",
      "\u001b[0;32m~/miniforge3/lib/python3.9/site-packages/tensorflow/python/eager/execute.py\u001b[0m in \u001b[0;36mquick_execute\u001b[0;34m(op_name, num_outputs, inputs, attrs, ctx, name)\u001b[0m\n\u001b[1;32m     57\u001b[0m   \u001b[0;32mtry\u001b[0m\u001b[0;34m:\u001b[0m\u001b[0;34m\u001b[0m\u001b[0;34m\u001b[0m\u001b[0m\n\u001b[1;32m     58\u001b[0m     \u001b[0mctx\u001b[0m\u001b[0;34m.\u001b[0m\u001b[0mensure_initialized\u001b[0m\u001b[0;34m(\u001b[0m\u001b[0;34m)\u001b[0m\u001b[0;34m\u001b[0m\u001b[0;34m\u001b[0m\u001b[0m\n\u001b[0;32m---> 59\u001b[0;31m     tensors = pywrap_tfe.TFE_Py_Execute(ctx._handle, device_name, op_name,\n\u001b[0m\u001b[1;32m     60\u001b[0m                                         inputs, attrs, num_outputs)\n\u001b[1;32m     61\u001b[0m   \u001b[0;32mexcept\u001b[0m \u001b[0mcore\u001b[0m\u001b[0;34m.\u001b[0m\u001b[0m_NotOkStatusException\u001b[0m \u001b[0;32mas\u001b[0m \u001b[0me\u001b[0m\u001b[0;34m:\u001b[0m\u001b[0;34m\u001b[0m\u001b[0;34m\u001b[0m\u001b[0m\n",
      "\u001b[0;31mKeyboardInterrupt\u001b[0m: "
     ]
    }
   ],
   "source": [
    "rlrp = ReduceLROnPlateau(monitor='loss', factor=0.4, verbose=0, patience=2, min_lr=0.0000001)\n",
    "history=model.fit(x_train, y_train, batch_size=128, epochs=50, validation_split = 0.1, callbacks= [rlrp]) "
   ]
  },
  {
   "cell_type": "code",
   "execution_count": 20,
   "metadata": {},
   "outputs": [
    {
     "name": "stdout",
     "output_type": "stream",
     "text": [
      "175/175 [==============================] - 1s 8ms/step - loss: 1.5812 - accuracy: 0.3617\n"
     ]
    },
    {
     "data": {
      "text/plain": [
       "[1.5811767578125, 0.36169832944869995]"
      ]
     },
     "execution_count": 20,
     "metadata": {},
     "output_type": "execute_result"
    }
   ],
   "source": [
    "model.evaluate(x_test, y_test)"
   ]
  },
  {
   "cell_type": "code",
   "execution_count": 21,
   "metadata": {},
   "outputs": [
    {
     "name": "stderr",
     "output_type": "stream",
     "text": [
      "2021-12-09 16:58:06.421489: I tensorflow/core/grappler/optimizers/custom_graph_optimizer_registry.cc:112] Plugin optimizer for device_type GPU is enabled.\n"
     ]
    }
   ],
   "source": [
    "pred = model.predict(x_train)\n",
    "pred_test = model.predict(x_test)"
   ]
  },
  {
   "cell_type": "code",
   "execution_count": 22,
   "metadata": {},
   "outputs": [
    {
     "name": "stdout",
     "output_type": "stream",
     "text": [
      "accuracy score for Train set is: 0.3604873387482083\n",
      "accuracy score for Test set is:  0.36169831601576496\n",
      "[Anger, disgust, fear, happy, neutral, sad]\n",
      "F1 score for Train set is: [0.59202321 0.32522463 0.03249831 0.33555344 0.00879297 0.48869413]\n",
      "F1 score for Test set is:  [0.59514687 0.32310705 0.0358209  0.32380029 0.0075188  0.49867374]\n"
     ]
    }
   ],
   "source": [
    "print(\"accuracy score for Train set is:\", accuracy_score(np.argmax(y_train,axis =1), np.argmax(pred,axis=1)))\n",
    "print(\"accuracy score for Test set is: \", accuracy_score(np.argmax(y_test,axis =1), np.argmax(pred_test,axis=1)))\n",
    "print(\"[Anger, disgust, fear, happy, neutral, sad]\")\n",
    "print(\"F1 score for Train set is:\", f1_score(np.argmax(y_train,axis =1), np.argmax(pred,axis=1), average = None))\n",
    "print(\"F1 score for Test set is: \", f1_score(np.argmax(y_test,axis =1), np.argmax(pred_test,axis=1), average = None))"
   ]
  },
  {
   "cell_type": "code",
   "execution_count": 23,
   "metadata": {},
   "outputs": [
    {
     "name": "stdout",
     "output_type": "stream",
     "text": [
      "('You must install pydot (`pip install pydot`) and install graphviz (see instructions at https://graphviz.gitlab.io/download/) ', 'for plot_model/model_to_dot to work.')\n"
     ]
    }
   ],
   "source": [
    "from keras.utils.vis_utils import plot_model\n",
    "plot_model(model, show_shapes=True, show_layer_names=True)"
   ]
  },
  {
   "cell_type": "code",
   "execution_count": 24,
   "metadata": {},
   "outputs": [],
   "source": [
    "from sklearn.model_selection import RepeatedKFold\n",
    "from sklearn.model_selection import KFold\n",
    "from sklearn.model_selection import cross_val_score"
   ]
  },
  {
   "cell_type": "code",
   "execution_count": 25,
   "metadata": {},
   "outputs": [],
   "source": [
    "# trying out cross validation\n",
    "#cv = RepeatedKFold(n_splits=10, n_repeats=3, random_state=1)\n",
    "#scores = cross_val_score(model, X, Y, scoring='accuracy', cv=cv, n_jobs=-1)"
   ]
  },
  {
   "cell_type": "code",
   "execution_count": 48,
   "metadata": {},
   "outputs": [],
   "source": [
    "from sklearn.metrics import confusion_matrix, ConfusionMatrixDisplay\n",
    "cm = confusion_matrix(np.argmax(y_test,axis =1), np.argmax(pred_test,axis=1))\n",
    "cm = cm/ cm.astype(np.float64).sum(axis=1)"
   ]
  },
  {
   "cell_type": "code",
   "execution_count": 50,
   "metadata": {},
   "outputs": [
    {
     "data": {
      "text/plain": [
       "<sklearn.metrics._plot.confusion_matrix.ConfusionMatrixDisplay at 0x2bd793c40>"
      ]
     },
     "execution_count": 50,
     "metadata": {},
     "output_type": "execute_result"
    },
    {
     "data": {
      "image/png": "[encoded data removed]",
      "text/plain": [
       "<Figure size 432x288 with 2 Axes>"
      ]
     },
     "metadata": {
      "needs_background": "light"
     },
     "output_type": "display_data"
    }
   ],
   "source": [
    "labels = ['anger', 'disgust', 'fear', 'happy', 'neutral', 'sad']\n",
    "disp = ConfusionMatrixDisplay(confusion_matrix=cm, display_labels = labels)\n",
    "disp.plot()"
   ]
  },
  {
   "cell_type": "code",
   "execution_count": 28,
   "metadata": {},
   "outputs": [],
   "source": [
    "kfold = KFold(n_splits=20, shuffle=True)\n",
    "inputs = x_train\n",
    "targets = y_train\n",
    "\n",
    "\n",
    "# Define per-fold score containers\n",
    "acc_per_fold = []\n",
    "loss_per_fold = []"
   ]
  },
  {
   "cell_type": "code",
   "execution_count": 29,
   "metadata": {},
   "outputs": [
    {
     "data": {
      "text/plain": [
       "((16744, 162, 1), (16744, 6))"
      ]
     },
     "execution_count": 29,
     "metadata": {},
     "output_type": "execute_result"
    }
   ],
   "source": [
    "inputs.shape, targets.shape"
   ]
  },
  {
   "cell_type": "code",
   "execution_count": 30,
   "metadata": {},
   "outputs": [
    {
     "name": "stdout",
     "output_type": "stream",
     "text": [
      "Model: \"sequential_1\"\n",
      "_________________________________________________________________\n",
      "Layer (type)                 Output Shape              Param #   \n",
      "=================================================================\n",
      "conv1d_4 (Conv1D)            (None, 162, 256)          1536      \n",
      "_________________________________________________________________\n",
      "max_pooling1d_4 (MaxPooling1 (None, 81, 256)           0         \n",
      "_________________________________________________________________\n",
      "dropout_4 (Dropout)          (None, 81, 256)           0         \n",
      "_________________________________________________________________\n",
      "conv1d_5 (Conv1D)            (None, 81, 256)           327936    \n",
      "_________________________________________________________________\n",
      "max_pooling1d_5 (MaxPooling1 (None, 41, 256)           0         \n",
      "_________________________________________________________________\n",
      "dropout_5 (Dropout)          (None, 41, 256)           0         \n",
      "_________________________________________________________________\n",
      "conv1d_6 (Conv1D)            (None, 41, 128)           163968    \n",
      "_________________________________________________________________\n",
      "max_pooling1d_6 (MaxPooling1 (None, 21, 128)           0         \n",
      "_________________________________________________________________\n",
      "dropout_6 (Dropout)          (None, 21, 128)           0         \n",
      "_________________________________________________________________\n",
      "conv1d_7 (Conv1D)            (None, 21, 64)            41024     \n",
      "_________________________________________________________________\n",
      "max_pooling1d_7 (MaxPooling1 (None, 11, 64)            0         \n",
      "_________________________________________________________________\n",
      "flatten_1 (Flatten)          (None, 704)               0         \n",
      "_________________________________________________________________\n",
      "dense_2 (Dense)              (None, 32)                22560     \n",
      "_________________________________________________________________\n",
      "dropout_7 (Dropout)          (None, 32)                0         \n",
      "_________________________________________________________________\n",
      "dense_3 (Dense)              (None, 6)                 198       \n",
      "=================================================================\n",
      "Total params: 557,222\n",
      "Trainable params: 557,222\n",
      "Non-trainable params: 0\n",
      "_________________________________________________________________\n",
      "[[-0.55357578]\n",
      " [-1.00619373]\n",
      " [-1.57866721]\n",
      " [-1.64343617]\n",
      " [-1.24811964]]\n",
      "[0. 0. 1. 0. 0. 0.]\n",
      "Epoch 1/10\n"
     ]
    },
    {
     "name": "stderr",
     "output_type": "stream",
     "text": [
      "2021-12-09 16:49:14.438014: I tensorflow/core/grappler/optimizers/custom_graph_optimizer_registry.cc:112] Plugin optimizer for device_type GPU is enabled.\n"
     ]
    },
    {
     "name": "stdout",
     "output_type": "stream",
     "text": [
      "224/224 [==============================] - ETA: 0s - loss: 1.6572 - accuracy: 0.2898"
     ]
    },
    {
     "name": "stderr",
     "output_type": "stream",
     "text": [
      "2021-12-09 16:49:18.463070: I tensorflow/core/grappler/optimizers/custom_graph_optimizer_registry.cc:112] Plugin optimizer for device_type GPU is enabled.\n"
     ]
    },
    {
     "ename": "KeyboardInterrupt",
     "evalue": "",
     "output_type": "error",
     "traceback": [
      "\u001b[0;31m---------------------------------------------------------------------------\u001b[0m",
      "\u001b[0;31mKeyboardInterrupt\u001b[0m                         Traceback (most recent call last)",
      "\u001b[0;32m/var/folders/dm/tglj4hl14q7cg0z7dt_g8prr0000gn/T/ipykernel_35549/705214639.py\u001b[0m in \u001b[0;36m<module>\u001b[0;34m\u001b[0m\n\u001b[1;32m      5\u001b[0m \u001b[0;32mfor\u001b[0m \u001b[0mtrain\u001b[0m\u001b[0;34m,\u001b[0m \u001b[0mtest\u001b[0m \u001b[0;32min\u001b[0m \u001b[0mkfold\u001b[0m\u001b[0;34m.\u001b[0m\u001b[0msplit\u001b[0m\u001b[0;34m(\u001b[0m\u001b[0minputs\u001b[0m\u001b[0;34m)\u001b[0m\u001b[0;34m:\u001b[0m\u001b[0;34m\u001b[0m\u001b[0;34m\u001b[0m\u001b[0m\n\u001b[1;32m      6\u001b[0m \u001b[0;34m\u001b[0m\u001b[0m\n\u001b[0;32m----> 7\u001b[0;31m     \u001b[0mhistory\u001b[0m\u001b[0;34m=\u001b[0m\u001b[0mmodel\u001b[0m\u001b[0;34m.\u001b[0m\u001b[0mfit\u001b[0m\u001b[0;34m(\u001b[0m\u001b[0minputs\u001b[0m\u001b[0;34m[\u001b[0m\u001b[0mtrain\u001b[0m\u001b[0;34m]\u001b[0m\u001b[0;34m,\u001b[0m \u001b[0mtargets\u001b[0m\u001b[0;34m[\u001b[0m\u001b[0mtrain\u001b[0m\u001b[0;34m]\u001b[0m\u001b[0;34m,\u001b[0m \u001b[0mbatch_size\u001b[0m\u001b[0;34m=\u001b[0m\u001b[0;36m64\u001b[0m\u001b[0;34m,\u001b[0m \u001b[0mepochs\u001b[0m\u001b[0;34m=\u001b[0m\u001b[0;36m10\u001b[0m\u001b[0;34m,\u001b[0m \u001b[0mvalidation_split\u001b[0m \u001b[0;34m=\u001b[0m \u001b[0;36m0.1\u001b[0m\u001b[0;34m,\u001b[0m \u001b[0mcallbacks\u001b[0m\u001b[0;34m=\u001b[0m \u001b[0;34m[\u001b[0m\u001b[0mrlrp\u001b[0m\u001b[0;34m]\u001b[0m\u001b[0;34m,\u001b[0m \u001b[0mverbose\u001b[0m \u001b[0;34m=\u001b[0m \u001b[0;36m1\u001b[0m\u001b[0;34m)\u001b[0m\u001b[0;34m\u001b[0m\u001b[0;34m\u001b[0m\u001b[0m\n\u001b[0m\u001b[1;32m      8\u001b[0m \u001b[0;34m\u001b[0m\u001b[0m\n\u001b[1;32m      9\u001b[0m     \u001b[0mscores\u001b[0m \u001b[0;34m=\u001b[0m \u001b[0mmodel\u001b[0m\u001b[0;34m.\u001b[0m\u001b[0mevaluate\u001b[0m\u001b[0;34m(\u001b[0m\u001b[0minputs\u001b[0m\u001b[0;34m[\u001b[0m\u001b[0mtest\u001b[0m\u001b[0;34m]\u001b[0m\u001b[0;34m,\u001b[0m \u001b[0mtargets\u001b[0m\u001b[0;34m[\u001b[0m\u001b[0mtest\u001b[0m\u001b[0;34m]\u001b[0m\u001b[0;34m,\u001b[0m \u001b[0mverbose\u001b[0m\u001b[0;34m=\u001b[0m\u001b[0;36m0\u001b[0m\u001b[0;34m)\u001b[0m\u001b[0;34m\u001b[0m\u001b[0;34m\u001b[0m\u001b[0m\n",
      "\u001b[0;32m~/miniforge3/lib/python3.9/site-packages/keras/engine/training.py\u001b[0m in \u001b[0;36mfit\u001b[0;34m(self, x, y, batch_size, epochs, verbose, callbacks, validation_split, validation_data, shuffle, class_weight, sample_weight, initial_epoch, steps_per_epoch, validation_steps, validation_batch_size, validation_freq, max_queue_size, workers, use_multiprocessing)\u001b[0m\n\u001b[1;32m   1213\u001b[0m                 \u001b[0mmodel\u001b[0m\u001b[0;34m=\u001b[0m\u001b[0mself\u001b[0m\u001b[0;34m,\u001b[0m\u001b[0;34m\u001b[0m\u001b[0;34m\u001b[0m\u001b[0m\n\u001b[1;32m   1214\u001b[0m                 steps_per_execution=self._steps_per_execution)\n\u001b[0;32m-> 1215\u001b[0;31m           val_logs = self.evaluate(\n\u001b[0m\u001b[1;32m   1216\u001b[0m               \u001b[0mx\u001b[0m\u001b[0;34m=\u001b[0m\u001b[0mval_x\u001b[0m\u001b[0;34m,\u001b[0m\u001b[0;34m\u001b[0m\u001b[0;34m\u001b[0m\u001b[0m\n\u001b[1;32m   1217\u001b[0m               \u001b[0my\u001b[0m\u001b[0;34m=\u001b[0m\u001b[0mval_y\u001b[0m\u001b[0;34m,\u001b[0m\u001b[0;34m\u001b[0m\u001b[0;34m\u001b[0m\u001b[0m\n",
      "\u001b[0;32m~/miniforge3/lib/python3.9/site-packages/keras/engine/training.py\u001b[0m in \u001b[0;36mevaluate\u001b[0;34m(self, x, y, batch_size, verbose, sample_weight, steps, callbacks, max_queue_size, workers, use_multiprocessing, return_dict, **kwargs)\u001b[0m\n\u001b[1;32m   1499\u001b[0m             \u001b[0;32mwith\u001b[0m \u001b[0mtf\u001b[0m\u001b[0;34m.\u001b[0m\u001b[0mprofiler\u001b[0m\u001b[0;34m.\u001b[0m\u001b[0mexperimental\u001b[0m\u001b[0;34m.\u001b[0m\u001b[0mTrace\u001b[0m\u001b[0;34m(\u001b[0m\u001b[0;34m'test'\u001b[0m\u001b[0;34m,\u001b[0m \u001b[0mstep_num\u001b[0m\u001b[0;34m=\u001b[0m\u001b[0mstep\u001b[0m\u001b[0;34m,\u001b[0m \u001b[0m_r\u001b[0m\u001b[0;34m=\u001b[0m\u001b[0;36m1\u001b[0m\u001b[0;34m)\u001b[0m\u001b[0;34m:\u001b[0m\u001b[0;34m\u001b[0m\u001b[0;34m\u001b[0m\u001b[0m\n\u001b[1;32m   1500\u001b[0m               \u001b[0mcallbacks\u001b[0m\u001b[0;34m.\u001b[0m\u001b[0mon_test_batch_begin\u001b[0m\u001b[0;34m(\u001b[0m\u001b[0mstep\u001b[0m\u001b[0;34m)\u001b[0m\u001b[0;34m\u001b[0m\u001b[0;34m\u001b[0m\u001b[0m\n\u001b[0;32m-> 1501\u001b[0;31m               \u001b[0mtmp_logs\u001b[0m \u001b[0;34m=\u001b[0m \u001b[0mself\u001b[0m\u001b[0;34m.\u001b[0m\u001b[0mtest_function\u001b[0m\u001b[0;34m(\u001b[0m\u001b[0miterator\u001b[0m\u001b[0;34m)\u001b[0m\u001b[0;34m\u001b[0m\u001b[0;34m\u001b[0m\u001b[0m\n\u001b[0m\u001b[1;32m   1502\u001b[0m               \u001b[0;32mif\u001b[0m \u001b[0mdata_handler\u001b[0m\u001b[0;34m.\u001b[0m\u001b[0mshould_sync\u001b[0m\u001b[0;34m:\u001b[0m\u001b[0;34m\u001b[0m\u001b[0;34m\u001b[0m\u001b[0m\n\u001b[1;32m   1503\u001b[0m                 \u001b[0mcontext\u001b[0m\u001b[0;34m.\u001b[0m\u001b[0masync_wait\u001b[0m\u001b[0;34m(\u001b[0m\u001b[0;34m)\u001b[0m\u001b[0;34m\u001b[0m\u001b[0;34m\u001b[0m\u001b[0m\n",
      "\u001b[0;32m~/miniforge3/lib/python3.9/site-packages/tensorflow/python/eager/def_function.py\u001b[0m in \u001b[0;36m__call__\u001b[0;34m(self, *args, **kwds)\u001b[0m\n\u001b[1;32m    883\u001b[0m \u001b[0;34m\u001b[0m\u001b[0m\n\u001b[1;32m    884\u001b[0m       \u001b[0;32mwith\u001b[0m \u001b[0mOptionalXlaContext\u001b[0m\u001b[0;34m(\u001b[0m\u001b[0mself\u001b[0m\u001b[0;34m.\u001b[0m\u001b[0m_jit_compile\u001b[0m\u001b[0;34m)\u001b[0m\u001b[0;34m:\u001b[0m\u001b[0;34m\u001b[0m\u001b[0;34m\u001b[0m\u001b[0m\n\u001b[0;32m--> 885\u001b[0;31m         \u001b[0mresult\u001b[0m \u001b[0;34m=\u001b[0m \u001b[0mself\u001b[0m\u001b[0;34m.\u001b[0m\u001b[0m_call\u001b[0m\u001b[0;34m(\u001b[0m\u001b[0;34m*\u001b[0m\u001b[0margs\u001b[0m\u001b[0;34m,\u001b[0m \u001b[0;34m**\u001b[0m\u001b[0mkwds\u001b[0m\u001b[0;34m)\u001b[0m\u001b[0;34m\u001b[0m\u001b[0;34m\u001b[0m\u001b[0m\n\u001b[0m\u001b[1;32m    886\u001b[0m \u001b[0;34m\u001b[0m\u001b[0m\n\u001b[1;32m    887\u001b[0m       \u001b[0mnew_tracing_count\u001b[0m \u001b[0;34m=\u001b[0m \u001b[0mself\u001b[0m\u001b[0;34m.\u001b[0m\u001b[0mexperimental_get_tracing_count\u001b[0m\u001b[0;34m(\u001b[0m\u001b[0;34m)\u001b[0m\u001b[0;34m\u001b[0m\u001b[0;34m\u001b[0m\u001b[0m\n",
      "\u001b[0;32m~/miniforge3/lib/python3.9/site-packages/tensorflow/python/eager/def_function.py\u001b[0m in \u001b[0;36m_call\u001b[0;34m(self, *args, **kwds)\u001b[0m\n\u001b[1;32m    922\u001b[0m       \u001b[0;31m# In this case we have not created variables on the first call. So we can\u001b[0m\u001b[0;34m\u001b[0m\u001b[0;34m\u001b[0m\u001b[0m\n\u001b[1;32m    923\u001b[0m       \u001b[0;31m# run the first trace but we should fail if variables are created.\u001b[0m\u001b[0;34m\u001b[0m\u001b[0;34m\u001b[0m\u001b[0m\n\u001b[0;32m--> 924\u001b[0;31m       \u001b[0mresults\u001b[0m \u001b[0;34m=\u001b[0m \u001b[0mself\u001b[0m\u001b[0;34m.\u001b[0m\u001b[0m_stateful_fn\u001b[0m\u001b[0;34m(\u001b[0m\u001b[0;34m*\u001b[0m\u001b[0margs\u001b[0m\u001b[0;34m,\u001b[0m \u001b[0;34m**\u001b[0m\u001b[0mkwds\u001b[0m\u001b[0;34m)\u001b[0m\u001b[0;34m\u001b[0m\u001b[0;34m\u001b[0m\u001b[0m\n\u001b[0m\u001b[1;32m    925\u001b[0m       \u001b[0;32mif\u001b[0m \u001b[0mself\u001b[0m\u001b[0;34m.\u001b[0m\u001b[0m_created_variables\u001b[0m \u001b[0;32mand\u001b[0m \u001b[0;32mnot\u001b[0m \u001b[0mALLOW_DYNAMIC_VARIABLE_CREATION\u001b[0m\u001b[0;34m:\u001b[0m\u001b[0;34m\u001b[0m\u001b[0;34m\u001b[0m\u001b[0m\n\u001b[1;32m    926\u001b[0m         raise ValueError(\"Creating variables on a non-first call to a function\"\n",
      "\u001b[0;32m~/miniforge3/lib/python3.9/site-packages/tensorflow/python/eager/function.py\u001b[0m in \u001b[0;36m__call__\u001b[0;34m(self, *args, **kwargs)\u001b[0m\n\u001b[1;32m   3037\u001b[0m       (graph_function,\n\u001b[1;32m   3038\u001b[0m        filtered_flat_args) = self._maybe_define_function(args, kwargs)\n\u001b[0;32m-> 3039\u001b[0;31m     return graph_function._call_flat(\n\u001b[0m\u001b[1;32m   3040\u001b[0m         filtered_flat_args, captured_inputs=graph_function.captured_inputs)  # pylint: disable=protected-access\n\u001b[1;32m   3041\u001b[0m \u001b[0;34m\u001b[0m\u001b[0m\n",
      "\u001b[0;32m~/miniforge3/lib/python3.9/site-packages/tensorflow/python/eager/function.py\u001b[0m in \u001b[0;36m_call_flat\u001b[0;34m(self, args, captured_inputs, cancellation_manager)\u001b[0m\n\u001b[1;32m   1961\u001b[0m         and executing_eagerly):\n\u001b[1;32m   1962\u001b[0m       \u001b[0;31m# No tape is watching; skip to running the function.\u001b[0m\u001b[0;34m\u001b[0m\u001b[0;34m\u001b[0m\u001b[0m\n\u001b[0;32m-> 1963\u001b[0;31m       return self._build_call_outputs(self._inference_function.call(\n\u001b[0m\u001b[1;32m   1964\u001b[0m           ctx, args, cancellation_manager=cancellation_manager))\n\u001b[1;32m   1965\u001b[0m     forward_backward = self._select_forward_and_backward_functions(\n",
      "\u001b[0;32m~/miniforge3/lib/python3.9/site-packages/tensorflow/python/eager/function.py\u001b[0m in \u001b[0;36mcall\u001b[0;34m(self, ctx, args, cancellation_manager)\u001b[0m\n\u001b[1;32m    589\u001b[0m       \u001b[0;32mwith\u001b[0m \u001b[0m_InterpolateFunctionError\u001b[0m\u001b[0;34m(\u001b[0m\u001b[0mself\u001b[0m\u001b[0;34m)\u001b[0m\u001b[0;34m:\u001b[0m\u001b[0;34m\u001b[0m\u001b[0;34m\u001b[0m\u001b[0m\n\u001b[1;32m    590\u001b[0m         \u001b[0;32mif\u001b[0m \u001b[0mcancellation_manager\u001b[0m \u001b[0;32mis\u001b[0m \u001b[0;32mNone\u001b[0m\u001b[0;34m:\u001b[0m\u001b[0;34m\u001b[0m\u001b[0;34m\u001b[0m\u001b[0m\n\u001b[0;32m--> 591\u001b[0;31m           outputs = execute.execute(\n\u001b[0m\u001b[1;32m    592\u001b[0m               \u001b[0mstr\u001b[0m\u001b[0;34m(\u001b[0m\u001b[0mself\u001b[0m\u001b[0;34m.\u001b[0m\u001b[0msignature\u001b[0m\u001b[0;34m.\u001b[0m\u001b[0mname\u001b[0m\u001b[0;34m)\u001b[0m\u001b[0;34m,\u001b[0m\u001b[0;34m\u001b[0m\u001b[0;34m\u001b[0m\u001b[0m\n\u001b[1;32m    593\u001b[0m               \u001b[0mnum_outputs\u001b[0m\u001b[0;34m=\u001b[0m\u001b[0mself\u001b[0m\u001b[0;34m.\u001b[0m\u001b[0m_num_outputs\u001b[0m\u001b[0;34m,\u001b[0m\u001b[0;34m\u001b[0m\u001b[0;34m\u001b[0m\u001b[0m\n",
      "\u001b[0;32m~/miniforge3/lib/python3.9/site-packages/tensorflow/python/eager/execute.py\u001b[0m in \u001b[0;36mquick_execute\u001b[0;34m(op_name, num_outputs, inputs, attrs, ctx, name)\u001b[0m\n\u001b[1;32m     57\u001b[0m   \u001b[0;32mtry\u001b[0m\u001b[0;34m:\u001b[0m\u001b[0;34m\u001b[0m\u001b[0;34m\u001b[0m\u001b[0m\n\u001b[1;32m     58\u001b[0m     \u001b[0mctx\u001b[0m\u001b[0;34m.\u001b[0m\u001b[0mensure_initialized\u001b[0m\u001b[0;34m(\u001b[0m\u001b[0;34m)\u001b[0m\u001b[0;34m\u001b[0m\u001b[0;34m\u001b[0m\u001b[0m\n\u001b[0;32m---> 59\u001b[0;31m     tensors = pywrap_tfe.TFE_Py_Execute(ctx._handle, device_name, op_name,\n\u001b[0m\u001b[1;32m     60\u001b[0m                                         inputs, attrs, num_outputs)\n\u001b[1;32m     61\u001b[0m   \u001b[0;32mexcept\u001b[0m \u001b[0mcore\u001b[0m\u001b[0;34m.\u001b[0m\u001b[0m_NotOkStatusException\u001b[0m \u001b[0;32mas\u001b[0m \u001b[0me\u001b[0m\u001b[0;34m:\u001b[0m\u001b[0;34m\u001b[0m\u001b[0;34m\u001b[0m\u001b[0m\n",
      "\u001b[0;31mKeyboardInterrupt\u001b[0m: "
     ]
    }
   ],
   "source": [
    "model=create_cnn_with_drop ()\n",
    "print(inputs[838,:5])\n",
    "print(targets[838])\n",
    "i=1\n",
    "for train, test in kfold.split(inputs):\n",
    "\n",
    "    history=model.fit(inputs[train], targets[train], batch_size=64, epochs=10, validation_split = 0.1, callbacks= [rlrp], verbose = 1)\n",
    "\n",
    "    scores = model.evaluate(inputs[test], targets[test], verbose=0)\n",
    "    acc_per_fold.append(scores[1] * 100)\n",
    "    loss_per_fold.append(scores[0])\n",
    "    print(i)\n",
    "    i+=1"
   ]
  },
  {
   "cell_type": "code",
   "execution_count": null,
   "metadata": {},
   "outputs": [],
   "source": [
    "plt.plot(acc_per_fold)\n",
    "plt.ylabel(\"accuracy %\")\n",
    "\n",
    "plt.xlabel(\"# of folds\")\n",
    "plt.show()"
   ]
  },
  {
   "cell_type": "code",
   "execution_count": null,
   "metadata": {},
   "outputs": [],
   "source": [
    "sum(acc_per_fold)/20"
   ]
  },
  {
   "cell_type": "code",
   "execution_count": null,
   "metadata": {},
   "outputs": [],
   "source": [
    "pred = model.predict(x_train)\n",
    "pred_test = model.predict(x_test)\n",
    "\n",
    "print(\"accuracy score for Train set is:\", accuracy_score(np.argmax(y_train,axis =1), np.argmax(pred,axis=1)))\n",
    "print(\"accuracy score for Test set is: \", accuracy_score(np.argmax(y_test,axis =1), np.argmax(pred_test,axis=1)))\n",
    "print(\"[Anger, disgust, fear, happy, neutral, sad]\")\n",
    "print(\"F1 score for Train set is:\", f1_score(np.argmax(y_train,axis =1), np.argmax(pred,axis=1), average = None))\n",
    "print(\"F1 score for Test set is: \", f1_score(np.argmax(y_test,axis =1), np.argmax(pred_test,axis=1), average = None))"
   ]
  },
  {
   "cell_type": "code",
   "execution_count": null,
   "metadata": {},
   "outputs": [],
   "source": [
    "cm = confusion_matrix(np.argmax(y_test,axis =1), np.argmax(pred_test,axis=1))\n",
    "cm = cm/ cm.astype(np.float64).sum(axis=1)\n",
    "disp = ConfusionMatrixDisplay(confusion_matrix=cm, display_labels = labels)\n",
    "disp.plot()"
   ]
  },
  {
   "cell_type": "code",
   "execution_count": null,
   "metadata": {},
   "outputs": [],
   "source": [
    "from keras.utils.vis_utils import plot_model\n",
    "plot_model(model, show_shapes=True, show_layer_names=True)"
   ]
  },
  {
   "cell_type": "code",
   "execution_count": 44,
   "metadata": {},
   "outputs": [],
   "source": [
    "def replicate_vgg_ish ( ) :\n",
    "    model = Sequential()\n",
    "    model.add(Conv1D(64, kernel_size=5, strides=1, padding='same', activation='relu', input_shape=(x_train.shape[1], 1)))    \n",
    "    model.add(Conv1D(64, kernel_size=5, strides=1, padding='same', activation='relu'))\n",
    "    model.add(MaxPooling1D(pool_size=5, strides = 2, padding = 'same'))\n",
    "    \n",
    "    model.add(Dropout(0.45))\n",
    "        \n",
    "    model.add(Conv1D(128, kernel_size=3, strides=2, padding='same', activation='relu'))\n",
    "    model.add(Conv1D(128, kernel_size=3, strides=2, padding='same', activation='relu'))\n",
    "    model.add(MaxPooling1D(pool_size=5, strides = 2, padding = 'same'))\n",
    "    model.add(Dropout(0.3))\n",
    "\n",
    "    model.add(Conv1D(256, kernel_size=2, strides=2, padding='same', activation='relu'))\n",
    "    model.add(Conv1D(256, kernel_size=2, strides=2, padding='same', activation='relu'))\n",
    "    model.add(MaxPooling1D(pool_size=5, strides = 2, padding = 'same'))\n",
    "\n",
    "    model.add(Flatten())\n",
    "    model.add(Dense(units=32, activation='relu'))\n",
    "    model.add(Dropout(0.3))\n",
    "\n",
    "    model.add(Dense(units=6, activation='softmax'))\n",
    "    model.compile(optimizer = 'adam' , loss = 'categorical_crossentropy' , metrics = ['accuracy'])\n",
    "\n",
    "    model.summary()\n",
    "    return model"
   ]
  },
  {
   "cell_type": "code",
   "execution_count": 338,
   "metadata": {},
   "outputs": [
    {
     "name": "stdout",
     "output_type": "stream",
     "text": [
      "Model: \"sequential_45\"\n",
      "_________________________________________________________________\n",
      "Layer (type)                 Output Shape              Param #   \n",
      "=================================================================\n",
      "conv1d_32 (Conv1D)           (None, 160, 64)           384       \n",
      "_________________________________________________________________\n",
      "conv1d_33 (Conv1D)           (None, 160, 64)           20544     \n",
      "_________________________________________________________________\n",
      "max_pooling1d_20 (MaxPooling (None, 80, 64)            0         \n",
      "_________________________________________________________________\n",
      "dropout_90 (Dropout)         (None, 80, 64)            0         \n",
      "_________________________________________________________________\n",
      "conv1d_34 (Conv1D)           (None, 40, 128)           24704     \n",
      "_________________________________________________________________\n",
      "conv1d_35 (Conv1D)           (None, 20, 128)           49280     \n",
      "_________________________________________________________________\n",
      "max_pooling1d_21 (MaxPooling (None, 10, 128)           0         \n",
      "_________________________________________________________________\n",
      "dropout_91 (Dropout)         (None, 10, 128)           0         \n",
      "_________________________________________________________________\n",
      "conv1d_36 (Conv1D)           (None, 5, 256)            65792     \n",
      "_________________________________________________________________\n",
      "conv1d_37 (Conv1D)           (None, 3, 256)            131328    \n",
      "_________________________________________________________________\n",
      "max_pooling1d_22 (MaxPooling (None, 2, 256)            0         \n",
      "_________________________________________________________________\n",
      "flatten_6 (Flatten)          (None, 512)               0         \n",
      "_________________________________________________________________\n",
      "dense_151 (Dense)            (None, 32)                16416     \n",
      "_________________________________________________________________\n",
      "dropout_92 (Dropout)         (None, 32)                0         \n",
      "_________________________________________________________________\n",
      "dense_152 (Dense)            (None, 6)                 198       \n",
      "=================================================================\n",
      "Total params: 308,646\n",
      "Trainable params: 308,646\n",
      "Non-trainable params: 0\n",
      "_________________________________________________________________\n"
     ]
    }
   ],
   "source": [
    "vgg = replicate_vgg_ish()"
   ]
  },
  {
   "cell_type": "code",
   "execution_count": null,
   "metadata": {},
   "outputs": [],
   "source": []
  },
  {
   "cell_type": "code",
   "execution_count": 339,
   "metadata": {},
   "outputs": [
    {
     "name": "stdout",
     "output_type": "stream",
     "text": [
      "Epoch 1/100\n"
     ]
    },
    {
     "name": "stderr",
     "output_type": "stream",
     "text": [
      "2021-12-10 11:13:23.223719: I tensorflow/core/grappler/optimizers/custom_graph_optimizer_registry.cc:112] Plugin optimizer for device_type GPU is enabled.\n"
     ]
    },
    {
     "name": "stdout",
     "output_type": "stream",
     "text": [
      "30/30 [==============================] - 2s 50ms/step - loss: 1.7029 - accuracy: 0.2451 - val_loss: 1.6253 - val_accuracy: 0.3081\n"
     ]
    },
    {
     "name": "stderr",
     "output_type": "stream",
     "text": [
      "2021-12-10 11:13:24.915454: I tensorflow/core/grappler/optimizers/custom_graph_optimizer_registry.cc:112] Plugin optimizer for device_type GPU is enabled.\n"
     ]
    },
    {
     "name": "stdout",
     "output_type": "stream",
     "text": [
      "Epoch 2/100\n",
      "30/30 [==============================] - 1s 39ms/step - loss: 1.6077 - accuracy: 0.3109 - val_loss: 1.5665 - val_accuracy: 0.3469\n",
      "Epoch 3/100\n",
      "30/30 [==============================] - 1s 38ms/step - loss: 1.5717 - accuracy: 0.3252 - val_loss: 1.5051 - val_accuracy: 0.3469\n",
      "Epoch 4/100\n",
      "30/30 [==============================] - 1s 39ms/step - loss: 1.5474 - accuracy: 0.3354 - val_loss: 1.4926 - val_accuracy: 0.3642\n",
      "Epoch 5/100\n",
      "30/30 [==============================] - 1s 39ms/step - loss: 1.5286 - accuracy: 0.3512 - val_loss: 1.4668 - val_accuracy: 0.3773\n",
      "Epoch 6/100\n",
      "30/30 [==============================] - 1s 39ms/step - loss: 1.5163 - accuracy: 0.3570 - val_loss: 1.4502 - val_accuracy: 0.3869\n",
      "Epoch 7/100\n",
      "30/30 [==============================] - 1s 38ms/step - loss: 1.5027 - accuracy: 0.3679 - val_loss: 1.4302 - val_accuracy: 0.4096\n",
      "Epoch 8/100\n",
      "30/30 [==============================] - 1s 39ms/step - loss: 1.4856 - accuracy: 0.3750 - val_loss: 1.4270 - val_accuracy: 0.4245\n",
      "Epoch 9/100\n",
      "30/30 [==============================] - 1s 39ms/step - loss: 1.4805 - accuracy: 0.3761 - val_loss: 1.4057 - val_accuracy: 0.4322\n",
      "Epoch 10/100\n",
      "30/30 [==============================] - 1s 39ms/step - loss: 1.4667 - accuracy: 0.3907 - val_loss: 1.3988 - val_accuracy: 0.4334\n",
      "Epoch 11/100\n",
      "30/30 [==============================] - 1s 39ms/step - loss: 1.4609 - accuracy: 0.3939 - val_loss: 1.3893 - val_accuracy: 0.4364\n",
      "Epoch 12/100\n",
      "30/30 [==============================] - 1s 39ms/step - loss: 1.4503 - accuracy: 0.3992 - val_loss: 1.3751 - val_accuracy: 0.4364\n",
      "Epoch 13/100\n",
      "30/30 [==============================] - 1s 39ms/step - loss: 1.4389 - accuracy: 0.4033 - val_loss: 1.3672 - val_accuracy: 0.4531\n",
      "Epoch 14/100\n",
      "30/30 [==============================] - 1s 39ms/step - loss: 1.4322 - accuracy: 0.4078 - val_loss: 1.3759 - val_accuracy: 0.4597\n",
      "Epoch 15/100\n",
      "30/30 [==============================] - 1s 40ms/step - loss: 1.4303 - accuracy: 0.4138 - val_loss: 1.3581 - val_accuracy: 0.4513\n",
      "Epoch 16/100\n",
      "30/30 [==============================] - 1s 40ms/step - loss: 1.4236 - accuracy: 0.4156 - val_loss: 1.3466 - val_accuracy: 0.4597\n",
      "Epoch 17/100\n",
      "30/30 [==============================] - 1s 39ms/step - loss: 1.4050 - accuracy: 0.4288 - val_loss: 1.3293 - val_accuracy: 0.4639\n",
      "Epoch 18/100\n",
      "30/30 [==============================] - 1s 39ms/step - loss: 1.4034 - accuracy: 0.4290 - val_loss: 1.3139 - val_accuracy: 0.4746\n",
      "Epoch 19/100\n",
      "30/30 [==============================] - 1s 39ms/step - loss: 1.3955 - accuracy: 0.4304 - val_loss: 1.3176 - val_accuracy: 0.4782\n",
      "Epoch 20/100\n",
      "30/30 [==============================] - 1s 39ms/step - loss: 1.3844 - accuracy: 0.4349 - val_loss: 1.3233 - val_accuracy: 0.4746\n",
      "Epoch 21/100\n",
      "30/30 [==============================] - 1s 39ms/step - loss: 1.3810 - accuracy: 0.4416 - val_loss: 1.3048 - val_accuracy: 0.4776\n",
      "Epoch 22/100\n",
      "30/30 [==============================] - 1s 38ms/step - loss: 1.3636 - accuracy: 0.4492 - val_loss: 1.2946 - val_accuracy: 0.4716\n",
      "Epoch 23/100\n",
      "30/30 [==============================] - 1s 39ms/step - loss: 1.3606 - accuracy: 0.4527 - val_loss: 1.2856 - val_accuracy: 0.4740\n",
      "Epoch 24/100\n",
      "30/30 [==============================] - 1s 39ms/step - loss: 1.3712 - accuracy: 0.4424 - val_loss: 1.2968 - val_accuracy: 0.4788\n",
      "Epoch 25/100\n",
      "30/30 [==============================] - 1s 39ms/step - loss: 1.3596 - accuracy: 0.4563 - val_loss: 1.2909 - val_accuracy: 0.4722\n",
      "Epoch 26/100\n",
      "30/30 [==============================] - 1s 39ms/step - loss: 1.3417 - accuracy: 0.4614 - val_loss: 1.2755 - val_accuracy: 0.4782\n",
      "Epoch 27/100\n",
      "30/30 [==============================] - 1s 40ms/step - loss: 1.3429 - accuracy: 0.4598 - val_loss: 1.2741 - val_accuracy: 0.4860\n",
      "Epoch 28/100\n",
      "30/30 [==============================] - 1s 39ms/step - loss: 1.3230 - accuracy: 0.4736 - val_loss: 1.2777 - val_accuracy: 0.4800\n",
      "Epoch 29/100\n",
      "30/30 [==============================] - 1s 40ms/step - loss: 1.3267 - accuracy: 0.4680 - val_loss: 1.2684 - val_accuracy: 0.4830\n",
      "Epoch 30/100\n",
      "30/30 [==============================] - 1s 39ms/step - loss: 1.3136 - accuracy: 0.4740 - val_loss: 1.2762 - val_accuracy: 0.4806\n",
      "Epoch 31/100\n",
      "30/30 [==============================] - 1s 39ms/step - loss: 1.3207 - accuracy: 0.4712 - val_loss: 1.2669 - val_accuracy: 0.4830\n",
      "Epoch 32/100\n",
      "30/30 [==============================] - 1s 39ms/step - loss: 1.3052 - accuracy: 0.4790 - val_loss: 1.2791 - val_accuracy: 0.4836\n",
      "Epoch 33/100\n",
      "30/30 [==============================] - 1s 39ms/step - loss: 1.3140 - accuracy: 0.4722 - val_loss: 1.2478 - val_accuracy: 0.4997\n",
      "Epoch 34/100\n",
      "30/30 [==============================] - 1s 39ms/step - loss: 1.2963 - accuracy: 0.4849 - val_loss: 1.2461 - val_accuracy: 0.4985\n",
      "Epoch 35/100\n",
      "30/30 [==============================] - 1s 39ms/step - loss: 1.2834 - accuracy: 0.4856 - val_loss: 1.2469 - val_accuracy: 0.5045\n",
      "Epoch 36/100\n",
      "30/30 [==============================] - 1s 39ms/step - loss: 1.2857 - accuracy: 0.4893 - val_loss: 1.2424 - val_accuracy: 0.5033\n",
      "Epoch 37/100\n",
      "30/30 [==============================] - 1s 39ms/step - loss: 1.2860 - accuracy: 0.4847 - val_loss: 1.2537 - val_accuracy: 0.4943\n",
      "Epoch 38/100\n",
      "30/30 [==============================] - 1s 38ms/step - loss: 1.2783 - accuracy: 0.4901 - val_loss: 1.2204 - val_accuracy: 0.5218\n",
      "Epoch 39/100\n",
      "30/30 [==============================] - 1s 39ms/step - loss: 1.2650 - accuracy: 0.4943 - val_loss: 1.2256 - val_accuracy: 0.5039\n",
      "Epoch 40/100\n",
      "30/30 [==============================] - 1s 38ms/step - loss: 1.2678 - accuracy: 0.4960 - val_loss: 1.2373 - val_accuracy: 0.5116\n",
      "Epoch 41/100\n",
      "30/30 [==============================] - 1s 39ms/step - loss: 1.2588 - accuracy: 0.4941 - val_loss: 1.2234 - val_accuracy: 0.4931\n",
      "Epoch 42/100\n",
      "30/30 [==============================] - 1s 39ms/step - loss: 1.2592 - accuracy: 0.4995 - val_loss: 1.2334 - val_accuracy: 0.4997\n",
      "Epoch 43/100\n",
      "30/30 [==============================] - 1s 39ms/step - loss: 1.2430 - accuracy: 0.5027 - val_loss: 1.2198 - val_accuracy: 0.5087\n",
      "Epoch 44/100\n",
      "30/30 [==============================] - 1s 39ms/step - loss: 1.2404 - accuracy: 0.5031 - val_loss: 1.2274 - val_accuracy: 0.5045\n",
      "Epoch 45/100\n",
      "30/30 [==============================] - 1s 39ms/step - loss: 1.2332 - accuracy: 0.5091 - val_loss: 1.2159 - val_accuracy: 0.5057\n",
      "Epoch 46/100\n",
      "30/30 [==============================] - 1s 39ms/step - loss: 1.2250 - accuracy: 0.5109 - val_loss: 1.2105 - val_accuracy: 0.5152\n",
      "Epoch 47/100\n",
      "30/30 [==============================] - 1s 39ms/step - loss: 1.2228 - accuracy: 0.5145 - val_loss: 1.1950 - val_accuracy: 0.5194\n",
      "Epoch 48/100\n",
      "30/30 [==============================] - 1s 38ms/step - loss: 1.2094 - accuracy: 0.5201 - val_loss: 1.2044 - val_accuracy: 0.5242\n",
      "Epoch 49/100\n",
      "30/30 [==============================] - 1s 43ms/step - loss: 1.2093 - accuracy: 0.5189 - val_loss: 1.1989 - val_accuracy: 0.5116\n",
      "Epoch 50/100\n",
      "30/30 [==============================] - 1s 42ms/step - loss: 1.2001 - accuracy: 0.5246 - val_loss: 1.2007 - val_accuracy: 0.5158\n",
      "Epoch 51/100\n",
      "30/30 [==============================] - 1s 38ms/step - loss: 1.1989 - accuracy: 0.5265 - val_loss: 1.2007 - val_accuracy: 0.5224\n",
      "Epoch 52/100\n",
      "30/30 [==============================] - 1s 39ms/step - loss: 1.1951 - accuracy: 0.5243 - val_loss: 1.2022 - val_accuracy: 0.5212\n",
      "Epoch 53/100\n",
      "30/30 [==============================] - 1s 39ms/step - loss: 1.1888 - accuracy: 0.5290 - val_loss: 1.2086 - val_accuracy: 0.5075\n",
      "Epoch 54/100\n",
      "30/30 [==============================] - 1s 38ms/step - loss: 1.1803 - accuracy: 0.5299 - val_loss: 1.1996 - val_accuracy: 0.5260\n",
      "Epoch 55/100\n",
      "30/30 [==============================] - 1s 39ms/step - loss: 1.1758 - accuracy: 0.5347 - val_loss: 1.1952 - val_accuracy: 0.5325\n",
      "Epoch 56/100\n",
      "30/30 [==============================] - 1s 39ms/step - loss: 1.1681 - accuracy: 0.5404 - val_loss: 1.1937 - val_accuracy: 0.5236\n",
      "Epoch 57/100\n",
      "30/30 [==============================] - 1s 39ms/step - loss: 1.1569 - accuracy: 0.5454 - val_loss: 1.2066 - val_accuracy: 0.5236\n",
      "Epoch 58/100\n",
      "30/30 [==============================] - 1s 39ms/step - loss: 1.1496 - accuracy: 0.5507 - val_loss: 1.1949 - val_accuracy: 0.5242\n",
      "Epoch 59/100\n"
     ]
    },
    {
     "name": "stdout",
     "output_type": "stream",
     "text": [
      "30/30 [==============================] - 1s 39ms/step - loss: 1.1524 - accuracy: 0.5450 - val_loss: 1.1784 - val_accuracy: 0.5343\n",
      "Epoch 60/100\n",
      "30/30 [==============================] - 1s 38ms/step - loss: 1.1433 - accuracy: 0.5523 - val_loss: 1.1925 - val_accuracy: 0.5290\n",
      "Epoch 61/100\n",
      "30/30 [==============================] - 1s 38ms/step - loss: 1.1392 - accuracy: 0.5548 - val_loss: 1.1926 - val_accuracy: 0.5200\n",
      "Epoch 62/100\n",
      "30/30 [==============================] - 1s 39ms/step - loss: 1.1454 - accuracy: 0.5468 - val_loss: 1.1824 - val_accuracy: 0.5307\n",
      "Epoch 63/100\n",
      "30/30 [==============================] - 1s 38ms/step - loss: 1.1298 - accuracy: 0.5541 - val_loss: 1.2141 - val_accuracy: 0.5313\n",
      "Epoch 64/100\n",
      "30/30 [==============================] - 1s 38ms/step - loss: 1.1292 - accuracy: 0.5556 - val_loss: 1.1949 - val_accuracy: 0.5224\n",
      "Epoch 65/100\n",
      "30/30 [==============================] - 1s 39ms/step - loss: 1.1236 - accuracy: 0.5594 - val_loss: 1.1861 - val_accuracy: 0.5451\n",
      "Epoch 66/100\n",
      "30/30 [==============================] - 1s 38ms/step - loss: 1.1185 - accuracy: 0.5630 - val_loss: 1.1746 - val_accuracy: 0.5236\n",
      "Epoch 67/100\n",
      "30/30 [==============================] - 1s 39ms/step - loss: 1.1128 - accuracy: 0.5643 - val_loss: 1.1986 - val_accuracy: 0.5296\n",
      "Epoch 68/100\n",
      "30/30 [==============================] - 1s 39ms/step - loss: 1.1085 - accuracy: 0.5631 - val_loss: 1.1673 - val_accuracy: 0.5313\n",
      "Epoch 69/100\n",
      "30/30 [==============================] - 1s 38ms/step - loss: 1.1061 - accuracy: 0.5630 - val_loss: 1.1990 - val_accuracy: 0.5331\n",
      "Epoch 70/100\n",
      "30/30 [==============================] - 1s 39ms/step - loss: 1.0971 - accuracy: 0.5673 - val_loss: 1.2063 - val_accuracy: 0.5176\n",
      "Epoch 71/100\n",
      "30/30 [==============================] - 1s 38ms/step - loss: 1.0912 - accuracy: 0.5708 - val_loss: 1.1841 - val_accuracy: 0.5296\n",
      "Epoch 72/100\n",
      "30/30 [==============================] - 1s 38ms/step - loss: 1.0812 - accuracy: 0.5788 - val_loss: 1.2006 - val_accuracy: 0.5266\n",
      "Epoch 73/100\n",
      "30/30 [==============================] - 1s 38ms/step - loss: 1.0879 - accuracy: 0.5747 - val_loss: 1.1995 - val_accuracy: 0.5307\n",
      "Epoch 74/100\n",
      "30/30 [==============================] - 1s 38ms/step - loss: 1.0760 - accuracy: 0.5778 - val_loss: 1.1719 - val_accuracy: 0.5439\n",
      "Epoch 75/100\n",
      "30/30 [==============================] - 1s 38ms/step - loss: 1.0756 - accuracy: 0.5829 - val_loss: 1.1930 - val_accuracy: 0.5355\n",
      "Epoch 76/100\n",
      "30/30 [==============================] - 1s 39ms/step - loss: 1.0668 - accuracy: 0.5866 - val_loss: 1.1836 - val_accuracy: 0.5284\n",
      "Epoch 77/100\n",
      "30/30 [==============================] - 1s 39ms/step - loss: 1.0598 - accuracy: 0.5854 - val_loss: 1.2084 - val_accuracy: 0.5230\n",
      "Epoch 78/100\n",
      "30/30 [==============================] - 1s 39ms/step - loss: 1.0544 - accuracy: 0.5910 - val_loss: 1.2007 - val_accuracy: 0.5313\n",
      "Epoch 79/100\n",
      "30/30 [==============================] - 1s 38ms/step - loss: 1.0543 - accuracy: 0.5927 - val_loss: 1.1909 - val_accuracy: 0.5284\n",
      "Epoch 80/100\n",
      "30/30 [==============================] - 1s 39ms/step - loss: 1.0457 - accuracy: 0.5923 - val_loss: 1.2000 - val_accuracy: 0.5379\n",
      "Epoch 81/100\n",
      "30/30 [==============================] - 1s 38ms/step - loss: 1.0555 - accuracy: 0.5886 - val_loss: 1.1683 - val_accuracy: 0.5594\n",
      "Epoch 82/100\n",
      "30/30 [==============================] - 1s 39ms/step - loss: 1.0364 - accuracy: 0.5996 - val_loss: 1.1960 - val_accuracy: 0.5385\n",
      "Epoch 83/100\n",
      "30/30 [==============================] - 1s 38ms/step - loss: 1.0206 - accuracy: 0.6042 - val_loss: 1.1928 - val_accuracy: 0.5331\n",
      "Epoch 84/100\n",
      "30/30 [==============================] - 1s 38ms/step - loss: 1.0282 - accuracy: 0.5988 - val_loss: 1.2109 - val_accuracy: 0.5409\n",
      "Epoch 85/100\n",
      "30/30 [==============================] - 1s 38ms/step - loss: 1.0190 - accuracy: 0.6047 - val_loss: 1.1896 - val_accuracy: 0.5248\n",
      "Epoch 86/100\n",
      "30/30 [==============================] - 1s 39ms/step - loss: 1.0141 - accuracy: 0.5988 - val_loss: 1.1985 - val_accuracy: 0.5493\n",
      "Epoch 87/100\n",
      "30/30 [==============================] - 1s 38ms/step - loss: 1.0066 - accuracy: 0.6138 - val_loss: 1.2103 - val_accuracy: 0.5272\n",
      "Epoch 88/100\n",
      "30/30 [==============================] - 1s 39ms/step - loss: 1.0250 - accuracy: 0.6032 - val_loss: 1.1885 - val_accuracy: 0.5433\n",
      "Epoch 89/100\n",
      "30/30 [==============================] - 1s 39ms/step - loss: 0.9961 - accuracy: 0.6115 - val_loss: 1.2032 - val_accuracy: 0.5433\n",
      "Epoch 90/100\n",
      "30/30 [==============================] - 1s 39ms/step - loss: 0.9967 - accuracy: 0.6108 - val_loss: 1.2227 - val_accuracy: 0.5433\n",
      "Epoch 91/100\n",
      "30/30 [==============================] - 1s 39ms/step - loss: 0.9932 - accuracy: 0.6152 - val_loss: 1.1928 - val_accuracy: 0.5522\n",
      "Epoch 92/100\n",
      "30/30 [==============================] - 1s 39ms/step - loss: 0.9839 - accuracy: 0.6200 - val_loss: 1.1992 - val_accuracy: 0.5355\n",
      "Epoch 93/100\n",
      "30/30 [==============================] - 1s 39ms/step - loss: 0.9721 - accuracy: 0.6238 - val_loss: 1.1843 - val_accuracy: 0.5439\n",
      "Epoch 94/100\n",
      "30/30 [==============================] - 1s 39ms/step - loss: 0.9680 - accuracy: 0.6227 - val_loss: 1.1920 - val_accuracy: 0.5397\n",
      "Epoch 95/100\n",
      "30/30 [==============================] - 1s 39ms/step - loss: 0.9739 - accuracy: 0.6198 - val_loss: 1.1890 - val_accuracy: 0.5403\n",
      "Epoch 96/100\n",
      "30/30 [==============================] - 1s 39ms/step - loss: 0.9718 - accuracy: 0.6247 - val_loss: 1.2243 - val_accuracy: 0.5331\n",
      "Epoch 97/100\n",
      "30/30 [==============================] - 1s 39ms/step - loss: 0.9653 - accuracy: 0.6293 - val_loss: 1.1796 - val_accuracy: 0.5439\n",
      "Epoch 98/100\n",
      "30/30 [==============================] - 1s 39ms/step - loss: 0.9535 - accuracy: 0.6315 - val_loss: 1.1777 - val_accuracy: 0.5451\n",
      "Epoch 99/100\n",
      "30/30 [==============================] - 1s 39ms/step - loss: 0.9481 - accuracy: 0.6329 - val_loss: 1.2168 - val_accuracy: 0.5445\n",
      "Epoch 100/100\n",
      "30/30 [==============================] - 1s 39ms/step - loss: 0.9667 - accuracy: 0.6297 - val_loss: 1.2078 - val_accuracy: 0.5379\n"
     ]
    }
   ],
   "source": [
    "history=vgg.fit(x_train, y_train, batch_size=512, epochs=100, validation_split = 0.1)#, callbacks= [rlrp]) "
   ]
  },
  {
   "cell_type": "code",
   "execution_count": 358,
   "metadata": {},
   "outputs": [
    {
     "name": "stdout",
     "output_type": "stream",
     "text": [
      "accuracy score for Train set is: 0.7547181079789775\n",
      "accuracy score for Test set is:  0.5180938731637406\n",
      "[Anger, disgust, fear, happy, neutral, sad]\n",
      "F1 score for Train set is: [0.87890488 0.68490851 0.74207811 0.77755511 0.71590449 0.72849012]\n",
      "F1 score for Test set is:  [0.6805485  0.43762183 0.47161572 0.48553602 0.46222222 0.55651292]\n"
     ]
    },
    {
     "data": {
      "text/plain": [
       "<sklearn.metrics._plot.confusion_matrix.ConfusionMatrixDisplay at 0x294bafd00>"
      ]
     },
     "execution_count": 358,
     "metadata": {},
     "output_type": "execute_result"
    },
    {
     "data": {
      "image/png": "[encoded data removed]",
      "text/plain": [
       "<Figure size 432x288 with 2 Axes>"
      ]
     },
     "metadata": {
      "needs_background": "light"
     },
     "output_type": "display_data"
    }
   ],
   "source": [
    "pred = vgg.predict(x_train)\n",
    "pred_test = vgg.predict(x_test)\n",
    "\n",
    "print(\"accuracy score for Train set is:\", accuracy_score(np.argmax(y_train,axis =1), np.argmax(pred,axis=1)))\n",
    "print(\"accuracy score for Test set is: \", accuracy_score(np.argmax(y_test,axis =1), np.argmax(pred_test,axis=1)))\n",
    "print(\"[Anger, disgust, fear, happy, neutral, sad]\")\n",
    "print(\"F1 score for Train set is:\", f1_score(np.argmax(y_train,axis =1), np.argmax(pred,axis=1), average = None))\n",
    "print(\"F1 score for Test set is: \", f1_score(np.argmax(y_test,axis =1), np.argmax(pred_test,axis=1), average = None))\n",
    "\n",
    "labels = ['anger', 'disgust', 'fear', 'happy', 'neutral', 'sad']\n",
    "cm = confusion_matrix(np.argmax(y_test,axis =1), np.argmax(pred_test,axis=1))\n",
    "cm = cm/ cm.astype(np.float64).sum(axis=1)\n",
    "disp = ConfusionMatrixDisplay(confusion_matrix=cm, display_labels = labels)\n",
    "disp.plot()"
   ]
  },
  {
   "cell_type": "code",
   "execution_count": 351,
   "metadata": {},
   "outputs": [],
   "source": [
    "Features_Erica = pd.read_csv(\"features_erica.csv\")"
   ]
  },
  {
   "cell_type": "code",
   "execution_count": 352,
   "metadata": {},
   "outputs": [],
   "source": [
    "X = Features_Erica.iloc [:,:-3].values\n",
    "Y = Features_Erica['labels'].values"
   ]
  },
  {
   "cell_type": "code",
   "execution_count": 353,
   "metadata": {},
   "outputs": [],
   "source": [
    "x_test = scaler.transform(X)\n",
    "x_test = np.expand_dims(x_test,axis = 2)\n",
    "y_test1 = []\n",
    "encoder = OneHotEncoder ()\n",
    "y_test1[0:3] = [0] *3\n",
    "y_test1[3:6] = [3] *3\n",
    "y_test1[6:9] = [0] *3\n",
    "y_test1[9:12] = [3] *3"
   ]
  },
  {
   "cell_type": "code",
   "execution_count": 354,
   "metadata": {},
   "outputs": [
    {
     "name": "stdout",
     "output_type": "stream",
     "text": [
      "[0 0 0 0 0 0 0 0 0 2 2 3]\n",
      "[0 0 0 3 3 3 0 0 0 3 3 3]\n",
      "accuracy score for Train set is: 0.5\n",
      "accuracy score for Train set is: 0.6666666666666666\n",
      "[Anger, disgust, fear, happy, neutral, sad]\n"
     ]
    }
   ],
   "source": [
    "pred_test = vgg.predict(x_test)\n",
    "print(np.argmax(pred_test,axis = 1))\n",
    "print(np.array(y_test1).T)\n",
    "print(\"accuracy score for Train set is:\", accuracy_score(np.array(y_test1).T[:6], np.argmax(pred_test,axis=1)[:6]))\n",
    "print(\"accuracy score for Train set is:\", accuracy_score(np.array(y_test1).T[6:12], np.argmax(pred_test,axis=1)[6:12]))\n",
    "#print(\"accuracy score for Test set is: \", accuracy_score(np.argmax(y_test,axis =1), np.argmax(pred_test,axis=1)))\n",
    "print(\"[Anger, disgust, fear, happy, neutral, sad]\")\n",
    "#print(\"F1 score for Train set is:\", f1_score(np.argmax(y_train,axis =1), np.argmax(pred,axis=1), average = None))\n",
    "#print(\"F1 score for Test set is: \", f1_score(np.argmax(y_test,axis =1), np.argmax(pred_test,axis=1), average = None))\n",
    "\n",
    "labels = ['angry', 'happy']\n",
    "#cm = confusion_matrix(np.argmax(y_test,axis =1), np.argmax(pred_test,axis=1))\n",
    "#cm = cm/ cm.astype(np.float64).sum(axis=1)\n",
    "#disp = ConfusionMatrixDisplay(confusion_matrix=cm, display_labels = labels)\n",
    "#disp.plot()"
   ]
  },
  {
   "cell_type": "code",
   "execution_count": 355,
   "metadata": {},
   "outputs": [
    {
     "name": "stdout",
     "output_type": "stream",
     "text": [
      "[angry, fear, happy, fear, fear, happy]\n",
      "[2 2 0 3 2 3]\n"
     ]
    }
   ],
   "source": [
    "Features_other = pd.read_csv(\"features_other.csv\")\n",
    "\n",
    "X = Features_other.iloc [:,:-3].values\n",
    "Y = Features_other['labels'].values\n",
    "\n",
    "x_test = scaler.transform(X)\n",
    "x_test = np.expand_dims(x_test,axis = 2)\n",
    "\n",
    "pred_test = vgg.predict(x_test)\n",
    "\n",
    "\n",
    "print(\"[angry, fear, happy, fear, fear, happy]\")\n",
    "print(np.argmax(pred_test,axis = 1))"
   ]
  },
  {
   "cell_type": "code",
   "execution_count": 301,
   "metadata": {},
   "outputs": [],
   "source": [
    "def mlp ():\n",
    "    model = Sequential ()\n",
    "    model.add(Dense(units = 1600, input_shape = (x_train.shape[1],), activation = 'relu'))\n",
    "    model.add(Dropout(0.2))\n",
    "    model.add(Dense(units = 100, activation = 'relu'))\n",
    "    model.add(Dropout(0.34))\n",
    "    model.add(Dense(units = 20, activation = 'relu'))\n",
    "    #model.add(Dropout(0.1))\n",
    "    model.add(Dense(units = 6, activation = 'softmax'))\n",
    "    \n",
    "    model.compile(optimizer = 'adam' , loss = 'categorical_crossentropy' , metrics = ['accuracy'])\n",
    "\n",
    "    model.summary()\n",
    "    \n",
    "    return model"
   ]
  },
  {
   "cell_type": "code",
   "execution_count": 302,
   "metadata": {},
   "outputs": [
    {
     "name": "stdout",
     "output_type": "stream",
     "text": [
      "Model: \"sequential_41\"\n",
      "_________________________________________________________________\n",
      "Layer (type)                 Output Shape              Param #   \n",
      "=================================================================\n",
      "dense_141 (Dense)            (None, 1600)              257600    \n",
      "_________________________________________________________________\n",
      "dropout_79 (Dropout)         (None, 1600)              0         \n",
      "_________________________________________________________________\n",
      "dense_142 (Dense)            (None, 100)               160100    \n",
      "_________________________________________________________________\n",
      "dropout_80 (Dropout)         (None, 100)               0         \n",
      "_________________________________________________________________\n",
      "dense_143 (Dense)            (None, 20)                2020      \n",
      "_________________________________________________________________\n",
      "dense_144 (Dense)            (None, 6)                 126       \n",
      "=================================================================\n",
      "Total params: 419,846\n",
      "Trainable params: 419,846\n",
      "Non-trainable params: 0\n",
      "_________________________________________________________________\n"
     ]
    }
   ],
   "source": [
    "mlp_model = mlp()"
   ]
  },
  {
   "cell_type": "code",
   "execution_count": 303,
   "metadata": {},
   "outputs": [
    {
     "name": "stdout",
     "output_type": "stream",
     "text": [
      "Epoch 1/40\n",
      "1/1 [==============================] - ETA: 0s - loss: 11.2133 - accuracy: 0.1739"
     ]
    },
    {
     "name": "stderr",
     "output_type": "stream",
     "text": [
      "2021-12-10 00:19:56.010939: I tensorflow/core/grappler/optimizers/custom_graph_optimizer_registry.cc:112] Plugin optimizer for device_type GPU is enabled.\n"
     ]
    },
    {
     "name": "stdout",
     "output_type": "stream",
     "text": [
      "1/1 [==============================] - 0s 403ms/step - loss: 11.2133 - accuracy: 0.1739 - val_loss: 10.1438 - val_accuracy: 0.1666\n",
      "Epoch 2/40\n",
      "1/1 [==============================] - 0s 67ms/step - loss: 12.4247 - accuracy: 0.1738 - val_loss: 4.1422 - val_accuracy: 0.1612\n",
      "Epoch 3/40\n",
      "1/1 [==============================] - 0s 81ms/step - loss: 7.0376 - accuracy: 0.1729 - val_loss: 2.1463 - val_accuracy: 0.1994\n"
     ]
    },
    {
     "name": "stderr",
     "output_type": "stream",
     "text": [
      "2021-12-10 00:19:56.250015: I tensorflow/core/grappler/optimizers/custom_graph_optimizer_registry.cc:112] Plugin optimizer for device_type GPU is enabled.\n"
     ]
    },
    {
     "name": "stdout",
     "output_type": "stream",
     "text": [
      "Epoch 4/40\n",
      "1/1 [==============================] - 0s 61ms/step - loss: 4.1458 - accuracy: 0.1800 - val_loss: 1.7830 - val_accuracy: 0.1534\n",
      "Epoch 5/40\n",
      "1/1 [==============================] - 0s 59ms/step - loss: 3.2305 - accuracy: 0.1816 - val_loss: 1.7831 - val_accuracy: 0.1707\n",
      "Epoch 6/40\n",
      "1/1 [==============================] - 0s 56ms/step - loss: 2.8813 - accuracy: 0.1753 - val_loss: 1.7814 - val_accuracy: 0.1713\n",
      "Epoch 7/40\n",
      "1/1 [==============================] - 0s 58ms/step - loss: 2.6968 - accuracy: 0.1781 - val_loss: 1.7798 - val_accuracy: 0.1749\n",
      "Epoch 8/40\n",
      "1/1 [==============================] - 0s 58ms/step - loss: 2.6841 - accuracy: 0.1804 - val_loss: 1.7775 - val_accuracy: 0.1749\n",
      "Epoch 9/40\n",
      "1/1 [==============================] - 0s 62ms/step - loss: 2.6220 - accuracy: 0.1808 - val_loss: 1.7760 - val_accuracy: 0.1755\n",
      "Epoch 10/40\n",
      "1/1 [==============================] - 0s 60ms/step - loss: 2.6380 - accuracy: 0.1748 - val_loss: 1.7748 - val_accuracy: 0.1791\n",
      "Epoch 11/40\n",
      "1/1 [==============================] - 0s 61ms/step - loss: 2.5793 - accuracy: 0.1837 - val_loss: 1.7738 - val_accuracy: 0.1779\n",
      "Epoch 12/40\n",
      "1/1 [==============================] - 0s 60ms/step - loss: 2.5384 - accuracy: 0.1825 - val_loss: 1.7726 - val_accuracy: 0.1773\n",
      "Epoch 13/40\n",
      "1/1 [==============================] - 0s 59ms/step - loss: 2.4996 - accuracy: 0.1816 - val_loss: 1.7713 - val_accuracy: 0.1785\n",
      "Epoch 14/40\n",
      "1/1 [==============================] - 0s 58ms/step - loss: 2.4370 - accuracy: 0.1840 - val_loss: 1.7702 - val_accuracy: 0.1779\n",
      "Epoch 15/40\n",
      "1/1 [==============================] - 0s 60ms/step - loss: 2.3534 - accuracy: 0.1851 - val_loss: 1.7696 - val_accuracy: 0.1773\n",
      "Epoch 16/40\n",
      "1/1 [==============================] - 0s 59ms/step - loss: 2.3622 - accuracy: 0.1877 - val_loss: 1.7700 - val_accuracy: 0.1761\n",
      "Epoch 17/40\n",
      "1/1 [==============================] - 0s 58ms/step - loss: 2.2801 - accuracy: 0.1823 - val_loss: 1.7714 - val_accuracy: 0.1761\n",
      "Epoch 18/40\n",
      "1/1 [==============================] - 0s 58ms/step - loss: 2.2297 - accuracy: 0.1833 - val_loss: 1.7727 - val_accuracy: 0.1737\n",
      "Epoch 19/40\n",
      "1/1 [==============================] - 0s 58ms/step - loss: 2.2095 - accuracy: 0.1818 - val_loss: 1.7731 - val_accuracy: 0.1725\n",
      "Epoch 20/40\n",
      "1/1 [==============================] - 0s 57ms/step - loss: 2.1664 - accuracy: 0.1899 - val_loss: 1.7734 - val_accuracy: 0.1731\n",
      "Epoch 21/40\n",
      "1/1 [==============================] - 0s 58ms/step - loss: 2.1388 - accuracy: 0.1846 - val_loss: 1.7734 - val_accuracy: 0.1737\n",
      "Epoch 22/40\n",
      "1/1 [==============================] - 0s 58ms/step - loss: 2.1149 - accuracy: 0.1832 - val_loss: 1.7731 - val_accuracy: 0.1725\n",
      "Epoch 23/40\n",
      "1/1 [==============================] - 0s 57ms/step - loss: 2.0642 - accuracy: 0.1878 - val_loss: 1.7727 - val_accuracy: 0.1719\n",
      "Epoch 24/40\n",
      "1/1 [==============================] - 0s 56ms/step - loss: 2.0724 - accuracy: 0.1838 - val_loss: 1.7722 - val_accuracy: 0.1725\n",
      "Epoch 25/40\n",
      "1/1 [==============================] - 0s 58ms/step - loss: 2.0481 - accuracy: 0.1882 - val_loss: 1.7710 - val_accuracy: 0.1743\n",
      "Epoch 26/40\n",
      "1/1 [==============================] - 0s 58ms/step - loss: 2.0486 - accuracy: 0.1858 - val_loss: 1.7702 - val_accuracy: 0.1743\n",
      "Epoch 27/40\n",
      "1/1 [==============================] - 0s 58ms/step - loss: 2.0035 - accuracy: 0.1917 - val_loss: 1.7692 - val_accuracy: 0.1755\n",
      "Epoch 28/40\n",
      "1/1 [==============================] - 0s 63ms/step - loss: 2.0288 - accuracy: 0.1883 - val_loss: 1.7685 - val_accuracy: 0.1749\n",
      "Epoch 29/40\n",
      "1/1 [==============================] - 0s 58ms/step - loss: 1.9870 - accuracy: 0.1881 - val_loss: 1.7677 - val_accuracy: 0.1761\n",
      "Epoch 30/40\n",
      "1/1 [==============================] - 0s 59ms/step - loss: 1.9709 - accuracy: 0.1901 - val_loss: 1.7669 - val_accuracy: 0.1761\n",
      "Epoch 31/40\n",
      "1/1 [==============================] - 0s 59ms/step - loss: 1.9560 - accuracy: 0.1926 - val_loss: 1.7662 - val_accuracy: 0.1779\n",
      "Epoch 32/40\n",
      "1/1 [==============================] - 0s 59ms/step - loss: 1.9526 - accuracy: 0.1917 - val_loss: 1.7650 - val_accuracy: 0.1785\n",
      "Epoch 33/40\n",
      "1/1 [==============================] - 0s 64ms/step - loss: 1.9380 - accuracy: 0.1901 - val_loss: 1.7636 - val_accuracy: 0.1779\n",
      "Epoch 34/40\n",
      "1/1 [==============================] - 0s 59ms/step - loss: 1.9221 - accuracy: 0.1936 - val_loss: 1.7622 - val_accuracy: 0.1791\n",
      "Epoch 35/40\n",
      "1/1 [==============================] - 0s 58ms/step - loss: 1.9253 - accuracy: 0.1968 - val_loss: 1.7608 - val_accuracy: 0.1815\n",
      "Epoch 36/40\n",
      "1/1 [==============================] - 0s 59ms/step - loss: 1.9076 - accuracy: 0.1979 - val_loss: 1.7593 - val_accuracy: 0.1821\n",
      "Epoch 37/40\n",
      "1/1 [==============================] - 0s 59ms/step - loss: 1.9041 - accuracy: 0.1967 - val_loss: 1.7578 - val_accuracy: 0.1845\n",
      "Epoch 38/40\n",
      "1/1 [==============================] - 0s 58ms/step - loss: 1.8877 - accuracy: 0.2020 - val_loss: 1.7563 - val_accuracy: 0.1869\n",
      "Epoch 39/40\n",
      "1/1 [==============================] - 0s 60ms/step - loss: 1.9030 - accuracy: 0.1973 - val_loss: 1.7550 - val_accuracy: 0.1899\n",
      "Epoch 40/40\n",
      "1/1 [==============================] - 0s 57ms/step - loss: 1.8843 - accuracy: 0.2012 - val_loss: 1.7537 - val_accuracy: 0.1904\n"
     ]
    }
   ],
   "source": [
    "rlrp = ReduceLROnPlateau(monitor='val_loss', factor=0.4, verbose=1, patience=2, min_lr=0.00001)\n",
    "mlp_history = mlp_model.fit(x_train,y_train, epochs = 40, batch_size = 22000, verbose = 1, validation_split = 0.1)#,callbacks = [rlrp])"
   ]
  },
  {
   "cell_type": "code",
   "execution_count": 304,
   "metadata": {},
   "outputs": [
    {
     "name": "stdout",
     "output_type": "stream",
     "text": [
      "175/175 [==============================] - 1s 7ms/step - loss: 1.7591 - accuracy: 0.1974\n"
     ]
    },
    {
     "data": {
      "text/plain": [
       "[1.759116530418396, 0.19742028415203094]"
      ]
     },
     "execution_count": 304,
     "metadata": {},
     "output_type": "execute_result"
    }
   ],
   "source": [
    "mlp_model.evaluate(x_test,y_test)"
   ]
  },
  {
   "cell_type": "code",
   "execution_count": 230,
   "metadata": {},
   "outputs": [
    {
     "name": "stderr",
     "output_type": "stream",
     "text": [
      "2021-12-09 23:57:08.381265: I tensorflow/core/grappler/optimizers/custom_graph_optimizer_registry.cc:112] Plugin optimizer for device_type GPU is enabled.\n"
     ]
    },
    {
     "name": "stdout",
     "output_type": "stream",
     "text": [
      "accuracy score for Train set is: 0.8493788819875776\n",
      "accuracy score for Test set is:  0.6148333930490864\n",
      "[Anger, disgust, fear, happy, neutral, sad]\n",
      "F1 score for Train set is: [0.93307227 0.82937365 0.81813074 0.87755102 0.83702374 0.804266  ]\n",
      "F1 score for Test set is:  [0.76597993 0.532382   0.54152446 0.60794844 0.58556947 0.64033457]\n"
     ]
    },
    {
     "data": {
      "text/plain": [
       "<sklearn.metrics._plot.confusion_matrix.ConfusionMatrixDisplay at 0x29499ba60>"
      ]
     },
     "execution_count": 230,
     "metadata": {},
     "output_type": "execute_result"
    },
    {
     "data": {
      "image/png": "[encoded data removed]",
      "text/plain": [
       "<Figure size 432x288 with 2 Axes>"
      ]
     },
     "metadata": {
      "needs_background": "light"
     },
     "output_type": "display_data"
    }
   ],
   "source": [
    "pred = mlp_model.predict(x_train)\n",
    "pred_test = mlp_model.predict(x_test)\n",
    "\n",
    "print(\"accuracy score for Train set is:\", accuracy_score(np.argmax(y_train,axis =1), np.argmax(pred,axis=1)))\n",
    "print(\"accuracy score for Test set is: \", accuracy_score(np.argmax(y_test,axis =1), np.argmax(pred_test,axis=1)))\n",
    "print(\"[Anger, disgust, fear, happy, neutral, sad]\")\n",
    "print(\"F1 score for Train set is:\", f1_score(np.argmax(y_train,axis =1), np.argmax(pred,axis=1), average = None))\n",
    "print(\"F1 score for Test set is: \", f1_score(np.argmax(y_test,axis =1), np.argmax(pred_test,axis=1), average = None))\n",
    "labels = ['anger', 'disgust', 'fear', 'happy', 'neutral', 'sad']\n",
    "cm = confusion_matrix(np.argmax(y_test,axis =1), np.argmax(pred_test,axis=1))\n",
    "cm = cm/ cm.astype(np.float64).sum(axis=1)\n",
    "disp = ConfusionMatrixDisplay(confusion_matrix=cm, display_labels = labels)\n",
    "disp.plot()"
   ]
  },
  {
   "cell_type": "code",
   "execution_count": 305,
   "metadata": {},
   "outputs": [
    {
     "data": {
      "text/plain": [
       "(16744, 160)"
      ]
     },
     "execution_count": 305,
     "metadata": {},
     "output_type": "execute_result"
    }
   ],
   "source": []
  },
  {
   "cell_type": "code",
   "execution_count": null,
   "metadata": {},
   "outputs": [],
   "source": []
  }
 ],
 "metadata": {
  "kernelspec": {
   "display_name": "Python 3 (ipykernel)",
   "language": "python",
   "name": "python3"
  },
  "language_info": {
   "codemirror_mode": {
    "name": "ipython",
    "version": 3
   },
   "file_extension": ".py",
   "mimetype": "text/x-python",
   "name": "python",
   "nbconvert_exporter": "python",
   "pygments_lexer": "ipython3",
   "version": "3.9.7"
  }
 },
 "nbformat": 4,
 "nbformat_minor": 4
}

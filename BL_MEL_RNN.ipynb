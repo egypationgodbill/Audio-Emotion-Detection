{
 "cells": [
  {
   "cell_type": "code",
   "execution_count": 3,
   "metadata": {
    "colab": {
     "base_uri": "https://localhost:8080/"
    },
    "id": "p9yyLfUk50Zk",
    "outputId": "00c00b5c-974f-48d1-cf02-933b6c2ef863"
   },
   "outputs": [
    {
     "ename": "ModuleNotFoundError",
     "evalue": "No module named 'google.colab'",
     "output_type": "error",
     "traceback": [
      "\u001b[0;31m---------------------------------------------------------------------------\u001b[0m",
      "\u001b[0;31mModuleNotFoundError\u001b[0m                       Traceback (most recent call last)",
      "\u001b[0;32m/var/folders/dm/tglj4hl14q7cg0z7dt_g8prr0000gn/T/ipykernel_19646/1408506528.py\u001b[0m in \u001b[0;36m<module>\u001b[0;34m\u001b[0m\n\u001b[0;32m----> 1\u001b[0;31m \u001b[0;32mfrom\u001b[0m \u001b[0mgoogle\u001b[0m\u001b[0;34m.\u001b[0m\u001b[0mcolab\u001b[0m \u001b[0;32mimport\u001b[0m \u001b[0mdrive\u001b[0m\u001b[0;34m\u001b[0m\u001b[0;34m\u001b[0m\u001b[0m\n\u001b[0m\u001b[1;32m      2\u001b[0m \u001b[0mdrive\u001b[0m\u001b[0;34m.\u001b[0m\u001b[0mmount\u001b[0m\u001b[0;34m(\u001b[0m\u001b[0;34m'/content/drive'\u001b[0m\u001b[0;34m)\u001b[0m\u001b[0;34m\u001b[0m\u001b[0;34m\u001b[0m\u001b[0m\n",
      "\u001b[0;31mModuleNotFoundError\u001b[0m: No module named 'google.colab'"
     ]
    }
   ],
   "source": [
    "from google.colab import drive\n",
    "drive.mount('/content/drive')"
   ]
  },
  {
   "cell_type": "code",
   "execution_count": 13,
   "metadata": {
    "id": "k24NRxf27QEq"
   },
   "outputs": [],
   "source": [
    "import pandas as pd\n",
    "import numpy as np\n",
    "\n",
    "import os\n",
    "import sys\n",
    "\n",
    "import librosa\n",
    "import librosa.display\n",
    "import seaborn as sns\n",
    "import matplotlib.pyplot as plt\n",
    "\n",
    "from sklearn.preprocessing import StandardScaler, OneHotEncoder\n",
    "from sklearn.metrics import confusion_matrix, classification_report, accuracy_score, f1_score\n",
    "from sklearn.model_selection import train_test_split\n",
    "\n",
    "from IPython.display import Audio\n",
    "\n",
    "import tensorflow as tf\n",
    "from tensorflow.keras.callbacks import ReduceLROnPlateau\n",
    "from tensorflow.keras.layers import Dense, LSTM, Flatten, Dropout, BatchNormalization, SimpleRNN, Conv2D\n",
    "from tensorflow.keras.callbacks import ModelCheckpoint\n",
    "\n",
    "import warnings\n",
    "if not sys.warnoptions:\n",
    "    warnings.simplefilter(\"ignore\")\n",
    "warnings.filterwarnings(\"ignore\", category=DeprecationWarning) "
   ]
  },
  {
   "cell_type": "code",
   "execution_count": 2,
   "metadata": {
    "id": "m7-9_lLRX1I_"
   },
   "outputs": [],
   "source": [
    "from matplotlib import image\n",
    "import matplotlib.pyplot as plt\n",
    "import os\n",
    "import numpy as np"
   ]
  },
  {
   "cell_type": "code",
   "execution_count": 3,
   "metadata": {},
   "outputs": [
    {
     "name": "stdout",
     "output_type": "stream",
     "text": [
      "500\n",
      "1000\n",
      "1500\n",
      "2000\n",
      "2500\n",
      "3000\n",
      "3500\n",
      "4000\n",
      "4500\n",
      "5000\n",
      "5500\n",
      "6000\n",
      "6500\n",
      "7000\n"
     ]
    },
    {
     "data": {
      "text/html": [
       "<div>\n",
       "<style scoped>\n",
       "    .dataframe tbody tr th:only-of-type {\n",
       "        vertical-align: middle;\n",
       "    }\n",
       "\n",
       "    .dataframe tbody tr th {\n",
       "        vertical-align: top;\n",
       "    }\n",
       "\n",
       "    .dataframe thead th {\n",
       "        text-align: right;\n",
       "    }\n",
       "</style>\n",
       "<table border=\"1\" class=\"dataframe\">\n",
       "  <thead>\n",
       "    <tr style=\"text-align: right;\">\n",
       "      <th></th>\n",
       "      <th>Emotions</th>\n",
       "      <th>Path</th>\n",
       "    </tr>\n",
       "  </thead>\n",
       "  <tbody>\n",
       "    <tr>\n",
       "      <th>0</th>\n",
       "      <td>angry</td>\n",
       "      <td>1022_ITS_ANG_XX.wav</td>\n",
       "    </tr>\n",
       "    <tr>\n",
       "      <th>1</th>\n",
       "      <td>angry</td>\n",
       "      <td>1037_ITS_ANG_XX.wav</td>\n",
       "    </tr>\n",
       "    <tr>\n",
       "      <th>2</th>\n",
       "      <td>neutral</td>\n",
       "      <td>1060_ITS_NEU_XX.wav</td>\n",
       "    </tr>\n",
       "    <tr>\n",
       "      <th>3</th>\n",
       "      <td>neutral</td>\n",
       "      <td>1075_ITS_NEU_XX.wav</td>\n",
       "    </tr>\n",
       "    <tr>\n",
       "      <th>4</th>\n",
       "      <td>disgust</td>\n",
       "      <td>1073_IOM_DIS_XX.wav</td>\n",
       "    </tr>\n",
       "  </tbody>\n",
       "</table>\n",
       "</div>"
      ],
      "text/plain": [
       "  Emotions                 Path\n",
       "0    angry  1022_ITS_ANG_XX.wav\n",
       "1    angry  1037_ITS_ANG_XX.wav\n",
       "2  neutral  1060_ITS_NEU_XX.wav\n",
       "3  neutral  1075_ITS_NEU_XX.wav\n",
       "4  disgust  1073_IOM_DIS_XX.wav"
      ]
     },
     "execution_count": 3,
     "metadata": {},
     "output_type": "execute_result"
    }
   ],
   "source": [
    "os.chdir('/Users/zeyuanli/Dropbox/Github/Librosa test'+'/AudioWAV')\n",
    "audioFiles = os.listdir()\n",
    "i = 1\n",
    "mfcc_loaded = []\n",
    "for audio in audioFiles:\n",
    "    if audio.endswith('.wav'):\n",
    "      if i % 500 == 0:\n",
    "        print(i)\n",
    "      i+=1\n",
    "      audioName = audio.split(\".\")[0]\n",
    "      signal, sr = librosa.load(f\"{audio}\")\n",
    "      mfcc_loaded.append(librosa.feature.melspectrogram(y=signal, sr=sr).T)\n",
    "\n",
    "file_emotion = []\n",
    "file_path = []\n",
    "\n",
    "for file in audioFiles:\n",
    "    # storing file paths\n",
    "    if (file.endswith('.wav')):\n",
    "        file_path.append(file)\n",
    "        # storing file emotions\n",
    "        part=file.split('_')\n",
    "        if part[2] == 'SAD':\n",
    "            file_emotion.append('sad')\n",
    "        elif part[2] == 'ANG':\n",
    "            file_emotion.append('angry')\n",
    "        elif part[2] == 'DIS':\n",
    "            file_emotion.append('disgust')\n",
    "        elif part[2] == 'FEA':\n",
    "            file_emotion.append('fear')\n",
    "        elif part[2] == 'HAP':\n",
    "            file_emotion.append('happy')\n",
    "        elif part[2] == 'NEU':\n",
    "            file_emotion.append('neutral')\n",
    "        else:\n",
    "            file_emotion.append('Unknown')\n",
    "        \n",
    "# dataframe for emotion of files\n",
    "emotion_df = pd.DataFrame(file_emotion, columns=['Emotions'])\n",
    "# dataframe for path of files.\n",
    "path_df = pd.DataFrame(file_path, columns=['Path'])\n",
    "Crema_df = pd.concat([emotion_df, path_df], axis=1)\n",
    "Crema_df.head()\n",
    "\n",
    "# creating Dataframe using all the 4 dataframes we created so far.\n",
    "data_path = pd.concat([Crema_df], axis = 0)\n",
    "data_path.to_csv(\"data_path.csv\",index=False)\n",
    "data_path.head()"
   ]
  },
  {
   "cell_type": "code",
   "execution_count": 5,
   "metadata": {
    "colab": {
     "base_uri": "https://localhost:8080/"
    },
    "id": "ptzh4Qj0lcck",
    "outputId": "c9cf6fc1-213d-4068-c3c2-f8e1d438700f"
   },
   "outputs": [],
   "source": [
    "X = tf.keras.preprocessing.sequence.pad_sequences(mfcc_loaded)\n",
    "X.shape\n",
    "Y = np.array(data_path.Emotions)\n",
    "encoder = OneHotEncoder()\n",
    "Y = encoder.fit_transform(Y.reshape(-1,1)).toarray()\n",
    "\n",
    "# making our data compatible to model.\n",
    "#X = np.expand_dims(X, axis=-1)\n"
   ]
  },
  {
   "cell_type": "code",
   "execution_count": 6,
   "metadata": {
    "id": "LD8QLvyBdA_u"
   },
   "outputs": [],
   "source": [
    "X_train, X_test, y_train, y_test = train_test_split(np.array(X), np.array(Y), test_size=0.3)"
   ]
  },
  {
   "cell_type": "code",
   "execution_count": 7,
   "metadata": {
    "colab": {
     "base_uri": "https://localhost:8080/"
    },
    "id": "S5SRPgqIdrbn",
    "outputId": "7ea32fc2-04f6-4035-a3c5-626bf319fddb"
   },
   "outputs": [
    {
     "name": "stdout",
     "output_type": "stream",
     "text": [
      "(5209, 216, 128)\n",
      "(5209, 6)\n"
     ]
    }
   ],
   "source": [
    "print((X_train.shape))\n",
    "print (y_train.shape)"
   ]
  },
  {
   "cell_type": "code",
   "execution_count": 8,
   "metadata": {
    "id": "bEmly6X5fzld"
   },
   "outputs": [],
   "source": [
    "def LSTM_Model():\n",
    "    \n",
    "    model = tf.keras.Sequential()\n",
    "    #model.add(SimpleRNN(128, input_shape=images_loaded[0], return_sequences=True))\n",
    "    #model.add(Conv2D(256, kernel_size = (5,5), strides = 1,  padding = 'same', activation = 'relu', input_shape = (216,20,1)))\n",
    "    model.add(LSTM(128, input_shape=(X_train.shape[1],X_train.shape[2]), return_sequences=True))\n",
    "    model.add(Dropout(0.25))\n",
    "    model.add(LSTM(128))\n",
    "    model.add(Dense(64, activation='relu'))\n",
    "    model.add(Dense(6, activation='softmax'))\n",
    "\n",
    "    model.compile(optimizer = 'adam' , loss = 'categorical_crossentropy' , metrics = ['accuracy'])\n",
    "\n",
    "    model.summary()\n",
    "    return model\n"
   ]
  },
  {
   "cell_type": "code",
   "execution_count": 9,
   "metadata": {},
   "outputs": [
    {
     "name": "stdout",
     "output_type": "stream",
     "text": [
      "Metal device set to: Apple M1 Pro\n"
     ]
    },
    {
     "name": "stderr",
     "output_type": "stream",
     "text": [
      "2021-12-07 16:11:22.766489: I tensorflow/core/common_runtime/pluggable_device/pluggable_device_factory.cc:305] Could not identify NUMA node of platform GPU ID 0, defaulting to 0. Your kernel may not have been built with NUMA support.\n",
      "2021-12-07 16:11:22.766885: I tensorflow/core/common_runtime/pluggable_device/pluggable_device_factory.cc:271] Created TensorFlow device (/job:localhost/replica:0/task:0/device:GPU:0 with 0 MB memory) -> physical PluggableDevice (device: 0, name: METAL, pci bus id: <undefined>)\n"
     ]
    },
    {
     "name": "stdout",
     "output_type": "stream",
     "text": [
      "Model: \"sequential\"\n",
      "_________________________________________________________________\n",
      "Layer (type)                 Output Shape              Param #   \n",
      "=================================================================\n",
      "lstm (LSTM)                  (None, 216, 128)          131584    \n",
      "_________________________________________________________________\n",
      "dropout (Dropout)            (None, 216, 128)          0         \n",
      "_________________________________________________________________\n",
      "lstm_1 (LSTM)                (None, 128)               131584    \n",
      "_________________________________________________________________\n",
      "dense (Dense)                (None, 64)                8256      \n",
      "_________________________________________________________________\n",
      "dense_1 (Dense)              (None, 6)                 390       \n",
      "=================================================================\n",
      "Total params: 271,814\n",
      "Trainable params: 271,814\n",
      "Non-trainable params: 0\n",
      "_________________________________________________________________\n"
     ]
    }
   ],
   "source": [
    "model = LSTM_Model()"
   ]
  },
  {
   "cell_type": "code",
   "execution_count": 15,
   "metadata": {
    "colab": {
     "background_save": true,
     "base_uri": "https://localhost:8080/"
    },
    "id": "rrhwTjWoE0R0",
    "outputId": "0f022058-adf4-4032-dcca-0df74c0fb815"
   },
   "outputs": [
    {
     "name": "stdout",
     "output_type": "stream",
     "text": [
      "Epoch 1/50\n",
      "147/147 [==============================] - 21s 142ms/step - loss: 1.3973 - accuracy: 0.4241 - val_loss: 1.4859 - val_accuracy: 0.4012\n",
      "Epoch 2/50\n",
      "147/147 [==============================] - 21s 141ms/step - loss: 1.3820 - accuracy: 0.4366 - val_loss: 1.5131 - val_accuracy: 0.3781\n",
      "Epoch 3/50\n",
      "147/147 [==============================] - 21s 141ms/step - loss: 1.3838 - accuracy: 0.4311 - val_loss: 1.4842 - val_accuracy: 0.4107\n",
      "Epoch 4/50\n",
      "147/147 [==============================] - 21s 141ms/step - loss: 1.3852 - accuracy: 0.4279 - val_loss: 1.5108 - val_accuracy: 0.3800\n",
      "Epoch 5/50\n",
      "147/147 [==============================] - 21s 141ms/step - loss: 1.3628 - accuracy: 0.4420 - val_loss: 1.5675 - val_accuracy: 0.3762\n",
      "Epoch 6/50\n",
      "147/147 [==============================] - 21s 141ms/step - loss: 1.4629 - accuracy: 0.3895 - val_loss: 1.5288 - val_accuracy: 0.3992\n",
      "Epoch 7/50\n",
      "147/147 [==============================] - 21s 143ms/step - loss: 1.3954 - accuracy: 0.4251 - val_loss: 1.4861 - val_accuracy: 0.3896\n",
      "Epoch 8/50\n",
      "147/147 [==============================] - 21s 141ms/step - loss: 1.3736 - accuracy: 0.4407 - val_loss: 1.4907 - val_accuracy: 0.4107\n",
      "Epoch 9/50\n",
      "147/147 [==============================] - 21s 142ms/step - loss: 1.3589 - accuracy: 0.4428 - val_loss: 1.4601 - val_accuracy: 0.4146\n",
      "Epoch 10/50\n",
      "147/147 [==============================] - 21s 142ms/step - loss: 1.3444 - accuracy: 0.4569 - val_loss: 1.4861 - val_accuracy: 0.4069\n",
      "Epoch 11/50\n",
      "147/147 [==============================] - 21s 141ms/step - loss: 1.3373 - accuracy: 0.4535 - val_loss: 1.4572 - val_accuracy: 0.4242\n",
      "Epoch 12/50\n",
      "147/147 [==============================] - 21s 143ms/step - loss: 1.3272 - accuracy: 0.4682 - val_loss: 1.4917 - val_accuracy: 0.4146\n",
      "Epoch 13/50\n",
      "147/147 [==============================] - 21s 142ms/step - loss: 1.3172 - accuracy: 0.4644 - val_loss: 1.5196 - val_accuracy: 0.4088\n",
      "Epoch 14/50\n",
      "147/147 [==============================] - 21s 143ms/step - loss: 1.3145 - accuracy: 0.4686 - val_loss: 1.4800 - val_accuracy: 0.4127\n",
      "Epoch 15/50\n",
      "147/147 [==============================] - 21s 142ms/step - loss: 1.2920 - accuracy: 0.4857 - val_loss: 1.4908 - val_accuracy: 0.4223\n",
      "Epoch 16/50\n",
      "147/147 [==============================] - 21s 143ms/step - loss: 1.2992 - accuracy: 0.4714 - val_loss: 1.5053 - val_accuracy: 0.4280\n",
      "Epoch 17/50\n",
      "147/147 [==============================] - 21s 142ms/step - loss: 1.2945 - accuracy: 0.4789 - val_loss: 1.4762 - val_accuracy: 0.4012\n",
      "Epoch 18/50\n",
      "147/147 [==============================] - 21s 142ms/step - loss: 1.2672 - accuracy: 0.4947 - val_loss: 1.4412 - val_accuracy: 0.4338\n",
      "Epoch 19/50\n",
      "147/147 [==============================] - 21s 143ms/step - loss: 1.2635 - accuracy: 0.4898 - val_loss: 1.4153 - val_accuracy: 0.4280\n",
      "Epoch 20/50\n",
      "147/147 [==============================] - 21s 145ms/step - loss: 1.2570 - accuracy: 0.4942 - val_loss: 1.4278 - val_accuracy: 0.4491\n",
      "Epoch 21/50\n",
      "147/147 [==============================] - 21s 143ms/step - loss: 1.2565 - accuracy: 0.5002 - val_loss: 1.4353 - val_accuracy: 0.4491\n",
      "Epoch 22/50\n",
      "147/147 [==============================] - 21s 142ms/step - loss: 1.2514 - accuracy: 0.4994 - val_loss: 1.4657 - val_accuracy: 0.4530\n",
      "Epoch 23/50\n",
      "147/147 [==============================] - 22s 147ms/step - loss: 1.2421 - accuracy: 0.5134 - val_loss: 1.4894 - val_accuracy: 0.4165\n",
      "Epoch 24/50\n",
      "147/147 [==============================] - 21s 143ms/step - loss: 1.2250 - accuracy: 0.5175 - val_loss: 1.4671 - val_accuracy: 0.4280\n",
      "Epoch 25/50\n",
      "147/147 [==============================] - 21s 143ms/step - loss: 1.2490 - accuracy: 0.5004 - val_loss: 1.4851 - val_accuracy: 0.3973\n",
      "Epoch 26/50\n",
      "147/147 [==============================] - 21s 142ms/step - loss: 1.2328 - accuracy: 0.5158 - val_loss: 1.4582 - val_accuracy: 0.4280\n",
      "Epoch 27/50\n",
      "147/147 [==============================] - 21s 142ms/step - loss: 1.2208 - accuracy: 0.5175 - val_loss: 1.4539 - val_accuracy: 0.4472\n",
      "Epoch 28/50\n",
      "147/147 [==============================] - 21s 142ms/step - loss: 1.2110 - accuracy: 0.5228 - val_loss: 1.4847 - val_accuracy: 0.4184\n",
      "Epoch 29/50\n",
      "147/147 [==============================] - 21s 143ms/step - loss: 1.2054 - accuracy: 0.5243 - val_loss: 1.4920 - val_accuracy: 0.4165\n",
      "Epoch 30/50\n",
      "147/147 [==============================] - 21s 143ms/step - loss: 1.1926 - accuracy: 0.5265 - val_loss: 1.5577 - val_accuracy: 0.4031\n",
      "Epoch 31/50\n",
      "147/147 [==============================] - 21s 143ms/step - loss: 1.1890 - accuracy: 0.5335 - val_loss: 1.5323 - val_accuracy: 0.4376\n",
      "Epoch 32/50\n",
      "147/147 [==============================] - 21s 143ms/step - loss: 1.1973 - accuracy: 0.5297 - val_loss: 1.4698 - val_accuracy: 0.4146\n",
      "Epoch 33/50\n",
      "147/147 [==============================] - 21s 142ms/step - loss: 1.2055 - accuracy: 0.5311 - val_loss: 1.4578 - val_accuracy: 0.4319\n",
      "Epoch 34/50\n",
      "147/147 [==============================] - 21s 142ms/step - loss: 1.1837 - accuracy: 0.5373 - val_loss: 1.4751 - val_accuracy: 0.4242\n",
      "Epoch 35/50\n",
      "147/147 [==============================] - 21s 143ms/step - loss: 1.1878 - accuracy: 0.5435 - val_loss: 1.4327 - val_accuracy: 0.4626\n",
      "Epoch 36/50\n",
      "147/147 [==============================] - 21s 145ms/step - loss: 1.1805 - accuracy: 0.5341 - val_loss: 1.4381 - val_accuracy: 0.4376\n",
      "Epoch 37/50\n",
      "147/147 [==============================] - 21s 143ms/step - loss: 1.1709 - accuracy: 0.5514 - val_loss: 1.5185 - val_accuracy: 0.4050\n",
      "Epoch 38/50\n",
      "147/147 [==============================] - 21s 144ms/step - loss: 1.1661 - accuracy: 0.5512 - val_loss: 1.5217 - val_accuracy: 0.4127\n",
      "Epoch 39/50\n",
      "147/147 [==============================] - 21s 144ms/step - loss: 1.1686 - accuracy: 0.5542 - val_loss: 1.4253 - val_accuracy: 0.4280\n",
      "Epoch 40/50\n",
      "147/147 [==============================] - 21s 145ms/step - loss: 1.1419 - accuracy: 0.5574 - val_loss: 1.4382 - val_accuracy: 0.4434\n",
      "Epoch 41/50\n",
      "147/147 [==============================] - 21s 145ms/step - loss: 1.1497 - accuracy: 0.5576 - val_loss: 1.4167 - val_accuracy: 0.4549\n",
      "Epoch 42/50\n",
      "147/147 [==============================] - 21s 143ms/step - loss: 1.1554 - accuracy: 0.5503 - val_loss: 1.4423 - val_accuracy: 0.4626\n",
      "Epoch 43/50\n",
      "147/147 [==============================] - 21s 143ms/step - loss: 1.1449 - accuracy: 0.5567 - val_loss: 1.5122 - val_accuracy: 0.4165\n",
      "Epoch 44/50\n",
      "147/147 [==============================] - 21s 145ms/step - loss: 1.1438 - accuracy: 0.5508 - val_loss: 1.4705 - val_accuracy: 0.4357\n",
      "Epoch 45/50\n",
      "147/147 [==============================] - 21s 146ms/step - loss: 1.1503 - accuracy: 0.5514 - val_loss: 1.4723 - val_accuracy: 0.4280\n",
      "Epoch 46/50\n",
      "147/147 [==============================] - 21s 144ms/step - loss: 1.1753 - accuracy: 0.5433 - val_loss: 1.4674 - val_accuracy: 0.4511\n",
      "Epoch 47/50\n",
      "147/147 [==============================] - 21s 144ms/step - loss: 1.1349 - accuracy: 0.5576 - val_loss: 1.4877 - val_accuracy: 0.4357\n",
      "Epoch 48/50\n",
      "147/147 [==============================] - 21s 144ms/step - loss: 1.1407 - accuracy: 0.5572 - val_loss: 1.4934 - val_accuracy: 0.4165\n",
      "Epoch 49/50\n",
      "147/147 [==============================] - 21s 144ms/step - loss: 1.1946 - accuracy: 0.5307 - val_loss: 1.4946 - val_accuracy: 0.4107\n",
      "Epoch 50/50\n",
      "147/147 [==============================] - 21s 144ms/step - loss: 1.1519 - accuracy: 0.5527 - val_loss: 1.5318 - val_accuracy: 0.4050\n"
     ]
    }
   ],
   "source": [
    "history = model.fit(X_train, y_train, validation_split = 0.1, batch_size=32, epochs=50)"
   ]
  },
  {
   "cell_type": "code",
   "execution_count": 16,
   "metadata": {
    "colab": {
     "base_uri": "https://localhost:8080/",
     "height": 731
    },
    "id": "ShJw3EKnTfIH",
    "outputId": "b4fc0ac5-e65a-4c59-dd4f-4913ed781ff9"
   },
   "outputs": [
    {
     "name": "stdout",
     "output_type": "stream",
     "text": [
      "accuracy score for Train set is: 0.5231330389710117\n",
      "accuracy score for Test set is:  0.3994626063591581\n",
      "[Anger, disgust, fear, happy, neutral, sad]\n",
      "F1 score for Train set is: [0.71043538 0.31382528 0.50608788 0.55398633 0.47512577 0.53673788]\n",
      "F1 score for Test set is:  [0.45390071 0.21218075 0.35939323 0.4244898  0.41324503 0.47940075]\n"
     ]
    }
   ],
   "source": [
    "pred = model.predict(X_train)\n",
    "pred_test = model.predict(X_test)\n",
    "\n",
    "print(\"accuracy score for Train set is:\", accuracy_score(np.argmax(y_train,axis =1), np.argmax(pred,axis=1)))\n",
    "print(\"accuracy score for Test set is: \", accuracy_score(np.argmax(y_test,axis =1), np.argmax(pred_test,axis=1)))\n",
    "print(\"[Anger, disgust, fear, happy, neutral, sad]\")\n",
    "print(\"F1 score for Train set is:\", f1_score(np.argmax(y_train,axis =1), np.argmax(pred,axis=1), average = None))\n",
    "print(\"F1 score for Test set is: \", f1_score(np.argmax(y_test,axis =1), np.argmax(pred_test,axis=1), average = None))"
   ]
  },
  {
   "cell_type": "code",
   "execution_count": null,
   "metadata": {},
   "outputs": [],
   "source": []
  }
 ],
 "metadata": {
  "accelerator": "TPU",
  "colab": {
   "machine_shape": "hm",
   "name": "MFCC_RNN.ipynb",
   "provenance": []
  },
  "kernelspec": {
   "display_name": "Python 3 (ipykernel)",
   "language": "python",
   "name": "python3"
  },
  "language_info": {
   "codemirror_mode": {
    "name": "ipython",
    "version": 3
   },
   "file_extension": ".py",
   "mimetype": "text/x-python",
   "name": "python",
   "nbconvert_exporter": "python",
   "pygments_lexer": "ipython3",
   "version": "3.9.7"
  }
 },
 "nbformat": 4,
 "nbformat_minor": 1
}

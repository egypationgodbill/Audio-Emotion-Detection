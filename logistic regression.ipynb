{
 "cells": [
  {
   "cell_type": "code",
   "execution_count": 1,
   "metadata": {},
   "outputs": [],
   "source": [
    "import librosa\n",
    "import numpy as np\n",
    "import IPython\n",
    "import pandas as pd\n",
    "\n",
    "#importing librarys"
   ]
  },
  {
   "cell_type": "code",
   "execution_count": 2,
   "metadata": {},
   "outputs": [
    {
     "name": "stdout",
     "output_type": "stream",
     "text": [
      "/Users/zeyuanli/Dropbox/Github/Librosa test\n"
     ]
    }
   ],
   "source": [
    "import os\n",
    "cwd = os.getcwd()\n",
    "print(cwd)\n",
    "os.chdir('/Users/zeyuanli/Dropbox/Github/Librosa test'+'/AudioWAV')\n",
    "#change the directory to AudioMP3"
   ]
  },
  {
   "cell_type": "code",
   "execution_count": 3,
   "metadata": {},
   "outputs": [],
   "source": [
    "import warnings\n",
    "warnings.filterwarnings(\"ignore\")\n",
    "\n",
    "#ignoring import warnings"
   ]
  },
  {
   "cell_type": "code",
   "execution_count": 4,
   "metadata": {},
   "outputs": [],
   "source": [
    "#IPython.display.Audio(loaded['signals'][1],rate = 22050)"
   ]
  },
  {
   "cell_type": "code",
   "execution_count": 5,
   "metadata": {},
   "outputs": [],
   "source": [
    "#IPython.display.Audio(train[1],rate = 22050)"
   ]
  },
  {
   "cell_type": "code",
   "execution_count": 6,
   "metadata": {},
   "outputs": [],
   "source": [
    "#load training data from .npz files\n",
    "traindata = np.zeros((1,110250))\n",
    "for i in os.listdir():\n",
    "    if (i.startswith('train') and i.endswith('.npz')):\n",
    "        loaded = np.load(i)['signals']\n",
    "        traindata= np.concatenate((loaded,traindata), axis = 0)"
   ]
  },
  {
   "cell_type": "code",
   "execution_count": 7,
   "metadata": {},
   "outputs": [],
   "source": [
    "train = traindata[1:,:]"
   ]
  },
  {
   "cell_type": "code",
   "execution_count": 8,
   "metadata": {},
   "outputs": [],
   "source": [
    "#load testing datas from .npz files\n",
    "testdata = np.zeros((1,110250))\n",
    "for i in os.listdir():\n",
    "    if (i.startswith('test') and i.endswith('.npz')):\n",
    "        loaded = np.load(i)['signals']\n",
    "        testdata= np.concatenate((loaded,testdata), axis = 0)\n",
    "test = testdata[2:,:]"
   ]
  },
  {
   "cell_type": "code",
   "execution_count": 9,
   "metadata": {},
   "outputs": [
    {
     "data": {
      "text/plain": [
       "(5210, 110250)"
      ]
     },
     "execution_count": 9,
     "metadata": {},
     "output_type": "execute_result"
    }
   ],
   "source": [
    "train.shape"
   ]
  },
  {
   "cell_type": "code",
   "execution_count": 10,
   "metadata": {},
   "outputs": [
    {
     "data": {
      "text/plain": [
       "array([[ 1.27123451e-04,  9.68814420e-05,  2.25798372e-04, ...,\n",
       "         0.00000000e+00,  0.00000000e+00,  0.00000000e+00],\n",
       "       [ 2.35887920e-03,  3.13806743e-03,  3.03717167e-03, ...,\n",
       "         0.00000000e+00,  0.00000000e+00,  0.00000000e+00],\n",
       "       [-2.31464300e-03, -2.26339907e-03, -2.61652656e-03, ...,\n",
       "         0.00000000e+00,  0.00000000e+00,  0.00000000e+00],\n",
       "       ...,\n",
       "       [ 9.01850872e-03,  1.07820174e-02,  9.61892400e-03, ...,\n",
       "         0.00000000e+00,  0.00000000e+00,  0.00000000e+00],\n",
       "       [-9.13257187e-04, -1.67434220e-03, -2.09365902e-03, ...,\n",
       "         0.00000000e+00,  0.00000000e+00,  0.00000000e+00],\n",
       "       [ 0.00000000e+00,  0.00000000e+00,  0.00000000e+00, ...,\n",
       "         0.00000000e+00,  0.00000000e+00,  0.00000000e+00]])"
      ]
     },
     "execution_count": 10,
     "metadata": {},
     "output_type": "execute_result"
    }
   ],
   "source": [
    "train"
   ]
  },
  {
   "cell_type": "code",
   "execution_count": 11,
   "metadata": {},
   "outputs": [],
   "source": [
    "X_i = train - X_mean"
   ]
  },
  {
   "cell_type": "code",
   "execution_count": 12,
   "metadata": {},
   "outputs": [],
   "source": [
    "X_i_test = test - X_mean"
   ]
  },
  {
   "cell_type": "code",
   "execution_count": 45,
   "metadata": {},
   "outputs": [
    {
     "data": {
      "text/plain": [
       "(2231, 110250)"
      ]
     },
     "execution_count": 45,
     "metadata": {},
     "output_type": "execute_result"
    }
   ],
   "source": [
    "test.shape"
   ]
  },
  {
   "cell_type": "code",
   "execution_count": 14,
   "metadata": {},
   "outputs": [],
   "source": [
    "import jax.scipy as jax"
   ]
  },
  {
   "cell_type": "code",
   "execution_count": 15,
   "metadata": {},
   "outputs": [
    {
     "name": "stderr",
     "output_type": "stream",
     "text": [
      "WARNING:absl:No GPU/TPU found, falling back to CPU. (Set TF_CPP_MIN_LOG_LEVEL=0 and rerun for more info.)\n"
     ]
    }
   ],
   "source": [
    "U,D,V = jax.linalg.svd(X_i,\n",
    "                                  full_matrices=False,\n",
    "                                  compute_uv=True,\n",
    "                                  check_finite=False,\n",
    "                                  overwrite_a=True\n",
    "                                 )"
   ]
  },
  {
   "cell_type": "code",
   "execution_count": 17,
   "metadata": {},
   "outputs": [
    {
     "name": "stdout",
     "output_type": "stream",
     "text": [
      "(5209, 5209)\n",
      "(5209,)\n",
      "(5209, 110250)\n"
     ]
    }
   ],
   "source": [
    "print(U.shape)\n",
    "print(D.shape)\n",
    "print(V.shape)"
   ]
  },
  {
   "cell_type": "code",
   "execution_count": 20,
   "metadata": {},
   "outputs": [],
   "source": [
    "import sklearn\n",
    "from sklearn.linear_model import LogisticRegression\n",
    "from sklearn.metrics import f1_score #computes F1 score\n",
    "from sklearn.metrics import accuracy_score #compute accuracy"
   ]
  },
  {
   "cell_type": "code",
   "execution_count": 23,
   "metadata": {},
   "outputs": [],
   "source": [
    "target = pd.read_csv (\"Target.csv\")"
   ]
  },
  {
   "cell_type": "code",
   "execution_count": 25,
   "metadata": {},
   "outputs": [
    {
     "name": "stdout",
     "output_type": "stream",
     "text": [
      "     Emotion\n",
      "0        SAD\n",
      "1        SAD\n",
      "2        FEA\n",
      "3        HAP\n",
      "4        ANG\n",
      "...      ...\n",
      "7437     FEA\n",
      "7438     NEU\n",
      "7439     FEA\n",
      "7440     HAP\n",
      "7441     HAP\n",
      "\n",
      "[7442 rows x 1 columns]\n",
      "(5209, 110250)\n"
     ]
    }
   ],
   "source": [
    "print(target)\n",
    "print(train.shape)"
   ]
  },
  {
   "cell_type": "code",
   "execution_count": 46,
   "metadata": {},
   "outputs": [],
   "source": [
    "logreg = LogisticRegression(penalty='l2',max_iter=10000, multi_class = \"ovr\")\n",
    "logreg.fit(train,target[:5210])\n",
    "pred = logreg.predict(train)\n",
    "pred_test = logreg.predict(test)"
   ]
  },
  {
   "cell_type": "code",
   "execution_count": 48,
   "metadata": {},
   "outputs": [
    {
     "data": {
      "text/plain": [
       "0.1555356342447333"
      ]
     },
     "execution_count": 48,
     "metadata": {},
     "output_type": "execute_result"
    }
   ],
   "source": [
    "accuracy_score(target[-2231:], pred_test)"
   ]
  },
  {
   "cell_type": "code",
   "execution_count": 36,
   "metadata": {},
   "outputs": [
    {
     "data": {
      "text/plain": [
       "(2231,)"
      ]
     },
     "execution_count": 36,
     "metadata": {},
     "output_type": "execute_result"
    }
   ],
   "source": [
    "pred_test.shape"
   ]
  },
  {
   "cell_type": "code",
   "execution_count": 39,
   "metadata": {},
   "outputs": [
    {
     "data": {
      "text/plain": [
       "7440"
      ]
     },
     "execution_count": 39,
     "metadata": {},
     "output_type": "execute_result"
    }
   ],
   "source": [
    "test.shape[0]+train.shape[0]"
   ]
  },
  {
   "cell_type": "code",
   "execution_count": 50,
   "metadata": {},
   "outputs": [],
   "source": [
    "from matplotlib import pylab as plt"
   ]
  },
  {
   "cell_type": "code",
   "execution_count": 84,
   "metadata": {},
   "outputs": [],
   "source": [
    "category = target[:5210].astype(\"category\")"
   ]
  },
  {
   "cell_type": "code",
   "execution_count": 85,
   "metadata": {},
   "outputs": [],
   "source": [
    "array = np.array(category)"
   ]
  },
  {
   "cell_type": "code",
   "execution_count": 86,
   "metadata": {},
   "outputs": [
    {
     "data": {
      "text/plain": [
       "(array([897., 892., 869., 897., 750., 905.]),\n",
       " array([0.        , 0.83333333, 1.66666667, 2.5       , 3.33333333,\n",
       "        4.16666667, 5.        ]),\n",
       " <BarContainer object of 6 artists>)"
      ]
     },
     "execution_count": 86,
     "metadata": {},
     "output_type": "execute_result"
    },
    {
     "data": {
      "image/png": "[encoded data removed]",
      "text/plain": [
       "<Figure size 432x288 with 1 Axes>"
      ]
     },
     "metadata": {
      "needs_background": "light"
     },
     "output_type": "display_data"
    }
   ],
   "source": [
    "plt.hist(array.flatten(), bins = 6)"
   ]
  },
  {
   "cell_type": "code",
   "execution_count": 87,
   "metadata": {},
   "outputs": [
    {
     "data": {
      "text/plain": [
       "(array([374., 402., 379., 374., 366., 337.]),\n",
       " array([0.        , 0.83333333, 1.66666667, 2.5       , 3.33333333,\n",
       "        4.16666667, 5.        ]),\n",
       " <BarContainer object of 6 artists>)"
      ]
     },
     "execution_count": 87,
     "metadata": {},
     "output_type": "execute_result"
    },
    {
     "data": {
      "image/png": "[encoded data removed]",
      "text/plain": [
       "<Figure size 432x288 with 1 Axes>"
      ]
     },
     "metadata": {
      "needs_background": "light"
     },
     "output_type": "display_data"
    }
   ],
   "source": [
    "category_test = target[5210:].astype(\"category\")\n",
    "array = np.array(category_test)\n",
    "plt.hist(array.flatten(), bins = 6)"
   ]
  },
  {
   "cell_type": "code",
   "execution_count": 89,
   "metadata": {},
   "outputs": [],
   "source": [
    "fft = librosa.stft(train[0])"
   ]
  },
  {
   "cell_type": "code",
   "execution_count": 91,
   "metadata": {},
   "outputs": [
    {
     "data": {
      "text/plain": [
       "[<matplotlib.lines.Line2D at 0x7fb7626c8d60>,\n",
       " <matplotlib.lines.Line2D at 0x7fb7626c8d90>,\n",
       " <matplotlib.lines.Line2D at 0x7fb7626c8eb0>,\n",
       " <matplotlib.lines.Line2D at 0x7fb7626c8fd0>,\n",
       " <matplotlib.lines.Line2D at 0x7fb7626d5130>,\n",
       " <matplotlib.lines.Line2D at 0x7fb7626d5250>,\n",
       " <matplotlib.lines.Line2D at 0x7fb7626d5370>,\n",
       " <matplotlib.lines.Line2D at 0x7fb7626d5490>,\n",
       " <matplotlib.lines.Line2D at 0x7fb7626d55b0>,\n",
       " <matplotlib.lines.Line2D at 0x7fb7626d56d0>,\n",
       " <matplotlib.lines.Line2D at 0x7fb7626a3640>,\n",
       " <matplotlib.lines.Line2D at 0x7fb7626d57f0>,\n",
       " <matplotlib.lines.Line2D at 0x7fb7626d5a00>,\n",
       " <matplotlib.lines.Line2D at 0x7fb7626d5b20>,\n",
       " <matplotlib.lines.Line2D at 0x7fb7626d5c40>,\n",
       " <matplotlib.lines.Line2D at 0x7fb7626d5d60>,\n",
       " <matplotlib.lines.Line2D at 0x7fb7626d5e80>,\n",
       " <matplotlib.lines.Line2D at 0x7fb7626d5fa0>,\n",
       " <matplotlib.lines.Line2D at 0x7fb762a3e100>,\n",
       " <matplotlib.lines.Line2D at 0x7fb762a3e220>,\n",
       " <matplotlib.lines.Line2D at 0x7fb762a3e340>,\n",
       " <matplotlib.lines.Line2D at 0x7fb762a3e460>,\n",
       " <matplotlib.lines.Line2D at 0x7fb762a3e580>,\n",
       " <matplotlib.lines.Line2D at 0x7fb762a3e6a0>,\n",
       " <matplotlib.lines.Line2D at 0x7fb762a3e7c0>,\n",
       " <matplotlib.lines.Line2D at 0x7fb762a3e8e0>,\n",
       " <matplotlib.lines.Line2D at 0x7fb762a3ea00>,\n",
       " <matplotlib.lines.Line2D at 0x7fb762a3eb20>,\n",
       " <matplotlib.lines.Line2D at 0x7fb762a3ec40>,\n",
       " <matplotlib.lines.Line2D at 0x7fb762a3ed60>,\n",
       " <matplotlib.lines.Line2D at 0x7fb762a3ee80>,\n",
       " <matplotlib.lines.Line2D at 0x7fb762a3efa0>,\n",
       " <matplotlib.lines.Line2D at 0x7fb762a42100>,\n",
       " <matplotlib.lines.Line2D at 0x7fb762a42220>,\n",
       " <matplotlib.lines.Line2D at 0x7fb762a42340>,\n",
       " <matplotlib.lines.Line2D at 0x7fb762a42460>,\n",
       " <matplotlib.lines.Line2D at 0x7fb762a42580>,\n",
       " <matplotlib.lines.Line2D at 0x7fb762a426a0>,\n",
       " <matplotlib.lines.Line2D at 0x7fb762a427c0>,\n",
       " <matplotlib.lines.Line2D at 0x7fb762a428e0>,\n",
       " <matplotlib.lines.Line2D at 0x7fb762a42a00>,\n",
       " <matplotlib.lines.Line2D at 0x7fb762a42b20>,\n",
       " <matplotlib.lines.Line2D at 0x7fb762a42c40>,\n",
       " <matplotlib.lines.Line2D at 0x7fb762a42d60>,\n",
       " <matplotlib.lines.Line2D at 0x7fb762a42e80>,\n",
       " <matplotlib.lines.Line2D at 0x7fb762a42fa0>,\n",
       " <matplotlib.lines.Line2D at 0x7fb762a49100>,\n",
       " <matplotlib.lines.Line2D at 0x7fb762a49220>,\n",
       " <matplotlib.lines.Line2D at 0x7fb762a49340>,\n",
       " <matplotlib.lines.Line2D at 0x7fb762a49460>,\n",
       " <matplotlib.lines.Line2D at 0x7fb762a49580>,\n",
       " <matplotlib.lines.Line2D at 0x7fb762a496a0>,\n",
       " <matplotlib.lines.Line2D at 0x7fb762a497c0>,\n",
       " <matplotlib.lines.Line2D at 0x7fb762a498e0>,\n",
       " <matplotlib.lines.Line2D at 0x7fb762a49a00>,\n",
       " <matplotlib.lines.Line2D at 0x7fb762a49b20>,\n",
       " <matplotlib.lines.Line2D at 0x7fb762a49c40>,\n",
       " <matplotlib.lines.Line2D at 0x7fb762a49d60>,\n",
       " <matplotlib.lines.Line2D at 0x7fb762a49e80>,\n",
       " <matplotlib.lines.Line2D at 0x7fb762a49fa0>,\n",
       " <matplotlib.lines.Line2D at 0x7fb762a50100>,\n",
       " <matplotlib.lines.Line2D at 0x7fb762a50220>,\n",
       " <matplotlib.lines.Line2D at 0x7fb762a50340>,\n",
       " <matplotlib.lines.Line2D at 0x7fb762a50460>,\n",
       " <matplotlib.lines.Line2D at 0x7fb762a50580>,\n",
       " <matplotlib.lines.Line2D at 0x7fb762a506a0>,\n",
       " <matplotlib.lines.Line2D at 0x7fb762a507c0>,\n",
       " <matplotlib.lines.Line2D at 0x7fb762a508e0>,\n",
       " <matplotlib.lines.Line2D at 0x7fb762a50a00>,\n",
       " <matplotlib.lines.Line2D at 0x7fb762a50b20>,\n",
       " <matplotlib.lines.Line2D at 0x7fb762a50c40>,\n",
       " <matplotlib.lines.Line2D at 0x7fb762a50d60>,\n",
       " <matplotlib.lines.Line2D at 0x7fb762a50e80>,\n",
       " <matplotlib.lines.Line2D at 0x7fb762a50fa0>,\n",
       " <matplotlib.lines.Line2D at 0x7fb762a55100>,\n",
       " <matplotlib.lines.Line2D at 0x7fb762a55220>,\n",
       " <matplotlib.lines.Line2D at 0x7fb762a55340>,\n",
       " <matplotlib.lines.Line2D at 0x7fb762a55460>,\n",
       " <matplotlib.lines.Line2D at 0x7fb762a55580>,\n",
       " <matplotlib.lines.Line2D at 0x7fb762a556a0>,\n",
       " <matplotlib.lines.Line2D at 0x7fb762a557c0>,\n",
       " <matplotlib.lines.Line2D at 0x7fb762a558e0>,\n",
       " <matplotlib.lines.Line2D at 0x7fb762a55a00>,\n",
       " <matplotlib.lines.Line2D at 0x7fb762a55b20>,\n",
       " <matplotlib.lines.Line2D at 0x7fb762a55c40>,\n",
       " <matplotlib.lines.Line2D at 0x7fb762a55d60>,\n",
       " <matplotlib.lines.Line2D at 0x7fb762a55e80>,\n",
       " <matplotlib.lines.Line2D at 0x7fb762a55fa0>,\n",
       " <matplotlib.lines.Line2D at 0x7fb762a5d100>,\n",
       " <matplotlib.lines.Line2D at 0x7fb762a5d220>,\n",
       " <matplotlib.lines.Line2D at 0x7fb762a5d340>,\n",
       " <matplotlib.lines.Line2D at 0x7fb762a5d460>,\n",
       " <matplotlib.lines.Line2D at 0x7fb762a5d580>,\n",
       " <matplotlib.lines.Line2D at 0x7fb762a5d6a0>,\n",
       " <matplotlib.lines.Line2D at 0x7fb762a5d7c0>,\n",
       " <matplotlib.lines.Line2D at 0x7fb762a5d8e0>,\n",
       " <matplotlib.lines.Line2D at 0x7fb762a5da00>,\n",
       " <matplotlib.lines.Line2D at 0x7fb762a5db20>,\n",
       " <matplotlib.lines.Line2D at 0x7fb762a5dc40>,\n",
       " <matplotlib.lines.Line2D at 0x7fb762a5dd60>,\n",
       " <matplotlib.lines.Line2D at 0x7fb762a5de80>,\n",
       " <matplotlib.lines.Line2D at 0x7fb762a5dfa0>,\n",
       " <matplotlib.lines.Line2D at 0x7fb762a63100>,\n",
       " <matplotlib.lines.Line2D at 0x7fb762a63220>,\n",
       " <matplotlib.lines.Line2D at 0x7fb762a63340>,\n",
       " <matplotlib.lines.Line2D at 0x7fb762a63460>,\n",
       " <matplotlib.lines.Line2D at 0x7fb762a63580>,\n",
       " <matplotlib.lines.Line2D at 0x7fb762a636a0>,\n",
       " <matplotlib.lines.Line2D at 0x7fb762a637c0>,\n",
       " <matplotlib.lines.Line2D at 0x7fb762a638e0>,\n",
       " <matplotlib.lines.Line2D at 0x7fb762a63a00>,\n",
       " <matplotlib.lines.Line2D at 0x7fb762a63b20>,\n",
       " <matplotlib.lines.Line2D at 0x7fb762a63c40>,\n",
       " <matplotlib.lines.Line2D at 0x7fb762a63d60>,\n",
       " <matplotlib.lines.Line2D at 0x7fb762a63e80>,\n",
       " <matplotlib.lines.Line2D at 0x7fb762a63fa0>,\n",
       " <matplotlib.lines.Line2D at 0x7fb762a68100>,\n",
       " <matplotlib.lines.Line2D at 0x7fb762a68220>,\n",
       " <matplotlib.lines.Line2D at 0x7fb762a68340>,\n",
       " <matplotlib.lines.Line2D at 0x7fb762a68460>,\n",
       " <matplotlib.lines.Line2D at 0x7fb762a68580>,\n",
       " <matplotlib.lines.Line2D at 0x7fb762a686a0>,\n",
       " <matplotlib.lines.Line2D at 0x7fb762a687c0>,\n",
       " <matplotlib.lines.Line2D at 0x7fb762a688e0>,\n",
       " <matplotlib.lines.Line2D at 0x7fb762a68a00>,\n",
       " <matplotlib.lines.Line2D at 0x7fb762a68b20>,\n",
       " <matplotlib.lines.Line2D at 0x7fb762a68c40>,\n",
       " <matplotlib.lines.Line2D at 0x7fb762a68d60>,\n",
       " <matplotlib.lines.Line2D at 0x7fb762a68e80>,\n",
       " <matplotlib.lines.Line2D at 0x7fb762a68fa0>,\n",
       " <matplotlib.lines.Line2D at 0x7fb762a6e100>,\n",
       " <matplotlib.lines.Line2D at 0x7fb762a6e220>,\n",
       " <matplotlib.lines.Line2D at 0x7fb762a6e340>,\n",
       " <matplotlib.lines.Line2D at 0x7fb762a6e460>,\n",
       " <matplotlib.lines.Line2D at 0x7fb762a6e580>,\n",
       " <matplotlib.lines.Line2D at 0x7fb762a6e6a0>,\n",
       " <matplotlib.lines.Line2D at 0x7fb762a6e7c0>,\n",
       " <matplotlib.lines.Line2D at 0x7fb762a6e8e0>,\n",
       " <matplotlib.lines.Line2D at 0x7fb762a6ea00>,\n",
       " <matplotlib.lines.Line2D at 0x7fb762a6eb20>,\n",
       " <matplotlib.lines.Line2D at 0x7fb762a6ec40>,\n",
       " <matplotlib.lines.Line2D at 0x7fb762a6ed60>,\n",
       " <matplotlib.lines.Line2D at 0x7fb762a6ee80>,\n",
       " <matplotlib.lines.Line2D at 0x7fb762a6efa0>,\n",
       " <matplotlib.lines.Line2D at 0x7fb762a75100>,\n",
       " <matplotlib.lines.Line2D at 0x7fb762a75220>,\n",
       " <matplotlib.lines.Line2D at 0x7fb762a75340>,\n",
       " <matplotlib.lines.Line2D at 0x7fb762a75460>,\n",
       " <matplotlib.lines.Line2D at 0x7fb762a75580>,\n",
       " <matplotlib.lines.Line2D at 0x7fb762a756a0>,\n",
       " <matplotlib.lines.Line2D at 0x7fb762a757c0>,\n",
       " <matplotlib.lines.Line2D at 0x7fb762a758e0>,\n",
       " <matplotlib.lines.Line2D at 0x7fb762a75a00>,\n",
       " <matplotlib.lines.Line2D at 0x7fb762a75b20>,\n",
       " <matplotlib.lines.Line2D at 0x7fb762a75c40>,\n",
       " <matplotlib.lines.Line2D at 0x7fb762a75d60>,\n",
       " <matplotlib.lines.Line2D at 0x7fb762a75e80>,\n",
       " <matplotlib.lines.Line2D at 0x7fb762a75fa0>,\n",
       " <matplotlib.lines.Line2D at 0x7fb762a79100>,\n",
       " <matplotlib.lines.Line2D at 0x7fb762a79220>,\n",
       " <matplotlib.lines.Line2D at 0x7fb762a79340>,\n",
       " <matplotlib.lines.Line2D at 0x7fb762a79460>,\n",
       " <matplotlib.lines.Line2D at 0x7fb762a79580>,\n",
       " <matplotlib.lines.Line2D at 0x7fb762a796a0>,\n",
       " <matplotlib.lines.Line2D at 0x7fb762a797c0>,\n",
       " <matplotlib.lines.Line2D at 0x7fb762a798e0>,\n",
       " <matplotlib.lines.Line2D at 0x7fb762a79a00>,\n",
       " <matplotlib.lines.Line2D at 0x7fb762a79b20>,\n",
       " <matplotlib.lines.Line2D at 0x7fb762a79c40>,\n",
       " <matplotlib.lines.Line2D at 0x7fb762a79d60>,\n",
       " <matplotlib.lines.Line2D at 0x7fb762a79e80>,\n",
       " <matplotlib.lines.Line2D at 0x7fb762a79fa0>,\n",
       " <matplotlib.lines.Line2D at 0x7fb762a7f100>,\n",
       " <matplotlib.lines.Line2D at 0x7fb762a7f220>,\n",
       " <matplotlib.lines.Line2D at 0x7fb762a7f340>,\n",
       " <matplotlib.lines.Line2D at 0x7fb762a7f460>,\n",
       " <matplotlib.lines.Line2D at 0x7fb762a7f580>,\n",
       " <matplotlib.lines.Line2D at 0x7fb762a7f6a0>,\n",
       " <matplotlib.lines.Line2D at 0x7fb762a7f7c0>,\n",
       " <matplotlib.lines.Line2D at 0x7fb762a7f8e0>,\n",
       " <matplotlib.lines.Line2D at 0x7fb762a7fa00>,\n",
       " <matplotlib.lines.Line2D at 0x7fb762a7fb20>,\n",
       " <matplotlib.lines.Line2D at 0x7fb762a7fc40>,\n",
       " <matplotlib.lines.Line2D at 0x7fb762a7fd60>,\n",
       " <matplotlib.lines.Line2D at 0x7fb762a7fe80>,\n",
       " <matplotlib.lines.Line2D at 0x7fb762a7ffa0>,\n",
       " <matplotlib.lines.Line2D at 0x7fb762a86100>,\n",
       " <matplotlib.lines.Line2D at 0x7fb762a86220>,\n",
       " <matplotlib.lines.Line2D at 0x7fb762a86340>,\n",
       " <matplotlib.lines.Line2D at 0x7fb762a86460>,\n",
       " <matplotlib.lines.Line2D at 0x7fb762a86580>,\n",
       " <matplotlib.lines.Line2D at 0x7fb762a866a0>,\n",
       " <matplotlib.lines.Line2D at 0x7fb762a867c0>,\n",
       " <matplotlib.lines.Line2D at 0x7fb762a868e0>,\n",
       " <matplotlib.lines.Line2D at 0x7fb762a86a00>,\n",
       " <matplotlib.lines.Line2D at 0x7fb762a86b20>,\n",
       " <matplotlib.lines.Line2D at 0x7fb762a86c40>,\n",
       " <matplotlib.lines.Line2D at 0x7fb762a86d60>,\n",
       " <matplotlib.lines.Line2D at 0x7fb762a86e80>,\n",
       " <matplotlib.lines.Line2D at 0x7fb762a86fa0>,\n",
       " <matplotlib.lines.Line2D at 0x7fb762a8a100>,\n",
       " <matplotlib.lines.Line2D at 0x7fb762a8a220>,\n",
       " <matplotlib.lines.Line2D at 0x7fb762a8a340>,\n",
       " <matplotlib.lines.Line2D at 0x7fb762a8a460>,\n",
       " <matplotlib.lines.Line2D at 0x7fb762a8a580>,\n",
       " <matplotlib.lines.Line2D at 0x7fb762a8a6a0>,\n",
       " <matplotlib.lines.Line2D at 0x7fb762a8a7c0>,\n",
       " <matplotlib.lines.Line2D at 0x7fb762a8a8e0>,\n",
       " <matplotlib.lines.Line2D at 0x7fb762a8aa00>,\n",
       " <matplotlib.lines.Line2D at 0x7fb762a8ab20>,\n",
       " <matplotlib.lines.Line2D at 0x7fb762a8ac40>,\n",
       " <matplotlib.lines.Line2D at 0x7fb762a8ad60>,\n",
       " <matplotlib.lines.Line2D at 0x7fb762a8ae80>,\n",
       " <matplotlib.lines.Line2D at 0x7fb762a8afa0>,\n",
       " <matplotlib.lines.Line2D at 0x7fb762a91100>,\n",
       " <matplotlib.lines.Line2D at 0x7fb762a91220>]"
      ]
     },
     "execution_count": 91,
     "metadata": {},
     "output_type": "execute_result"
    },
    {
     "data": {
      "image/png": "[encoded data removed]",
      "text/plain": [
       "<Figure size 432x288 with 1 Axes>"
      ]
     },
     "metadata": {
      "needs_background": "light"
     },
     "output_type": "display_data"
    }
   ],
   "source": [
    "plt.plot(fft)"
   ]
  },
  {
   "cell_type": "code",
   "execution_count": 92,
   "metadata": {},
   "outputs": [
    {
     "data": {
      "text/plain": [
       "(1025, 216)"
      ]
     },
     "execution_count": 92,
     "metadata": {},
     "output_type": "execute_result"
    }
   ],
   "source": []
  },
  {
   "cell_type": "code",
   "execution_count": null,
   "metadata": {},
   "outputs": [],
   "source": [
    "fft_matrix = []\n",
    "\n",
    "for i in train:\n",
    "    temp = librosa.stft"
   ]
  }
 ],
 "metadata": {
  "kernelspec": {
   "display_name": "Python 3 (ipykernel)",
   "language": "python",
   "name": "python3"
  },
  "language_info": {
   "codemirror_mode": {
    "name": "ipython",
    "version": 3
   },
   "file_extension": ".py",
   "mimetype": "text/x-python",
   "name": "python",
   "nbconvert_exporter": "python",
   "pygments_lexer": "ipython3",
   "version": "3.9.7"
  }
 },
 "nbformat": 4,
 "nbformat_minor": 4
}

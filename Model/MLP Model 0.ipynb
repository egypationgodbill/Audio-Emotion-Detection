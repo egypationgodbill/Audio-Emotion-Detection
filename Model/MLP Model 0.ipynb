{
 "cells": [
  {
   "cell_type": "code",
   "execution_count": 68,
   "metadata": {},
   "outputs": [],
   "source": [
    "import librosa\n",
    "import numpy as np\n",
    "import IPython\n",
    "import pandas as pd\n",
    "import sys\n",
    "import os \n",
    "import warnings\n",
    "import time\n",
    "\n",
    "#we will see it later.\n",
    "import librosa\n",
    "import librosa.display\n",
    "\n",
    "import seaborn as sns\n",
    "import matplotlib.pyplot as plt\n",
    "\n",
    "import np_utils\n",
    "\n",
    "from sklearn.metrics import confusion_matrix, ConfusionMatrixDisplay\n",
    "\n",
    "#importing librarys"
   ]
  },
  {
   "cell_type": "code",
   "execution_count": 69,
   "metadata": {},
   "outputs": [],
   "source": [
    "from sklearn.preprocessing import StandardScaler, OneHotEncoder\n",
    "from sklearn.metrics import confusion_matrix, classification_report\n",
    "from sklearn.model_selection import train_test_split\n",
    "from sklearn.metrics import confusion_matrix\n",
    "from sklearn import svm, datasets\n",
    "\n",
    "# to play the audio files\n",
    "from IPython.display import Audio\n",
    "\n",
    "from tensorflow import keras\n",
    "from tensorflow.keras.callbacks import ReduceLROnPlateau\n",
    "from tensorflow.keras.models import Sequential\n",
    "from tensorflow.keras.layers import Dense, Conv1D, MaxPooling1D, Flatten, Dropout, BatchNormalization\n",
    "from tensorflow.keras.utils import to_categorical\n"
   ]
  },
  {
   "cell_type": "code",
   "execution_count": 70,
   "metadata": {},
   "outputs": [],
   "source": [
    "import os\n",
    "import pandas as pd"
   ]
  },
  {
   "cell_type": "code",
   "execution_count": 71,
   "metadata": {},
   "outputs": [
    {
     "name": "stdout",
     "output_type": "stream",
     "text": [
      "/Users/zeyuanli/Dropbox/Github/Librosa test/AudioWAV\n"
     ]
    }
   ],
   "source": [
    "cwd = os.getcwd()\n",
    "print(cwd)\n",
    "os.chdir('/Users/zeyuanli/Dropbox/Github/Librosa test'+'/AudioWAV')\n",
    "#change the directory to AudioMP3"
   ]
  },
  {
   "cell_type": "code",
   "execution_count": 72,
   "metadata": {},
   "outputs": [],
   "source": [
    "#Use this to read from CSV directly\n",
    "Features = pd.read_csv(\"features.csv\")"
   ]
  },
  {
   "cell_type": "code",
   "execution_count": 73,
   "metadata": {},
   "outputs": [],
   "source": [
    "X = Features.iloc[: ,:-3].values\n",
    "Y = Features['labels'].values\n",
    "#only call this for CNN # As this is a multiclass classification problem onehotencoding our Y.\n",
    "encoder = OneHotEncoder()\n",
    "Y = encoder.fit_transform(np.array(Y).reshape(-1,1)).toarray()"
   ]
  },
  {
   "cell_type": "code",
   "execution_count": 74,
   "metadata": {},
   "outputs": [
    {
     "data": {
      "text/plain": [
       "array([[1., 0., 0., 0., 0., 0.],\n",
       "       [1., 0., 0., 0., 0., 0.],\n",
       "       [1., 0., 0., 0., 0., 0.],\n",
       "       ...,\n",
       "       [0., 0., 0., 0., 1., 0.],\n",
       "       [0., 0., 0., 0., 1., 0.],\n",
       "       [0., 0., 0., 0., 1., 0.]])"
      ]
     },
     "execution_count": 74,
     "metadata": {},
     "output_type": "execute_result"
    }
   ],
   "source": [
    "Y"
   ]
  },
  {
   "cell_type": "code",
   "execution_count": 75,
   "metadata": {},
   "outputs": [
    {
     "data": {
      "text/plain": [
       "((16744, 160), (16744, 6), (5582, 160), (5582, 6))"
      ]
     },
     "execution_count": 75,
     "metadata": {},
     "output_type": "execute_result"
    }
   ],
   "source": [
    "# splitting data\n",
    "x_train, x_test, y_train, y_test = train_test_split(X, Y, random_state=0, shuffle=True)\n",
    "x_train.shape, y_train.shape, x_test.shape, y_test.shape"
   ]
  },
  {
   "cell_type": "code",
   "execution_count": 84,
   "metadata": {},
   "outputs": [
    {
     "data": {
      "text/plain": [
       "((16744, 160), (16744, 6), (5582, 160), (5582, 6))"
      ]
     },
     "execution_count": 84,
     "metadata": {},
     "output_type": "execute_result"
    }
   ],
   "source": [
    "# scaling our data with sklearn's Standard scaler\n",
    "scaler = StandardScaler()\n",
    "x_train = scaler.fit_transform(x_train)\n",
    "x_test = scaler.transform(x_test)\n",
    "x_train.shape, y_train.shape, x_test.shape, y_test.shape"
   ]
  },
  {
   "cell_type": "code",
   "execution_count": 77,
   "metadata": {},
   "outputs": [],
   "source": [
    "import sklearn\n",
    "from sklearn.linear_model import LogisticRegression\n",
    "from sklearn.metrics import f1_score #computes F1 score\n",
    "from sklearn.metrics import accuracy_score #compute accuracy"
   ]
  },
  {
   "cell_type": "code",
   "execution_count": 78,
   "metadata": {},
   "outputs": [],
   "source": [
    "import os\n",
    "os.environ['KMP_DUPLICATE_LIB_OK']='Tre'"
   ]
  },
  {
   "cell_type": "code",
   "execution_count": 79,
   "metadata": {},
   "outputs": [],
   "source": [
    "def mlp ():\n",
    "    model = Sequential ()\n",
    "    model.add(Dense(units = 1600, input_shape = (x_train.shape[1],), activation = 'relu'))\n",
    "    model.add(Dropout(0.5))\n",
    "    model.add(Dense(units = 100, activation = 'relu'))\n",
    "    model.add(Dropout(0.34))\n",
    "    model.add(Dense(units = 20, activation = 'relu'))\n",
    "    #model.add(Dropout(0.1))\n",
    "    model.add(Dense(units = 6, activation = 'softmax'))\n",
    "    \n",
    "    model.compile(optimizer = 'adam' , loss = 'categorical_crossentropy' , metrics = ['accuracy'])\n",
    "\n",
    "    model.summary()\n",
    "    \n",
    "    return model"
   ]
  },
  {
   "cell_type": "code",
   "execution_count": 80,
   "metadata": {},
   "outputs": [
    {
     "name": "stdout",
     "output_type": "stream",
     "text": [
      "Model: \"sequential_7\"\n",
      "_________________________________________________________________\n",
      "Layer (type)                 Output Shape              Param #   \n",
      "=================================================================\n",
      "dense_22 (Dense)             (None, 1600)              257600    \n",
      "_________________________________________________________________\n",
      "dropout_10 (Dropout)         (None, 1600)              0         \n",
      "_________________________________________________________________\n",
      "dense_23 (Dense)             (None, 100)               160100    \n",
      "_________________________________________________________________\n",
      "dropout_11 (Dropout)         (None, 100)               0         \n",
      "_________________________________________________________________\n",
      "dense_24 (Dense)             (None, 20)                2020      \n",
      "_________________________________________________________________\n",
      "dense_25 (Dense)             (None, 6)                 126       \n",
      "=================================================================\n",
      "Total params: 419,846\n",
      "Trainable params: 419,846\n",
      "Non-trainable params: 0\n",
      "_________________________________________________________________\n"
     ]
    }
   ],
   "source": [
    "mlp_model = mlp()"
   ]
  },
  {
   "cell_type": "code",
   "execution_count": 81,
   "metadata": {},
   "outputs": [
    {
     "name": "stdout",
     "output_type": "stream",
     "text": [
      "Epoch 1/268\n",
      "1/7 [===>..........................] - ETA: 1s - loss: 1.9421 - accuracy: 0.1520"
     ]
    },
    {
     "name": "stderr",
     "output_type": "stream",
     "text": [
      "2021-12-10 00:37:33.384584: I tensorflow/core/grappler/optimizers/custom_graph_optimizer_registry.cc:112] Plugin optimizer for device_type GPU is enabled.\n"
     ]
    },
    {
     "name": "stdout",
     "output_type": "stream",
     "text": [
      "7/7 [==============================] - 0s 38ms/step - loss: 1.7247 - accuracy: 0.2585 - val_loss: 1.5992 - val_accuracy: 0.3308\n",
      "Epoch 2/268\n",
      "7/7 [==============================] - 0s 14ms/step - loss: 1.6084 - accuracy: 0.3186 - val_loss: 1.5368 - val_accuracy: 0.3649\n",
      "Epoch 3/268\n",
      "1/7 [===>..........................] - ETA: 0s - loss: 1.5816 - accuracy: 0.3400"
     ]
    },
    {
     "name": "stderr",
     "output_type": "stream",
     "text": [
      "2021-12-10 00:37:33.706801: I tensorflow/core/grappler/optimizers/custom_graph_optimizer_registry.cc:112] Plugin optimizer for device_type GPU is enabled.\n"
     ]
    },
    {
     "name": "stdout",
     "output_type": "stream",
     "text": [
      "7/7 [==============================] - 0s 14ms/step - loss: 1.5540 - accuracy: 0.3524 - val_loss: 1.4909 - val_accuracy: 0.3992\n",
      "Epoch 4/268\n",
      "7/7 [==============================] - 0s 15ms/step - loss: 1.5070 - accuracy: 0.3795 - val_loss: 1.4444 - val_accuracy: 0.4180\n",
      "Epoch 5/268\n",
      "7/7 [==============================] - 0s 15ms/step - loss: 1.4645 - accuracy: 0.4001 - val_loss: 1.4100 - val_accuracy: 0.4371\n",
      "Epoch 6/268\n",
      "7/7 [==============================] - 0s 17ms/step - loss: 1.4368 - accuracy: 0.4156 - val_loss: 1.3871 - val_accuracy: 0.4479\n",
      "Epoch 7/268\n",
      "7/7 [==============================] - 0s 16ms/step - loss: 1.4160 - accuracy: 0.4252 - val_loss: 1.3683 - val_accuracy: 0.4482\n",
      "Epoch 8/268\n",
      "7/7 [==============================] - 0s 14ms/step - loss: 1.3968 - accuracy: 0.4297 - val_loss: 1.3543 - val_accuracy: 0.4583\n",
      "Epoch 9/268\n",
      "7/7 [==============================] - 0s 18ms/step - loss: 1.3745 - accuracy: 0.4369 - val_loss: 1.3396 - val_accuracy: 0.4631\n",
      "Epoch 10/268\n",
      "7/7 [==============================] - 0s 15ms/step - loss: 1.3589 - accuracy: 0.4479 - val_loss: 1.3262 - val_accuracy: 0.4724\n",
      "Epoch 11/268\n",
      "7/7 [==============================] - 0s 15ms/step - loss: 1.3474 - accuracy: 0.4517 - val_loss: 1.3183 - val_accuracy: 0.4700\n",
      "Epoch 12/268\n",
      "7/7 [==============================] - 0s 15ms/step - loss: 1.3294 - accuracy: 0.4584 - val_loss: 1.3105 - val_accuracy: 0.4766\n",
      "Epoch 13/268\n",
      "7/7 [==============================] - 0s 14ms/step - loss: 1.3194 - accuracy: 0.4697 - val_loss: 1.3031 - val_accuracy: 0.4810\n",
      "Epoch 14/268\n",
      "7/7 [==============================] - 0s 16ms/step - loss: 1.3040 - accuracy: 0.4708 - val_loss: 1.2909 - val_accuracy: 0.4801\n",
      "Epoch 15/268\n",
      "7/7 [==============================] - 0s 15ms/step - loss: 1.2955 - accuracy: 0.4798 - val_loss: 1.2833 - val_accuracy: 0.4867\n",
      "Epoch 16/268\n",
      "7/7 [==============================] - 0s 15ms/step - loss: 1.2826 - accuracy: 0.4850 - val_loss: 1.2741 - val_accuracy: 0.4930\n",
      "Epoch 17/268\n",
      "7/7 [==============================] - 0s 16ms/step - loss: 1.2765 - accuracy: 0.4885 - val_loss: 1.2696 - val_accuracy: 0.4921\n",
      "Epoch 18/268\n",
      "7/7 [==============================] - 0s 15ms/step - loss: 1.2684 - accuracy: 0.4924 - val_loss: 1.2631 - val_accuracy: 0.4969\n",
      "Epoch 19/268\n",
      "7/7 [==============================] - 0s 16ms/step - loss: 1.2609 - accuracy: 0.4943 - val_loss: 1.2561 - val_accuracy: 0.5001\n",
      "Epoch 20/268\n",
      "7/7 [==============================] - 0s 15ms/step - loss: 1.2488 - accuracy: 0.4991 - val_loss: 1.2542 - val_accuracy: 0.5040\n",
      "Epoch 21/268\n",
      "7/7 [==============================] - 0s 15ms/step - loss: 1.2393 - accuracy: 0.5064 - val_loss: 1.2465 - val_accuracy: 0.5061\n",
      "Epoch 22/268\n",
      "7/7 [==============================] - 0s 16ms/step - loss: 1.2290 - accuracy: 0.5089 - val_loss: 1.2386 - val_accuracy: 0.5070\n",
      "Epoch 23/268\n",
      "7/7 [==============================] - 0s 16ms/step - loss: 1.2206 - accuracy: 0.5059 - val_loss: 1.2340 - val_accuracy: 0.5136\n",
      "Epoch 24/268\n",
      "7/7 [==============================] - 0s 15ms/step - loss: 1.2096 - accuracy: 0.5145 - val_loss: 1.2317 - val_accuracy: 0.5091\n",
      "Epoch 25/268\n",
      "7/7 [==============================] - 0s 16ms/step - loss: 1.2059 - accuracy: 0.5140 - val_loss: 1.2243 - val_accuracy: 0.5118\n",
      "Epoch 26/268\n",
      "7/7 [==============================] - 0s 15ms/step - loss: 1.2009 - accuracy: 0.5154 - val_loss: 1.2255 - val_accuracy: 0.5175\n",
      "Epoch 27/268\n",
      "7/7 [==============================] - 0s 15ms/step - loss: 1.1902 - accuracy: 0.5232 - val_loss: 1.2171 - val_accuracy: 0.5118\n",
      "Epoch 28/268\n",
      "7/7 [==============================] - 0s 15ms/step - loss: 1.1784 - accuracy: 0.5286 - val_loss: 1.2115 - val_accuracy: 0.5163\n",
      "Epoch 29/268\n",
      "7/7 [==============================] - 0s 15ms/step - loss: 1.1594 - accuracy: 0.5387 - val_loss: 1.2095 - val_accuracy: 0.5219\n",
      "Epoch 30/268\n",
      "7/7 [==============================] - 0s 15ms/step - loss: 1.1588 - accuracy: 0.5370 - val_loss: 1.2013 - val_accuracy: 0.5205\n",
      "Epoch 31/268\n",
      "7/7 [==============================] - 0s 16ms/step - loss: 1.1552 - accuracy: 0.5399 - val_loss: 1.1994 - val_accuracy: 0.5249\n",
      "Epoch 32/268\n",
      "7/7 [==============================] - 0s 16ms/step - loss: 1.1544 - accuracy: 0.5415 - val_loss: 1.1969 - val_accuracy: 0.5219\n",
      "Epoch 33/268\n",
      "7/7 [==============================] - 0s 14ms/step - loss: 1.1374 - accuracy: 0.5468 - val_loss: 1.1940 - val_accuracy: 0.5252\n",
      "Epoch 34/268\n",
      "7/7 [==============================] - 0s 14ms/step - loss: 1.1352 - accuracy: 0.5509 - val_loss: 1.1905 - val_accuracy: 0.5255\n",
      "Epoch 35/268\n",
      "7/7 [==============================] - 0s 14ms/step - loss: 1.1259 - accuracy: 0.5560 - val_loss: 1.1836 - val_accuracy: 0.5240\n",
      "Epoch 36/268\n",
      "7/7 [==============================] - 0s 15ms/step - loss: 1.1149 - accuracy: 0.5610 - val_loss: 1.1855 - val_accuracy: 0.5315\n",
      "Epoch 37/268\n",
      "7/7 [==============================] - 0s 15ms/step - loss: 1.1002 - accuracy: 0.5638 - val_loss: 1.1862 - val_accuracy: 0.5309\n",
      "Epoch 38/268\n",
      "7/7 [==============================] - 0s 15ms/step - loss: 1.1038 - accuracy: 0.5627 - val_loss: 1.1773 - val_accuracy: 0.5300\n",
      "Epoch 39/268\n",
      "7/7 [==============================] - 0s 15ms/step - loss: 1.0961 - accuracy: 0.5677 - val_loss: 1.1698 - val_accuracy: 0.5396\n",
      "Epoch 40/268\n",
      "7/7 [==============================] - 0s 14ms/step - loss: 1.0915 - accuracy: 0.5702 - val_loss: 1.1759 - val_accuracy: 0.5297\n",
      "Epoch 41/268\n",
      "7/7 [==============================] - 0s 13ms/step - loss: 1.0816 - accuracy: 0.5707 - val_loss: 1.1809 - val_accuracy: 0.5336\n",
      "Epoch 42/268\n",
      "7/7 [==============================] - 0s 14ms/step - loss: 1.0819 - accuracy: 0.5745 - val_loss: 1.1644 - val_accuracy: 0.5428\n",
      "Epoch 43/268\n",
      "7/7 [==============================] - 0s 14ms/step - loss: 1.0670 - accuracy: 0.5814 - val_loss: 1.1687 - val_accuracy: 0.5372\n",
      "Epoch 44/268\n",
      "7/7 [==============================] - 0s 16ms/step - loss: 1.0526 - accuracy: 0.5863 - val_loss: 1.1634 - val_accuracy: 0.5455\n",
      "Epoch 45/268\n",
      "7/7 [==============================] - 0s 15ms/step - loss: 1.0549 - accuracy: 0.5858 - val_loss: 1.1582 - val_accuracy: 0.5428\n",
      "Epoch 46/268\n",
      "7/7 [==============================] - 0s 14ms/step - loss: 1.0391 - accuracy: 0.5966 - val_loss: 1.1531 - val_accuracy: 0.5434\n",
      "Epoch 47/268\n",
      "7/7 [==============================] - 0s 15ms/step - loss: 1.0334 - accuracy: 0.5957 - val_loss: 1.1588 - val_accuracy: 0.5399\n",
      "Epoch 48/268\n",
      "7/7 [==============================] - 0s 15ms/step - loss: 1.0317 - accuracy: 0.5988 - val_loss: 1.1553 - val_accuracy: 0.5470\n",
      "Epoch 49/268\n",
      "7/7 [==============================] - 0s 14ms/step - loss: 1.0273 - accuracy: 0.6012 - val_loss: 1.1628 - val_accuracy: 0.5440\n",
      "Epoch 50/268\n",
      "7/7 [==============================] - 0s 13ms/step - loss: 1.0186 - accuracy: 0.6004 - val_loss: 1.1497 - val_accuracy: 0.5446\n",
      "Epoch 51/268\n",
      "7/7 [==============================] - 0s 14ms/step - loss: 1.0145 - accuracy: 0.6069 - val_loss: 1.1463 - val_accuracy: 0.5518\n",
      "Epoch 52/268\n",
      "7/7 [==============================] - 0s 14ms/step - loss: 1.0070 - accuracy: 0.6022 - val_loss: 1.1472 - val_accuracy: 0.5533\n",
      "Epoch 53/268\n",
      "7/7 [==============================] - 0s 15ms/step - loss: 0.9974 - accuracy: 0.6105 - val_loss: 1.1492 - val_accuracy: 0.5473\n",
      "Epoch 54/268\n",
      "7/7 [==============================] - 0s 15ms/step - loss: 0.9978 - accuracy: 0.6105 - val_loss: 1.1449 - val_accuracy: 0.5458\n",
      "Epoch 55/268\n",
      "7/7 [==============================] - 0s 15ms/step - loss: 0.9912 - accuracy: 0.6143 - val_loss: 1.1382 - val_accuracy: 0.5572\n",
      "Epoch 56/268\n",
      "7/7 [==============================] - 0s 15ms/step - loss: 0.9811 - accuracy: 0.6160 - val_loss: 1.1420 - val_accuracy: 0.5545\n",
      "Epoch 57/268\n",
      "7/7 [==============================] - 0s 14ms/step - loss: 0.9801 - accuracy: 0.6166 - val_loss: 1.1333 - val_accuracy: 0.5602\n",
      "Epoch 58/268\n",
      "7/7 [==============================] - 0s 15ms/step - loss: 0.9768 - accuracy: 0.6258 - val_loss: 1.1361 - val_accuracy: 0.5560\n",
      "Epoch 59/268\n",
      "7/7 [==============================] - 0s 14ms/step - loss: 0.9681 - accuracy: 0.6205 - val_loss: 1.1373 - val_accuracy: 0.5629\n",
      "Epoch 60/268\n",
      "7/7 [==============================] - 0s 14ms/step - loss: 0.9594 - accuracy: 0.6303 - val_loss: 1.1412 - val_accuracy: 0.5575\n",
      "Epoch 61/268\n"
     ]
    },
    {
     "name": "stdout",
     "output_type": "stream",
     "text": [
      "7/7 [==============================] - 0s 15ms/step - loss: 0.9511 - accuracy: 0.6324 - val_loss: 1.1327 - val_accuracy: 0.5614\n",
      "Epoch 62/268\n",
      "7/7 [==============================] - 0s 14ms/step - loss: 0.9524 - accuracy: 0.6257 - val_loss: 1.1304 - val_accuracy: 0.5596\n",
      "Epoch 63/268\n",
      "7/7 [==============================] - 0s 15ms/step - loss: 0.9449 - accuracy: 0.6340 - val_loss: 1.1377 - val_accuracy: 0.5539\n",
      "Epoch 64/268\n",
      "7/7 [==============================] - 0s 14ms/step - loss: 0.9341 - accuracy: 0.6357 - val_loss: 1.1291 - val_accuracy: 0.5629\n",
      "Epoch 65/268\n",
      "7/7 [==============================] - 0s 14ms/step - loss: 0.9305 - accuracy: 0.6414 - val_loss: 1.1259 - val_accuracy: 0.5652\n",
      "Epoch 66/268\n",
      "7/7 [==============================] - 0s 15ms/step - loss: 0.9207 - accuracy: 0.6429 - val_loss: 1.1184 - val_accuracy: 0.5623\n",
      "Epoch 67/268\n",
      "7/7 [==============================] - 0s 14ms/step - loss: 0.9202 - accuracy: 0.6432 - val_loss: 1.1174 - val_accuracy: 0.5670\n",
      "Epoch 68/268\n",
      "7/7 [==============================] - 0s 14ms/step - loss: 0.9237 - accuracy: 0.6429 - val_loss: 1.1201 - val_accuracy: 0.5694\n",
      "Epoch 69/268\n",
      "7/7 [==============================] - 0s 16ms/step - loss: 0.9100 - accuracy: 0.6478 - val_loss: 1.1254 - val_accuracy: 0.5658\n",
      "Epoch 70/268\n",
      "7/7 [==============================] - 0s 13ms/step - loss: 0.8993 - accuracy: 0.6554 - val_loss: 1.1245 - val_accuracy: 0.5685\n",
      "Epoch 71/268\n",
      "7/7 [==============================] - 0s 13ms/step - loss: 0.9007 - accuracy: 0.6474 - val_loss: 1.1208 - val_accuracy: 0.5688\n",
      "Epoch 72/268\n",
      "7/7 [==============================] - 0s 14ms/step - loss: 0.8948 - accuracy: 0.6599 - val_loss: 1.1274 - val_accuracy: 0.5694\n",
      "Epoch 73/268\n",
      "7/7 [==============================] - 0s 14ms/step - loss: 0.8907 - accuracy: 0.6555 - val_loss: 1.1174 - val_accuracy: 0.5721\n",
      "Epoch 74/268\n",
      "7/7 [==============================] - 0s 14ms/step - loss: 0.8815 - accuracy: 0.6615 - val_loss: 1.1230 - val_accuracy: 0.5733\n",
      "Epoch 75/268\n",
      "7/7 [==============================] - 0s 15ms/step - loss: 0.8765 - accuracy: 0.6679 - val_loss: 1.1099 - val_accuracy: 0.5745\n",
      "Epoch 76/268\n",
      "7/7 [==============================] - 0s 14ms/step - loss: 0.8753 - accuracy: 0.6614 - val_loss: 1.1102 - val_accuracy: 0.5694\n",
      "Epoch 77/268\n",
      "7/7 [==============================] - 0s 15ms/step - loss: 0.8625 - accuracy: 0.6681 - val_loss: 1.1147 - val_accuracy: 0.5772\n",
      "Epoch 78/268\n",
      "7/7 [==============================] - 0s 14ms/step - loss: 0.8598 - accuracy: 0.6697 - val_loss: 1.1194 - val_accuracy: 0.5799\n",
      "Epoch 79/268\n",
      "7/7 [==============================] - 0s 15ms/step - loss: 0.8646 - accuracy: 0.6685 - val_loss: 1.1232 - val_accuracy: 0.5655\n",
      "Epoch 80/268\n",
      "7/7 [==============================] - 0s 17ms/step - loss: 0.8678 - accuracy: 0.6714 - val_loss: 1.1170 - val_accuracy: 0.5721\n",
      "Epoch 81/268\n",
      "7/7 [==============================] - 0s 14ms/step - loss: 0.8493 - accuracy: 0.6753 - val_loss: 1.1109 - val_accuracy: 0.5775\n",
      "Epoch 82/268\n",
      "7/7 [==============================] - 0s 13ms/step - loss: 0.8506 - accuracy: 0.6721 - val_loss: 1.1083 - val_accuracy: 0.5814\n",
      "Epoch 83/268\n",
      "7/7 [==============================] - 0s 14ms/step - loss: 0.8473 - accuracy: 0.6739 - val_loss: 1.1164 - val_accuracy: 0.5730\n",
      "Epoch 84/268\n",
      "7/7 [==============================] - 0s 13ms/step - loss: 0.8365 - accuracy: 0.6785 - val_loss: 1.1108 - val_accuracy: 0.5823\n",
      "Epoch 85/268\n",
      "7/7 [==============================] - 0s 14ms/step - loss: 0.8305 - accuracy: 0.6826 - val_loss: 1.1124 - val_accuracy: 0.5760\n",
      "Epoch 86/268\n",
      "7/7 [==============================] - 0s 14ms/step - loss: 0.8298 - accuracy: 0.6832 - val_loss: 1.1084 - val_accuracy: 0.5784\n",
      "Epoch 87/268\n",
      "7/7 [==============================] - 0s 15ms/step - loss: 0.8262 - accuracy: 0.6829 - val_loss: 1.1121 - val_accuracy: 0.5799\n",
      "Epoch 88/268\n",
      "7/7 [==============================] - 0s 15ms/step - loss: 0.8251 - accuracy: 0.6829 - val_loss: 1.1154 - val_accuracy: 0.5766\n",
      "Epoch 89/268\n",
      "7/7 [==============================] - 0s 15ms/step - loss: 0.8188 - accuracy: 0.6848 - val_loss: 1.1317 - val_accuracy: 0.5760\n",
      "Epoch 90/268\n",
      "7/7 [==============================] - 0s 16ms/step - loss: 0.8126 - accuracy: 0.6900 - val_loss: 1.1299 - val_accuracy: 0.5694\n",
      "Epoch 91/268\n",
      "7/7 [==============================] - 0s 14ms/step - loss: 0.8064 - accuracy: 0.6918 - val_loss: 1.1231 - val_accuracy: 0.5808\n",
      "Epoch 92/268\n",
      "7/7 [==============================] - 0s 14ms/step - loss: 0.8028 - accuracy: 0.6923 - val_loss: 1.1110 - val_accuracy: 0.5835\n",
      "Epoch 93/268\n",
      "7/7 [==============================] - 0s 14ms/step - loss: 0.8005 - accuracy: 0.6941 - val_loss: 1.1129 - val_accuracy: 0.5835\n",
      "Epoch 94/268\n",
      "7/7 [==============================] - 0s 15ms/step - loss: 0.7929 - accuracy: 0.6986 - val_loss: 1.1271 - val_accuracy: 0.5796\n",
      "Epoch 95/268\n",
      "7/7 [==============================] - 0s 14ms/step - loss: 0.7953 - accuracy: 0.6938 - val_loss: 1.1117 - val_accuracy: 0.5814\n",
      "Epoch 96/268\n",
      "7/7 [==============================] - 0s 14ms/step - loss: 0.7853 - accuracy: 0.6988 - val_loss: 1.1108 - val_accuracy: 0.5838\n",
      "Epoch 97/268\n",
      "7/7 [==============================] - 0s 15ms/step - loss: 0.7832 - accuracy: 0.7062 - val_loss: 1.1091 - val_accuracy: 0.5900\n",
      "Epoch 98/268\n",
      "7/7 [==============================] - 0s 15ms/step - loss: 0.7790 - accuracy: 0.6995 - val_loss: 1.1091 - val_accuracy: 0.5852\n",
      "Epoch 99/268\n",
      "7/7 [==============================] - 0s 16ms/step - loss: 0.7673 - accuracy: 0.7068 - val_loss: 1.1094 - val_accuracy: 0.5879\n",
      "Epoch 100/268\n",
      "7/7 [==============================] - 0s 14ms/step - loss: 0.7702 - accuracy: 0.7077 - val_loss: 1.1021 - val_accuracy: 0.5909\n",
      "Epoch 101/268\n",
      "7/7 [==============================] - 0s 14ms/step - loss: 0.7675 - accuracy: 0.7045 - val_loss: 1.1242 - val_accuracy: 0.5879\n",
      "Epoch 102/268\n",
      "7/7 [==============================] - 0s 14ms/step - loss: 0.7585 - accuracy: 0.7116 - val_loss: 1.1133 - val_accuracy: 0.5858\n",
      "Epoch 103/268\n",
      "7/7 [==============================] - 0s 14ms/step - loss: 0.7602 - accuracy: 0.7131 - val_loss: 1.1093 - val_accuracy: 0.5876\n",
      "Epoch 104/268\n",
      "7/7 [==============================] - 0s 14ms/step - loss: 0.7449 - accuracy: 0.7145 - val_loss: 1.1120 - val_accuracy: 0.5894\n",
      "Epoch 105/268\n",
      "7/7 [==============================] - 0s 14ms/step - loss: 0.7453 - accuracy: 0.7189 - val_loss: 1.1119 - val_accuracy: 0.5870\n",
      "Epoch 106/268\n",
      "7/7 [==============================] - 0s 14ms/step - loss: 0.7457 - accuracy: 0.7149 - val_loss: 1.1142 - val_accuracy: 0.5984\n",
      "Epoch 107/268\n",
      "7/7 [==============================] - 0s 14ms/step - loss: 0.7501 - accuracy: 0.7156 - val_loss: 1.1076 - val_accuracy: 0.5921\n",
      "Epoch 108/268\n",
      "7/7 [==============================] - 0s 14ms/step - loss: 0.7359 - accuracy: 0.7250 - val_loss: 1.1110 - val_accuracy: 0.5876\n",
      "Epoch 109/268\n",
      "7/7 [==============================] - 0s 14ms/step - loss: 0.7259 - accuracy: 0.7233 - val_loss: 1.1249 - val_accuracy: 0.5870\n",
      "Epoch 110/268\n",
      "7/7 [==============================] - 0s 15ms/step - loss: 0.7279 - accuracy: 0.7228 - val_loss: 1.1147 - val_accuracy: 0.5885\n",
      "Epoch 111/268\n",
      "7/7 [==============================] - 0s 15ms/step - loss: 0.7276 - accuracy: 0.7191 - val_loss: 1.1332 - val_accuracy: 0.5942\n",
      "Epoch 112/268\n",
      "7/7 [==============================] - 0s 17ms/step - loss: 0.7226 - accuracy: 0.7252 - val_loss: 1.1318 - val_accuracy: 0.5930\n",
      "Epoch 113/268\n",
      "7/7 [==============================] - 0s 15ms/step - loss: 0.7181 - accuracy: 0.7303 - val_loss: 1.1194 - val_accuracy: 0.5975\n",
      "Epoch 114/268\n",
      "7/7 [==============================] - 0s 16ms/step - loss: 0.7257 - accuracy: 0.7233 - val_loss: 1.1211 - val_accuracy: 0.5981\n",
      "Epoch 115/268\n",
      "7/7 [==============================] - 0s 14ms/step - loss: 0.7316 - accuracy: 0.7223 - val_loss: 1.1102 - val_accuracy: 0.5966\n",
      "Epoch 116/268\n",
      "7/7 [==============================] - 0s 15ms/step - loss: 0.7128 - accuracy: 0.7336 - val_loss: 1.1171 - val_accuracy: 0.5909\n",
      "Epoch 117/268\n",
      "7/7 [==============================] - 0s 20ms/step - loss: 0.7129 - accuracy: 0.7353 - val_loss: 1.1137 - val_accuracy: 0.5888\n",
      "Epoch 118/268\n",
      "7/7 [==============================] - 0s 16ms/step - loss: 0.7111 - accuracy: 0.7303 - val_loss: 1.1256 - val_accuracy: 0.5936\n",
      "Epoch 119/268\n"
     ]
    },
    {
     "name": "stdout",
     "output_type": "stream",
     "text": [
      "7/7 [==============================] - 0s 14ms/step - loss: 0.6999 - accuracy: 0.7352 - val_loss: 1.1055 - val_accuracy: 0.5975\n",
      "Epoch 120/268\n",
      "7/7 [==============================] - 0s 15ms/step - loss: 0.6972 - accuracy: 0.7375 - val_loss: 1.1110 - val_accuracy: 0.5972\n",
      "Epoch 121/268\n",
      "7/7 [==============================] - 0s 15ms/step - loss: 0.6877 - accuracy: 0.7404 - val_loss: 1.1165 - val_accuracy: 0.6059\n",
      "Epoch 122/268\n",
      "7/7 [==============================] - 0s 18ms/step - loss: 0.6873 - accuracy: 0.7392 - val_loss: 1.1066 - val_accuracy: 0.6038\n",
      "Epoch 123/268\n",
      "7/7 [==============================] - 0s 13ms/step - loss: 0.6723 - accuracy: 0.7466 - val_loss: 1.1076 - val_accuracy: 0.5981\n",
      "Epoch 124/268\n",
      "7/7 [==============================] - 0s 16ms/step - loss: 0.6830 - accuracy: 0.7409 - val_loss: 1.1049 - val_accuracy: 0.6020\n",
      "Epoch 125/268\n",
      "7/7 [==============================] - 0s 14ms/step - loss: 0.6780 - accuracy: 0.7406 - val_loss: 1.1188 - val_accuracy: 0.6053\n",
      "Epoch 126/268\n",
      "7/7 [==============================] - 0s 13ms/step - loss: 0.6832 - accuracy: 0.7404 - val_loss: 1.1238 - val_accuracy: 0.5978\n",
      "Epoch 127/268\n",
      "7/7 [==============================] - 0s 14ms/step - loss: 0.6706 - accuracy: 0.7441 - val_loss: 1.1242 - val_accuracy: 0.5963\n",
      "Epoch 128/268\n",
      "7/7 [==============================] - 0s 14ms/step - loss: 0.6772 - accuracy: 0.7407 - val_loss: 1.1142 - val_accuracy: 0.5963\n",
      "Epoch 129/268\n",
      "7/7 [==============================] - 0s 20ms/step - loss: 0.6635 - accuracy: 0.7500 - val_loss: 1.1168 - val_accuracy: 0.5990\n",
      "Epoch 130/268\n",
      "7/7 [==============================] - 0s 13ms/step - loss: 0.6536 - accuracy: 0.7537 - val_loss: 1.1122 - val_accuracy: 0.6020\n",
      "Epoch 131/268\n",
      "7/7 [==============================] - 0s 14ms/step - loss: 0.6608 - accuracy: 0.7510 - val_loss: 1.1097 - val_accuracy: 0.5981\n",
      "Epoch 132/268\n",
      "7/7 [==============================] - 0s 13ms/step - loss: 0.6560 - accuracy: 0.7513 - val_loss: 1.1195 - val_accuracy: 0.5999\n",
      "Epoch 133/268\n",
      "7/7 [==============================] - 0s 15ms/step - loss: 0.6502 - accuracy: 0.7523 - val_loss: 1.1136 - val_accuracy: 0.6011\n",
      "Epoch 134/268\n",
      "7/7 [==============================] - 0s 15ms/step - loss: 0.6465 - accuracy: 0.7585 - val_loss: 1.1143 - val_accuracy: 0.6011\n",
      "Epoch 135/268\n",
      "7/7 [==============================] - 0s 15ms/step - loss: 0.6423 - accuracy: 0.7589 - val_loss: 1.1105 - val_accuracy: 0.6073\n",
      "Epoch 136/268\n",
      "7/7 [==============================] - 0s 14ms/step - loss: 0.6406 - accuracy: 0.7574 - val_loss: 1.1304 - val_accuracy: 0.5987\n",
      "Epoch 137/268\n",
      "7/7 [==============================] - 0s 14ms/step - loss: 0.6341 - accuracy: 0.7616 - val_loss: 1.1363 - val_accuracy: 0.6079\n",
      "Epoch 138/268\n",
      "7/7 [==============================] - 0s 14ms/step - loss: 0.6299 - accuracy: 0.7627 - val_loss: 1.1269 - val_accuracy: 0.6088\n",
      "Epoch 139/268\n",
      "7/7 [==============================] - 0s 15ms/step - loss: 0.6276 - accuracy: 0.7677 - val_loss: 1.1307 - val_accuracy: 0.6035\n",
      "Epoch 140/268\n",
      "7/7 [==============================] - 0s 14ms/step - loss: 0.6320 - accuracy: 0.7607 - val_loss: 1.1252 - val_accuracy: 0.6056\n",
      "Epoch 141/268\n",
      "7/7 [==============================] - 0s 15ms/step - loss: 0.6266 - accuracy: 0.7647 - val_loss: 1.1137 - val_accuracy: 0.6079\n",
      "Epoch 142/268\n",
      "7/7 [==============================] - 0s 15ms/step - loss: 0.6137 - accuracy: 0.7651 - val_loss: 1.1293 - val_accuracy: 0.6073\n",
      "Epoch 143/268\n",
      "7/7 [==============================] - 0s 15ms/step - loss: 0.6199 - accuracy: 0.7657 - val_loss: 1.1239 - val_accuracy: 0.6085\n",
      "Epoch 144/268\n",
      "7/7 [==============================] - 0s 14ms/step - loss: 0.6221 - accuracy: 0.7660 - val_loss: 1.1103 - val_accuracy: 0.6062\n",
      "Epoch 145/268\n",
      "7/7 [==============================] - 0s 14ms/step - loss: 0.6189 - accuracy: 0.7650 - val_loss: 1.1213 - val_accuracy: 0.6056\n",
      "Epoch 146/268\n",
      "7/7 [==============================] - 0s 14ms/step - loss: 0.6022 - accuracy: 0.7728 - val_loss: 1.1350 - val_accuracy: 0.6044\n",
      "Epoch 147/268\n",
      "7/7 [==============================] - 0s 15ms/step - loss: 0.6097 - accuracy: 0.7689 - val_loss: 1.1340 - val_accuracy: 0.6121\n",
      "Epoch 148/268\n",
      "7/7 [==============================] - 0s 14ms/step - loss: 0.6061 - accuracy: 0.7753 - val_loss: 1.1110 - val_accuracy: 0.6067\n",
      "Epoch 149/268\n",
      "7/7 [==============================] - 0s 14ms/step - loss: 0.6085 - accuracy: 0.7749 - val_loss: 1.1117 - val_accuracy: 0.6085\n",
      "Epoch 150/268\n",
      "7/7 [==============================] - 0s 14ms/step - loss: 0.6039 - accuracy: 0.7712 - val_loss: 1.1229 - val_accuracy: 0.6026\n",
      "Epoch 151/268\n",
      "7/7 [==============================] - 0s 14ms/step - loss: 0.5986 - accuracy: 0.7746 - val_loss: 1.1295 - val_accuracy: 0.6029\n",
      "Epoch 152/268\n",
      "7/7 [==============================] - 0s 14ms/step - loss: 0.5982 - accuracy: 0.7765 - val_loss: 1.1318 - val_accuracy: 0.6073\n",
      "Epoch 153/268\n",
      "7/7 [==============================] - 0s 14ms/step - loss: 0.5849 - accuracy: 0.7832 - val_loss: 1.1328 - val_accuracy: 0.6145\n",
      "Epoch 154/268\n",
      "7/7 [==============================] - 0s 14ms/step - loss: 0.5834 - accuracy: 0.7800 - val_loss: 1.1301 - val_accuracy: 0.6148\n",
      "Epoch 155/268\n",
      "7/7 [==============================] - 0s 14ms/step - loss: 0.5795 - accuracy: 0.7819 - val_loss: 1.1454 - val_accuracy: 0.6115\n",
      "Epoch 156/268\n",
      "7/7 [==============================] - 0s 14ms/step - loss: 0.5868 - accuracy: 0.7774 - val_loss: 1.1336 - val_accuracy: 0.6178\n",
      "Epoch 157/268\n",
      "7/7 [==============================] - 0s 14ms/step - loss: 0.5875 - accuracy: 0.7794 - val_loss: 1.1428 - val_accuracy: 0.6070\n",
      "Epoch 158/268\n",
      "7/7 [==============================] - 0s 13ms/step - loss: 0.5846 - accuracy: 0.7826 - val_loss: 1.1349 - val_accuracy: 0.6154\n",
      "Epoch 159/268\n",
      "7/7 [==============================] - 0s 15ms/step - loss: 0.5893 - accuracy: 0.7760 - val_loss: 1.1302 - val_accuracy: 0.6121\n",
      "Epoch 160/268\n",
      "7/7 [==============================] - 0s 15ms/step - loss: 0.5741 - accuracy: 0.7816 - val_loss: 1.1420 - val_accuracy: 0.6169\n",
      "Epoch 161/268\n",
      "7/7 [==============================] - 0s 14ms/step - loss: 0.5765 - accuracy: 0.7851 - val_loss: 1.1280 - val_accuracy: 0.6172\n",
      "Epoch 162/268\n",
      "7/7 [==============================] - 0s 16ms/step - loss: 0.5701 - accuracy: 0.7851 - val_loss: 1.1451 - val_accuracy: 0.6205\n",
      "Epoch 163/268\n",
      "7/7 [==============================] - 0s 14ms/step - loss: 0.5714 - accuracy: 0.7854 - val_loss: 1.1391 - val_accuracy: 0.6154\n",
      "Epoch 164/268\n",
      "7/7 [==============================] - 0s 15ms/step - loss: 0.5614 - accuracy: 0.7909 - val_loss: 1.1395 - val_accuracy: 0.6199\n",
      "Epoch 165/268\n",
      "7/7 [==============================] - 0s 14ms/step - loss: 0.5566 - accuracy: 0.7920 - val_loss: 1.1497 - val_accuracy: 0.6169\n",
      "Epoch 166/268\n",
      "7/7 [==============================] - 0s 14ms/step - loss: 0.5644 - accuracy: 0.7884 - val_loss: 1.1378 - val_accuracy: 0.6232\n",
      "Epoch 167/268\n",
      "7/7 [==============================] - 0s 14ms/step - loss: 0.5547 - accuracy: 0.7931 - val_loss: 1.1553 - val_accuracy: 0.6157\n",
      "Epoch 168/268\n",
      "7/7 [==============================] - 0s 14ms/step - loss: 0.5507 - accuracy: 0.7941 - val_loss: 1.1334 - val_accuracy: 0.6205\n",
      "Epoch 169/268\n",
      "7/7 [==============================] - 0s 15ms/step - loss: 0.5590 - accuracy: 0.7916 - val_loss: 1.1502 - val_accuracy: 0.6151\n",
      "Epoch 170/268\n",
      "7/7 [==============================] - 0s 14ms/step - loss: 0.5543 - accuracy: 0.7907 - val_loss: 1.1583 - val_accuracy: 0.6085\n",
      "Epoch 171/268\n",
      "7/7 [==============================] - 0s 14ms/step - loss: 0.5576 - accuracy: 0.7937 - val_loss: 1.1475 - val_accuracy: 0.6184\n",
      "Epoch 172/268\n",
      "7/7 [==============================] - 0s 15ms/step - loss: 0.5459 - accuracy: 0.7954 - val_loss: 1.1418 - val_accuracy: 0.6142\n",
      "Epoch 173/268\n",
      "7/7 [==============================] - 0s 14ms/step - loss: 0.5483 - accuracy: 0.7953 - val_loss: 1.1521 - val_accuracy: 0.6145\n",
      "Epoch 174/268\n",
      "7/7 [==============================] - 0s 14ms/step - loss: 0.5497 - accuracy: 0.7905 - val_loss: 1.1564 - val_accuracy: 0.6127\n",
      "Epoch 175/268\n",
      "7/7 [==============================] - 0s 14ms/step - loss: 0.5496 - accuracy: 0.7948 - val_loss: 1.1424 - val_accuracy: 0.6145\n",
      "Epoch 176/268\n",
      "7/7 [==============================] - 0s 15ms/step - loss: 0.5441 - accuracy: 0.8023 - val_loss: 1.1330 - val_accuracy: 0.6181\n"
     ]
    },
    {
     "name": "stdout",
     "output_type": "stream",
     "text": [
      "Epoch 177/268\n",
      "7/7 [==============================] - 0s 14ms/step - loss: 0.5310 - accuracy: 0.8025 - val_loss: 1.1462 - val_accuracy: 0.6214\n",
      "Epoch 178/268\n",
      "7/7 [==============================] - 0s 15ms/step - loss: 0.5401 - accuracy: 0.8026 - val_loss: 1.1336 - val_accuracy: 0.6184\n",
      "Epoch 179/268\n",
      "7/7 [==============================] - 0s 14ms/step - loss: 0.5378 - accuracy: 0.8004 - val_loss: 1.1400 - val_accuracy: 0.6229\n",
      "Epoch 180/268\n",
      "7/7 [==============================] - 0s 15ms/step - loss: 0.5386 - accuracy: 0.7973 - val_loss: 1.1432 - val_accuracy: 0.6208\n",
      "Epoch 181/268\n",
      "7/7 [==============================] - 0s 14ms/step - loss: 0.5261 - accuracy: 0.8054 - val_loss: 1.1445 - val_accuracy: 0.6220\n",
      "Epoch 182/268\n",
      "7/7 [==============================] - 0s 14ms/step - loss: 0.5170 - accuracy: 0.8052 - val_loss: 1.1676 - val_accuracy: 0.6256\n",
      "Epoch 183/268\n",
      "7/7 [==============================] - 0s 14ms/step - loss: 0.5154 - accuracy: 0.8009 - val_loss: 1.1646 - val_accuracy: 0.6166\n",
      "Epoch 184/268\n",
      "7/7 [==============================] - 0s 15ms/step - loss: 0.5267 - accuracy: 0.8013 - val_loss: 1.1436 - val_accuracy: 0.6214\n",
      "Epoch 185/268\n",
      "7/7 [==============================] - 0s 14ms/step - loss: 0.5166 - accuracy: 0.8057 - val_loss: 1.1636 - val_accuracy: 0.6169\n",
      "Epoch 186/268\n",
      "7/7 [==============================] - 0s 14ms/step - loss: 0.5180 - accuracy: 0.8075 - val_loss: 1.1460 - val_accuracy: 0.6193\n",
      "Epoch 187/268\n",
      "7/7 [==============================] - 0s 14ms/step - loss: 0.5104 - accuracy: 0.8140 - val_loss: 1.1676 - val_accuracy: 0.6217\n",
      "Epoch 188/268\n",
      "7/7 [==============================] - 0s 14ms/step - loss: 0.5110 - accuracy: 0.8060 - val_loss: 1.1690 - val_accuracy: 0.6223\n",
      "Epoch 189/268\n",
      "7/7 [==============================] - 0s 15ms/step - loss: 0.5003 - accuracy: 0.8100 - val_loss: 1.1857 - val_accuracy: 0.6247\n",
      "Epoch 190/268\n",
      "7/7 [==============================] - 0s 14ms/step - loss: 0.5114 - accuracy: 0.8064 - val_loss: 1.1497 - val_accuracy: 0.6294\n",
      "Epoch 191/268\n",
      "7/7 [==============================] - 0s 15ms/step - loss: 0.5300 - accuracy: 0.8040 - val_loss: 1.1372 - val_accuracy: 0.6262\n",
      "Epoch 192/268\n",
      "7/7 [==============================] - 0s 15ms/step - loss: 0.5093 - accuracy: 0.8094 - val_loss: 1.1358 - val_accuracy: 0.6271\n",
      "Epoch 193/268\n",
      "7/7 [==============================] - 0s 15ms/step - loss: 0.5057 - accuracy: 0.8125 - val_loss: 1.1433 - val_accuracy: 0.6288\n",
      "Epoch 194/268\n",
      "7/7 [==============================] - 0s 14ms/step - loss: 0.4998 - accuracy: 0.8140 - val_loss: 1.1551 - val_accuracy: 0.6300\n",
      "Epoch 195/268\n",
      "7/7 [==============================] - 0s 13ms/step - loss: 0.5070 - accuracy: 0.8123 - val_loss: 1.1509 - val_accuracy: 0.6223\n",
      "Epoch 196/268\n",
      "7/7 [==============================] - 0s 14ms/step - loss: 0.5000 - accuracy: 0.8172 - val_loss: 1.1478 - val_accuracy: 0.6226\n",
      "Epoch 197/268\n",
      "7/7 [==============================] - 0s 14ms/step - loss: 0.4945 - accuracy: 0.8137 - val_loss: 1.1370 - val_accuracy: 0.6148\n",
      "Epoch 198/268\n",
      "7/7 [==============================] - 0s 15ms/step - loss: 0.5010 - accuracy: 0.8115 - val_loss: 1.1522 - val_accuracy: 0.6181\n",
      "Epoch 199/268\n",
      "7/7 [==============================] - 0s 15ms/step - loss: 0.4969 - accuracy: 0.8156 - val_loss: 1.1607 - val_accuracy: 0.6139\n",
      "Epoch 200/268\n",
      "7/7 [==============================] - 0s 13ms/step - loss: 0.4915 - accuracy: 0.8140 - val_loss: 1.1584 - val_accuracy: 0.6232\n",
      "Epoch 201/268\n",
      "7/7 [==============================] - 0s 14ms/step - loss: 0.4961 - accuracy: 0.8164 - val_loss: 1.1492 - val_accuracy: 0.6265\n",
      "Epoch 202/268\n",
      "7/7 [==============================] - 0s 14ms/step - loss: 0.4842 - accuracy: 0.8200 - val_loss: 1.1538 - val_accuracy: 0.6291\n",
      "Epoch 203/268\n",
      "7/7 [==============================] - 0s 14ms/step - loss: 0.4775 - accuracy: 0.8205 - val_loss: 1.1618 - val_accuracy: 0.6309\n",
      "Epoch 204/268\n",
      "7/7 [==============================] - 0s 15ms/step - loss: 0.4786 - accuracy: 0.8225 - val_loss: 1.1505 - val_accuracy: 0.6250\n",
      "Epoch 205/268\n",
      "7/7 [==============================] - 0s 14ms/step - loss: 0.4837 - accuracy: 0.8199 - val_loss: 1.1477 - val_accuracy: 0.6300\n",
      "Epoch 206/268\n",
      "7/7 [==============================] - 0s 15ms/step - loss: 0.4708 - accuracy: 0.8217 - val_loss: 1.1555 - val_accuracy: 0.6330\n",
      "Epoch 207/268\n",
      "7/7 [==============================] - 0s 14ms/step - loss: 0.4760 - accuracy: 0.8234 - val_loss: 1.1549 - val_accuracy: 0.6250\n",
      "Epoch 208/268\n",
      "7/7 [==============================] - 0s 14ms/step - loss: 0.4622 - accuracy: 0.8264 - val_loss: 1.1825 - val_accuracy: 0.6241\n",
      "Epoch 209/268\n",
      "7/7 [==============================] - 0s 15ms/step - loss: 0.4709 - accuracy: 0.8246 - val_loss: 1.1644 - val_accuracy: 0.6271\n",
      "Epoch 210/268\n",
      "7/7 [==============================] - 0s 14ms/step - loss: 0.4678 - accuracy: 0.8272 - val_loss: 1.1732 - val_accuracy: 0.6327\n",
      "Epoch 211/268\n",
      "7/7 [==============================] - 0s 14ms/step - loss: 0.4681 - accuracy: 0.8249 - val_loss: 1.1669 - val_accuracy: 0.6232\n",
      "Epoch 212/268\n",
      "7/7 [==============================] - 0s 14ms/step - loss: 0.4730 - accuracy: 0.8228 - val_loss: 1.1788 - val_accuracy: 0.6235\n",
      "Epoch 213/268\n",
      "7/7 [==============================] - 0s 14ms/step - loss: 0.4801 - accuracy: 0.8216 - val_loss: 1.1737 - val_accuracy: 0.6318\n",
      "Epoch 214/268\n",
      "7/7 [==============================] - 0s 17ms/step - loss: 0.4613 - accuracy: 0.8254 - val_loss: 1.1668 - val_accuracy: 0.6315\n",
      "Epoch 215/268\n",
      "7/7 [==============================] - 0s 14ms/step - loss: 0.4611 - accuracy: 0.8271 - val_loss: 1.1664 - val_accuracy: 0.6241\n",
      "Epoch 216/268\n",
      "7/7 [==============================] - 0s 14ms/step - loss: 0.4693 - accuracy: 0.8272 - val_loss: 1.1432 - val_accuracy: 0.6324\n",
      "Epoch 217/268\n",
      "7/7 [==============================] - 0s 15ms/step - loss: 0.4595 - accuracy: 0.8291 - val_loss: 1.1634 - val_accuracy: 0.6315\n",
      "Epoch 218/268\n",
      "7/7 [==============================] - 0s 14ms/step - loss: 0.4689 - accuracy: 0.8267 - val_loss: 1.1790 - val_accuracy: 0.6178\n",
      "Epoch 219/268\n",
      "7/7 [==============================] - 0s 13ms/step - loss: 0.4650 - accuracy: 0.8264 - val_loss: 1.1669 - val_accuracy: 0.6205\n",
      "Epoch 220/268\n",
      "7/7 [==============================] - 0s 14ms/step - loss: 0.4570 - accuracy: 0.8260 - val_loss: 1.1772 - val_accuracy: 0.6294\n",
      "Epoch 221/268\n",
      "7/7 [==============================] - 0s 14ms/step - loss: 0.4562 - accuracy: 0.8289 - val_loss: 1.1803 - val_accuracy: 0.6336\n",
      "Epoch 222/268\n",
      "7/7 [==============================] - 0s 14ms/step - loss: 0.4553 - accuracy: 0.8317 - val_loss: 1.1717 - val_accuracy: 0.6303\n",
      "Epoch 223/268\n",
      "7/7 [==============================] - 0s 14ms/step - loss: 0.4519 - accuracy: 0.8331 - val_loss: 1.1762 - val_accuracy: 0.6271\n",
      "Epoch 224/268\n",
      "7/7 [==============================] - 0s 17ms/step - loss: 0.4524 - accuracy: 0.8320 - val_loss: 1.1994 - val_accuracy: 0.6324\n",
      "Epoch 225/268\n",
      "7/7 [==============================] - 0s 13ms/step - loss: 0.4429 - accuracy: 0.8370 - val_loss: 1.1822 - val_accuracy: 0.6342\n",
      "Epoch 226/268\n",
      "7/7 [==============================] - 0s 14ms/step - loss: 0.4481 - accuracy: 0.8295 - val_loss: 1.1758 - val_accuracy: 0.6277\n",
      "Epoch 227/268\n",
      "7/7 [==============================] - 0s 15ms/step - loss: 0.4402 - accuracy: 0.8342 - val_loss: 1.1728 - val_accuracy: 0.6282\n",
      "Epoch 228/268\n",
      "7/7 [==============================] - 0s 14ms/step - loss: 0.4501 - accuracy: 0.8343 - val_loss: 1.1889 - val_accuracy: 0.6306\n",
      "Epoch 229/268\n",
      "7/7 [==============================] - 0s 14ms/step - loss: 0.4430 - accuracy: 0.8358 - val_loss: 1.1938 - val_accuracy: 0.6271\n",
      "Epoch 230/268\n",
      "7/7 [==============================] - 0s 14ms/step - loss: 0.4491 - accuracy: 0.8308 - val_loss: 1.1827 - val_accuracy: 0.6306\n",
      "Epoch 231/268\n",
      "7/7 [==============================] - 0s 14ms/step - loss: 0.4385 - accuracy: 0.8352 - val_loss: 1.2002 - val_accuracy: 0.6306\n",
      "Epoch 232/268\n",
      "7/7 [==============================] - 0s 15ms/step - loss: 0.4393 - accuracy: 0.8346 - val_loss: 1.1944 - val_accuracy: 0.6321\n",
      "Epoch 233/268\n",
      "7/7 [==============================] - 0s 14ms/step - loss: 0.4338 - accuracy: 0.8374 - val_loss: 1.1933 - val_accuracy: 0.6244\n",
      "Epoch 234/268\n",
      "7/7 [==============================] - 0s 13ms/step - loss: 0.4334 - accuracy: 0.8373 - val_loss: 1.1969 - val_accuracy: 0.6321\n"
     ]
    },
    {
     "name": "stdout",
     "output_type": "stream",
     "text": [
      "Epoch 235/268\n",
      "7/7 [==============================] - 0s 15ms/step - loss: 0.4361 - accuracy: 0.8379 - val_loss: 1.1909 - val_accuracy: 0.6279\n",
      "Epoch 236/268\n",
      "7/7 [==============================] - 0s 14ms/step - loss: 0.4385 - accuracy: 0.8346 - val_loss: 1.1860 - val_accuracy: 0.6318\n",
      "Epoch 237/268\n",
      "7/7 [==============================] - 0s 14ms/step - loss: 0.4343 - accuracy: 0.8391 - val_loss: 1.2060 - val_accuracy: 0.6262\n",
      "Epoch 238/268\n",
      "7/7 [==============================] - 0s 14ms/step - loss: 0.4349 - accuracy: 0.8408 - val_loss: 1.1890 - val_accuracy: 0.6309\n",
      "Epoch 239/268\n",
      "7/7 [==============================] - 0s 14ms/step - loss: 0.4346 - accuracy: 0.8354 - val_loss: 1.1812 - val_accuracy: 0.6300\n",
      "Epoch 240/268\n",
      "7/7 [==============================] - 0s 14ms/step - loss: 0.4243 - accuracy: 0.8454 - val_loss: 1.2000 - val_accuracy: 0.6265\n",
      "Epoch 241/268\n",
      "7/7 [==============================] - 0s 14ms/step - loss: 0.4265 - accuracy: 0.8405 - val_loss: 1.1919 - val_accuracy: 0.6333\n",
      "Epoch 242/268\n",
      "7/7 [==============================] - 0s 14ms/step - loss: 0.4259 - accuracy: 0.8416 - val_loss: 1.1854 - val_accuracy: 0.6300\n",
      "Epoch 243/268\n",
      "7/7 [==============================] - 0s 14ms/step - loss: 0.4210 - accuracy: 0.8440 - val_loss: 1.2052 - val_accuracy: 0.6360\n",
      "Epoch 244/268\n",
      "7/7 [==============================] - 0s 14ms/step - loss: 0.4153 - accuracy: 0.8446 - val_loss: 1.2050 - val_accuracy: 0.6396\n",
      "Epoch 245/268\n",
      "7/7 [==============================] - 0s 14ms/step - loss: 0.4130 - accuracy: 0.8461 - val_loss: 1.1885 - val_accuracy: 0.6444\n",
      "Epoch 246/268\n",
      "7/7 [==============================] - 0s 14ms/step - loss: 0.4235 - accuracy: 0.8426 - val_loss: 1.2048 - val_accuracy: 0.6378\n",
      "Epoch 247/268\n",
      "7/7 [==============================] - 0s 14ms/step - loss: 0.4157 - accuracy: 0.8487 - val_loss: 1.2036 - val_accuracy: 0.6309\n",
      "Epoch 248/268\n",
      "7/7 [==============================] - 0s 15ms/step - loss: 0.4254 - accuracy: 0.8426 - val_loss: 1.1914 - val_accuracy: 0.6274\n",
      "Epoch 249/268\n",
      "7/7 [==============================] - 0s 14ms/step - loss: 0.4114 - accuracy: 0.8493 - val_loss: 1.1990 - val_accuracy: 0.6375\n",
      "Epoch 250/268\n",
      "7/7 [==============================] - 0s 14ms/step - loss: 0.4130 - accuracy: 0.8458 - val_loss: 1.2253 - val_accuracy: 0.6327\n",
      "Epoch 251/268\n",
      "7/7 [==============================] - 0s 15ms/step - loss: 0.4146 - accuracy: 0.8458 - val_loss: 1.2102 - val_accuracy: 0.6426\n",
      "Epoch 252/268\n",
      "7/7 [==============================] - 0s 15ms/step - loss: 0.4134 - accuracy: 0.8472 - val_loss: 1.2173 - val_accuracy: 0.6324\n",
      "Epoch 253/268\n",
      "7/7 [==============================] - 0s 14ms/step - loss: 0.4047 - accuracy: 0.8523 - val_loss: 1.2065 - val_accuracy: 0.6324\n",
      "Epoch 254/268\n",
      "7/7 [==============================] - 0s 14ms/step - loss: 0.4106 - accuracy: 0.8502 - val_loss: 1.1935 - val_accuracy: 0.6294\n",
      "Epoch 255/268\n",
      "7/7 [==============================] - 0s 15ms/step - loss: 0.4062 - accuracy: 0.8493 - val_loss: 1.2013 - val_accuracy: 0.6348\n",
      "Epoch 256/268\n",
      "7/7 [==============================] - 0s 14ms/step - loss: 0.4067 - accuracy: 0.8466 - val_loss: 1.2151 - val_accuracy: 0.6366\n",
      "Epoch 257/268\n",
      "7/7 [==============================] - 0s 14ms/step - loss: 0.3974 - accuracy: 0.8525 - val_loss: 1.2266 - val_accuracy: 0.6324\n",
      "Epoch 258/268\n",
      "7/7 [==============================] - 0s 14ms/step - loss: 0.4009 - accuracy: 0.8530 - val_loss: 1.2191 - val_accuracy: 0.6357\n",
      "Epoch 259/268\n",
      "7/7 [==============================] - 0s 15ms/step - loss: 0.4136 - accuracy: 0.8522 - val_loss: 1.1971 - val_accuracy: 0.6363\n",
      "Epoch 260/268\n",
      "7/7 [==============================] - 0s 14ms/step - loss: 0.3894 - accuracy: 0.8546 - val_loss: 1.2317 - val_accuracy: 0.6318\n",
      "Epoch 261/268\n",
      "7/7 [==============================] - 0s 17ms/step - loss: 0.3979 - accuracy: 0.8561 - val_loss: 1.2173 - val_accuracy: 0.6381\n",
      "Epoch 262/268\n",
      "7/7 [==============================] - 0s 13ms/step - loss: 0.3998 - accuracy: 0.8531 - val_loss: 1.2163 - val_accuracy: 0.6393\n",
      "Epoch 263/268\n",
      "7/7 [==============================] - 0s 14ms/step - loss: 0.3930 - accuracy: 0.8511 - val_loss: 1.2006 - val_accuracy: 0.6372\n",
      "Epoch 264/268\n",
      "7/7 [==============================] - 0s 15ms/step - loss: 0.3964 - accuracy: 0.8523 - val_loss: 1.2176 - val_accuracy: 0.6354\n",
      "Epoch 265/268\n",
      "7/7 [==============================] - 0s 15ms/step - loss: 0.3930 - accuracy: 0.8517 - val_loss: 1.2075 - val_accuracy: 0.6339\n",
      "Epoch 266/268\n",
      "7/7 [==============================] - 0s 15ms/step - loss: 0.3943 - accuracy: 0.8549 - val_loss: 1.2251 - val_accuracy: 0.6318\n",
      "Epoch 267/268\n",
      "7/7 [==============================] - 0s 14ms/step - loss: 0.3855 - accuracy: 0.8599 - val_loss: 1.2226 - val_accuracy: 0.6363\n",
      "Epoch 268/268\n",
      "7/7 [==============================] - 0s 14ms/step - loss: 0.4000 - accuracy: 0.8525 - val_loss: 1.1959 - val_accuracy: 0.6381\n"
     ]
    }
   ],
   "source": [
    "#rlrp = ReduceLROnPlateau(monitor='val_loss', factor=0.4, verbose=1, patience=2, min_lr=0.00001)\n",
    "mlp_history = mlp_model.fit(x_train,y_train, epochs = 268, batch_size = 2000, verbose = 1, validation_split = 0.2)#,callbacks = [rlrp])"
   ]
  },
  {
   "cell_type": "code",
   "execution_count": 82,
   "metadata": {},
   "outputs": [
    {
     "name": "stdout",
     "output_type": "stream",
     "text": [
      "175/175 [==============================] - 1s 5ms/step - loss: 1.2292 - accuracy: 0.6281\n"
     ]
    },
    {
     "data": {
      "text/plain": [
       "[1.2291666269302368, 0.6280903220176697]"
      ]
     },
     "execution_count": 82,
     "metadata": {},
     "output_type": "execute_result"
    }
   ],
   "source": [
    "mlp_model.evaluate(x_test,y_test)"
   ]
  },
  {
   "cell_type": "code",
   "execution_count": 63,
   "metadata": {},
   "outputs": [
    {
     "name": "stderr",
     "output_type": "stream",
     "text": [
      "2021-12-10 00:34:33.945759: I tensorflow/core/grappler/optimizers/custom_graph_optimizer_registry.cc:112] Plugin optimizer for device_type GPU is enabled.\n"
     ]
    },
    {
     "name": "stdout",
     "output_type": "stream",
     "text": [
      "accuracy score for Train set is: 0.9056378404204491\n",
      "accuracy score for Test set is:  0.6277319957004658\n",
      "[Anger, disgust, fear, happy, neutral, sad]\n",
      "F1 score for Train set is: [0.9434555  0.89778413 0.89009793 0.9139445  0.89767534 0.88971458]\n",
      "F1 score for Test set is:  [0.76851372 0.54525386 0.55323944 0.61410788 0.59201906 0.67484061]\n"
     ]
    },
    {
     "data": {
      "text/plain": [
       "<sklearn.metrics._plot.confusion_matrix.ConfusionMatrixDisplay at 0x2970e3af0>"
      ]
     },
     "execution_count": 63,
     "metadata": {},
     "output_type": "execute_result"
    },
    {
     "data": {
      "image/png": "[encoded data removed]",
      "text/plain": [
       "<Figure size 432x288 with 2 Axes>"
      ]
     },
     "metadata": {
      "needs_background": "light"
     },
     "output_type": "display_data"
    }
   ],
   "source": [
    "pred = mlp_model.predict(x_train)\n",
    "pred_test = mlp_model.predict(x_test)\n",
    "\n",
    "print(\"accuracy score for Train set is:\", accuracy_score(np.argmax(y_train,axis =1), np.argmax(pred,axis=1)))\n",
    "print(\"accuracy score for Test set is: \", accuracy_score(np.argmax(y_test,axis =1), np.argmax(pred_test,axis=1)))\n",
    "print(\"[Anger, disgust, fear, happy, neutral, sad]\")\n",
    "print(\"F1 score for Train set is:\", f1_score(np.argmax(y_train,axis =1), np.argmax(pred,axis=1), average = None))\n",
    "print(\"F1 score for Test set is: \", f1_score(np.argmax(y_test,axis =1), np.argmax(pred_test,axis=1), average = None))\n",
    "labels = ['anger', 'disgust', 'fear', 'happy', 'neutral', 'sad']\n",
    "cm = confusion_matrix(np.argmax(y_test,axis =1), np.argmax(pred_test,axis=1))\n",
    "cm = cm/ cm.astype(np.float64).sum(axis=1)\n",
    "disp = ConfusionMatrixDisplay(confusion_matrix=cm, display_labels = labels)\n",
    "disp.plot()"
   ]
  },
  {
   "cell_type": "code",
   "execution_count": 92,
   "metadata": {},
   "outputs": [
    {
     "data": {
      "text/plain": [
       "array(['angry', 'angry', 'angry', 'happy', 'happy', 'happy', 'angry',\n",
       "       'angry', 'angry', 'happy', 'happy', 'happy'], dtype=object)"
      ]
     },
     "execution_count": 92,
     "metadata": {},
     "output_type": "execute_result"
    }
   ],
   "source": [
    "Features_erica = pd.read_csv(\"features_erica.csv\")\n",
    "\n",
    "y_erica=[]\n",
    "x_erica = Features_erica.iloc[:,:-3].values\n",
    "\n",
    "x_erica = scaler.fit_transform (x_erica)\n",
    "\n",
    "y_erica[0:3] = [0] *3\n",
    "y_erica[3:6] = [3] *3\n",
    "y_erica[6:9] = [0] *3\n",
    "y_erica[9:12] = [3] *3\n",
    "\n",
    "y_hot = Features_erica['labels'].values"
   ]
  },
  {
   "cell_type": "code",
   "execution_count": 93,
   "metadata": {},
   "outputs": [
    {
     "name": "stdout",
     "output_type": "stream",
     "text": [
      "[0 0 0 3 3 4 3 3 2 2 2 5]\n",
      "[0 0 0 3 3 3 0 0 0 3 3 3]\n",
      "overall accuracy score is: 0.4166666666666667\n",
      "accuracy score for English set is: 0.8333333333333334\n",
      "accuracy score for Chinese set is: 0.0\n",
      "[Anger, disgust, fear, happy, neutral, sad]\n"
     ]
    }
   ],
   "source": [
    "#pred = vgg.predict(x_train)\n",
    "pred_test = mlp_model.predict(x_erica)\n",
    "\n",
    "print(np.argmax(pred_test,axis = 1))\n",
    "print(np.array(y_erica).T)\n",
    "print(\"overall accuracy score is:\", accuracy_score(np.array(y_erica).T, np.argmax(pred_test,axis=1)))\n",
    "print(\"accuracy score for English set is:\", accuracy_score(np.array(y_erica).T[:6], np.argmax(pred_test,axis=1)[:6]))\n",
    "print(\"accuracy score for Chinese set is:\", accuracy_score(np.array(y_erica).T[6:12], np.argmax(pred_test,axis=1)[6:12]))\n",
    "#print(\"accuracy score for Test set is: \", accuracy_score(np.argmax(y_test,axis =1), np.argmax(pred_test,axis=1)))\n",
    "print(\"[Anger, disgust, fear, happy, neutral, sad]\")\n",
    "#print(\"F1 score for Train set is:\", f1_score(np.argmax(y_train,axis =1), np.argmax(pred,axis=1), average = None))\n",
    "#print(\"F1 score for Test set is: \", f1_score(np.argmax(y_test,axis =1), np.argmax(pred_test,axis=1), average = None))\n",
    "\n",
    "labels = ['angry', 'happy']\n",
    "#cm = confusion_matrix(np.argmax(y_test,axis =1), np.argmax(pred_test,axis=1))\n",
    "#cm = cm/ cm.astype(np.float64).sum(axis=1)\n",
    "#disp = ConfusionMatrixDisplay(confusion_matrix=cm, display_labels = labels)\n",
    "#disp.plot()"
   ]
  },
  {
   "cell_type": "code",
   "execution_count": null,
   "metadata": {},
   "outputs": [],
   "source": []
  }
 ],
 "metadata": {
  "kernelspec": {
   "display_name": "Python 3 (ipykernel)",
   "language": "python",
   "name": "python3"
  },
  "language_info": {
   "codemirror_mode": {
    "name": "ipython",
    "version": 3
   },
   "file_extension": ".py",
   "mimetype": "text/x-python",
   "name": "python",
   "nbconvert_exporter": "python",
   "pygments_lexer": "ipython3",
   "version": "3.9.7"
  }
 },
 "nbformat": 4,
 "nbformat_minor": 4
}

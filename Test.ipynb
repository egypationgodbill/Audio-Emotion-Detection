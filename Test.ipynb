{
 "cells": [
  {
   "cell_type": "code",
   "execution_count": 26,
   "metadata": {},
   "outputs": [],
   "source": [
    "import librosa as lb\n",
    "#import librosa.display as display\n",
    "import matplotlib.pyplot as plt"
   ]
  },
  {
   "cell_type": "code",
   "execution_count": 27,
   "metadata": {},
   "outputs": [
    {
     "name": "stderr",
     "output_type": "stream",
     "text": [
      "/opt/anaconda3/lib/python3.8/site-packages/librosa/core/audio.py:165: UserWarning: PySoundFile failed. Trying audioread instead.\n",
      "  warnings.warn(\"PySoundFile failed. Trying audioread instead.\")\n"
     ]
    }
   ],
   "source": [
    "data, sr = lb.load('1001_DFA_ANG_XX.mp3')"
   ]
  },
  {
   "cell_type": "code",
   "execution_count": null,
   "metadata": {},
   "outputs": [],
   "source": []
  },
  {
   "cell_type": "code",
   "execution_count": 28,
   "metadata": {},
   "outputs": [
    {
     "data": {
      "text/plain": [
       "<matplotlib.collections.PolyCollection at 0x7f81738954c0>"
      ]
     },
     "execution_count": 28,
     "metadata": {},
     "output_type": "execute_result"
    },
    {
     "data": {
      "image/png": "[encoded data removed]",
      "text/plain": [
       "<Figure size 432x288 with 1 Axes>"
      ]
     },
     "metadata": {
      "needs_background": "light"
     },
     "output_type": "display_data"
    }
   ],
   "source": [
    "lb.display.waveplot(data,sr)"
   ]
  },
  {
   "cell_type": "code",
   "execution_count": 33,
   "metadata": {},
   "outputs": [
    {
     "name": "stderr",
     "output_type": "stream",
     "text": [
      "/opt/anaconda3/lib/python3.8/site-packages/numpy/core/_asarray.py:102: ComplexWarning: Casting complex values to real discards the imaginary part\n",
      "  return array(a, dtype, copy=False, order=order)\n"
     ]
    },
    {
     "data": {
      "text/plain": [
       "[<matplotlib.lines.Line2D at 0x7f8173836760>,\n",
       " <matplotlib.lines.Line2D at 0x7f8173836790>,\n",
       " <matplotlib.lines.Line2D at 0x7f81738368b0>,\n",
       " <matplotlib.lines.Line2D at 0x7f81738369d0>,\n",
       " <matplotlib.lines.Line2D at 0x7f8173836af0>,\n",
       " <matplotlib.lines.Line2D at 0x7f8173836c10>,\n",
       " <matplotlib.lines.Line2D at 0x7f8173836d30>,\n",
       " <matplotlib.lines.Line2D at 0x7f8173836e50>,\n",
       " <matplotlib.lines.Line2D at 0x7f8173836f70>,\n",
       " <matplotlib.lines.Line2D at 0x7f81738440d0>,\n",
       " <matplotlib.lines.Line2D at 0x7f8173f800d0>,\n",
       " <matplotlib.lines.Line2D at 0x7f81738441f0>,\n",
       " <matplotlib.lines.Line2D at 0x7f8173844400>,\n",
       " <matplotlib.lines.Line2D at 0x7f8173844520>,\n",
       " <matplotlib.lines.Line2D at 0x7f8173844640>,\n",
       " <matplotlib.lines.Line2D at 0x7f8173844760>,\n",
       " <matplotlib.lines.Line2D at 0x7f8173844880>,\n",
       " <matplotlib.lines.Line2D at 0x7f81738449a0>,\n",
       " <matplotlib.lines.Line2D at 0x7f8173844ac0>,\n",
       " <matplotlib.lines.Line2D at 0x7f8173844be0>,\n",
       " <matplotlib.lines.Line2D at 0x7f8173844d00>,\n",
       " <matplotlib.lines.Line2D at 0x7f8173844e20>,\n",
       " <matplotlib.lines.Line2D at 0x7f8173844f40>,\n",
       " <matplotlib.lines.Line2D at 0x7f817384b0a0>,\n",
       " <matplotlib.lines.Line2D at 0x7f817384b1c0>,\n",
       " <matplotlib.lines.Line2D at 0x7f817384b2e0>,\n",
       " <matplotlib.lines.Line2D at 0x7f817384b400>,\n",
       " <matplotlib.lines.Line2D at 0x7f817384b520>,\n",
       " <matplotlib.lines.Line2D at 0x7f817384b640>,\n",
       " <matplotlib.lines.Line2D at 0x7f817384b760>,\n",
       " <matplotlib.lines.Line2D at 0x7f817384b880>,\n",
       " <matplotlib.lines.Line2D at 0x7f817384b9a0>,\n",
       " <matplotlib.lines.Line2D at 0x7f817384bac0>,\n",
       " <matplotlib.lines.Line2D at 0x7f817384bbe0>,\n",
       " <matplotlib.lines.Line2D at 0x7f817384bd00>,\n",
       " <matplotlib.lines.Line2D at 0x7f817384be20>,\n",
       " <matplotlib.lines.Line2D at 0x7f817384bf40>,\n",
       " <matplotlib.lines.Line2D at 0x7f817384f0a0>,\n",
       " <matplotlib.lines.Line2D at 0x7f817384f1c0>,\n",
       " <matplotlib.lines.Line2D at 0x7f817384f2e0>,\n",
       " <matplotlib.lines.Line2D at 0x7f817384f400>,\n",
       " <matplotlib.lines.Line2D at 0x7f817384f520>,\n",
       " <matplotlib.lines.Line2D at 0x7f817384f640>,\n",
       " <matplotlib.lines.Line2D at 0x7f817384f760>,\n",
       " <matplotlib.lines.Line2D at 0x7f817384f880>,\n",
       " <matplotlib.lines.Line2D at 0x7f817384f9a0>,\n",
       " <matplotlib.lines.Line2D at 0x7f817384fac0>,\n",
       " <matplotlib.lines.Line2D at 0x7f817384fbe0>,\n",
       " <matplotlib.lines.Line2D at 0x7f817384fd00>,\n",
       " <matplotlib.lines.Line2D at 0x7f817384fe20>,\n",
       " <matplotlib.lines.Line2D at 0x7f817384ff40>,\n",
       " <matplotlib.lines.Line2D at 0x7f81738560a0>,\n",
       " <matplotlib.lines.Line2D at 0x7f81738561c0>,\n",
       " <matplotlib.lines.Line2D at 0x7f81738562e0>,\n",
       " <matplotlib.lines.Line2D at 0x7f8173856400>,\n",
       " <matplotlib.lines.Line2D at 0x7f8173856520>,\n",
       " <matplotlib.lines.Line2D at 0x7f8173856640>,\n",
       " <matplotlib.lines.Line2D at 0x7f8173856760>,\n",
       " <matplotlib.lines.Line2D at 0x7f8173856880>,\n",
       " <matplotlib.lines.Line2D at 0x7f81738569a0>,\n",
       " <matplotlib.lines.Line2D at 0x7f8173856ac0>,\n",
       " <matplotlib.lines.Line2D at 0x7f8173856be0>,\n",
       " <matplotlib.lines.Line2D at 0x7f8173856d00>,\n",
       " <matplotlib.lines.Line2D at 0x7f8173856e20>,\n",
       " <matplotlib.lines.Line2D at 0x7f8173856f40>,\n",
       " <matplotlib.lines.Line2D at 0x7f817385d0a0>,\n",
       " <matplotlib.lines.Line2D at 0x7f817385d1c0>,\n",
       " <matplotlib.lines.Line2D at 0x7f817385d2e0>,\n",
       " <matplotlib.lines.Line2D at 0x7f817385d400>,\n",
       " <matplotlib.lines.Line2D at 0x7f817385d520>,\n",
       " <matplotlib.lines.Line2D at 0x7f817385d640>,\n",
       " <matplotlib.lines.Line2D at 0x7f817385d760>,\n",
       " <matplotlib.lines.Line2D at 0x7f817385d880>,\n",
       " <matplotlib.lines.Line2D at 0x7f817385d9a0>,\n",
       " <matplotlib.lines.Line2D at 0x7f817385dac0>,\n",
       " <matplotlib.lines.Line2D at 0x7f817385dbe0>,\n",
       " <matplotlib.lines.Line2D at 0x7f817385dd00>,\n",
       " <matplotlib.lines.Line2D at 0x7f817385de20>,\n",
       " <matplotlib.lines.Line2D at 0x7f817385df40>,\n",
       " <matplotlib.lines.Line2D at 0x7f81738630a0>,\n",
       " <matplotlib.lines.Line2D at 0x7f81738631c0>,\n",
       " <matplotlib.lines.Line2D at 0x7f81738632e0>,\n",
       " <matplotlib.lines.Line2D at 0x7f8173863400>,\n",
       " <matplotlib.lines.Line2D at 0x7f8173863520>,\n",
       " <matplotlib.lines.Line2D at 0x7f8173863640>,\n",
       " <matplotlib.lines.Line2D at 0x7f8173863760>,\n",
       " <matplotlib.lines.Line2D at 0x7f8173863880>,\n",
       " <matplotlib.lines.Line2D at 0x7f81738639a0>,\n",
       " <matplotlib.lines.Line2D at 0x7f8173863ac0>,\n",
       " <matplotlib.lines.Line2D at 0x7f8173863be0>,\n",
       " <matplotlib.lines.Line2D at 0x7f8173863d00>,\n",
       " <matplotlib.lines.Line2D at 0x7f8173863e20>,\n",
       " <matplotlib.lines.Line2D at 0x7f8173863f40>,\n",
       " <matplotlib.lines.Line2D at 0x7f81738690a0>,\n",
       " <matplotlib.lines.Line2D at 0x7f81738691c0>,\n",
       " <matplotlib.lines.Line2D at 0x7f81738692e0>,\n",
       " <matplotlib.lines.Line2D at 0x7f8173869400>,\n",
       " <matplotlib.lines.Line2D at 0x7f8173869520>]"
      ]
     },
     "execution_count": 33,
     "metadata": {},
     "output_type": "execute_result"
    },
    {
     "data": {
      "image/png": "[encoded data removed]",
      "text/plain": [
       "<Figure size 432x288 with 1 Axes>"
      ]
     },
     "metadata": {
      "needs_background": "light"
     },
     "output_type": "display_data"
    }
   ],
   "source": [
    "D = lb.stft(data)"
   ]
  },
  {
   "cell_type": "code",
   "execution_count": null,
   "metadata": {},
   "outputs": [],
   "source": []
  }
 ],
 "metadata": {
  "kernelspec": {
   "display_name": "Python 3 (ipykernel)",
   "language": "python",
   "name": "python3"
  },
  "language_info": {
   "codemirror_mode": {
    "name": "ipython",
    "version": 3
   },
   "file_extension": ".py",
   "mimetype": "text/x-python",
   "name": "python",
   "nbconvert_exporter": "python",
   "pygments_lexer": "ipython3",
   "version": "3.8.11"
  }
 },
 "nbformat": 4,
 "nbformat_minor": 4
}
